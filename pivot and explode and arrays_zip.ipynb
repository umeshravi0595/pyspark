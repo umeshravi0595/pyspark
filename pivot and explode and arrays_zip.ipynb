{
 "cells": [
  {
   "cell_type": "code",
   "execution_count": 0,
   "metadata": {
    "application/vnd.databricks.v1+cell": {
     "cellMetadata": {
      "byteLimit": 2048000,
      "rowLimit": 10000
     },
     "inputWidgets": {},
     "nuid": "395c4097-8af7-4955-8981-9fd68a3c6972",
     "showTitle": false,
     "title": ""
    }
   },
   "outputs": [
    {
     "output_type": "display_data",
     "data": {
      "text/html": [
       "<style scoped>\n",
       "  .table-result-container {\n",
       "    max-height: 300px;\n",
       "    overflow: auto;\n",
       "  }\n",
       "  table, th, td {\n",
       "    border: 1px solid black;\n",
       "    border-collapse: collapse;\n",
       "  }\n",
       "  th, td {\n",
       "    padding: 5px;\n",
       "  }\n",
       "  th {\n",
       "    text-align: left;\n",
       "  }\n",
       "</style><div class='table-result-container'><table class='table-result'><thead style='background-color: white'><tr><th>ID</th><th>NAME</th><th>COUNTRY</th><th>Date_part</th></tr></thead><tbody><tr><td>1</td><td>Gaga</td><td>India</td><td>2022-01-11</td></tr><tr><td>1</td><td>Katy</td><td>UK</td><td>2022-01-11</td></tr><tr><td>1</td><td>Bey</td><td>Europe</td><td>2022-01-11</td></tr><tr><td>2</td><td>Gaga</td><td>null</td><td>2022-10-11</td></tr><tr><td>2</td><td>Katy</td><td>India</td><td>2022-10-11</td></tr><tr><td>2</td><td>Bey</td><td>US</td><td>2022-02-15</td></tr><tr><td>3</td><td>Gaga</td><td>Europe</td><td>2022-10-11</td></tr><tr><td>3</td><td>Katy</td><td>US</td><td>2022-10-11</td></tr><tr><td>3</td><td>Bey</td><td>null</td><td>2022-02-15</td></tr><tr><td>1</td><td>Gaga</td><td>US</td><td>2022-01-11</td></tr><tr><td>3</td><td>Katy</td><td>Switz</td><td>2022-02-15</td></tr></tbody></table></div>"
      ]
     },
     "metadata": {
      "application/vnd.databricks.v1+output": {
       "addedWidgets": {},
       "aggData": [],
       "aggError": "",
       "aggOverflow": false,
       "aggSchema": [],
       "aggSeriesLimitReached": false,
       "aggType": "",
       "arguments": {},
       "columnCustomDisplayInfos": {},
       "data": [
        [
         1,
         "Gaga",
         "India",
         "2022-01-11"
        ],
        [
         1,
         "Katy",
         "UK",
         "2022-01-11"
        ],
        [
         1,
         "Bey",
         "Europe",
         "2022-01-11"
        ],
        [
         2,
         "Gaga",
         null,
         "2022-10-11"
        ],
        [
         2,
         "Katy",
         "India",
         "2022-10-11"
        ],
        [
         2,
         "Bey",
         "US",
         "2022-02-15"
        ],
        [
         3,
         "Gaga",
         "Europe",
         "2022-10-11"
        ],
        [
         3,
         "Katy",
         "US",
         "2022-10-11"
        ],
        [
         3,
         "Bey",
         null,
         "2022-02-15"
        ],
        [
         1,
         "Gaga",
         "US",
         "2022-01-11"
        ],
        [
         3,
         "Katy",
         "Switz",
         "2022-02-15"
        ]
       ],
       "datasetInfos": [],
       "dbfsResultPath": null,
       "isJsonSchema": true,
       "metadata": {},
       "overflow": false,
       "plotOptions": {
        "customPlotOptions": {},
        "displayType": "table",
        "pivotAggregation": null,
        "pivotColumns": null,
        "xColumns": null,
        "yColumns": null
       },
       "removedWidgets": [],
       "schema": [
        {
         "metadata": "{}",
         "name": "ID",
         "type": "\"long\""
        },
        {
         "metadata": "{}",
         "name": "NAME",
         "type": "\"string\""
        },
        {
         "metadata": "{}",
         "name": "COUNTRY",
         "type": "\"string\""
        },
        {
         "metadata": "{}",
         "name": "Date_part",
         "type": "\"string\""
        }
       ],
       "type": "table"
      }
     },
     "output_type": "display_data"
    }
   ],
   "source": [
    "l = [(1,'Gaga','India',\"2022-01-11\"),(1,'Katy','UK', \"2022-01-11\"),(1,'Bey','Europe', \"2022-01-11\"),(2,'Gaga',None, \"2022-10-11\"),(2,'Katy','India', \"2022-10-11\"),(2,'Bey','US',\"2022-02-15\"),(3,'Gaga','Europe', \"2022-10-11\"),\n",
    "(3,'Katy','US',\"2022-10-11\"),(3,'Bey',None,\"2022-02-15\"), (1, 'Gaga','US',\"2022-01-11\"),(3, 'Katy', 'Switz',\"2022-02-15\") ]\n",
    "df = spark.createDataFrame(l,['ID','NAME','COUNTRY', 'Date_part'])\n",
    "display(df)"
   ]
  },
  {
   "cell_type": "code",
   "execution_count": 0,
   "metadata": {
    "application/vnd.databricks.v1+cell": {
     "cellMetadata": {
      "byteLimit": 2048000,
      "rowLimit": 10000
     },
     "inputWidgets": {},
     "nuid": "613c5463-cb9d-4205-9c49-40c822610fdb",
     "showTitle": false,
     "title": ""
    }
   },
   "outputs": [],
   "source": [
    "from pyspark.sql.functions import *"
   ]
  },
  {
   "cell_type": "code",
   "execution_count": 0,
   "metadata": {
    "application/vnd.databricks.v1+cell": {
     "cellMetadata": {
      "byteLimit": 2048000,
      "rowLimit": 10000
     },
     "inputWidgets": {},
     "nuid": "96ef32c7-8ef6-4929-8716-9276cf72d21d",
     "showTitle": false,
     "title": ""
    }
   },
   "outputs": [
    {
     "output_type": "display_data",
     "data": {
      "text/html": [
       "<style scoped>\n",
       "  .table-result-container {\n",
       "    max-height: 300px;\n",
       "    overflow: auto;\n",
       "  }\n",
       "  table, th, td {\n",
       "    border: 1px solid black;\n",
       "    border-collapse: collapse;\n",
       "  }\n",
       "  th, td {\n",
       "    padding: 5px;\n",
       "  }\n",
       "  th {\n",
       "    text-align: left;\n",
       "  }\n",
       "</style><div class='table-result-container'><table class='table-result'><thead style='background-color: white'><tr><th>ID</th><th>Date_part</th><th>Bey</th><th>Gaga</th><th>Katy</th></tr></thead><tbody><tr><td>1</td><td>2022-01-11</td><td>List(Europe)</td><td>List(India, US)</td><td>List(UK)</td></tr><tr><td>2</td><td>2022-10-11</td><td>List()</td><td>List()</td><td>List(India)</td></tr><tr><td>2</td><td>2022-02-15</td><td>List(US)</td><td>List()</td><td>List()</td></tr><tr><td>3</td><td>2022-10-11</td><td>List()</td><td>List(Europe)</td><td>List(US)</td></tr><tr><td>3</td><td>2022-02-15</td><td>List()</td><td>List()</td><td>List(Switz)</td></tr></tbody></table></div>"
      ]
     },
     "metadata": {
      "application/vnd.databricks.v1+output": {
       "addedWidgets": {},
       "aggData": [],
       "aggError": "",
       "aggOverflow": false,
       "aggSchema": [],
       "aggSeriesLimitReached": false,
       "aggType": "",
       "arguments": {},
       "columnCustomDisplayInfos": {},
       "data": [
        [
         1,
         "2022-01-11",
         [
          "Europe"
         ],
         [
          "India",
          "US"
         ],
         [
          "UK"
         ]
        ],
        [
         2,
         "2022-10-11",
         [],
         [],
         [
          "India"
         ]
        ],
        [
         2,
         "2022-02-15",
         [
          "US"
         ],
         [],
         []
        ],
        [
         3,
         "2022-10-11",
         [],
         [
          "Europe"
         ],
         [
          "US"
         ]
        ],
        [
         3,
         "2022-02-15",
         [],
         [],
         [
          "Switz"
         ]
        ]
       ],
       "datasetInfos": [],
       "dbfsResultPath": null,
       "isJsonSchema": true,
       "metadata": {},
       "overflow": false,
       "plotOptions": {
        "customPlotOptions": {},
        "displayType": "table",
        "pivotAggregation": null,
        "pivotColumns": null,
        "xColumns": null,
        "yColumns": null
       },
       "removedWidgets": [],
       "schema": [
        {
         "metadata": "{}",
         "name": "ID",
         "type": "\"long\""
        },
        {
         "metadata": "{}",
         "name": "Date_part",
         "type": "\"string\""
        },
        {
         "metadata": "{}",
         "name": "Bey",
         "type": "{\"type\":\"array\",\"elementType\":\"string\",\"containsNull\":false}"
        },
        {
         "metadata": "{}",
         "name": "Gaga",
         "type": "{\"type\":\"array\",\"elementType\":\"string\",\"containsNull\":false}"
        },
        {
         "metadata": "{}",
         "name": "Katy",
         "type": "{\"type\":\"array\",\"elementType\":\"string\",\"containsNull\":false}"
        }
       ],
       "type": "table"
      }
     },
     "output_type": "display_data"
    }
   ],
   "source": [
    "\n",
    "df_pivot = df.groupBy(col('ID'), col('Date_part')).pivot('NAME').agg(collect_list(col('COUNTRY')))\n",
    "display(df_pivot)"
   ]
  },
  {
   "cell_type": "code",
   "execution_count": 0,
   "metadata": {
    "application/vnd.databricks.v1+cell": {
     "cellMetadata": {
      "byteLimit": 2048000,
      "rowLimit": 10000
     },
     "inputWidgets": {},
     "nuid": "91fc7252-fcd5-4ba2-b725-44f9aa973095",
     "showTitle": false,
     "title": ""
    }
   },
   "outputs": [
    {
     "output_type": "display_data",
     "data": {
      "text/html": [
       "<style scoped>\n",
       "  .table-result-container {\n",
       "    max-height: 300px;\n",
       "    overflow: auto;\n",
       "  }\n",
       "  table, th, td {\n",
       "    border: 1px solid black;\n",
       "    border-collapse: collapse;\n",
       "  }\n",
       "  th, td {\n",
       "    padding: 5px;\n",
       "  }\n",
       "  th {\n",
       "    text-align: left;\n",
       "  }\n",
       "</style><div class='table-result-container'><table class='table-result'><thead style='background-color: white'><tr><th>ID</th><th>Date_part</th><th>new</th></tr></thead><tbody><tr><td>1</td><td>2022-01-11</td><td>List(List(Europe, India, UK), List(null, US, null))</td></tr><tr><td>2</td><td>2022-10-11</td><td>List(List(null, null, India))</td></tr><tr><td>2</td><td>2022-02-15</td><td>List(List(US, null, null))</td></tr><tr><td>3</td><td>2022-10-11</td><td>List(List(null, Europe, US))</td></tr><tr><td>3</td><td>2022-02-15</td><td>List(List(null, null, Switz))</td></tr></tbody></table></div>"
      ]
     },
     "metadata": {
      "application/vnd.databricks.v1+output": {
       "addedWidgets": {},
       "aggData": [],
       "aggError": "",
       "aggOverflow": false,
       "aggSchema": [],
       "aggSeriesLimitReached": false,
       "aggType": "",
       "arguments": {},
       "columnCustomDisplayInfos": {},
       "data": [
        [
         1,
         "2022-01-11",
         [
          [
           "Europe",
           "India",
           "UK"
          ],
          [
           null,
           "US",
           null
          ]
         ]
        ],
        [
         2,
         "2022-10-11",
         [
          [
           null,
           null,
           "India"
          ]
         ]
        ],
        [
         2,
         "2022-02-15",
         [
          [
           "US",
           null,
           null
          ]
         ]
        ],
        [
         3,
         "2022-10-11",
         [
          [
           null,
           "Europe",
           "US"
          ]
         ]
        ],
        [
         3,
         "2022-02-15",
         [
          [
           null,
           null,
           "Switz"
          ]
         ]
        ]
       ],
       "datasetInfos": [],
       "dbfsResultPath": null,
       "isJsonSchema": true,
       "metadata": {},
       "overflow": false,
       "plotOptions": {
        "customPlotOptions": {},
        "displayType": "table",
        "pivotAggregation": null,
        "pivotColumns": null,
        "xColumns": null,
        "yColumns": null
       },
       "removedWidgets": [],
       "schema": [
        {
         "metadata": "{}",
         "name": "ID",
         "type": "\"long\""
        },
        {
         "metadata": "{}",
         "name": "Date_part",
         "type": "\"string\""
        },
        {
         "metadata": "{}",
         "name": "new",
         "type": "{\"type\":\"array\",\"elementType\":{\"type\":\"struct\",\"fields\":[{\"name\":\"Bey\",\"type\":\"string\",\"nullable\":true,\"metadata\":{}},{\"name\":\"Gaga\",\"type\":\"string\",\"nullable\":true,\"metadata\":{}},{\"name\":\"Katy\",\"type\":\"string\",\"nullable\":true,\"metadata\":{}}]},\"containsNull\":false}"
        }
       ],
       "type": "table"
      }
     },
     "output_type": "display_data"
    }
   ],
   "source": [
    "df_array=df_pivot.select('ID','Date_part',arrays_zip('Bey','Gaga','Katy').alias('new'))\n",
    "display(df_array)"
   ]
  },
  {
   "cell_type": "code",
   "execution_count": 0,
   "metadata": {
    "application/vnd.databricks.v1+cell": {
     "cellMetadata": {
      "byteLimit": 2048000,
      "rowLimit": 10000
     },
     "inputWidgets": {},
     "nuid": "d123fc44-ebf2-4987-bc89-820710b7643f",
     "showTitle": false,
     "title": ""
    }
   },
   "outputs": [
    {
     "output_type": "display_data",
     "data": {
      "text/html": [
       "<style scoped>\n",
       "  .table-result-container {\n",
       "    max-height: 300px;\n",
       "    overflow: auto;\n",
       "  }\n",
       "  table, th, td {\n",
       "    border: 1px solid black;\n",
       "    border-collapse: collapse;\n",
       "  }\n",
       "  th, td {\n",
       "    padding: 5px;\n",
       "  }\n",
       "  th {\n",
       "    text-align: left;\n",
       "  }\n",
       "</style><div class='table-result-container'><table class='table-result'><thead style='background-color: white'><tr><th>ID</th><th>Date_part</th><th>column</th></tr></thead><tbody><tr><td>1</td><td>2022-01-11</td><td>List(Europe, India, UK)</td></tr><tr><td>1</td><td>2022-01-11</td><td>List(null, US, null)</td></tr><tr><td>2</td><td>2022-10-11</td><td>List(null, null, India)</td></tr><tr><td>2</td><td>2022-02-15</td><td>List(US, null, null)</td></tr><tr><td>3</td><td>2022-10-11</td><td>List(null, Europe, US)</td></tr><tr><td>3</td><td>2022-02-15</td><td>List(null, null, Switz)</td></tr></tbody></table></div>"
      ]
     },
     "metadata": {
      "application/vnd.databricks.v1+output": {
       "addedWidgets": {},
       "aggData": [],
       "aggError": "",
       "aggOverflow": false,
       "aggSchema": [],
       "aggSeriesLimitReached": false,
       "aggType": "",
       "arguments": {},
       "columnCustomDisplayInfos": {},
       "data": [
        [
         1,
         "2022-01-11",
         [
          "Europe",
          "India",
          "UK"
         ]
        ],
        [
         1,
         "2022-01-11",
         [
          null,
          "US",
          null
         ]
        ],
        [
         2,
         "2022-10-11",
         [
          null,
          null,
          "India"
         ]
        ],
        [
         2,
         "2022-02-15",
         [
          "US",
          null,
          null
         ]
        ],
        [
         3,
         "2022-10-11",
         [
          null,
          "Europe",
          "US"
         ]
        ],
        [
         3,
         "2022-02-15",
         [
          null,
          null,
          "Switz"
         ]
        ]
       ],
       "datasetInfos": [],
       "dbfsResultPath": null,
       "isJsonSchema": true,
       "metadata": {},
       "overflow": false,
       "plotOptions": {
        "customPlotOptions": {},
        "displayType": "table",
        "pivotAggregation": null,
        "pivotColumns": null,
        "xColumns": null,
        "yColumns": null
       },
       "removedWidgets": [],
       "schema": [
        {
         "metadata": "{}",
         "name": "ID",
         "type": "\"long\""
        },
        {
         "metadata": "{}",
         "name": "Date_part",
         "type": "\"string\""
        },
        {
         "metadata": "{}",
         "name": "column",
         "type": "{\"type\":\"struct\",\"fields\":[{\"name\":\"Bey\",\"type\":\"string\",\"nullable\":true,\"metadata\":{}},{\"name\":\"Gaga\",\"type\":\"string\",\"nullable\":true,\"metadata\":{}},{\"name\":\"Katy\",\"type\":\"string\",\"nullable\":true,\"metadata\":{}}]}"
        }
       ],
       "type": "table"
      }
     },
     "output_type": "display_data"
    }
   ],
   "source": [
    "df3=df_array.select('ID','Date_part',explode('new').alias('column'))\n",
    "display(df3)"
   ]
  },
  {
   "cell_type": "code",
   "execution_count": 0,
   "metadata": {
    "application/vnd.databricks.v1+cell": {
     "cellMetadata": {
      "byteLimit": 2048000,
      "rowLimit": 10000
     },
     "inputWidgets": {},
     "nuid": "0e48178b-c351-4313-b526-8193e7633237",
     "showTitle": false,
     "title": ""
    }
   },
   "outputs": [
    {
     "output_type": "display_data",
     "data": {
      "text/html": [
       "<style scoped>\n",
       "  .table-result-container {\n",
       "    max-height: 300px;\n",
       "    overflow: auto;\n",
       "  }\n",
       "  table, th, td {\n",
       "    border: 1px solid black;\n",
       "    border-collapse: collapse;\n",
       "  }\n",
       "  th, td {\n",
       "    padding: 5px;\n",
       "  }\n",
       "  th {\n",
       "    text-align: left;\n",
       "  }\n",
       "</style><div class='table-result-container'><table class='table-result'><thead style='background-color: white'><tr><th>Bey</th><th>Gaga</th><th>Katy</th></tr></thead><tbody><tr><td>Europe</td><td>India</td><td>UK</td></tr><tr><td>null</td><td>US</td><td>null</td></tr><tr><td>null</td><td>null</td><td>India</td></tr><tr><td>US</td><td>null</td><td>null</td></tr><tr><td>null</td><td>Europe</td><td>US</td></tr><tr><td>null</td><td>null</td><td>Switz</td></tr></tbody></table></div>"
      ]
     },
     "metadata": {
      "application/vnd.databricks.v1+output": {
       "addedWidgets": {},
       "aggData": [],
       "aggError": "",
       "aggOverflow": false,
       "aggSchema": [],
       "aggSeriesLimitReached": false,
       "aggType": "",
       "arguments": {},
       "columnCustomDisplayInfos": {},
       "data": [
        [
         "Europe",
         "India",
         "UK"
        ],
        [
         null,
         "US",
         null
        ],
        [
         null,
         null,
         "India"
        ],
        [
         "US",
         null,
         null
        ],
        [
         null,
         "Europe",
         "US"
        ],
        [
         null,
         null,
         "Switz"
        ]
       ],
       "datasetInfos": [],
       "dbfsResultPath": null,
       "isJsonSchema": true,
       "metadata": {},
       "overflow": false,
       "plotOptions": {
        "customPlotOptions": {},
        "displayType": "table",
        "pivotAggregation": null,
        "pivotColumns": null,
        "xColumns": null,
        "yColumns": null
       },
       "removedWidgets": [],
       "schema": [
        {
         "metadata": "{}",
         "name": "Bey",
         "type": "\"string\""
        },
        {
         "metadata": "{}",
         "name": "Gaga",
         "type": "\"string\""
        },
        {
         "metadata": "{}",
         "name": "Katy",
         "type": "\"string\""
        }
       ],
       "type": "table"
      }
     },
     "output_type": "display_data"
    }
   ],
   "source": [
    "df4=df3.select('column').rdd.map(lambda x: x[0]).collect()\n",
    "display(df4)"
   ]
  },
  {
   "cell_type": "code",
   "execution_count": 0,
   "metadata": {
    "application/vnd.databricks.v1+cell": {
     "cellMetadata": {
      "byteLimit": 2048000,
      "rowLimit": 10000
     },
     "inputWidgets": {},
     "nuid": "f14e53ea-d086-453b-871a-a8bdddce062c",
     "showTitle": false,
     "title": ""
    }
   },
   "outputs": [
    {
     "output_type": "display_data",
     "data": {
      "text/plain": [
       "\u001B[0;31m---------------------------------------------------------------------------\u001B[0m\n",
       "\u001B[0;31mTypeError\u001B[0m                                 Traceback (most recent call last)\n",
       "File \u001B[0;32m<command-2940832757814414>:1\u001B[0m\n",
       "\u001B[0;32m----> 1\u001B[0m \u001B[43mdf3\u001B[49m\u001B[38;5;241;43m.\u001B[39;49m\u001B[43mcolumns\u001B[49m\u001B[43m(\u001B[49m\u001B[43m)\u001B[49m\n",
       "\n",
       "\u001B[0;31mTypeError\u001B[0m: 'list' object is not callable"
      ]
     },
     "metadata": {
      "application/vnd.databricks.v1+output": {
       "arguments": {},
       "data": "\u001B[0;31m---------------------------------------------------------------------------\u001B[0m\n\u001B[0;31mTypeError\u001B[0m                                 Traceback (most recent call last)\nFile \u001B[0;32m<command-2940832757814414>:1\u001B[0m\n\u001B[0;32m----> 1\u001B[0m \u001B[43mdf3\u001B[49m\u001B[38;5;241;43m.\u001B[39;49m\u001B[43mcolumns\u001B[49m\u001B[43m(\u001B[49m\u001B[43m)\u001B[49m\n\n\u001B[0;31mTypeError\u001B[0m: 'list' object is not callable",
       "errorSummary": "<span class='ansi-red-fg'>TypeError</span>: 'list' object is not callable",
       "errorTraceType": "ansi",
       "metadata": {},
       "type": "ipynbError"
      }
     },
     "output_type": "display_data"
    }
   ],
   "source": [
    "df3.columns()"
   ]
  }
 ],
 "metadata": {
  "application/vnd.databricks.v1+notebook": {
   "dashboards": [],
   "environmentMetadata": null,
   "language": "python",
   "notebookMetadata": {
    "pythonIndentUnit": 4
   },
   "notebookName": "pivot and explode and arrays_zip",
   "widgets": {}
  }
 },
 "nbformat": 4,
 "nbformat_minor": 0
}
