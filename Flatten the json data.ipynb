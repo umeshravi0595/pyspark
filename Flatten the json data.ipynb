{
 "cells": [
  {
   "cell_type": "code",
   "execution_count": 0,
   "metadata": {
    "application/vnd.databricks.v1+cell": {
     "cellMetadata": {
      "byteLimit": 2048000,
      "rowLimit": 10000
     },
     "inputWidgets": {},
     "nuid": "1695e8ab-279c-4854-9fde-5dd9343491a3",
     "showTitle": false,
     "title": ""
    }
   },
   "outputs": [
    {
     "output_type": "display_data",
     "data": {
      "text/html": [
       "<style scoped>\n",
       "  .table-result-container {\n",
       "    max-height: 300px;\n",
       "    overflow: auto;\n",
       "  }\n",
       "  table, th, td {\n",
       "    border: 1px solid black;\n",
       "    border-collapse: collapse;\n",
       "  }\n",
       "  th, td {\n",
       "    padding: 5px;\n",
       "  }\n",
       "  th {\n",
       "    text-align: left;\n",
       "  }\n",
       "</style><div class='table-result-container'><table class='table-result'><thead style='background-color: white'><tr><th>PartitionDate</th><th>Status</th><th>request</th></tr></thead><tbody><tr><td>30-06-2020</td><td>Internal Error</td><td>{\"Response\":{\"MessageId\" : 15432 }}</td></tr><tr><td>30-06-2020</td><td>Success</td><td>{\"Response\":{\"MessageId\" : 15432,\"Latitude\":\"-176.2989\",\"longitude\":\"7.3614\" }}</td></tr></tbody></table></div>"
      ]
     },
     "metadata": {
      "application/vnd.databricks.v1+output": {
       "addedWidgets": {},
       "aggData": [],
       "aggError": "",
       "aggOverflow": false,
       "aggSchema": [],
       "aggSeriesLimitReached": false,
       "aggType": "",
       "arguments": {},
       "columnCustomDisplayInfos": {},
       "data": [
        [
         "30-06-2020",
         "Internal Error",
         "{\"Response\":{\"MessageId\" : 15432 }}"
        ],
        [
         "30-06-2020",
         "Success",
         "{\"Response\":{\"MessageId\" : 15432,\"Latitude\":\"-176.2989\",\"longitude\":\"7.3614\" }}"
        ]
       ],
       "datasetInfos": [],
       "dbfsResultPath": null,
       "isJsonSchema": true,
       "metadata": {},
       "overflow": false,
       "plotOptions": {
        "customPlotOptions": {},
        "displayType": "table",
        "pivotAggregation": null,
        "pivotColumns": null,
        "xColumns": null,
        "yColumns": null
       },
       "removedWidgets": [],
       "schema": [
        {
         "metadata": "{}",
         "name": "PartitionDate",
         "type": "\"string\""
        },
        {
         "metadata": "{}",
         "name": "Status",
         "type": "\"string\""
        },
        {
         "metadata": "{}",
         "name": "request",
         "type": "\"string\""
        }
       ],
       "type": "table"
      }
     },
     "output_type": "display_data"
    }
   ],
   "source": [
    "df = spark.read.option(\"multiline\", \"true\").option(\"header\",\"true\").option(\"escape\",\"\\\"\").csv(\"/FileStore/tables/multilinejson.csv\")\n",
    "display(df)\n",
    "\n",
    "\n"
   ]
  },
  {
   "cell_type": "code",
   "execution_count": 0,
   "metadata": {
    "application/vnd.databricks.v1+cell": {
     "cellMetadata": {
      "byteLimit": 2048000,
      "rowLimit": 10000
     },
     "inputWidgets": {},
     "nuid": "b93af848-b1de-4d12-9b2c-8d19830975c8",
     "showTitle": false,
     "title": ""
    }
   },
   "outputs": [
    {
     "output_type": "stream",
     "name": "stdout",
     "output_type": "stream",
     "text": [
      "Out[3]: 1"
     ]
    }
   ],
   "source": [
    "df.rdd.getNumPartitions()"
   ]
  },
  {
   "cell_type": "code",
   "execution_count": 0,
   "metadata": {
    "application/vnd.databricks.v1+cell": {
     "cellMetadata": {
      "byteLimit": 2048000,
      "rowLimit": 10000
     },
     "inputWidgets": {},
     "nuid": "74e74753-373b-486a-a494-06f69b7d6264",
     "showTitle": false,
     "title": ""
    }
   },
   "outputs": [],
   "source": [
    "df1=df.repartition(10)"
   ]
  },
  {
   "cell_type": "code",
   "execution_count": 0,
   "metadata": {
    "application/vnd.databricks.v1+cell": {
     "cellMetadata": {
      "byteLimit": 2048000,
      "rowLimit": 10000
     },
     "inputWidgets": {},
     "nuid": "8af0dd0c-e9e3-445f-b5d4-c650eec0898f",
     "showTitle": false,
     "title": ""
    }
   },
   "outputs": [
    {
     "output_type": "stream",
     "name": "stdout",
     "output_type": "stream",
     "text": [
      "+-------+-----+\n|part_id|count|\n+-------+-----+\n|      0|    1|\n|      9|    1|\n+-------+-----+\n\n"
     ]
    }
   ],
   "source": [
    "from pyspark.sql.functions import *\n",
    "df_with_part_id = df1.withColumn('part_id', spark_partition_id())\n",
    "df2 = df_with_part_id.groupBy('part_id').count()\n",
    "df2.show()"
   ]
  },
  {
   "cell_type": "code",
   "execution_count": 0,
   "metadata": {
    "application/vnd.databricks.v1+cell": {
     "cellMetadata": {
      "byteLimit": 2048000,
      "rowLimit": 10000
     },
     "inputWidgets": {},
     "nuid": "6ed6e26f-01d1-4997-a701-9c64991f89d0",
     "showTitle": false,
     "title": ""
    }
   },
   "outputs": [
    {
     "output_type": "stream",
     "name": "stdout",
     "output_type": "stream",
     "text": [
      "Out[20]: [1, 0, 0, 0, 0, 0, 0, 0, 0, 1]"
     ]
    }
   ],
   "source": [
    "df1.rdd.glom().map(len).collect()"
   ]
  },
  {
   "cell_type": "code",
   "execution_count": 0,
   "metadata": {
    "application/vnd.databricks.v1+cell": {
     "cellMetadata": {
      "byteLimit": 2048000,
      "rowLimit": 10000
     },
     "inputWidgets": {},
     "nuid": "51bb7a57-0fc9-47a0-be1f-9f788164ed55",
     "showTitle": false,
     "title": ""
    }
   },
   "outputs": [
    {
     "output_type": "display_data",
     "data": {
      "text/html": [
       "<style scoped>\n",
       "  .table-result-container {\n",
       "    max-height: 300px;\n",
       "    overflow: auto;\n",
       "  }\n",
       "  table, th, td {\n",
       "    border: 1px solid black;\n",
       "    border-collapse: collapse;\n",
       "  }\n",
       "  th, td {\n",
       "    padding: 5px;\n",
       "  }\n",
       "  th {\n",
       "    text-align: left;\n",
       "  }\n",
       "</style><div class='table-result-container'><table class='table-result'><thead style='background-color: white'><tr><th>PartitionDate</th><th>Status</th><th>request</th><th>Response</th><th>Messageid</th><th>Latitude</th><th>longitude</th></tr></thead><tbody><tr><td>30-06-2020</td><td>Internal Error</td><td>{\"Response\":{\"MessageId\" : 15432 }}</td><td>{\"MessageId\":15432}</td><td>15432</td><td>null</td><td>null</td></tr><tr><td>30-06-2020</td><td>Success</td><td>{\"Response\":{\"MessageId\" : 15432,\"Latitude\":\"-176.2989\",\"longitude\":\"7.3614\" }}</td><td>{\"MessageId\":15432,\"Latitude\":\"-176.2989\",\"longitude\":\"7.3614\"}</td><td>15432</td><td>-176.2989</td><td>7.3614</td></tr></tbody></table></div>"
      ]
     },
     "metadata": {
      "application/vnd.databricks.v1+output": {
       "addedWidgets": {},
       "aggData": [],
       "aggError": "",
       "aggOverflow": false,
       "aggSchema": [],
       "aggSeriesLimitReached": false,
       "aggType": "",
       "arguments": {},
       "columnCustomDisplayInfos": {},
       "data": [
        [
         "30-06-2020",
         "Internal Error",
         "{\"Response\":{\"MessageId\" : 15432 }}",
         "{\"MessageId\":15432}",
         "15432",
         null,
         null
        ],
        [
         "30-06-2020",
         "Success",
         "{\"Response\":{\"MessageId\" : 15432,\"Latitude\":\"-176.2989\",\"longitude\":\"7.3614\" }}",
         "{\"MessageId\":15432,\"Latitude\":\"-176.2989\",\"longitude\":\"7.3614\"}",
         "15432",
         "-176.2989",
         "7.3614"
        ]
       ],
       "datasetInfos": [],
       "dbfsResultPath": null,
       "isJsonSchema": true,
       "metadata": {},
       "overflow": false,
       "plotOptions": {
        "customPlotOptions": {},
        "displayType": "table",
        "pivotAggregation": null,
        "pivotColumns": null,
        "xColumns": null,
        "yColumns": null
       },
       "removedWidgets": [],
       "schema": [
        {
         "metadata": "{}",
         "name": "PartitionDate",
         "type": "\"string\""
        },
        {
         "metadata": "{}",
         "name": "Status",
         "type": "\"string\""
        },
        {
         "metadata": "{}",
         "name": "request",
         "type": "\"string\""
        },
        {
         "metadata": "{}",
         "name": "Response",
         "type": "\"string\""
        },
        {
         "metadata": "{}",
         "name": "Messageid",
         "type": "\"string\""
        },
        {
         "metadata": "{}",
         "name": "Latitude",
         "type": "\"string\""
        },
        {
         "metadata": "{}",
         "name": "longitude",
         "type": "\"string\""
        }
       ],
       "type": "table"
      }
     },
     "output_type": "display_data"
    }
   ],
   "source": [
    "from pyspark.sql.functions import *\n",
    "df_json=df.select(\"*\",json_tuple(col(\"request\"),\"Response\").alias(\"Response\"))\n",
    "df_json_tuple=df_json.select(\"*\",json_tuple(col(\"Response\"),\"MessageId\",\"Latitude\",\"longitude\").alias(\"Messageid\",\"Latitude\",\"longitude\"))\n",
    "display(df_json_tuple)"
   ]
  }
 ],
 "metadata": {
  "application/vnd.databricks.v1+notebook": {
   "dashboards": [],
   "environmentMetadata": null,
   "language": "python",
   "notebookMetadata": {
    "pythonIndentUnit": 4
   },
   "notebookName": "Flatten the json data",
   "widgets": {}
  }
 },
 "nbformat": 4,
 "nbformat_minor": 0
}
