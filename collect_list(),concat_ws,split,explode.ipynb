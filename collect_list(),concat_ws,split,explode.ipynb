{
 "cells": [
  {
   "cell_type": "code",
   "execution_count": 0,
   "metadata": {
    "application/vnd.databricks.v1+cell": {
     "cellMetadata": {
      "byteLimit": 2048000,
      "rowLimit": 10000
     },
     "inputWidgets": {},
     "nuid": "43d438b6-4188-4cff-9c39-ed921129a682",
     "showTitle": false,
     "title": ""
    }
   },
   "outputs": [
    {
     "output_type": "display_data",
     "data": {
      "text/html": [
       "<style scoped>\n",
       "  .table-result-container {\n",
       "    max-height: 300px;\n",
       "    overflow: auto;\n",
       "  }\n",
       "  table, th, td {\n",
       "    border: 1px solid black;\n",
       "    border-collapse: collapse;\n",
       "  }\n",
       "  th, td {\n",
       "    padding: 5px;\n",
       "  }\n",
       "  th {\n",
       "    text-align: left;\n",
       "  }\n",
       "</style><div class='table-result-container'><table class='table-result'><thead style='background-color: white'><tr><th>EmpId</th><th>EmpName</th><th>Skill</th></tr></thead><tbody><tr><td>1</td><td>John</td><td>ADF</td></tr><tr><td>1</td><td>John</td><td>ADB</td></tr><tr><td>1</td><td>John</td><td>PowerBI</td></tr><tr><td>2</td><td>Joanne</td><td>ADF</td></tr><tr><td>2</td><td>Joanne</td><td>SQL</td></tr><tr><td>2</td><td>Joanne</td><td>Crystal Report</td></tr><tr><td>3</td><td>Vikas</td><td>ADF</td></tr><tr><td>3</td><td>Vikas</td><td>SQL</td></tr><tr><td>3</td><td>Vikas</td><td>SSIS</td></tr><tr><td>4</td><td>Monu</td><td>SQL</td></tr><tr><td>4</td><td>Monu</td><td>SSIS</td></tr><tr><td>4</td><td>Monu</td><td>SSAS</td></tr><tr><td>4</td><td>Monu</td><td>ADF</td></tr></tbody></table></div>"
      ]
     },
     "metadata": {
      "application/vnd.databricks.v1+output": {
       "addedWidgets": {},
       "aggData": [],
       "aggError": "",
       "aggOverflow": false,
       "aggSchema": [],
       "aggSeriesLimitReached": false,
       "aggType": "",
       "arguments": {},
       "columnCustomDisplayInfos": {},
       "data": [
        [
         1,
         "John",
         "ADF"
        ],
        [
         1,
         "John",
         "ADB"
        ],
        [
         1,
         "John",
         "PowerBI"
        ],
        [
         2,
         "Joanne",
         "ADF"
        ],
        [
         2,
         "Joanne",
         "SQL"
        ],
        [
         2,
         "Joanne",
         "Crystal Report"
        ],
        [
         3,
         "Vikas",
         "ADF"
        ],
        [
         3,
         "Vikas",
         "SQL"
        ],
        [
         3,
         "Vikas",
         "SSIS"
        ],
        [
         4,
         "Monu",
         "SQL"
        ],
        [
         4,
         "Monu",
         "SSIS"
        ],
        [
         4,
         "Monu",
         "SSAS"
        ],
        [
         4,
         "Monu",
         "ADF"
        ]
       ],
       "datasetInfos": [],
       "dbfsResultPath": null,
       "isJsonSchema": true,
       "metadata": {},
       "overflow": false,
       "plotOptions": {
        "customPlotOptions": {},
        "displayType": "table",
        "pivotAggregation": null,
        "pivotColumns": null,
        "xColumns": null,
        "yColumns": null
       },
       "removedWidgets": [],
       "schema": [
        {
         "metadata": "{}",
         "name": "EmpId",
         "type": "\"long\""
        },
        {
         "metadata": "{}",
         "name": "EmpName",
         "type": "\"string\""
        },
        {
         "metadata": "{}",
         "name": "Skill",
         "type": "\"string\""
        }
       ],
       "type": "table"
      }
     },
     "output_type": "display_data"
    }
   ],
   "source": [
    "from pyspark.sql.types import *\n",
    "from pyspark.sql.functions import *\n",
    "data=[(1,'John','ADF'),(1,'John','ADB'),(1,'John','PowerBI'),(2,'Joanne','ADF'),(2,'Joanne','SQL'),(2,'Joanne','Crystal Report'),(3,'Vikas','ADF'),(3,'Vikas','SQL'),(3,'Vikas','SSIS'),(4,'Monu','SQL'),(4,'Monu','SSIS'),(4,'Monu','SSAS'),(4,'Monu','ADF')]\n",
    "schema=[\"EmpId\",\"EmpName\",\"Skill\"]\n",
    "df1=spark.createDataFrame(data,schema)\n",
    "display(df1)"
   ]
  },
  {
   "cell_type": "code",
   "execution_count": 0,
   "metadata": {
    "application/vnd.databricks.v1+cell": {
     "cellMetadata": {
      "byteLimit": 2048000,
      "rowLimit": 10000
     },
     "inputWidgets": {},
     "nuid": "680886f9-f031-46b7-9cc2-ae1e00bc06a2",
     "showTitle": false,
     "title": ""
    }
   },
   "outputs": [
    {
     "output_type": "display_data",
     "data": {
      "text/html": [
       "<style scoped>\n",
       "  .table-result-container {\n",
       "    max-height: 300px;\n",
       "    overflow: auto;\n",
       "  }\n",
       "  table, th, td {\n",
       "    border: 1px solid black;\n",
       "    border-collapse: collapse;\n",
       "  }\n",
       "  th, td {\n",
       "    padding: 5px;\n",
       "  }\n",
       "  th {\n",
       "    text-align: left;\n",
       "  }\n",
       "</style><div class='table-result-container'><table class='table-result'><thead style='background-color: white'><tr><th>EmpID</th><th>EmpName</th><th>skill</th></tr></thead><tbody><tr><td>1</td><td>John</td><td>List(ADF, ADB, PowerBI)</td></tr><tr><td>2</td><td>Joanne</td><td>List(ADF, SQL, Crystal Report)</td></tr><tr><td>3</td><td>Vikas</td><td>List(ADF, SQL, SSIS)</td></tr><tr><td>4</td><td>Monu</td><td>List(SQL, SSIS, SSAS, ADF)</td></tr></tbody></table></div>"
      ]
     },
     "metadata": {
      "application/vnd.databricks.v1+output": {
       "addedWidgets": {},
       "aggData": [],
       "aggError": "",
       "aggOverflow": false,
       "aggSchema": [],
       "aggSeriesLimitReached": false,
       "aggType": "",
       "arguments": {},
       "columnCustomDisplayInfos": {},
       "data": [
        [
         1,
         "John",
         [
          "ADF",
          "ADB",
          "PowerBI"
         ]
        ],
        [
         2,
         "Joanne",
         [
          "ADF",
          "SQL",
          "Crystal Report"
         ]
        ],
        [
         3,
         "Vikas",
         [
          "ADF",
          "SQL",
          "SSIS"
         ]
        ],
        [
         4,
         "Monu",
         [
          "SQL",
          "SSIS",
          "SSAS",
          "ADF"
         ]
        ]
       ],
       "datasetInfos": [],
       "dbfsResultPath": null,
       "isJsonSchema": true,
       "metadata": {},
       "overflow": false,
       "plotOptions": {
        "customPlotOptions": {},
        "displayType": "table",
        "pivotAggregation": null,
        "pivotColumns": null,
        "xColumns": null,
        "yColumns": null
       },
       "removedWidgets": [],
       "schema": [
        {
         "metadata": "{}",
         "name": "EmpID",
         "type": "\"long\""
        },
        {
         "metadata": "{}",
         "name": "EmpName",
         "type": "\"string\""
        },
        {
         "metadata": "{}",
         "name": "skill",
         "type": "{\"type\":\"array\",\"elementType\":\"string\",\"containsNull\":false}"
        }
       ],
       "type": "table"
      }
     },
     "output_type": "display_data"
    }
   ],
   "source": [
    "df_agg=df1.groupBy(col('EmpID'),col('EmpName')).agg(collect_list(col('Skill')).alias('skill')).orderBy(col('EmpId'))\n",
    "display(df_agg)"
   ]
  },
  {
   "cell_type": "code",
   "execution_count": 0,
   "metadata": {
    "application/vnd.databricks.v1+cell": {
     "cellMetadata": {
      "byteLimit": 2048000,
      "rowLimit": 10000
     },
     "inputWidgets": {},
     "nuid": "dc5cfca7-7183-419e-a8ab-0b7e4529859c",
     "showTitle": false,
     "title": ""
    }
   },
   "outputs": [
    {
     "output_type": "display_data",
     "data": {
      "text/html": [
       "<style scoped>\n",
       "  .table-result-container {\n",
       "    max-height: 300px;\n",
       "    overflow: auto;\n",
       "  }\n",
       "  table, th, td {\n",
       "    border: 1px solid black;\n",
       "    border-collapse: collapse;\n",
       "  }\n",
       "  th, td {\n",
       "    padding: 5px;\n",
       "  }\n",
       "  th {\n",
       "    text-align: left;\n",
       "  }\n",
       "</style><div class='table-result-container'><table class='table-result'><thead style='background-color: white'><tr><th>EmpName</th><th>skill</th></tr></thead><tbody><tr><td>John</td><td>ADF,ADB,PowerBI</td></tr><tr><td>Joanne</td><td>ADF,SQL,Crystal Report</td></tr><tr><td>Vikas</td><td>ADF,SQL,SSIS</td></tr><tr><td>Monu</td><td>SQL,SSIS,SSAS,ADF</td></tr></tbody></table></div>"
      ]
     },
     "metadata": {
      "application/vnd.databricks.v1+output": {
       "addedWidgets": {},
       "aggData": [],
       "aggError": "",
       "aggOverflow": false,
       "aggSchema": [],
       "aggSeriesLimitReached": false,
       "aggType": "",
       "arguments": {},
       "columnCustomDisplayInfos": {},
       "data": [
        [
         "John",
         "ADF,ADB,PowerBI"
        ],
        [
         "Joanne",
         "ADF,SQL,Crystal Report"
        ],
        [
         "Vikas",
         "ADF,SQL,SSIS"
        ],
        [
         "Monu",
         "SQL,SSIS,SSAS,ADF"
        ]
       ],
       "datasetInfos": [],
       "dbfsResultPath": null,
       "isJsonSchema": true,
       "metadata": {},
       "overflow": false,
       "plotOptions": {
        "customPlotOptions": {},
        "displayType": "table",
        "pivotAggregation": null,
        "pivotColumns": null,
        "xColumns": null,
        "yColumns": null
       },
       "removedWidgets": [],
       "schema": [
        {
         "metadata": "{}",
         "name": "EmpName",
         "type": "\"string\""
        },
        {
         "metadata": "{}",
         "name": "skill",
         "type": "\"string\""
        }
       ],
       "type": "table"
      }
     },
     "output_type": "display_data"
    }
   ],
   "source": [
    "df_concat=df_agg.select('EmpName',concat_ws(',',col('skill')).alias('skill'))\n",
    "display(df_concat)"
   ]
  },
  {
   "cell_type": "code",
   "execution_count": 0,
   "metadata": {
    "application/vnd.databricks.v1+cell": {
     "cellMetadata": {
      "byteLimit": 2048000,
      "rowLimit": 10000
     },
     "inputWidgets": {},
     "nuid": "e5b1833c-7b98-481e-b19c-35ed398ab2a3",
     "showTitle": false,
     "title": ""
    }
   },
   "outputs": [
    {
     "output_type": "display_data",
     "data": {
      "text/html": [
       "<style scoped>\n",
       "  .table-result-container {\n",
       "    max-height: 300px;\n",
       "    overflow: auto;\n",
       "  }\n",
       "  table, th, td {\n",
       "    border: 1px solid black;\n",
       "    border-collapse: collapse;\n",
       "  }\n",
       "  th, td {\n",
       "    padding: 5px;\n",
       "  }\n",
       "  th {\n",
       "    text-align: left;\n",
       "  }\n",
       "</style><div class='table-result-container'><table class='table-result'><thead style='background-color: white'><tr><th>EmpName</th><th>skill</th></tr></thead><tbody><tr><td>John</td><td>List(ADF, ADB, PowerBI)</td></tr><tr><td>Joanne</td><td>List(ADF, SQL, Crystal Report)</td></tr><tr><td>Vikas</td><td>List(ADF, SQL, SSIS)</td></tr><tr><td>Monu</td><td>List(SQL, SSIS, SSAS, ADF)</td></tr></tbody></table></div>"
      ]
     },
     "metadata": {
      "application/vnd.databricks.v1+output": {
       "addedWidgets": {},
       "aggData": [],
       "aggError": "",
       "aggOverflow": false,
       "aggSchema": [],
       "aggSeriesLimitReached": false,
       "aggType": "",
       "arguments": {},
       "columnCustomDisplayInfos": {},
       "data": [
        [
         "John",
         [
          "ADF",
          "ADB",
          "PowerBI"
         ]
        ],
        [
         "Joanne",
         [
          "ADF",
          "SQL",
          "Crystal Report"
         ]
        ],
        [
         "Vikas",
         [
          "ADF",
          "SQL",
          "SSIS"
         ]
        ],
        [
         "Monu",
         [
          "SQL",
          "SSIS",
          "SSAS",
          "ADF"
         ]
        ]
       ],
       "datasetInfos": [],
       "dbfsResultPath": null,
       "isJsonSchema": true,
       "metadata": {},
       "overflow": false,
       "plotOptions": {
        "customPlotOptions": {},
        "displayType": "table",
        "pivotAggregation": null,
        "pivotColumns": null,
        "xColumns": null,
        "yColumns": null
       },
       "removedWidgets": [],
       "schema": [
        {
         "metadata": "{}",
         "name": "EmpName",
         "type": "\"string\""
        },
        {
         "metadata": "{}",
         "name": "skill",
         "type": "{\"type\":\"array\",\"elementType\":\"string\",\"containsNull\":false}"
        }
       ],
       "type": "table"
      }
     },
     "output_type": "display_data"
    }
   ],
   "source": [
    "df_explode=df_concat.withColumn(\"skill\", split(col(\"skill\"), \",\"))\n",
    "display(df_explode)"
   ]
  },
  {
   "cell_type": "code",
   "execution_count": 0,
   "metadata": {
    "application/vnd.databricks.v1+cell": {
     "cellMetadata": {
      "byteLimit": 2048000,
      "rowLimit": 10000
     },
     "inputWidgets": {},
     "nuid": "1212210a-97c7-43fd-aea2-8af4300a606a",
     "showTitle": false,
     "title": ""
    }
   },
   "outputs": [
    {
     "output_type": "display_data",
     "data": {
      "text/html": [
       "<style scoped>\n",
       "  .table-result-container {\n",
       "    max-height: 300px;\n",
       "    overflow: auto;\n",
       "  }\n",
       "  table, th, td {\n",
       "    border: 1px solid black;\n",
       "    border-collapse: collapse;\n",
       "  }\n",
       "  th, td {\n",
       "    padding: 5px;\n",
       "  }\n",
       "  th {\n",
       "    text-align: left;\n",
       "  }\n",
       "</style><div class='table-result-container'><table class='table-result'><thead style='background-color: white'><tr><th>EmpName</th><th>col</th></tr></thead><tbody><tr><td>John</td><td>ADF</td></tr><tr><td>John</td><td>ADB</td></tr><tr><td>John</td><td>PowerBI</td></tr><tr><td>Joanne</td><td>ADF</td></tr><tr><td>Joanne</td><td>SQL</td></tr><tr><td>Joanne</td><td>Crystal Report</td></tr><tr><td>Vikas</td><td>ADF</td></tr><tr><td>Vikas</td><td>SQL</td></tr><tr><td>Vikas</td><td>SSIS</td></tr><tr><td>Monu</td><td>SQL</td></tr><tr><td>Monu</td><td>SSIS</td></tr><tr><td>Monu</td><td>SSAS</td></tr><tr><td>Monu</td><td>ADF</td></tr></tbody></table></div>"
      ]
     },
     "metadata": {
      "application/vnd.databricks.v1+output": {
       "addedWidgets": {},
       "aggData": [],
       "aggError": "",
       "aggOverflow": false,
       "aggSchema": [],
       "aggSeriesLimitReached": false,
       "aggType": "",
       "arguments": {},
       "columnCustomDisplayInfos": {},
       "data": [
        [
         "John",
         "ADF"
        ],
        [
         "John",
         "ADB"
        ],
        [
         "John",
         "PowerBI"
        ],
        [
         "Joanne",
         "ADF"
        ],
        [
         "Joanne",
         "SQL"
        ],
        [
         "Joanne",
         "Crystal Report"
        ],
        [
         "Vikas",
         "ADF"
        ],
        [
         "Vikas",
         "SQL"
        ],
        [
         "Vikas",
         "SSIS"
        ],
        [
         "Monu",
         "SQL"
        ],
        [
         "Monu",
         "SSIS"
        ],
        [
         "Monu",
         "SSAS"
        ],
        [
         "Monu",
         "ADF"
        ]
       ],
       "datasetInfos": [],
       "dbfsResultPath": null,
       "isJsonSchema": true,
       "metadata": {},
       "overflow": false,
       "plotOptions": {
        "customPlotOptions": {},
        "displayType": "table",
        "pivotAggregation": null,
        "pivotColumns": null,
        "xColumns": null,
        "yColumns": null
       },
       "removedWidgets": [],
       "schema": [
        {
         "metadata": "{}",
         "name": "EmpName",
         "type": "\"string\""
        },
        {
         "metadata": "{}",
         "name": "col",
         "type": "\"string\""
        }
       ],
       "type": "table"
      }
     },
     "output_type": "display_data"
    }
   ],
   "source": [
    "df_explode1=df_explode.select(\"EmpName\",explode(\"skill\"))\n",
    "display(df_explode1)"
   ]
  }
 ],
 "metadata": {
  "application/vnd.databricks.v1+notebook": {
   "dashboards": [],
   "environmentMetadata": null,
   "language": "python",
   "notebookMetadata": {
    "pythonIndentUnit": 4
   },
   "notebookName": "collect_list(),concat_ws,split,explode",
   "widgets": {}
  }
 },
 "nbformat": 4,
 "nbformat_minor": 0
}
