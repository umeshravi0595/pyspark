{
 "cells": [
  {
   "cell_type": "code",
   "execution_count": 0,
   "metadata": {
    "application/vnd.databricks.v1+cell": {
     "cellMetadata": {
      "byteLimit": 2048000,
      "rowLimit": 10000
     },
     "inputWidgets": {},
     "nuid": "489914ab-396a-4200-a79e-01f0954ac198",
     "showTitle": false,
     "title": ""
    }
   },
   "outputs": [
    {
     "output_type": "stream",
     "name": "stdout",
     "output_type": "stream",
     "text": [
      "Wrote 664 bytes.\nOut[1]: True"
     ]
    }
   ],
   "source": [
    "dbutils.fs.put(\"/FileStore/tables/null_values.csv\",\"\"\" EMPNO,ENAME,JOB,MGR,HIREDATE,SAL,COMM,DEPTNO\n",
    "7369,SMITH,CLERK,7902,1980-12-17,800,,20\n",
    "7499,ALLEN,SALESMAN,7698,1981-02-20,1600,300,30\n",
    "7521,WARD,SALESMAN,7698,1981-02-22,1250,500,30\n",
    "7566,JONES,MANAGER,7839,1981-02-04,2975,,20\n",
    "7654,MARTIN,SALESMAN,7698,1981-09-21,1250,1400,30\n",
    "7698,BLAKE,MANAGER,7839,1981-01-05,2850,,30\n",
    "7782,CLARK,MANAGER,7839,1981-09-06,2450,,10\n",
    "7788,SCOTT,ANALYST,7566,1987-04-19,3000,,20\n",
    "7839,KING,PRESIDENT,,1981-11-01,5000,,10\n",
    "7844,TURNER,SALESMAN,7698,1981-08-09,1500,,30\n",
    "7876,ADAMS,CLERK,7788,1987-05-23,1100,,20\n",
    "7900,JAMES,CLERK,7698,1981-03-12,950,,30\n",
    "7902,FORD,ANALYST,7566,1981-03-12,3000,,20\n",
    "7934,MILLER,CLERK,7782,1982-03-01,1300,,10\n",
    "\"\"\",True)"
   ]
  },
  {
   "cell_type": "code",
   "execution_count": 0,
   "metadata": {
    "application/vnd.databricks.v1+cell": {
     "cellMetadata": {
      "byteLimit": 2048000,
      "rowLimit": 10000
     },
     "inputWidgets": {},
     "nuid": "613430b1-6e92-49e1-9ad5-6a1148e14be7",
     "showTitle": false,
     "title": ""
    }
   },
   "outputs": [
    {
     "output_type": "display_data",
     "data": {
      "text/html": [
       "<style scoped>\n",
       "  .table-result-container {\n",
       "    max-height: 300px;\n",
       "    overflow: auto;\n",
       "  }\n",
       "  table, th, td {\n",
       "    border: 1px solid black;\n",
       "    border-collapse: collapse;\n",
       "  }\n",
       "  th, td {\n",
       "    padding: 5px;\n",
       "  }\n",
       "  th {\n",
       "    text-align: left;\n",
       "  }\n",
       "</style><div class='table-result-container'><table class='table-result'><thead style='background-color: white'><tr><th> EMPNO</th><th>ENAME</th><th>JOB</th><th>MGR</th><th>HIREDATE</th><th>SAL</th><th>COMM</th><th>DEPTNO</th></tr></thead><tbody><tr><td>7369</td><td>SMITH</td><td>CLERK</td><td>7902</td><td>1980-12-17</td><td>800</td><td>null</td><td>20</td></tr><tr><td>7499</td><td>ALLEN</td><td>SALESMAN</td><td>7698</td><td>1981-02-20</td><td>1600</td><td>300</td><td>30</td></tr><tr><td>7521</td><td>WARD</td><td>SALESMAN</td><td>7698</td><td>1981-02-22</td><td>1250</td><td>500</td><td>30</td></tr><tr><td>7566</td><td>JONES</td><td>MANAGER</td><td>7839</td><td>1981-02-04</td><td>2975</td><td>null</td><td>20</td></tr><tr><td>7654</td><td>MARTIN</td><td>SALESMAN</td><td>7698</td><td>1981-09-21</td><td>1250</td><td>1400</td><td>30</td></tr><tr><td>7698</td><td>BLAKE</td><td>MANAGER</td><td>7839</td><td>1981-01-05</td><td>2850</td><td>null</td><td>30</td></tr><tr><td>7782</td><td>CLARK</td><td>MANAGER</td><td>7839</td><td>1981-09-06</td><td>2450</td><td>null</td><td>10</td></tr><tr><td>7788</td><td>SCOTT</td><td>ANALYST</td><td>7566</td><td>1987-04-19</td><td>3000</td><td>null</td><td>20</td></tr><tr><td>7839</td><td>KING</td><td>PRESIDENT</td><td>null</td><td>1981-11-01</td><td>5000</td><td>null</td><td>10</td></tr><tr><td>7844</td><td>TURNER</td><td>SALESMAN</td><td>7698</td><td>1981-08-09</td><td>1500</td><td>null</td><td>30</td></tr><tr><td>7876</td><td>ADAMS</td><td>CLERK</td><td>7788</td><td>1987-05-23</td><td>1100</td><td>null</td><td>20</td></tr><tr><td>7900</td><td>JAMES</td><td>CLERK</td><td>7698</td><td>1981-03-12</td><td>950</td><td>null</td><td>30</td></tr><tr><td>7902</td><td>FORD</td><td>ANALYST</td><td>7566</td><td>1981-03-12</td><td>3000</td><td>null</td><td>20</td></tr><tr><td>7934</td><td>MILLER</td><td>CLERK</td><td>7782</td><td>1982-03-01</td><td>1300</td><td>null</td><td>10</td></tr></tbody></table></div>"
      ]
     },
     "metadata": {
      "application/vnd.databricks.v1+output": {
       "addedWidgets": {},
       "aggData": [],
       "aggError": "",
       "aggOverflow": false,
       "aggSchema": [],
       "aggSeriesLimitReached": false,
       "aggType": "",
       "arguments": {},
       "columnCustomDisplayInfos": {},
       "data": [
        [
         7369,
         "SMITH",
         "CLERK",
         7902,
         "1980-12-17",
         800,
         null,
         20
        ],
        [
         7499,
         "ALLEN",
         "SALESMAN",
         7698,
         "1981-02-20",
         1600,
         300,
         30
        ],
        [
         7521,
         "WARD",
         "SALESMAN",
         7698,
         "1981-02-22",
         1250,
         500,
         30
        ],
        [
         7566,
         "JONES",
         "MANAGER",
         7839,
         "1981-02-04",
         2975,
         null,
         20
        ],
        [
         7654,
         "MARTIN",
         "SALESMAN",
         7698,
         "1981-09-21",
         1250,
         1400,
         30
        ],
        [
         7698,
         "BLAKE",
         "MANAGER",
         7839,
         "1981-01-05",
         2850,
         null,
         30
        ],
        [
         7782,
         "CLARK",
         "MANAGER",
         7839,
         "1981-09-06",
         2450,
         null,
         10
        ],
        [
         7788,
         "SCOTT",
         "ANALYST",
         7566,
         "1987-04-19",
         3000,
         null,
         20
        ],
        [
         7839,
         "KING",
         "PRESIDENT",
         null,
         "1981-11-01",
         5000,
         null,
         10
        ],
        [
         7844,
         "TURNER",
         "SALESMAN",
         7698,
         "1981-08-09",
         1500,
         null,
         30
        ],
        [
         7876,
         "ADAMS",
         "CLERK",
         7788,
         "1987-05-23",
         1100,
         null,
         20
        ],
        [
         7900,
         "JAMES",
         "CLERK",
         7698,
         "1981-03-12",
         950,
         null,
         30
        ],
        [
         7902,
         "FORD",
         "ANALYST",
         7566,
         "1981-03-12",
         3000,
         null,
         20
        ],
        [
         7934,
         "MILLER",
         "CLERK",
         7782,
         "1982-03-01",
         1300,
         null,
         10
        ]
       ],
       "datasetInfos": [],
       "dbfsResultPath": null,
       "isJsonSchema": true,
       "metadata": {},
       "overflow": false,
       "plotOptions": {
        "customPlotOptions": {},
        "displayType": "table",
        "pivotAggregation": null,
        "pivotColumns": null,
        "xColumns": null,
        "yColumns": null
       },
       "removedWidgets": [],
       "schema": [
        {
         "metadata": "{}",
         "name": " EMPNO",
         "type": "\"integer\""
        },
        {
         "metadata": "{}",
         "name": "ENAME",
         "type": "\"string\""
        },
        {
         "metadata": "{}",
         "name": "JOB",
         "type": "\"string\""
        },
        {
         "metadata": "{}",
         "name": "MGR",
         "type": "\"integer\""
        },
        {
         "metadata": "{\"__detected_date_formats\":\"yyyy-M-d\"}",
         "name": "HIREDATE",
         "type": "\"date\""
        },
        {
         "metadata": "{}",
         "name": "SAL",
         "type": "\"integer\""
        },
        {
         "metadata": "{}",
         "name": "COMM",
         "type": "\"integer\""
        },
        {
         "metadata": "{}",
         "name": "DEPTNO",
         "type": "\"integer\""
        }
       ],
       "type": "table"
      }
     },
     "output_type": "display_data"
    }
   ],
   "source": [
    "df=spark.read.option(\"nullvalues\",\"null\").csv(\"/FileStore/tables/null_values.csv\",header=True,inferSchema=True)\n",
    "display(df)"
   ]
  },
  {
   "cell_type": "code",
   "execution_count": 0,
   "metadata": {
    "application/vnd.databricks.v1+cell": {
     "cellMetadata": {
      "byteLimit": 2048000,
      "rowLimit": 10000
     },
     "inputWidgets": {},
     "nuid": "d84d01dd-e3b7-4861-9a35-c3ddaaed334d",
     "showTitle": false,
     "title": ""
    }
   },
   "outputs": [
    {
     "output_type": "display_data",
     "data": {
      "text/html": [
       "<style scoped>\n",
       "  .table-result-container {\n",
       "    max-height: 300px;\n",
       "    overflow: auto;\n",
       "  }\n",
       "  table, th, td {\n",
       "    border: 1px solid black;\n",
       "    border-collapse: collapse;\n",
       "  }\n",
       "  th, td {\n",
       "    padding: 5px;\n",
       "  }\n",
       "  th {\n",
       "    text-align: left;\n",
       "  }\n",
       "</style><div class='table-result-container'><table class='table-result'><thead style='background-color: white'><tr><th> EMPNO</th><th>ENAME</th><th>JOB</th><th>MGR</th><th>HIREDATE</th><th>SAL</th><th>COMM</th><th>DEPTNO</th></tr></thead><tbody><tr><td>0</td><td>0</td><td>0</td><td>1</td><td>0</td><td>0</td><td>11</td><td>0</td></tr></tbody></table></div>"
      ]
     },
     "metadata": {
      "application/vnd.databricks.v1+output": {
       "addedWidgets": {},
       "aggData": [],
       "aggError": "",
       "aggOverflow": false,
       "aggSchema": [],
       "aggSeriesLimitReached": false,
       "aggType": "",
       "arguments": {},
       "columnCustomDisplayInfos": {},
       "data": [
        [
         0,
         0,
         0,
         1,
         0,
         0,
         11,
         0
        ]
       ],
       "datasetInfos": [],
       "dbfsResultPath": null,
       "isJsonSchema": true,
       "metadata": {},
       "overflow": false,
       "plotOptions": {
        "customPlotOptions": {},
        "displayType": "table",
        "pivotAggregation": null,
        "pivotColumns": null,
        "xColumns": null,
        "yColumns": null
       },
       "removedWidgets": [],
       "schema": [
        {
         "metadata": "{}",
         "name": " EMPNO",
         "type": "\"long\""
        },
        {
         "metadata": "{}",
         "name": "ENAME",
         "type": "\"long\""
        },
        {
         "metadata": "{}",
         "name": "JOB",
         "type": "\"long\""
        },
        {
         "metadata": "{}",
         "name": "MGR",
         "type": "\"long\""
        },
        {
         "metadata": "{}",
         "name": "HIREDATE",
         "type": "\"long\""
        },
        {
         "metadata": "{}",
         "name": "SAL",
         "type": "\"long\""
        },
        {
         "metadata": "{}",
         "name": "COMM",
         "type": "\"long\""
        },
        {
         "metadata": "{}",
         "name": "DEPTNO",
         "type": "\"long\""
        }
       ],
       "type": "table"
      }
     },
     "output_type": "display_data"
    }
   ],
   "source": [
    "from pyspark.sql.functions import *\n",
    "df_null_count=df.select([count(when (col(c).isNull(),c)).alias(c) for c in df.columns])\n",
    "display(df_null_count)"
   ]
  }
 ],
 "metadata": {
  "application/vnd.databricks.v1+notebook": {
   "dashboards": [],
   "environmentMetadata": null,
   "language": "python",
   "notebookMetadata": {
    "pythonIndentUnit": 4
   },
   "notebookName": "how to get no of null rows from a dataframe at each column",
   "widgets": {}
  }
 },
 "nbformat": 4,
 "nbformat_minor": 0
}
