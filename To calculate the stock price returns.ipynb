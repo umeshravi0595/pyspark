{
 "cells": [
  {
   "cell_type": "code",
   "execution_count": 0,
   "metadata": {
    "application/vnd.databricks.v1+cell": {
     "cellMetadata": {
      "byteLimit": 2048000,
      "rowLimit": 10000
     },
     "inputWidgets": {},
     "nuid": "240b5172-fe64-4af2-bb80-a8e06bc01328",
     "showTitle": false,
     "title": ""
    }
   },
   "outputs": [
    {
     "output_type": "stream",
     "name": "stdout",
     "output_type": "stream",
     "text": [
      "Year 1: Stock Price = 7313.31, Investment Value = 241339.23\nYear 2: Stock Price = 8410.31, Investment Value = 277540.11\nYear 3: Stock Price = 9671.85, Investment Value = 319171.13\nYear 4: Stock Price = 11122.63, Investment Value = 367046.80\nYear 5: Stock Price = 12791.02, Investment Value = 422103.82\nYear 6: Stock Price = 14709.68, Investment Value = 485419.39\nYear 7: Stock Price = 16916.13, Investment Value = 558232.30\nYear 8: Stock Price = 19453.55, Investment Value = 641967.15\nYear 9: Stock Price = 22371.58, Investment Value = 738262.22\nYear 10: Stock Price = 25727.32, Investment Value = 849001.56\nFinal value of investment after 10 years: 849001.56\n"
     ]
    }
   ],
   "source": [
    "def calculate_compound_stock_growth(initial_investment, stock_price, growth_rate, years):\n",
    "    total_shares = initial_investment / stock_price\n",
    "    for year in range(1, years + 1):\n",
    "        stock_price *= (1 + growth_rate)\n",
    "        print(f\"Year {year}: Stock Price = {stock_price:.2f}, Investment Value = {total_shares * stock_price:.2f}\")\n",
    "    return total_shares * stock_price\n",
    "\n",
    "# Parameters\n",
    "# Initial amount of money invested\n",
    "initial_investment = 209860.20  \n",
    "# Initial stock price\n",
    "stock_price = 1038.70 \n",
    "# Annual stock price growth rate \n",
    "growth_rate = 0.1 \n",
    "# Number of years \n",
    "years = 10  \n",
    "\n",
    "final_value = calculate_compound_stock_growth(initial_investment, stock_price, growth_rate, years)\n",
    "print(f\"Final value of investment after {years} years: {final_value:.2f}\")"
   ]
  },
  {
   "cell_type": "code",
   "execution_count": 0,
   "metadata": {
    "application/vnd.databricks.v1+cell": {
     "cellMetadata": {},
     "inputWidgets": {},
     "nuid": "7dab0a42-3588-4f9a-9008-f4d1bec177e1",
     "showTitle": false,
     "title": ""
    }
   },
   "outputs": [],
   "source": [
    "d"
   ]
  },
  {
   "cell_type": "code",
   "execution_count": 0,
   "metadata": {
    "application/vnd.databricks.v1+cell": {
     "cellMetadata": {
      "byteLimit": 2048000,
      "rowLimit": 10000
     },
     "inputWidgets": {},
     "nuid": "07ae4b49-cd65-4f41-800b-0fa9e6284cd3",
     "showTitle": false,
     "title": ""
    }
   },
   "outputs": [
    {
     "output_type": "stream",
     "name": "stdout",
     "output_type": "stream",
     "text": [
      "The yearly return of polycab Wire share is 177.60 % and investment amount is 6435.50 and current investment is 63583.00\n"
     ]
    }
   ],
   "source": [
    "def calculate_yearly_stock_return(start_price,end_price,share_name,total_shares,no_of_years):\n",
    "    investment_value=total_shares*start_price\n",
    "    current_investment_value=end_price*total_shares\n",
    "    yearly_return_percentage= (end_price-start_price)/start_price*100\n",
    "    cummulative_yearly_returns=yearly_return_percentage/no_of_years\n",
    "    return cummulative_yearly_returns,investment_value,current_investment_value\n",
    " \n",
    "\n",
    "#parameters\n",
    "start_price=643.55\n",
    "end_price=6358.30\n",
    "share_name='polycab Wire'\n",
    "total_shares=10\n",
    "no_of_years=5\n",
    "\n",
    "yearly_percentage,investment_value,current_investment_value=calculate_yearly_stock_return(start_price,end_price,share_name,total_shares,no_of_years)\n",
    "print(f\"The yearly return of {share_name} share is {yearly_percentage:.2f} % and investment amount is {investment_value:.2f} and current investment is {current_investment_value:.2f}\")"
   ]
  }
 ],
 "metadata": {
  "application/vnd.databricks.v1+notebook": {
   "dashboards": [],
   "environmentMetadata": null,
   "language": "python",
   "notebookMetadata": {
    "pythonIndentUnit": 4
   },
   "notebookName": "To calculate the stock price returns",
   "widgets": {}
  }
 },
 "nbformat": 4,
 "nbformat_minor": 0
}
