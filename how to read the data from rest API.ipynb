{
 "cells": [
  {
   "cell_type": "code",
   "execution_count": 0,
   "metadata": {
    "application/vnd.databricks.v1+cell": {
     "cellMetadata": {
      "byteLimit": 2048000,
      "rowLimit": 10000
     },
     "inputWidgets": {},
     "nuid": "c9e3af45-f6df-4977-88e1-c386c3b6c4de",
     "showTitle": false,
     "title": ""
    }
   },
   "outputs": [],
   "source": [
    "import requests\n",
    "import json\n",
    "import pandas as pd\n",
    "\n",
    "json_api_data=requests.request('GET','https://api.github.com/users/hadley/orgs')\n",
    "json_data=json_api_data.json()\n",
    "#print(len(json_data))\n",
    "df = pd.json_normalize(json_data)\n",
    "spark_df = spark.createDataFrame(df)"
   ]
  },
  {
   "cell_type": "code",
   "execution_count": 0,
   "metadata": {
    "application/vnd.databricks.v1+cell": {
     "cellMetadata": {
      "byteLimit": 2048000,
      "rowLimit": 10000
     },
     "inputWidgets": {},
     "nuid": "42dcf785-1b28-4157-8e8d-e78c791457f8",
     "showTitle": false,
     "title": ""
    }
   },
   "outputs": [
    {
     "output_type": "display_data",
     "data": {
      "text/html": [
       "<style scoped>\n",
       "  .table-result-container {\n",
       "    max-height: 300px;\n",
       "    overflow: auto;\n",
       "  }\n",
       "  table, th, td {\n",
       "    border: 1px solid black;\n",
       "    border-collapse: collapse;\n",
       "  }\n",
       "  th, td {\n",
       "    padding: 5px;\n",
       "  }\n",
       "  th {\n",
       "    text-align: left;\n",
       "  }\n",
       "</style><div class='table-result-container'><table class='table-result'><thead style='background-color: white'><tr><th>login</th><th>id</th><th>node_id</th><th>url</th><th>repos_url</th><th>events_url</th><th>hooks_url</th><th>issues_url</th><th>members_url</th><th>public_members_url</th><th>avatar_url</th><th>description</th></tr></thead><tbody><tr><td>ggobi</td><td>423638</td><td>MDEyOk9yZ2FuaXphdGlvbjQyMzYzOA==</td><td>https://api.github.com/orgs/ggobi</td><td>https://api.github.com/orgs/ggobi/repos</td><td>https://api.github.com/orgs/ggobi/events</td><td>https://api.github.com/orgs/ggobi/hooks</td><td>https://api.github.com/orgs/ggobi/issues</td><td>https://api.github.com/orgs/ggobi/members{/member}</td><td>https://api.github.com/orgs/ggobi/public_members{/member}</td><td>https://avatars.githubusercontent.com/u/423638?v=4</td><td></td></tr><tr><td>rstudio</td><td>513560</td><td>MDEyOk9yZ2FuaXphdGlvbjUxMzU2MA==</td><td>https://api.github.com/orgs/rstudio</td><td>https://api.github.com/orgs/rstudio/repos</td><td>https://api.github.com/orgs/rstudio/events</td><td>https://api.github.com/orgs/rstudio/hooks</td><td>https://api.github.com/orgs/rstudio/issues</td><td>https://api.github.com/orgs/rstudio/members{/member}</td><td>https://api.github.com/orgs/rstudio/public_members{/member}</td><td>https://avatars.githubusercontent.com/u/513560?v=4</td><td></td></tr><tr><td>rstats</td><td>722735</td><td>MDEyOk9yZ2FuaXphdGlvbjcyMjczNQ==</td><td>https://api.github.com/orgs/rstats</td><td>https://api.github.com/orgs/rstats/repos</td><td>https://api.github.com/orgs/rstats/events</td><td>https://api.github.com/orgs/rstats/hooks</td><td>https://api.github.com/orgs/rstats/issues</td><td>https://api.github.com/orgs/rstats/members{/member}</td><td>https://api.github.com/orgs/rstats/public_members{/member}</td><td>https://avatars.githubusercontent.com/u/722735?v=4</td><td>null</td></tr><tr><td>ropensci</td><td>1200269</td><td>MDEyOk9yZ2FuaXphdGlvbjEyMDAyNjk=</td><td>https://api.github.com/orgs/ropensci</td><td>https://api.github.com/orgs/ropensci/repos</td><td>https://api.github.com/orgs/ropensci/events</td><td>https://api.github.com/orgs/ropensci/hooks</td><td>https://api.github.com/orgs/ropensci/issues</td><td>https://api.github.com/orgs/ropensci/members{/member}</td><td>https://api.github.com/orgs/ropensci/public_members{/member}</td><td>https://avatars.githubusercontent.com/u/1200269?v=4</td><td>Tools and R Packages for Open Science</td></tr><tr><td>rjournal</td><td>3330561</td><td>MDEyOk9yZ2FuaXphdGlvbjMzMzA1NjE=</td><td>https://api.github.com/orgs/rjournal</td><td>https://api.github.com/orgs/rjournal/repos</td><td>https://api.github.com/orgs/rjournal/events</td><td>https://api.github.com/orgs/rjournal/hooks</td><td>https://api.github.com/orgs/rjournal/issues</td><td>https://api.github.com/orgs/rjournal/members{/member}</td><td>https://api.github.com/orgs/rjournal/public_members{/member}</td><td>https://avatars.githubusercontent.com/u/3330561?v=4</td><td>null</td></tr><tr><td>r-dbi</td><td>5695665</td><td>MDEyOk9yZ2FuaXphdGlvbjU2OTU2NjU=</td><td>https://api.github.com/orgs/r-dbi</td><td>https://api.github.com/orgs/r-dbi/repos</td><td>https://api.github.com/orgs/r-dbi/events</td><td>https://api.github.com/orgs/r-dbi/hooks</td><td>https://api.github.com/orgs/r-dbi/issues</td><td>https://api.github.com/orgs/r-dbi/members{/member}</td><td>https://api.github.com/orgs/r-dbi/public_members{/member}</td><td>https://avatars.githubusercontent.com/u/5695665?v=4</td><td>R + databases</td></tr><tr><td>RConsortium</td><td>15366137</td><td>MDEyOk9yZ2FuaXphdGlvbjE1MzY2MTM3</td><td>https://api.github.com/orgs/RConsortium</td><td>https://api.github.com/orgs/RConsortium/repos</td><td>https://api.github.com/orgs/RConsortium/events</td><td>https://api.github.com/orgs/RConsortium/hooks</td><td>https://api.github.com/orgs/RConsortium/issues</td><td>https://api.github.com/orgs/RConsortium/members{/member}</td><td>https://api.github.com/orgs/RConsortium/public_members{/member}</td><td>https://avatars.githubusercontent.com/u/15366137?v=4</td><td>The R Consortium, Inc was established to provide support to the R Foundation and R Community, using maintaining and distributing R software.</td></tr><tr><td>tidyverse</td><td>22032646</td><td>MDEyOk9yZ2FuaXphdGlvbjIyMDMyNjQ2</td><td>https://api.github.com/orgs/tidyverse</td><td>https://api.github.com/orgs/tidyverse/repos</td><td>https://api.github.com/orgs/tidyverse/events</td><td>https://api.github.com/orgs/tidyverse/hooks</td><td>https://api.github.com/orgs/tidyverse/issues</td><td>https://api.github.com/orgs/tidyverse/members{/member}</td><td>https://api.github.com/orgs/tidyverse/public_members{/member}</td><td>https://avatars.githubusercontent.com/u/22032646?v=4</td><td>The tidyverse is a collection of R packages that share common principles and are designed to work together seamlessly</td></tr><tr><td>r-lib</td><td>22618716</td><td>MDEyOk9yZ2FuaXphdGlvbjIyNjE4NzE2</td><td>https://api.github.com/orgs/r-lib</td><td>https://api.github.com/orgs/r-lib/repos</td><td>https://api.github.com/orgs/r-lib/events</td><td>https://api.github.com/orgs/r-lib/hooks</td><td>https://api.github.com/orgs/r-lib/issues</td><td>https://api.github.com/orgs/r-lib/members{/member}</td><td>https://api.github.com/orgs/r-lib/public_members{/member}</td><td>https://avatars.githubusercontent.com/u/22618716?v=4</td><td></td></tr><tr><td>rstudio-education</td><td>34165516</td><td>MDEyOk9yZ2FuaXphdGlvbjM0MTY1NTE2</td><td>https://api.github.com/orgs/rstudio-education</td><td>https://api.github.com/orgs/rstudio-education/repos</td><td>https://api.github.com/orgs/rstudio-education/events</td><td>https://api.github.com/orgs/rstudio-education/hooks</td><td>https://api.github.com/orgs/rstudio-education/issues</td><td>https://api.github.com/orgs/rstudio-education/members{/member}</td><td>https://api.github.com/orgs/rstudio-education/public_members{/member}</td><td>https://avatars.githubusercontent.com/u/34165516?v=4</td><td></td></tr></tbody></table></div>"
      ]
     },
     "metadata": {
      "application/vnd.databricks.v1+output": {
       "addedWidgets": {},
       "aggData": [],
       "aggError": "",
       "aggOverflow": false,
       "aggSchema": [],
       "aggSeriesLimitReached": false,
       "aggType": "",
       "arguments": {},
       "columnCustomDisplayInfos": {},
       "data": [
        [
         "ggobi",
         423638,
         "MDEyOk9yZ2FuaXphdGlvbjQyMzYzOA==",
         "https://api.github.com/orgs/ggobi",
         "https://api.github.com/orgs/ggobi/repos",
         "https://api.github.com/orgs/ggobi/events",
         "https://api.github.com/orgs/ggobi/hooks",
         "https://api.github.com/orgs/ggobi/issues",
         "https://api.github.com/orgs/ggobi/members{/member}",
         "https://api.github.com/orgs/ggobi/public_members{/member}",
         "https://avatars.githubusercontent.com/u/423638?v=4",
         ""
        ],
        [
         "rstudio",
         513560,
         "MDEyOk9yZ2FuaXphdGlvbjUxMzU2MA==",
         "https://api.github.com/orgs/rstudio",
         "https://api.github.com/orgs/rstudio/repos",
         "https://api.github.com/orgs/rstudio/events",
         "https://api.github.com/orgs/rstudio/hooks",
         "https://api.github.com/orgs/rstudio/issues",
         "https://api.github.com/orgs/rstudio/members{/member}",
         "https://api.github.com/orgs/rstudio/public_members{/member}",
         "https://avatars.githubusercontent.com/u/513560?v=4",
         ""
        ],
        [
         "rstats",
         722735,
         "MDEyOk9yZ2FuaXphdGlvbjcyMjczNQ==",
         "https://api.github.com/orgs/rstats",
         "https://api.github.com/orgs/rstats/repos",
         "https://api.github.com/orgs/rstats/events",
         "https://api.github.com/orgs/rstats/hooks",
         "https://api.github.com/orgs/rstats/issues",
         "https://api.github.com/orgs/rstats/members{/member}",
         "https://api.github.com/orgs/rstats/public_members{/member}",
         "https://avatars.githubusercontent.com/u/722735?v=4",
         null
        ],
        [
         "ropensci",
         1200269,
         "MDEyOk9yZ2FuaXphdGlvbjEyMDAyNjk=",
         "https://api.github.com/orgs/ropensci",
         "https://api.github.com/orgs/ropensci/repos",
         "https://api.github.com/orgs/ropensci/events",
         "https://api.github.com/orgs/ropensci/hooks",
         "https://api.github.com/orgs/ropensci/issues",
         "https://api.github.com/orgs/ropensci/members{/member}",
         "https://api.github.com/orgs/ropensci/public_members{/member}",
         "https://avatars.githubusercontent.com/u/1200269?v=4",
         "Tools and R Packages for Open Science"
        ],
        [
         "rjournal",
         3330561,
         "MDEyOk9yZ2FuaXphdGlvbjMzMzA1NjE=",
         "https://api.github.com/orgs/rjournal",
         "https://api.github.com/orgs/rjournal/repos",
         "https://api.github.com/orgs/rjournal/events",
         "https://api.github.com/orgs/rjournal/hooks",
         "https://api.github.com/orgs/rjournal/issues",
         "https://api.github.com/orgs/rjournal/members{/member}",
         "https://api.github.com/orgs/rjournal/public_members{/member}",
         "https://avatars.githubusercontent.com/u/3330561?v=4",
         null
        ],
        [
         "r-dbi",
         5695665,
         "MDEyOk9yZ2FuaXphdGlvbjU2OTU2NjU=",
         "https://api.github.com/orgs/r-dbi",
         "https://api.github.com/orgs/r-dbi/repos",
         "https://api.github.com/orgs/r-dbi/events",
         "https://api.github.com/orgs/r-dbi/hooks",
         "https://api.github.com/orgs/r-dbi/issues",
         "https://api.github.com/orgs/r-dbi/members{/member}",
         "https://api.github.com/orgs/r-dbi/public_members{/member}",
         "https://avatars.githubusercontent.com/u/5695665?v=4",
         "R + databases"
        ],
        [
         "RConsortium",
         15366137,
         "MDEyOk9yZ2FuaXphdGlvbjE1MzY2MTM3",
         "https://api.github.com/orgs/RConsortium",
         "https://api.github.com/orgs/RConsortium/repos",
         "https://api.github.com/orgs/RConsortium/events",
         "https://api.github.com/orgs/RConsortium/hooks",
         "https://api.github.com/orgs/RConsortium/issues",
         "https://api.github.com/orgs/RConsortium/members{/member}",
         "https://api.github.com/orgs/RConsortium/public_members{/member}",
         "https://avatars.githubusercontent.com/u/15366137?v=4",
         "The R Consortium, Inc was established to provide support to the R Foundation and R Community, using maintaining and distributing R software."
        ],
        [
         "tidyverse",
         22032646,
         "MDEyOk9yZ2FuaXphdGlvbjIyMDMyNjQ2",
         "https://api.github.com/orgs/tidyverse",
         "https://api.github.com/orgs/tidyverse/repos",
         "https://api.github.com/orgs/tidyverse/events",
         "https://api.github.com/orgs/tidyverse/hooks",
         "https://api.github.com/orgs/tidyverse/issues",
         "https://api.github.com/orgs/tidyverse/members{/member}",
         "https://api.github.com/orgs/tidyverse/public_members{/member}",
         "https://avatars.githubusercontent.com/u/22032646?v=4",
         "The tidyverse is a collection of R packages that share common principles and are designed to work together seamlessly"
        ],
        [
         "r-lib",
         22618716,
         "MDEyOk9yZ2FuaXphdGlvbjIyNjE4NzE2",
         "https://api.github.com/orgs/r-lib",
         "https://api.github.com/orgs/r-lib/repos",
         "https://api.github.com/orgs/r-lib/events",
         "https://api.github.com/orgs/r-lib/hooks",
         "https://api.github.com/orgs/r-lib/issues",
         "https://api.github.com/orgs/r-lib/members{/member}",
         "https://api.github.com/orgs/r-lib/public_members{/member}",
         "https://avatars.githubusercontent.com/u/22618716?v=4",
         ""
        ],
        [
         "rstudio-education",
         34165516,
         "MDEyOk9yZ2FuaXphdGlvbjM0MTY1NTE2",
         "https://api.github.com/orgs/rstudio-education",
         "https://api.github.com/orgs/rstudio-education/repos",
         "https://api.github.com/orgs/rstudio-education/events",
         "https://api.github.com/orgs/rstudio-education/hooks",
         "https://api.github.com/orgs/rstudio-education/issues",
         "https://api.github.com/orgs/rstudio-education/members{/member}",
         "https://api.github.com/orgs/rstudio-education/public_members{/member}",
         "https://avatars.githubusercontent.com/u/34165516?v=4",
         ""
        ]
       ],
       "datasetInfos": [],
       "dbfsResultPath": null,
       "isJsonSchema": true,
       "metadata": {},
       "overflow": false,
       "plotOptions": {
        "customPlotOptions": {},
        "displayType": "table",
        "pivotAggregation": null,
        "pivotColumns": null,
        "xColumns": null,
        "yColumns": null
       },
       "removedWidgets": [],
       "schema": [
        {
         "metadata": "{}",
         "name": "login",
         "type": "\"string\""
        },
        {
         "metadata": "{}",
         "name": "id",
         "type": "\"long\""
        },
        {
         "metadata": "{}",
         "name": "node_id",
         "type": "\"string\""
        },
        {
         "metadata": "{}",
         "name": "url",
         "type": "\"string\""
        },
        {
         "metadata": "{}",
         "name": "repos_url",
         "type": "\"string\""
        },
        {
         "metadata": "{}",
         "name": "events_url",
         "type": "\"string\""
        },
        {
         "metadata": "{}",
         "name": "hooks_url",
         "type": "\"string\""
        },
        {
         "metadata": "{}",
         "name": "issues_url",
         "type": "\"string\""
        },
        {
         "metadata": "{}",
         "name": "members_url",
         "type": "\"string\""
        },
        {
         "metadata": "{}",
         "name": "public_members_url",
         "type": "\"string\""
        },
        {
         "metadata": "{}",
         "name": "avatar_url",
         "type": "\"string\""
        },
        {
         "metadata": "{}",
         "name": "description",
         "type": "\"string\""
        }
       ],
       "type": "table"
      }
     },
     "output_type": "display_data"
    }
   ],
   "source": [
    "display(spark_df)"
   ]
  },
  {
   "cell_type": "code",
   "execution_count": 0,
   "metadata": {
    "application/vnd.databricks.v1+cell": {
     "cellMetadata": {
      "byteLimit": 2048000,
      "rowLimit": 10000
     },
     "inputWidgets": {},
     "nuid": "4f37649d-5b0b-45fd-86ec-b3b43dbc5bac",
     "showTitle": false,
     "title": ""
    }
   },
   "outputs": [],
   "source": [
    "spark_df.write.format(\"json\").save('dbfs:/FileStore/tables/restapi.json')"
   ]
  },
  {
   "cell_type": "code",
   "execution_count": 0,
   "metadata": {
    "application/vnd.databricks.v1+cell": {
     "cellMetadata": {
      "byteLimit": 2048000,
      "rowLimit": 10000
     },
     "inputWidgets": {},
     "nuid": "5cf5d8ac-f4c8-4279-b174-180c213acd23",
     "showTitle": false,
     "title": ""
    }
   },
   "outputs": [
    {
     "output_type": "display_data",
     "data": {
      "text/html": [
       "<style scoped>\n",
       "  .table-result-container {\n",
       "    max-height: 300px;\n",
       "    overflow: auto;\n",
       "  }\n",
       "  table, th, td {\n",
       "    border: 1px solid black;\n",
       "    border-collapse: collapse;\n",
       "  }\n",
       "  th, td {\n",
       "    padding: 5px;\n",
       "  }\n",
       "  th {\n",
       "    text-align: left;\n",
       "  }\n",
       "</style><div class='table-result-container'><table class='table-result'><thead style='background-color: white'><tr><th>path</th><th>name</th><th>size</th><th>modificationTime</th></tr></thead><tbody><tr><td>dbfs:/FileStore/tables/Book-1.csv</td><td>Book-1.csv</td><td>83</td><td>1715692755000</td></tr><tr><td>dbfs:/FileStore/tables/Book.csv</td><td>Book.csv</td><td>81</td><td>1715692059000</td></tr><tr><td>dbfs:/FileStore/tables/Book1-1.xlsx</td><td>Book1-1.xlsx</td><td>10465</td><td>1714557239000</td></tr><tr><td>dbfs:/FileStore/tables/Book1.xlsx</td><td>Book1.xlsx</td><td>10465</td><td>1714556901000</td></tr><tr><td>dbfs:/FileStore/tables/azure_data_engineering_questions-1.txt</td><td>azure_data_engineering_questions-1.txt</td><td>574</td><td>1715704624000</td></tr><tr><td>dbfs:/FileStore/tables/azure_data_engineering_questions.txt</td><td>azure_data_engineering_questions.txt</td><td>574</td><td>1715254051000</td></tr><tr><td>dbfs:/FileStore/tables/json.txt</td><td>json.txt</td><td>191</td><td>1715613058000</td></tr><tr><td>dbfs:/FileStore/tables/json_csv.xlsx</td><td>json_csv.xlsx</td><td>8824</td><td>1715613854000</td></tr><tr><td>dbfs:/FileStore/tables/mart_in_json.json</td><td>mart_in_json.json</td><td>818</td><td>1717074694000</td></tr><tr><td>dbfs:/FileStore/tables/multilinejson.csv</td><td>multilinejson.csv</td><td>216</td><td>1715613980000</td></tr><tr><td>dbfs:/FileStore/tables/real_estate.txt</td><td>real_estate.txt</td><td>1043</td><td>1715356425000</td></tr><tr><td>dbfs:/FileStore/tables/regularExpression.txt</td><td>regularExpression.txt</td><td>117</td><td>1715533192000</td></tr><tr><td>dbfs:/FileStore/tables/spark_performance_improvement.txt</td><td>spark_performance_improvement.txt</td><td>661</td><td>1715255948000</td></tr><tr><td>dbfs:/FileStore/tables/testfile.txt</td><td>testfile.txt</td><td>72</td><td>1715529079000</td></tr></tbody></table></div>"
      ]
     },
     "metadata": {
      "application/vnd.databricks.v1+output": {
       "addedWidgets": {},
       "aggData": [],
       "aggError": "",
       "aggOverflow": false,
       "aggSchema": [],
       "aggSeriesLimitReached": false,
       "aggType": "",
       "arguments": {},
       "columnCustomDisplayInfos": {},
       "data": [
        [
         "dbfs:/FileStore/tables/Book-1.csv",
         "Book-1.csv",
         83,
         1715692755000
        ],
        [
         "dbfs:/FileStore/tables/Book.csv",
         "Book.csv",
         81,
         1715692059000
        ],
        [
         "dbfs:/FileStore/tables/Book1-1.xlsx",
         "Book1-1.xlsx",
         10465,
         1714557239000
        ],
        [
         "dbfs:/FileStore/tables/Book1.xlsx",
         "Book1.xlsx",
         10465,
         1714556901000
        ],
        [
         "dbfs:/FileStore/tables/azure_data_engineering_questions-1.txt",
         "azure_data_engineering_questions-1.txt",
         574,
         1715704624000
        ],
        [
         "dbfs:/FileStore/tables/azure_data_engineering_questions.txt",
         "azure_data_engineering_questions.txt",
         574,
         1715254051000
        ],
        [
         "dbfs:/FileStore/tables/json.txt",
         "json.txt",
         191,
         1715613058000
        ],
        [
         "dbfs:/FileStore/tables/json_csv.xlsx",
         "json_csv.xlsx",
         8824,
         1715613854000
        ],
        [
         "dbfs:/FileStore/tables/mart_in_json.json",
         "mart_in_json.json",
         818,
         1717074694000
        ],
        [
         "dbfs:/FileStore/tables/multilinejson.csv",
         "multilinejson.csv",
         216,
         1715613980000
        ],
        [
         "dbfs:/FileStore/tables/real_estate.txt",
         "real_estate.txt",
         1043,
         1715356425000
        ],
        [
         "dbfs:/FileStore/tables/regularExpression.txt",
         "regularExpression.txt",
         117,
         1715533192000
        ],
        [
         "dbfs:/FileStore/tables/spark_performance_improvement.txt",
         "spark_performance_improvement.txt",
         661,
         1715255948000
        ],
        [
         "dbfs:/FileStore/tables/testfile.txt",
         "testfile.txt",
         72,
         1715529079000
        ]
       ],
       "datasetInfos": [],
       "dbfsResultPath": null,
       "isJsonSchema": true,
       "metadata": {},
       "overflow": false,
       "plotOptions": {
        "customPlotOptions": {},
        "displayType": "table",
        "pivotAggregation": null,
        "pivotColumns": null,
        "xColumns": null,
        "yColumns": null
       },
       "removedWidgets": [],
       "schema": [
        {
         "metadata": "{}",
         "name": "path",
         "type": "\"string\""
        },
        {
         "metadata": "{}",
         "name": "name",
         "type": "\"string\""
        },
        {
         "metadata": "{}",
         "name": "size",
         "type": "\"long\""
        },
        {
         "metadata": "{}",
         "name": "modificationTime",
         "type": "\"long\""
        }
       ],
       "type": "table"
      }
     },
     "output_type": "display_data"
    }
   ],
   "source": [
    "display(dbutils.fs.ls('/FileStore/tables'))"
   ]
  },
  {
   "cell_type": "code",
   "execution_count": 0,
   "metadata": {
    "application/vnd.databricks.v1+cell": {
     "cellMetadata": {
      "byteLimit": 2048000,
      "rowLimit": 10000
     },
     "inputWidgets": {},
     "nuid": "f8bfffe3-9213-49cb-bbe6-895672ba2066",
     "showTitle": false,
     "title": ""
    }
   },
   "outputs": [
    {
     "output_type": "display_data",
     "data": {
      "text/plain": [
       "\u001B[0;31m---------------------------------------------------------------------------\u001B[0m\n",
       "\u001B[0;31mFileNotFoundError\u001B[0m                         Traceback (most recent call last)\n",
       "File \u001B[0;32m<command-3965839479273133>:16\u001B[0m\n",
       "\u001B[1;32m     13\u001B[0m dbfs_path \u001B[38;5;241m=\u001B[39m \u001B[38;5;124m'\u001B[39m\u001B[38;5;124mFileStore/tables/restapi1.json\u001B[39m\u001B[38;5;124m'\u001B[39m\n",
       "\u001B[1;32m     15\u001B[0m \u001B[38;5;66;03m# Write the JSON string to a text file in DBFS\u001B[39;00m\n",
       "\u001B[0;32m---> 16\u001B[0m \u001B[38;5;28;01mwith\u001B[39;00m \u001B[38;5;28mopen\u001B[39m(dbfs_path, \u001B[38;5;124m'\u001B[39m\u001B[38;5;124mw\u001B[39m\u001B[38;5;124m'\u001B[39m) \u001B[38;5;28;01mas\u001B[39;00m file:\n",
       "\u001B[1;32m     17\u001B[0m     file\u001B[38;5;241m.\u001B[39mwrite(json_string)\n",
       "\u001B[1;32m     19\u001B[0m \u001B[38;5;28mprint\u001B[39m(\u001B[38;5;124mf\u001B[39m\u001B[38;5;124m\"\u001B[39m\u001B[38;5;124mData has been written to \u001B[39m\u001B[38;5;132;01m{\u001B[39;00mdbfs_path\u001B[38;5;132;01m}\u001B[39;00m\u001B[38;5;124m\"\u001B[39m)\n",
       "\n",
       "\u001B[0;31mFileNotFoundError\u001B[0m: [Errno 2] No such file or directory: 'FileStore/tables/restapi1.json'"
      ]
     },
     "metadata": {
      "application/vnd.databricks.v1+output": {
       "arguments": {},
       "data": "\u001B[0;31m---------------------------------------------------------------------------\u001B[0m\n\u001B[0;31mFileNotFoundError\u001B[0m                         Traceback (most recent call last)\nFile \u001B[0;32m<command-3965839479273133>:16\u001B[0m\n\u001B[1;32m     13\u001B[0m dbfs_path \u001B[38;5;241m=\u001B[39m \u001B[38;5;124m'\u001B[39m\u001B[38;5;124mFileStore/tables/restapi1.json\u001B[39m\u001B[38;5;124m'\u001B[39m\n\u001B[1;32m     15\u001B[0m \u001B[38;5;66;03m# Write the JSON string to a text file in DBFS\u001B[39;00m\n\u001B[0;32m---> 16\u001B[0m \u001B[38;5;28;01mwith\u001B[39;00m \u001B[38;5;28mopen\u001B[39m(dbfs_path, \u001B[38;5;124m'\u001B[39m\u001B[38;5;124mw\u001B[39m\u001B[38;5;124m'\u001B[39m) \u001B[38;5;28;01mas\u001B[39;00m file:\n\u001B[1;32m     17\u001B[0m     file\u001B[38;5;241m.\u001B[39mwrite(json_string)\n\u001B[1;32m     19\u001B[0m \u001B[38;5;28mprint\u001B[39m(\u001B[38;5;124mf\u001B[39m\u001B[38;5;124m\"\u001B[39m\u001B[38;5;124mData has been written to \u001B[39m\u001B[38;5;132;01m{\u001B[39;00mdbfs_path\u001B[38;5;132;01m}\u001B[39;00m\u001B[38;5;124m\"\u001B[39m)\n\n\u001B[0;31mFileNotFoundError\u001B[0m: [Errno 2] No such file or directory: 'FileStore/tables/restapi1.json'",
       "errorSummary": "<span class='ansi-red-fg'>FileNotFoundError</span>: [Errno 2] No such file or directory: 'FileStore/tables/restapi1.json'",
       "errorTraceType": "ansi",
       "metadata": {},
       "type": "ipynbError"
      }
     },
     "output_type": "display_data"
    }
   ],
   "source": [
    "import requests\n",
    "import json\n",
    "\n",
    "# Fetch JSON data from the API\n",
    "response = requests.get('https://api.github.com/users/hadley/orgs')\n",
    "response.raise_for_status()  # Raise an HTTPError if the HTTP request returned an unsuccessful status code.\n",
    "json_data = response.json()\n",
    "\n",
    "# Convert JSON data to a formatted string\n",
    "json_string = json.dumps(json_data, indent=4)\n",
    "\n",
    "# Define the DBFS path where you want to save the text file\n",
    "dbfs_path = 'FileStore/tables/restapi1.json'\n",
    "\n",
    "# Write the JSON string to a text file in DBFS\n",
    "with open(dbfs_path, 'w') as file:\n",
    "    file.write(json_string)\n",
    "\n",
    "print(f\"Data has been written to {dbfs_path}\")\n"
   ]
  }
 ],
 "metadata": {
  "application/vnd.databricks.v1+notebook": {
   "dashboards": [],
   "environmentMetadata": null,
   "language": "python",
   "notebookMetadata": {
    "pythonIndentUnit": 4
   },
   "notebookName": "how to read the data from rest API",
   "widgets": {}
  }
 },
 "nbformat": 4,
 "nbformat_minor": 0
}
