{
 "cells": [
  {
   "cell_type": "code",
   "execution_count": 0,
   "metadata": {
    "application/vnd.databricks.v1+cell": {
     "cellMetadata": {
      "byteLimit": 2048000,
      "rowLimit": 10000
     },
     "inputWidgets": {},
     "nuid": "25e63cca-ef2e-47b2-96f1-c242148a39e7",
     "showTitle": false,
     "title": ""
    }
   },
   "outputs": [],
   "source": [
    "rdd=sc.parallelize(range(10),4)"
   ]
  },
  {
   "cell_type": "code",
   "execution_count": 0,
   "metadata": {
    "application/vnd.databricks.v1+cell": {
     "cellMetadata": {
      "byteLimit": 2048000,
      "rowLimit": 10000
     },
     "inputWidgets": {},
     "nuid": "c7eb2c70-0ad9-425d-b822-613c19df4dad",
     "showTitle": false,
     "title": ""
    }
   },
   "outputs": [],
   "source": [
    "rdd.glom().collect()\n",
    "rdd1=rdd.coalesce(2)\n",
    "rdd2=rdd.repartition(2)"
   ]
  },
  {
   "cell_type": "code",
   "execution_count": 0,
   "metadata": {
    "application/vnd.databricks.v1+cell": {
     "cellMetadata": {
      "byteLimit": 2048000,
      "rowLimit": 10000
     },
     "inputWidgets": {},
     "nuid": "e2010b98-aaec-4be0-997f-56c2248e9add",
     "showTitle": false,
     "title": ""
    }
   },
   "outputs": [
    {
     "output_type": "stream",
     "name": "stdout",
     "output_type": "stream",
     "text": [
      "original rdd : [[0, 1], [2, 3, 4], [5, 6], [7, 8, 9]]\ncoalesce rdd : [[0, 1, 2, 3, 4], [5, 6, 7, 8, 9]]\nrepartition rdd : [[5, 6, 7, 8, 9], [0, 1, 2, 3, 4]]\n"
     ]
    }
   ],
   "source": [
    "print('original rdd :' ,rdd.glom().collect() )\n",
    "print('coalesce rdd :', rdd1.glom().collect() )\n",
    "print('repartition rdd :', rdd2.glom().collect() )"
   ]
  },
  {
   "cell_type": "code",
   "execution_count": 0,
   "metadata": {
    "application/vnd.databricks.v1+cell": {
     "cellMetadata": {
      "byteLimit": 2048000,
      "rowLimit": 10000
     },
     "inputWidgets": {},
     "nuid": "442e717e-46ac-4a68-974c-36f066b6109e",
     "showTitle": false,
     "title": ""
    }
   },
   "outputs": [],
   "source": [
    "rdd.glom().collect()\n",
    "# we can also increase the number of partitons using coalesce as well\n",
    "rdd1=rdd.coalesce(6,True)\n",
    "rdd2=rdd.repartition(6)"
   ]
  },
  {
   "cell_type": "code",
   "execution_count": 0,
   "metadata": {
    "application/vnd.databricks.v1+cell": {
     "cellMetadata": {
      "byteLimit": 2048000,
      "rowLimit": 10000
     },
     "inputWidgets": {},
     "nuid": "ffc8d08d-1cfa-4a4d-90ab-2c9ac3a4a62c",
     "showTitle": false,
     "title": ""
    }
   },
   "outputs": [
    {
     "output_type": "stream",
     "name": "stdout",
     "output_type": "stream",
     "text": [
      "original rdd : [[0, 1], [2, 3, 4], [5, 6], [7, 8, 9]]\ncoalesce rdd : [[7, 8, 9], [], [], [0, 1], [2, 3, 4], [5, 6]]\nrepartition rdd : [[7, 8, 9], [], [], [0, 1], [2, 3, 4], [5, 6]]\n"
     ]
    }
   ],
   "source": [
    "print('original rdd :' ,rdd.glom().collect() )\n",
    "print('coalesce rdd :', rdd1.glom().collect() )\n",
    "print('repartition rdd :', rdd2.glom().collect() )"
   ]
  }
 ],
 "metadata": {
  "application/vnd.databricks.v1+notebook": {
   "dashboards": [],
   "environmentMetadata": null,
   "language": "python",
   "notebookMetadata": {
    "pythonIndentUnit": 4
   },
   "notebookName": "repartiton vs coaleasce",
   "widgets": {}
  }
 },
 "nbformat": 4,
 "nbformat_minor": 0
}
