{
 "cells": [
  {
   "cell_type": "code",
   "execution_count": 0,
   "metadata": {
    "application/vnd.databricks.v1+cell": {
     "cellMetadata": {
      "byteLimit": 2048000,
      "rowLimit": 10000
     },
     "inputWidgets": {},
     "nuid": "32c44c32-2dff-4cc4-b6bf-f1ad08f6c55c",
     "showTitle": false,
     "title": ""
    }
   },
   "outputs": [
    {
     "output_type": "display_data",
     "data": {
      "text/html": [
       "<style scoped>\n",
       "  .table-result-container {\n",
       "    max-height: 300px;\n",
       "    overflow: auto;\n",
       "  }\n",
       "  table, th, td {\n",
       "    border: 1px solid black;\n",
       "    border-collapse: collapse;\n",
       "  }\n",
       "  th, td {\n",
       "    padding: 5px;\n",
       "  }\n",
       "  th {\n",
       "    text-align: left;\n",
       "  }\n",
       "</style><div class='table-result-container'><table class='table-result'><thead style='background-color: white'><tr><th>path</th><th>name</th><th>size</th><th>modificationTime</th></tr></thead><tbody><tr><td>dbfs:/FileStore/tables/Book-1.csv</td><td>Book-1.csv</td><td>83</td><td>1715692755000</td></tr><tr><td>dbfs:/FileStore/tables/Book.csv</td><td>Book.csv</td><td>81</td><td>1715692059000</td></tr><tr><td>dbfs:/FileStore/tables/Book1-1.xlsx</td><td>Book1-1.xlsx</td><td>10465</td><td>1714557239000</td></tr><tr><td>dbfs:/FileStore/tables/Book1.xlsx</td><td>Book1.xlsx</td><td>10465</td><td>1714556901000</td></tr><tr><td>dbfs:/FileStore/tables/azure_data_engineering_questions-1.txt</td><td>azure_data_engineering_questions-1.txt</td><td>574</td><td>1715704624000</td></tr><tr><td>dbfs:/FileStore/tables/azure_data_engineering_questions.txt</td><td>azure_data_engineering_questions.txt</td><td>574</td><td>1715254051000</td></tr><tr><td>dbfs:/FileStore/tables/json.txt</td><td>json.txt</td><td>191</td><td>1715613058000</td></tr><tr><td>dbfs:/FileStore/tables/json_csv.xlsx</td><td>json_csv.xlsx</td><td>8824</td><td>1715613854000</td></tr><tr><td>dbfs:/FileStore/tables/mart_in_json.json</td><td>mart_in_json.json</td><td>818</td><td>1717074694000</td></tr><tr><td>dbfs:/FileStore/tables/multilinejson.csv</td><td>multilinejson.csv</td><td>216</td><td>1715613980000</td></tr><tr><td>dbfs:/FileStore/tables/real_estate.txt</td><td>real_estate.txt</td><td>1043</td><td>1715356425000</td></tr><tr><td>dbfs:/FileStore/tables/regularExpression.txt</td><td>regularExpression.txt</td><td>117</td><td>1715533192000</td></tr><tr><td>dbfs:/FileStore/tables/spark_performance_improvement.txt</td><td>spark_performance_improvement.txt</td><td>661</td><td>1715255948000</td></tr><tr><td>dbfs:/FileStore/tables/testfile.txt</td><td>testfile.txt</td><td>72</td><td>1715529079000</td></tr></tbody></table></div>"
      ]
     },
     "metadata": {
      "application/vnd.databricks.v1+output": {
       "addedWidgets": {},
       "aggData": [],
       "aggError": "",
       "aggOverflow": false,
       "aggSchema": [],
       "aggSeriesLimitReached": false,
       "aggType": "",
       "arguments": {},
       "columnCustomDisplayInfos": {},
       "data": [
        [
         "dbfs:/FileStore/tables/Book-1.csv",
         "Book-1.csv",
         83,
         1715692755000
        ],
        [
         "dbfs:/FileStore/tables/Book.csv",
         "Book.csv",
         81,
         1715692059000
        ],
        [
         "dbfs:/FileStore/tables/Book1-1.xlsx",
         "Book1-1.xlsx",
         10465,
         1714557239000
        ],
        [
         "dbfs:/FileStore/tables/Book1.xlsx",
         "Book1.xlsx",
         10465,
         1714556901000
        ],
        [
         "dbfs:/FileStore/tables/azure_data_engineering_questions-1.txt",
         "azure_data_engineering_questions-1.txt",
         574,
         1715704624000
        ],
        [
         "dbfs:/FileStore/tables/azure_data_engineering_questions.txt",
         "azure_data_engineering_questions.txt",
         574,
         1715254051000
        ],
        [
         "dbfs:/FileStore/tables/json.txt",
         "json.txt",
         191,
         1715613058000
        ],
        [
         "dbfs:/FileStore/tables/json_csv.xlsx",
         "json_csv.xlsx",
         8824,
         1715613854000
        ],
        [
         "dbfs:/FileStore/tables/mart_in_json.json",
         "mart_in_json.json",
         818,
         1717074694000
        ],
        [
         "dbfs:/FileStore/tables/multilinejson.csv",
         "multilinejson.csv",
         216,
         1715613980000
        ],
        [
         "dbfs:/FileStore/tables/real_estate.txt",
         "real_estate.txt",
         1043,
         1715356425000
        ],
        [
         "dbfs:/FileStore/tables/regularExpression.txt",
         "regularExpression.txt",
         117,
         1715533192000
        ],
        [
         "dbfs:/FileStore/tables/spark_performance_improvement.txt",
         "spark_performance_improvement.txt",
         661,
         1715255948000
        ],
        [
         "dbfs:/FileStore/tables/testfile.txt",
         "testfile.txt",
         72,
         1715529079000
        ]
       ],
       "datasetInfos": [],
       "dbfsResultPath": null,
       "isJsonSchema": true,
       "metadata": {},
       "overflow": false,
       "plotOptions": {
        "customPlotOptions": {},
        "displayType": "table",
        "pivotAggregation": null,
        "pivotColumns": null,
        "xColumns": null,
        "yColumns": null
       },
       "removedWidgets": [],
       "schema": [
        {
         "metadata": "{}",
         "name": "path",
         "type": "\"string\""
        },
        {
         "metadata": "{}",
         "name": "name",
         "type": "\"string\""
        },
        {
         "metadata": "{}",
         "name": "size",
         "type": "\"long\""
        },
        {
         "metadata": "{}",
         "name": "modificationTime",
         "type": "\"long\""
        }
       ],
       "type": "table"
      }
     },
     "output_type": "display_data"
    }
   ],
   "source": [
    "display(dbutils.fs.ls(\"/FileStore/tables\"))"
   ]
  },
  {
   "cell_type": "code",
   "execution_count": 0,
   "metadata": {
    "application/vnd.databricks.v1+cell": {
     "cellMetadata": {
      "byteLimit": 2048000,
      "rowLimit": 10000
     },
     "inputWidgets": {},
     "nuid": "577bcefe-4d91-4d93-bb89-2c23d583d44a",
     "showTitle": false,
     "title": ""
    }
   },
   "outputs": [
    {
     "output_type": "stream",
     "name": "stdout",
     "output_type": "stream",
     "text": [
      "root\n |-- Appliance: struct (nullable = true)\n |    |-- item: string (nullable = true)\n |    |-- rate: double (nullable = true)\n |-- Area: string (nullable = true)\n |-- Month: long (nullable = true)\n |-- Stationary: struct (nullable = true)\n |    |-- item: string (nullable = true)\n |    |-- rate: double (nullable = true)\n |-- Type: string (nullable = true)\n |-- Vegetable: struct (nullable = true)\n |    |-- item: string (nullable = true)\n |    |-- rate: double (nullable = true)\n |-- fruits: struct (nullable = true)\n |    |-- item: string (nullable = true)\n |    |-- rate: double (nullable = true)\n |-- year: long (nullable = true)\n\n"
     ]
    }
   ],
   "source": [
    "df_json=spark.read.option(\"Multiline\", True).json(\"/FileStore/tables/mart_in_json.json\")\n",
    "df_json.printSchema()"
   ]
  },
  {
   "cell_type": "code",
   "execution_count": 0,
   "metadata": {
    "application/vnd.databricks.v1+cell": {
     "cellMetadata": {
      "byteLimit": 2048000,
      "rowLimit": 10000
     },
     "inputWidgets": {},
     "nuid": "75688595-c74b-4b37-83d9-63a1c1553ee2",
     "showTitle": false,
     "title": ""
    }
   },
   "outputs": [
    {
     "output_type": "stream",
     "name": "stdout",
     "output_type": "stream",
     "text": [
      "['item', 'rate']\n"
     ]
    }
   ],
   "source": [
    "#Solution add a new struct column \n",
    "\n",
    "#import struct function\n",
    "from pyspark.sql.functions import *\n",
    "\n",
    "#Get Existing Struct Schema of fruits from dataframe\n",
    "s_fields = df_json.schema[\"fruits\"].dataType.names\n",
    "print(s_fields)\n",
    "\n",
    "df2 = (\n",
    "    df_json.withColumn(\n",
    "        \"fruits\",\n",
    "        struct(\n",
    "            *(\n",
    "                [col('fruits')[c].alias(c) for c in s_fields]\n",
    "                + [lit(10).alias('discount')]\n",
    "            )\n",
    "        )\n",
    "    )\n",
    ")\n",
    "\n"
   ]
  },
  {
   "cell_type": "code",
   "execution_count": 0,
   "metadata": {
    "application/vnd.databricks.v1+cell": {
     "cellMetadata": {
      "byteLimit": 2048000,
      "rowLimit": 10000
     },
     "inputWidgets": {},
     "nuid": "ce9a5ca4-dc05-4f31-8512-85c606937ba6",
     "showTitle": false,
     "title": ""
    }
   },
   "outputs": [
    {
     "output_type": "stream",
     "name": "stdout",
     "output_type": "stream",
     "text": [
      "['item', 'rate']\n"
     ]
    }
   ],
   "source": [
    "s_vegetable=df_json.schema['Vegetable'].dataType.names\n",
    "print(s_vegetable)\n"
   ]
  },
  {
   "cell_type": "code",
   "execution_count": 0,
   "metadata": {
    "application/vnd.databricks.v1+cell": {
     "cellMetadata": {
      "byteLimit": 2048000,
      "rowLimit": 10000
     },
     "inputWidgets": {},
     "nuid": "f14fa9e4-1081-4b8a-8779-86dc26f972fd",
     "showTitle": false,
     "title": ""
    }
   },
   "outputs": [
    {
     "output_type": "display_data",
     "data": {
      "text/html": [
       "<style scoped>\n",
       "  .table-result-container {\n",
       "    max-height: 300px;\n",
       "    overflow: auto;\n",
       "  }\n",
       "  table, th, td {\n",
       "    border: 1px solid black;\n",
       "    border-collapse: collapse;\n",
       "  }\n",
       "  th, td {\n",
       "    padding: 5px;\n",
       "  }\n",
       "  th {\n",
       "    text-align: left;\n",
       "  }\n",
       "</style><div class='table-result-container'><table class='table-result'><thead style='background-color: white'><tr><th>Appliance</th><th>Area</th><th>Month</th><th>Stationary</th><th>Type</th><th>Vegetable</th><th>fruits</th><th>year</th></tr></thead><tbody><tr><td>List(Mixer, 113.2)</td><td>CHN004</td><td>5</td><td>List(Pencil, 3.1)</td><td>Retail Super Market</td><td>List(tomato, 5.25, 10)</td><td>List(apple, 10.25, 10)</td><td>2022</td></tr><tr><td>List(Mixer, 103.9)</td><td>DLN004</td><td>5</td><td>List(Pencil, 4.1)</td><td>Retail Super Market</td><td>List(tomato, 9.25, 10)</td><td>List(apple, 12.15, 10)</td><td>2022</td></tr><tr><td>List(Mixer, 117.7)</td><td>MUM011</td><td>5</td><td>List(Pencil, 3.7)</td><td>Retail Super Market</td><td>List(tomato, 5.1, 10)</td><td>List(apple, 9.5, 10)</td><td>2022</td></tr></tbody></table></div>"
      ]
     },
     "metadata": {
      "application/vnd.databricks.v1+output": {
       "addedWidgets": {},
       "aggData": [],
       "aggError": "",
       "aggOverflow": false,
       "aggSchema": [],
       "aggSeriesLimitReached": false,
       "aggType": "",
       "arguments": {},
       "columnCustomDisplayInfos": {},
       "data": [
        [
         [
          "Mixer",
          113.2
         ],
         "CHN004",
         5,
         [
          "Pencil",
          3.1
         ],
         "Retail Super Market",
         [
          "tomato",
          5.25,
          10
         ],
         [
          "apple",
          10.25,
          10
         ],
         2022
        ],
        [
         [
          "Mixer",
          103.9
         ],
         "DLN004",
         5,
         [
          "Pencil",
          4.1
         ],
         "Retail Super Market",
         [
          "tomato",
          9.25,
          10
         ],
         [
          "apple",
          12.15,
          10
         ],
         2022
        ],
        [
         [
          "Mixer",
          117.7
         ],
         "MUM011",
         5,
         [
          "Pencil",
          3.7
         ],
         "Retail Super Market",
         [
          "tomato",
          5.1,
          10
         ],
         [
          "apple",
          9.5,
          10
         ],
         2022
        ]
       ],
       "datasetInfos": [],
       "dbfsResultPath": null,
       "isJsonSchema": true,
       "metadata": {},
       "overflow": false,
       "plotOptions": {
        "customPlotOptions": {},
        "displayType": "table",
        "pivotAggregation": null,
        "pivotColumns": null,
        "xColumns": null,
        "yColumns": null
       },
       "removedWidgets": [],
       "schema": [
        {
         "metadata": "{}",
         "name": "Appliance",
         "type": "{\"type\":\"struct\",\"fields\":[{\"name\":\"item\",\"type\":\"string\",\"nullable\":true,\"metadata\":{}},{\"name\":\"rate\",\"type\":\"double\",\"nullable\":true,\"metadata\":{}}]}"
        },
        {
         "metadata": "{}",
         "name": "Area",
         "type": "\"string\""
        },
        {
         "metadata": "{}",
         "name": "Month",
         "type": "\"long\""
        },
        {
         "metadata": "{}",
         "name": "Stationary",
         "type": "{\"type\":\"struct\",\"fields\":[{\"name\":\"item\",\"type\":\"string\",\"nullable\":true,\"metadata\":{}},{\"name\":\"rate\",\"type\":\"double\",\"nullable\":true,\"metadata\":{}}]}"
        },
        {
         "metadata": "{}",
         "name": "Type",
         "type": "\"string\""
        },
        {
         "metadata": "{}",
         "name": "Vegetable",
         "type": "{\"type\":\"struct\",\"fields\":[{\"name\":\"item\",\"type\":\"string\",\"nullable\":true,\"metadata\":{}},{\"name\":\"rate\",\"type\":\"double\",\"nullable\":true,\"metadata\":{}},{\"name\":\"discount\",\"type\":\"integer\",\"nullable\":false,\"metadata\":{}}]}"
        },
        {
         "metadata": "{}",
         "name": "fruits",
         "type": "{\"type\":\"struct\",\"fields\":[{\"name\":\"item\",\"type\":\"string\",\"nullable\":true,\"metadata\":{}},{\"name\":\"rate\",\"type\":\"double\",\"nullable\":true,\"metadata\":{}},{\"name\":\"discount\",\"type\":\"integer\",\"nullable\":false,\"metadata\":{}}]}"
        },
        {
         "metadata": "{}",
         "name": "year",
         "type": "\"long\""
        }
       ],
       "type": "table"
      }
     },
     "output_type": "display_data"
    }
   ],
   "source": [
    "df_veg=df2.withColumn(\"Vegetable\",struct(*[col('Vegetable')[c] for c in s_vegetable] + [lit(10).alias('discount')]\n",
    "\n",
    "))\n",
    "display(df_veg)"
   ]
  },
  {
   "cell_type": "code",
   "execution_count": 0,
   "metadata": {
    "application/vnd.databricks.v1+cell": {
     "cellMetadata": {
      "byteLimit": 2048000,
      "rowLimit": 10000
     },
     "inputWidgets": {},
     "nuid": "0cae4765-3615-46e4-aebc-f444f9faacfc",
     "showTitle": false,
     "title": ""
    }
   },
   "outputs": [
    {
     "output_type": "display_data",
     "data": {
      "text/plain": [
       "\u001B[0;31m---------------------------------------------------------------------------\u001B[0m\n",
       "\u001B[0;31mNameError\u001B[0m                                 Traceback (most recent call last)\n",
       "File \u001B[0;32m<command-2448447228025846>:2\u001B[0m\n",
       "\u001B[1;32m      1\u001B[0m \u001B[38;5;66;03m#get the existing schema\u001B[39;00m\n",
       "\u001B[0;32m----> 2\u001B[0m s_fields \u001B[38;5;241m=\u001B[39m df1\u001B[38;5;241m.\u001B[39mschema[\u001B[38;5;124m\"\u001B[39m\u001B[38;5;124mVegetable\u001B[39m\u001B[38;5;124m\"\u001B[39m]\u001B[38;5;241m.\u001B[39mdataType\u001B[38;5;241m.\u001B[39mnames\n",
       "\u001B[1;32m      4\u001B[0m \u001B[38;5;66;03m#Remove the column from the list \u001B[39;00m\n",
       "\u001B[1;32m      5\u001B[0m s_fields\u001B[38;5;241m.\u001B[39mremove(\u001B[38;5;124m\"\u001B[39m\u001B[38;5;124mrate\u001B[39m\u001B[38;5;124m\"\u001B[39m)\n",
       "\n",
       "\u001B[0;31mNameError\u001B[0m: name 'df1' is not defined"
      ]
     },
     "metadata": {
      "application/vnd.databricks.v1+output": {
       "arguments": {},
       "data": "\u001B[0;31m---------------------------------------------------------------------------\u001B[0m\n\u001B[0;31mNameError\u001B[0m                                 Traceback (most recent call last)\nFile \u001B[0;32m<command-2448447228025846>:2\u001B[0m\n\u001B[1;32m      1\u001B[0m \u001B[38;5;66;03m#get the existing schema\u001B[39;00m\n\u001B[0;32m----> 2\u001B[0m s_fields \u001B[38;5;241m=\u001B[39m df1\u001B[38;5;241m.\u001B[39mschema[\u001B[38;5;124m\"\u001B[39m\u001B[38;5;124mVegetable\u001B[39m\u001B[38;5;124m\"\u001B[39m]\u001B[38;5;241m.\u001B[39mdataType\u001B[38;5;241m.\u001B[39mnames\n\u001B[1;32m      4\u001B[0m \u001B[38;5;66;03m#Remove the column from the list \u001B[39;00m\n\u001B[1;32m      5\u001B[0m s_fields\u001B[38;5;241m.\u001B[39mremove(\u001B[38;5;124m\"\u001B[39m\u001B[38;5;124mrate\u001B[39m\u001B[38;5;124m\"\u001B[39m)\n\n\u001B[0;31mNameError\u001B[0m: name 'df1' is not defined",
       "errorSummary": "<span class='ansi-red-fg'>NameError</span>: name 'df1' is not defined",
       "errorTraceType": "ansi",
       "metadata": {},
       "type": "ipynbError"
      }
     },
     "output_type": "display_data"
    }
   ],
   "source": [
    "#get the existing schema\n",
    "s_fields = df1.schema[\"Vegetable\"].dataType.names\n",
    "\n",
    "#Remove the column from the list \n",
    "s_fields.remove(\"rate\")\n",
    "\n",
    "#define the column with removed schema\n",
    "df3=df2.withColumn(\"Vegetable\",struct(*([col('Vegetable')[c].alias(c) for c in s_fields])))\n",
    "\n",
    "#New dataframe\n",
    "df3.printSchema()"
   ]
  },
  {
   "cell_type": "code",
   "execution_count": 0,
   "metadata": {
    "application/vnd.databricks.v1+cell": {
     "cellMetadata": {},
     "inputWidgets": {},
     "nuid": "a7a7132e-b060-4ef7-979c-dd96dd756825",
     "showTitle": false,
     "title": ""
    }
   },
   "outputs": [],
   "source": [
    "# cast columns inside struct field\n",
    "#Get the schema\n",
    "s_fields = df1.schema[\"Stationary\"].dataType.names\n",
    "s_fields.remove(\"rate\")\n",
    "\n",
    "\n",
    "#cast Rate column as string\n",
    "df4=(\n",
    "  df3.withColumn(\"Stationary\",\n",
    "                 struct(*([col('Stationary')[c].alias(c) for c in s_fields] + \n",
    "                          [col('Stationary')['rate'].cast('string').alias('rate')]))\n",
    "                )\n",
    ")\n",
    "\n",
    "#print Schema\n",
    "df4.printSchema()"
   ]
  },
  {
   "cell_type": "code",
   "execution_count": 0,
   "metadata": {
    "application/vnd.databricks.v1+cell": {
     "cellMetadata": {
      "byteLimit": 2048000,
      "rowLimit": 10000
     },
     "inputWidgets": {},
     "nuid": "e193758e-a5c0-4718-96a0-4581a8ceda6c",
     "showTitle": false,
     "title": ""
    }
   },
   "outputs": [
    {
     "output_type": "display_data",
     "data": {
      "text/html": [
       "<style scoped>\n",
       "  .table-result-container {\n",
       "    max-height: 300px;\n",
       "    overflow: auto;\n",
       "  }\n",
       "  table, th, td {\n",
       "    border: 1px solid black;\n",
       "    border-collapse: collapse;\n",
       "  }\n",
       "  th, td {\n",
       "    padding: 5px;\n",
       "  }\n",
       "  th {\n",
       "    text-align: left;\n",
       "  }\n",
       "</style><div class='table-result-container'><table class='table-result'><thead style='background-color: white'><tr><th>Appliance</th><th>Area</th><th>Month</th><th>Stationary</th><th>Type</th><th>Vegetable</th><th>fruits</th><th>year</th></tr></thead><tbody><tr><td>List(Mixer, 113.2)</td><td>CHN004</td><td>5</td><td>List(Pencil, 3.1)</td><td>Retail Super Market</td><td>List(tomato, 5.25, 10)</td><td>List(apple, 10.25, 10)</td><td>2022</td></tr><tr><td>List(Mixer, 103.9)</td><td>DLN004</td><td>5</td><td>List(Pencil, 4.1)</td><td>Retail Super Market</td><td>List(tomato, 9.25, 10)</td><td>List(apple, 12.15, 10)</td><td>2022</td></tr><tr><td>List(Mixer, 117.7)</td><td>MUM011</td><td>5</td><td>List(Pencil, 3.7)</td><td>Retail Super Market</td><td>List(tomato, 5.1, 10)</td><td>List(apple, 9.5, 10)</td><td>2022</td></tr></tbody></table></div>"
      ]
     },
     "metadata": {
      "application/vnd.databricks.v1+output": {
       "addedWidgets": {},
       "aggData": [],
       "aggError": "",
       "aggOverflow": false,
       "aggSchema": [],
       "aggSeriesLimitReached": false,
       "aggType": "",
       "arguments": {},
       "columnCustomDisplayInfos": {},
       "data": [
        [
         [
          "Mixer",
          113.2
         ],
         "CHN004",
         5,
         [
          "Pencil",
          3.1
         ],
         "Retail Super Market",
         [
          "tomato",
          5.25,
          10
         ],
         [
          "apple",
          10.25,
          10
         ],
         2022
        ],
        [
         [
          "Mixer",
          103.9
         ],
         "DLN004",
         5,
         [
          "Pencil",
          4.1
         ],
         "Retail Super Market",
         [
          "tomato",
          9.25,
          10
         ],
         [
          "apple",
          12.15,
          10
         ],
         2022
        ],
        [
         [
          "Mixer",
          117.7
         ],
         "MUM011",
         5,
         [
          "Pencil",
          3.7
         ],
         "Retail Super Market",
         [
          "tomato",
          5.1,
          10
         ],
         [
          "apple",
          9.5,
          10
         ],
         2022
        ]
       ],
       "datasetInfos": [],
       "dbfsResultPath": null,
       "isJsonSchema": true,
       "metadata": {},
       "overflow": false,
       "plotOptions": {
        "customPlotOptions": {},
        "displayType": "table",
        "pivotAggregation": null,
        "pivotColumns": null,
        "xColumns": null,
        "yColumns": null
       },
       "removedWidgets": [],
       "schema": [
        {
         "metadata": "{}",
         "name": "Appliance",
         "type": "{\"type\":\"struct\",\"fields\":[{\"name\":\"item\",\"type\":\"string\",\"nullable\":true,\"metadata\":{}},{\"name\":\"rate\",\"type\":\"double\",\"nullable\":true,\"metadata\":{}}]}"
        },
        {
         "metadata": "{}",
         "name": "Area",
         "type": "\"string\""
        },
        {
         "metadata": "{}",
         "name": "Month",
         "type": "\"long\""
        },
        {
         "metadata": "{}",
         "name": "Stationary",
         "type": "{\"type\":\"struct\",\"fields\":[{\"name\":\"item\",\"type\":\"string\",\"nullable\":true,\"metadata\":{}},{\"name\":\"rate\",\"type\":\"double\",\"nullable\":true,\"metadata\":{}}]}"
        },
        {
         "metadata": "{}",
         "name": "Type",
         "type": "\"string\""
        },
        {
         "metadata": "{}",
         "name": "Vegetable",
         "type": "{\"type\":\"struct\",\"fields\":[{\"name\":\"item\",\"type\":\"string\",\"nullable\":true,\"metadata\":{}},{\"name\":\"rate\",\"type\":\"double\",\"nullable\":true,\"metadata\":{}},{\"name\":\"discount\",\"type\":\"integer\",\"nullable\":false,\"metadata\":{}}]}"
        },
        {
         "metadata": "{}",
         "name": "fruits",
         "type": "{\"type\":\"struct\",\"fields\":[{\"name\":\"item\",\"type\":\"string\",\"nullable\":true,\"metadata\":{}},{\"name\":\"rate\",\"type\":\"double\",\"nullable\":true,\"metadata\":{}},{\"name\":\"discount\",\"type\":\"integer\",\"nullable\":false,\"metadata\":{}}]}"
        },
        {
         "metadata": "{}",
         "name": "year",
         "type": "\"long\""
        }
       ],
       "type": "table"
      }
     },
     "output_type": "display_data"
    }
   ],
   "source": [
    "display(df_veg)"
   ]
  },
  {
   "cell_type": "code",
   "execution_count": 0,
   "metadata": {
    "application/vnd.databricks.v1+cell": {
     "cellMetadata": {
      "byteLimit": 2048000,
      "rowLimit": 10000
     },
     "inputWidgets": {},
     "nuid": "d09c5280-e1bc-4c69-a404-8853242a72c8",
     "showTitle": false,
     "title": ""
    }
   },
   "outputs": [
    {
     "output_type": "stream",
     "name": "stdout",
     "output_type": "stream",
     "text": [
      "+--------------+--------------+------------------+\n|Vegetable_item|Vegetable_rate|Vegetable_discount|\n+--------------+--------------+------------------+\n|tomato        |5.25          |10                |\n|tomato        |9.25          |10                |\n|tomato        |5.1           |10                |\n+--------------+--------------+------------------+\n\n"
     ]
    }
   ],
   "source": [
    "#to cast string\n",
    "df_collist=df_veg.schema['Vegetable'].dataType.names\n",
    "df_cast=df_veg.withColumn('Vegetable',struct(*[col('Vegetable')[c].cast('String').alias(c) for c in df_collist]))\n",
    "# to cast all column to string\n",
    "df_vegetable=df_cast.select('Vegetable')\n",
    "\n",
    "# for struct column we cannot use json_tuple to flatten the data so we can use struct function itself\n",
    "df_flatten = df_vegetable.select(\n",
    "    *[col(f'Vegetable.{c}').alias(f'Vegetable_{c}') for c in df_collist]\n",
    ")\n",
    "\n",
    "df_flatten.show(truncate=0)\n",
    "\n",
    "\n"
   ]
  },
  {
   "cell_type": "code",
   "execution_count": 0,
   "metadata": {
    "application/vnd.databricks.v1+cell": {
     "cellMetadata": {},
     "inputWidgets": {},
     "nuid": "5d64ed1f-0296-4671-9e1f-57e4e9418def",
     "showTitle": false,
     "title": ""
    }
   },
   "outputs": [],
   "source": []
  },
  {
   "cell_type": "code",
   "execution_count": 0,
   "metadata": {
    "application/vnd.databricks.v1+cell": {
     "cellMetadata": {
      "byteLimit": 2048000,
      "rowLimit": 10000
     },
     "inputWidgets": {},
     "nuid": "b3dc1983-7fa2-4d39-b38e-200cf2a00eba",
     "showTitle": false,
     "title": ""
    }
   },
   "outputs": [
    {
     "output_type": "display_data",
     "data": {
      "text/plain": [
       "\u001B[0;31m---------------------------------------------------------------------------\u001B[0m\n",
       "\u001B[0;31mAnalysisException\u001B[0m                         Traceback (most recent call last)\n",
       "File \u001B[0;32m<command-2448447228025850>:1\u001B[0m\n",
       "\u001B[0;32m----> 1\u001B[0m df_explode\u001B[38;5;241m=\u001B[39mdf_vegetable\u001B[38;5;241m.\u001B[39mselect(\u001B[38;5;124m'\u001B[39m\u001B[38;5;124mVegetable\u001B[39m\u001B[38;5;124m'\u001B[39m,explode(\u001B[38;5;124m'\u001B[39m\u001B[38;5;124mVegetable\u001B[39m\u001B[38;5;124m'\u001B[39m))\n",
       "\u001B[1;32m      2\u001B[0m df_json\u001B[38;5;241m=\u001B[39mdf_vegetable\u001B[38;5;241m.\u001B[39mselect(\u001B[38;5;124m'\u001B[39m\u001B[38;5;124mVegetable\u001B[39m\u001B[38;5;124m'\u001B[39m,to_json(col(\u001B[38;5;124m'\u001B[39m\u001B[38;5;124mVegetable\u001B[39m\u001B[38;5;124m'\u001B[39m))\u001B[38;5;241m.\u001B[39malias(\u001B[38;5;124m'\u001B[39m\u001B[38;5;124mVegetable\u001B[39m\u001B[38;5;124m'\u001B[39m))\n",
       "\n",
       "File \u001B[0;32m/databricks/spark/python/pyspark/instrumentation_utils.py:48\u001B[0m, in \u001B[0;36m_wrap_function.<locals>.wrapper\u001B[0;34m(*args, **kwargs)\u001B[0m\n",
       "\u001B[1;32m     46\u001B[0m start \u001B[38;5;241m=\u001B[39m time\u001B[38;5;241m.\u001B[39mperf_counter()\n",
       "\u001B[1;32m     47\u001B[0m \u001B[38;5;28;01mtry\u001B[39;00m:\n",
       "\u001B[0;32m---> 48\u001B[0m     res \u001B[38;5;241m=\u001B[39m \u001B[43mfunc\u001B[49m\u001B[43m(\u001B[49m\u001B[38;5;241;43m*\u001B[39;49m\u001B[43margs\u001B[49m\u001B[43m,\u001B[49m\u001B[43m \u001B[49m\u001B[38;5;241;43m*\u001B[39;49m\u001B[38;5;241;43m*\u001B[39;49m\u001B[43mkwargs\u001B[49m\u001B[43m)\u001B[49m\n",
       "\u001B[1;32m     49\u001B[0m     logger\u001B[38;5;241m.\u001B[39mlog_success(\n",
       "\u001B[1;32m     50\u001B[0m         module_name, class_name, function_name, time\u001B[38;5;241m.\u001B[39mperf_counter() \u001B[38;5;241m-\u001B[39m start, signature\n",
       "\u001B[1;32m     51\u001B[0m     )\n",
       "\u001B[1;32m     52\u001B[0m     \u001B[38;5;28;01mreturn\u001B[39;00m res\n",
       "\n",
       "File \u001B[0;32m/databricks/spark/python/pyspark/sql/dataframe.py:3023\u001B[0m, in \u001B[0;36mDataFrame.select\u001B[0;34m(self, *cols)\u001B[0m\n",
       "\u001B[1;32m   2978\u001B[0m \u001B[38;5;28;01mdef\u001B[39;00m \u001B[38;5;21mselect\u001B[39m(\u001B[38;5;28mself\u001B[39m, \u001B[38;5;241m*\u001B[39mcols: \u001B[38;5;124m\"\u001B[39m\u001B[38;5;124mColumnOrName\u001B[39m\u001B[38;5;124m\"\u001B[39m) \u001B[38;5;241m-\u001B[39m\u001B[38;5;241m>\u001B[39m \u001B[38;5;124m\"\u001B[39m\u001B[38;5;124mDataFrame\u001B[39m\u001B[38;5;124m\"\u001B[39m:  \u001B[38;5;66;03m# type: ignore[misc]\u001B[39;00m\n",
       "\u001B[1;32m   2979\u001B[0m     \u001B[38;5;124;03m\"\"\"Projects a set of expressions and returns a new :class:`DataFrame`.\u001B[39;00m\n",
       "\u001B[1;32m   2980\u001B[0m \n",
       "\u001B[1;32m   2981\u001B[0m \u001B[38;5;124;03m    .. versionadded:: 1.3.0\u001B[39;00m\n",
       "\u001B[0;32m   (...)\u001B[0m\n",
       "\u001B[1;32m   3021\u001B[0m \u001B[38;5;124;03m    +-----+---+\u001B[39;00m\n",
       "\u001B[1;32m   3022\u001B[0m \u001B[38;5;124;03m    \"\"\"\u001B[39;00m\n",
       "\u001B[0;32m-> 3023\u001B[0m     jdf \u001B[38;5;241m=\u001B[39m \u001B[38;5;28;43mself\u001B[39;49m\u001B[38;5;241;43m.\u001B[39;49m\u001B[43m_jdf\u001B[49m\u001B[38;5;241;43m.\u001B[39;49m\u001B[43mselect\u001B[49m\u001B[43m(\u001B[49m\u001B[38;5;28;43mself\u001B[39;49m\u001B[38;5;241;43m.\u001B[39;49m\u001B[43m_jcols\u001B[49m\u001B[43m(\u001B[49m\u001B[38;5;241;43m*\u001B[39;49m\u001B[43mcols\u001B[49m\u001B[43m)\u001B[49m\u001B[43m)\u001B[49m\n",
       "\u001B[1;32m   3024\u001B[0m     \u001B[38;5;28;01mreturn\u001B[39;00m DataFrame(jdf, \u001B[38;5;28mself\u001B[39m\u001B[38;5;241m.\u001B[39msparkSession)\n",
       "\n",
       "File \u001B[0;32m/databricks/spark/python/lib/py4j-0.10.9.5-src.zip/py4j/java_gateway.py:1321\u001B[0m, in \u001B[0;36mJavaMember.__call__\u001B[0;34m(self, *args)\u001B[0m\n",
       "\u001B[1;32m   1315\u001B[0m command \u001B[38;5;241m=\u001B[39m proto\u001B[38;5;241m.\u001B[39mCALL_COMMAND_NAME \u001B[38;5;241m+\u001B[39m\\\n",
       "\u001B[1;32m   1316\u001B[0m     \u001B[38;5;28mself\u001B[39m\u001B[38;5;241m.\u001B[39mcommand_header \u001B[38;5;241m+\u001B[39m\\\n",
       "\u001B[1;32m   1317\u001B[0m     args_command \u001B[38;5;241m+\u001B[39m\\\n",
       "\u001B[1;32m   1318\u001B[0m     proto\u001B[38;5;241m.\u001B[39mEND_COMMAND_PART\n",
       "\u001B[1;32m   1320\u001B[0m answer \u001B[38;5;241m=\u001B[39m \u001B[38;5;28mself\u001B[39m\u001B[38;5;241m.\u001B[39mgateway_client\u001B[38;5;241m.\u001B[39msend_command(command)\n",
       "\u001B[0;32m-> 1321\u001B[0m return_value \u001B[38;5;241m=\u001B[39m \u001B[43mget_return_value\u001B[49m\u001B[43m(\u001B[49m\n",
       "\u001B[1;32m   1322\u001B[0m \u001B[43m    \u001B[49m\u001B[43manswer\u001B[49m\u001B[43m,\u001B[49m\u001B[43m \u001B[49m\u001B[38;5;28;43mself\u001B[39;49m\u001B[38;5;241;43m.\u001B[39;49m\u001B[43mgateway_client\u001B[49m\u001B[43m,\u001B[49m\u001B[43m \u001B[49m\u001B[38;5;28;43mself\u001B[39;49m\u001B[38;5;241;43m.\u001B[39;49m\u001B[43mtarget_id\u001B[49m\u001B[43m,\u001B[49m\u001B[43m \u001B[49m\u001B[38;5;28;43mself\u001B[39;49m\u001B[38;5;241;43m.\u001B[39;49m\u001B[43mname\u001B[49m\u001B[43m)\u001B[49m\n",
       "\u001B[1;32m   1324\u001B[0m \u001B[38;5;28;01mfor\u001B[39;00m temp_arg \u001B[38;5;129;01min\u001B[39;00m temp_args:\n",
       "\u001B[1;32m   1325\u001B[0m     temp_arg\u001B[38;5;241m.\u001B[39m_detach()\n",
       "\n",
       "File \u001B[0;32m/databricks/spark/python/pyspark/errors/exceptions.py:234\u001B[0m, in \u001B[0;36mcapture_sql_exception.<locals>.deco\u001B[0;34m(*a, **kw)\u001B[0m\n",
       "\u001B[1;32m    230\u001B[0m converted \u001B[38;5;241m=\u001B[39m convert_exception(e\u001B[38;5;241m.\u001B[39mjava_exception)\n",
       "\u001B[1;32m    231\u001B[0m \u001B[38;5;28;01mif\u001B[39;00m \u001B[38;5;129;01mnot\u001B[39;00m \u001B[38;5;28misinstance\u001B[39m(converted, UnknownException):\n",
       "\u001B[1;32m    232\u001B[0m     \u001B[38;5;66;03m# Hide where the exception came from that shows a non-Pythonic\u001B[39;00m\n",
       "\u001B[1;32m    233\u001B[0m     \u001B[38;5;66;03m# JVM exception message.\u001B[39;00m\n",
       "\u001B[0;32m--> 234\u001B[0m     \u001B[38;5;28;01mraise\u001B[39;00m converted \u001B[38;5;28;01mfrom\u001B[39;00m \u001B[38;5;28mNone\u001B[39m\n",
       "\u001B[1;32m    235\u001B[0m \u001B[38;5;28;01melse\u001B[39;00m:\n",
       "\u001B[1;32m    236\u001B[0m     \u001B[38;5;28;01mraise\u001B[39;00m\n",
       "\n",
       "\u001B[0;31mAnalysisException\u001B[0m: [DATATYPE_MISMATCH.UNEXPECTED_INPUT_TYPE] Cannot resolve \"explode(Vegetable)\" due to data type mismatch: parameter 1 requires (\"ARRAY\" or \"MAP\") type, however, \"Vegetable\" is of \"STRUCT<item: STRING, rate: STRING, discount: STRING>\" type.;\n",
       "'Project [Vegetable#918, explode(Vegetable#918) AS List()]\n",
       "+- Project [Vegetable#918]\n",
       "   +- Project [Appliance#135, Area#136, Month#137L, Stationary#138, Type#139, struct(item, cast(Vegetable#599.item as string), rate, cast(Vegetable#599.rate as string), discount, cast(Vegetable#599.discount as string)) AS Vegetable#918, fruits#569, year#142L]\n",
       "      +- Project [Appliance#135, Area#136, Month#137L, Stationary#138, Type#139, struct(item, Vegetable#140.item, rate, Vegetable#140.rate, discount, 10) AS Vegetable#599, fruits#569, year#142L]\n",
       "         +- Project [Appliance#135, Area#136, Month#137L, Stationary#138, Type#139, Vegetable#140, struct(item, fruits#141.item, rate, fruits#141.rate, discount, 10) AS fruits#569, year#142L]\n",
       "            +- Relation [Appliance#135,Area#136,Month#137L,Stationary#138,Type#139,Vegetable#140,fruits#141,year#142L] json\n"
      ]
     },
     "metadata": {
      "application/vnd.databricks.v1+output": {
       "arguments": {},
       "data": "\u001B[0;31m---------------------------------------------------------------------------\u001B[0m\n\u001B[0;31mAnalysisException\u001B[0m                         Traceback (most recent call last)\nFile \u001B[0;32m<command-2448447228025850>:1\u001B[0m\n\u001B[0;32m----> 1\u001B[0m df_explode\u001B[38;5;241m=\u001B[39mdf_vegetable\u001B[38;5;241m.\u001B[39mselect(\u001B[38;5;124m'\u001B[39m\u001B[38;5;124mVegetable\u001B[39m\u001B[38;5;124m'\u001B[39m,explode(\u001B[38;5;124m'\u001B[39m\u001B[38;5;124mVegetable\u001B[39m\u001B[38;5;124m'\u001B[39m))\n\u001B[1;32m      2\u001B[0m df_json\u001B[38;5;241m=\u001B[39mdf_vegetable\u001B[38;5;241m.\u001B[39mselect(\u001B[38;5;124m'\u001B[39m\u001B[38;5;124mVegetable\u001B[39m\u001B[38;5;124m'\u001B[39m,to_json(col(\u001B[38;5;124m'\u001B[39m\u001B[38;5;124mVegetable\u001B[39m\u001B[38;5;124m'\u001B[39m))\u001B[38;5;241m.\u001B[39malias(\u001B[38;5;124m'\u001B[39m\u001B[38;5;124mVegetable\u001B[39m\u001B[38;5;124m'\u001B[39m))\n\nFile \u001B[0;32m/databricks/spark/python/pyspark/instrumentation_utils.py:48\u001B[0m, in \u001B[0;36m_wrap_function.<locals>.wrapper\u001B[0;34m(*args, **kwargs)\u001B[0m\n\u001B[1;32m     46\u001B[0m start \u001B[38;5;241m=\u001B[39m time\u001B[38;5;241m.\u001B[39mperf_counter()\n\u001B[1;32m     47\u001B[0m \u001B[38;5;28;01mtry\u001B[39;00m:\n\u001B[0;32m---> 48\u001B[0m     res \u001B[38;5;241m=\u001B[39m \u001B[43mfunc\u001B[49m\u001B[43m(\u001B[49m\u001B[38;5;241;43m*\u001B[39;49m\u001B[43margs\u001B[49m\u001B[43m,\u001B[49m\u001B[43m \u001B[49m\u001B[38;5;241;43m*\u001B[39;49m\u001B[38;5;241;43m*\u001B[39;49m\u001B[43mkwargs\u001B[49m\u001B[43m)\u001B[49m\n\u001B[1;32m     49\u001B[0m     logger\u001B[38;5;241m.\u001B[39mlog_success(\n\u001B[1;32m     50\u001B[0m         module_name, class_name, function_name, time\u001B[38;5;241m.\u001B[39mperf_counter() \u001B[38;5;241m-\u001B[39m start, signature\n\u001B[1;32m     51\u001B[0m     )\n\u001B[1;32m     52\u001B[0m     \u001B[38;5;28;01mreturn\u001B[39;00m res\n\nFile \u001B[0;32m/databricks/spark/python/pyspark/sql/dataframe.py:3023\u001B[0m, in \u001B[0;36mDataFrame.select\u001B[0;34m(self, *cols)\u001B[0m\n\u001B[1;32m   2978\u001B[0m \u001B[38;5;28;01mdef\u001B[39;00m \u001B[38;5;21mselect\u001B[39m(\u001B[38;5;28mself\u001B[39m, \u001B[38;5;241m*\u001B[39mcols: \u001B[38;5;124m\"\u001B[39m\u001B[38;5;124mColumnOrName\u001B[39m\u001B[38;5;124m\"\u001B[39m) \u001B[38;5;241m-\u001B[39m\u001B[38;5;241m>\u001B[39m \u001B[38;5;124m\"\u001B[39m\u001B[38;5;124mDataFrame\u001B[39m\u001B[38;5;124m\"\u001B[39m:  \u001B[38;5;66;03m# type: ignore[misc]\u001B[39;00m\n\u001B[1;32m   2979\u001B[0m     \u001B[38;5;124;03m\"\"\"Projects a set of expressions and returns a new :class:`DataFrame`.\u001B[39;00m\n\u001B[1;32m   2980\u001B[0m \n\u001B[1;32m   2981\u001B[0m \u001B[38;5;124;03m    .. versionadded:: 1.3.0\u001B[39;00m\n\u001B[0;32m   (...)\u001B[0m\n\u001B[1;32m   3021\u001B[0m \u001B[38;5;124;03m    +-----+---+\u001B[39;00m\n\u001B[1;32m   3022\u001B[0m \u001B[38;5;124;03m    \"\"\"\u001B[39;00m\n\u001B[0;32m-> 3023\u001B[0m     jdf \u001B[38;5;241m=\u001B[39m \u001B[38;5;28;43mself\u001B[39;49m\u001B[38;5;241;43m.\u001B[39;49m\u001B[43m_jdf\u001B[49m\u001B[38;5;241;43m.\u001B[39;49m\u001B[43mselect\u001B[49m\u001B[43m(\u001B[49m\u001B[38;5;28;43mself\u001B[39;49m\u001B[38;5;241;43m.\u001B[39;49m\u001B[43m_jcols\u001B[49m\u001B[43m(\u001B[49m\u001B[38;5;241;43m*\u001B[39;49m\u001B[43mcols\u001B[49m\u001B[43m)\u001B[49m\u001B[43m)\u001B[49m\n\u001B[1;32m   3024\u001B[0m     \u001B[38;5;28;01mreturn\u001B[39;00m DataFrame(jdf, \u001B[38;5;28mself\u001B[39m\u001B[38;5;241m.\u001B[39msparkSession)\n\nFile \u001B[0;32m/databricks/spark/python/lib/py4j-0.10.9.5-src.zip/py4j/java_gateway.py:1321\u001B[0m, in \u001B[0;36mJavaMember.__call__\u001B[0;34m(self, *args)\u001B[0m\n\u001B[1;32m   1315\u001B[0m command \u001B[38;5;241m=\u001B[39m proto\u001B[38;5;241m.\u001B[39mCALL_COMMAND_NAME \u001B[38;5;241m+\u001B[39m\\\n\u001B[1;32m   1316\u001B[0m     \u001B[38;5;28mself\u001B[39m\u001B[38;5;241m.\u001B[39mcommand_header \u001B[38;5;241m+\u001B[39m\\\n\u001B[1;32m   1317\u001B[0m     args_command \u001B[38;5;241m+\u001B[39m\\\n\u001B[1;32m   1318\u001B[0m     proto\u001B[38;5;241m.\u001B[39mEND_COMMAND_PART\n\u001B[1;32m   1320\u001B[0m answer \u001B[38;5;241m=\u001B[39m \u001B[38;5;28mself\u001B[39m\u001B[38;5;241m.\u001B[39mgateway_client\u001B[38;5;241m.\u001B[39msend_command(command)\n\u001B[0;32m-> 1321\u001B[0m return_value \u001B[38;5;241m=\u001B[39m \u001B[43mget_return_value\u001B[49m\u001B[43m(\u001B[49m\n\u001B[1;32m   1322\u001B[0m \u001B[43m    \u001B[49m\u001B[43manswer\u001B[49m\u001B[43m,\u001B[49m\u001B[43m \u001B[49m\u001B[38;5;28;43mself\u001B[39;49m\u001B[38;5;241;43m.\u001B[39;49m\u001B[43mgateway_client\u001B[49m\u001B[43m,\u001B[49m\u001B[43m \u001B[49m\u001B[38;5;28;43mself\u001B[39;49m\u001B[38;5;241;43m.\u001B[39;49m\u001B[43mtarget_id\u001B[49m\u001B[43m,\u001B[49m\u001B[43m \u001B[49m\u001B[38;5;28;43mself\u001B[39;49m\u001B[38;5;241;43m.\u001B[39;49m\u001B[43mname\u001B[49m\u001B[43m)\u001B[49m\n\u001B[1;32m   1324\u001B[0m \u001B[38;5;28;01mfor\u001B[39;00m temp_arg \u001B[38;5;129;01min\u001B[39;00m temp_args:\n\u001B[1;32m   1325\u001B[0m     temp_arg\u001B[38;5;241m.\u001B[39m_detach()\n\nFile \u001B[0;32m/databricks/spark/python/pyspark/errors/exceptions.py:234\u001B[0m, in \u001B[0;36mcapture_sql_exception.<locals>.deco\u001B[0;34m(*a, **kw)\u001B[0m\n\u001B[1;32m    230\u001B[0m converted \u001B[38;5;241m=\u001B[39m convert_exception(e\u001B[38;5;241m.\u001B[39mjava_exception)\n\u001B[1;32m    231\u001B[0m \u001B[38;5;28;01mif\u001B[39;00m \u001B[38;5;129;01mnot\u001B[39;00m \u001B[38;5;28misinstance\u001B[39m(converted, UnknownException):\n\u001B[1;32m    232\u001B[0m     \u001B[38;5;66;03m# Hide where the exception came from that shows a non-Pythonic\u001B[39;00m\n\u001B[1;32m    233\u001B[0m     \u001B[38;5;66;03m# JVM exception message.\u001B[39;00m\n\u001B[0;32m--> 234\u001B[0m     \u001B[38;5;28;01mraise\u001B[39;00m converted \u001B[38;5;28;01mfrom\u001B[39;00m \u001B[38;5;28mNone\u001B[39m\n\u001B[1;32m    235\u001B[0m \u001B[38;5;28;01melse\u001B[39;00m:\n\u001B[1;32m    236\u001B[0m     \u001B[38;5;28;01mraise\u001B[39;00m\n\n\u001B[0;31mAnalysisException\u001B[0m: [DATATYPE_MISMATCH.UNEXPECTED_INPUT_TYPE] Cannot resolve \"explode(Vegetable)\" due to data type mismatch: parameter 1 requires (\"ARRAY\" or \"MAP\") type, however, \"Vegetable\" is of \"STRUCT<item: STRING, rate: STRING, discount: STRING>\" type.;\n'Project [Vegetable#918, explode(Vegetable#918) AS List()]\n+- Project [Vegetable#918]\n   +- Project [Appliance#135, Area#136, Month#137L, Stationary#138, Type#139, struct(item, cast(Vegetable#599.item as string), rate, cast(Vegetable#599.rate as string), discount, cast(Vegetable#599.discount as string)) AS Vegetable#918, fruits#569, year#142L]\n      +- Project [Appliance#135, Area#136, Month#137L, Stationary#138, Type#139, struct(item, Vegetable#140.item, rate, Vegetable#140.rate, discount, 10) AS Vegetable#599, fruits#569, year#142L]\n         +- Project [Appliance#135, Area#136, Month#137L, Stationary#138, Type#139, Vegetable#140, struct(item, fruits#141.item, rate, fruits#141.rate, discount, 10) AS fruits#569, year#142L]\n            +- Relation [Appliance#135,Area#136,Month#137L,Stationary#138,Type#139,Vegetable#140,fruits#141,year#142L] json\n",
       "errorSummary": "<span class='ansi-red-fg'>AnalysisException</span>: [DATATYPE_MISMATCH.UNEXPECTED_INPUT_TYPE] Cannot resolve \"explode(Vegetable)\" due to data type mismatch: parameter 1 requires (\"ARRAY\" or \"MAP\") type, however, \"Vegetable\" is of \"STRUCT<item: STRING, rate: STRING, discount: STRING>\" type.;\n'Project [Vegetable#918, explode(Vegetable#918) AS List()]\n+- Project [Vegetable#918]\n   +- Project [Appliance#135, Area#136, Month#137L, Stationary#138, Type#139, struct(item, cast(Vegetable#599.item as string), rate, cast(Vegetable#599.rate as string), discount, cast(Vegetable#599.discount as string)) AS Vegetable#918, fruits#569, year#142L]\n      +- Project [Appliance#135, Area#136, Month#137L, Stationary#138, Type#139, struct(item, Vegetable#140.item, rate, Vegetable#140.rate, discount, 10) AS Vegetable#599, fruits#569, year#142L]\n         +- Project [Appliance#135, Area#136, Month#137L, Stationary#138, Type#139, Vegetable#140, struct(item, fruits#141.item, rate, fruits#141.rate, discount, 10) AS fruits#569, year#142L]\n            +- Relation [Appliance#135,Area#136,Month#137L,Stationary#138,Type#139,Vegetable#140,fruits#141,year#142L] json\n",
       "errorTraceType": "ansi",
       "metadata": {},
       "type": "ipynbError"
      }
     },
     "output_type": "display_data"
    }
   ],
   "source": [
    "\n"
   ]
  },
  {
   "cell_type": "code",
   "execution_count": 0,
   "metadata": {
    "application/vnd.databricks.v1+cell": {
     "cellMetadata": {},
     "inputWidgets": {},
     "nuid": "89606897-9275-4889-9b61-797a5ad8996f",
     "showTitle": false,
     "title": ""
    }
   },
   "outputs": [],
   "source": [
    "#df_flatten1=df_vegetable.select('Vegetable',json_tuple(col('Vegetable'),'item','rate','discount'))"
   ]
  }
 ],
 "metadata": {
  "application/vnd.databricks.v1+notebook": {
   "dashboards": [],
   "environmentMetadata": null,
   "language": "python",
   "notebookMetadata": {
    "pythonIndentUnit": 4
   },
   "notebookName": "TO remove a column and add column in struct field and understading of Json transofrmation",
   "widgets": {}
  }
 },
 "nbformat": 4,
 "nbformat_minor": 0
}
