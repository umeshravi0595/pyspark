{
 "cells": [
  {
   "cell_type": "code",
   "execution_count": 0,
   "metadata": {
    "application/vnd.databricks.v1+cell": {
     "cellMetadata": {
      "byteLimit": 2048000,
      "rowLimit": 10000
     },
     "inputWidgets": {},
     "nuid": "a7d7427c-30f8-4310-992f-1f0634cd6dc9",
     "showTitle": false,
     "title": ""
    }
   },
   "outputs": [
    {
     "output_type": "display_data",
     "data": {
      "text/html": [
       "<style scoped>\n",
       "  .table-result-container {\n",
       "    max-height: 300px;\n",
       "    overflow: auto;\n",
       "  }\n",
       "  table, th, td {\n",
       "    border: 1px solid black;\n",
       "    border-collapse: collapse;\n",
       "  }\n",
       "  th, td {\n",
       "    padding: 5px;\n",
       "  }\n",
       "  th {\n",
       "    text-align: left;\n",
       "  }\n",
       "</style><div class='table-result-container'><table class='table-result'><thead style='background-color: white'><tr><th>EmpId</th><th>EmpName</th><th>Salary</th><th>DeptName</th></tr></thead><tbody><tr><td>1</td><td>A</td><td>1000</td><td>IT</td></tr><tr><td>2</td><td>B</td><td>1500</td><td>IT</td></tr><tr><td>3</td><td>C</td><td>2500</td><td>IT</td></tr><tr><td>4</td><td>D</td><td>3000</td><td>HR</td></tr><tr><td>5</td><td>E</td><td>2000</td><td>HR</td></tr><tr><td>6</td><td>F</td><td>1000</td><td>HR</td></tr><tr><td>7</td><td>G</td><td>4000</td><td>Sales</td></tr><tr><td>8</td><td>H</td><td>4000</td><td>Sales</td></tr><tr><td>9</td><td>I</td><td>1000</td><td>Sales</td></tr><tr><td>10</td><td>J</td><td>2000</td><td>Sales</td></tr></tbody></table></div>"
      ]
     },
     "metadata": {
      "application/vnd.databricks.v1+output": {
       "addedWidgets": {},
       "aggData": [],
       "aggError": "",
       "aggOverflow": false,
       "aggSchema": [],
       "aggSeriesLimitReached": false,
       "aggType": "",
       "arguments": {},
       "columnCustomDisplayInfos": {},
       "data": [
        [
         1,
         "A",
         1000,
         "IT"
        ],
        [
         2,
         "B",
         1500,
         "IT"
        ],
        [
         3,
         "C",
         2500,
         "IT"
        ],
        [
         4,
         "D",
         3000,
         "HR"
        ],
        [
         5,
         "E",
         2000,
         "HR"
        ],
        [
         6,
         "F",
         1000,
         "HR"
        ],
        [
         7,
         "G",
         4000,
         "Sales"
        ],
        [
         8,
         "H",
         4000,
         "Sales"
        ],
        [
         9,
         "I",
         1000,
         "Sales"
        ],
        [
         10,
         "J",
         2000,
         "Sales"
        ]
       ],
       "datasetInfos": [],
       "dbfsResultPath": null,
       "isJsonSchema": true,
       "metadata": {},
       "overflow": false,
       "plotOptions": {
        "customPlotOptions": {},
        "displayType": "table",
        "pivotAggregation": null,
        "pivotColumns": null,
        "xColumns": null,
        "yColumns": null
       },
       "removedWidgets": [],
       "schema": [
        {
         "metadata": "{}",
         "name": "EmpId",
         "type": "\"long\""
        },
        {
         "metadata": "{}",
         "name": "EmpName",
         "type": "\"string\""
        },
        {
         "metadata": "{}",
         "name": "Salary",
         "type": "\"long\""
        },
        {
         "metadata": "{}",
         "name": "DeptName",
         "type": "\"string\""
        }
       ],
       "type": "table"
      }
     },
     "output_type": "display_data"
    }
   ],
   "source": [
    "data1=[(1,\"A\",1000,\"IT\"),(2,\"B\",1500,\"IT\"),(3,\"C\",2500,\"IT\"),(4,\"D\",3000,\"HR\"),(5,\"E\",2000,\"HR\"),(6,\"F\",1000,\"HR\")\n",
    "       ,(7,\"G\",4000,\"Sales\"),(8,\"H\",4000,\"Sales\"),(9,\"I\",1000,\"Sales\"),(10,\"J\",2000,\"Sales\")]\n",
    "schema1=[\"EmpId\",\"EmpName\",\"Salary\",\"DeptName\"]\n",
    "display(df)"
   ]
  },
  {
   "cell_type": "code",
   "execution_count": 0,
   "metadata": {
    "application/vnd.databricks.v1+cell": {
     "cellMetadata": {
      "byteLimit": 2048000,
      "rowLimit": 10000
     },
     "inputWidgets": {},
     "nuid": "aae4a16b-edd4-4f34-b556-9b44d1597f0e",
     "showTitle": false,
     "title": ""
    }
   },
   "outputs": [
    {
     "output_type": "display_data",
     "data": {
      "text/html": [
       "<style scoped>\n",
       "  .table-result-container {\n",
       "    max-height: 300px;\n",
       "    overflow: auto;\n",
       "  }\n",
       "  table, th, td {\n",
       "    border: 1px solid black;\n",
       "    border-collapse: collapse;\n",
       "  }\n",
       "  th, td {\n",
       "    padding: 5px;\n",
       "  }\n",
       "  th {\n",
       "    text-align: left;\n",
       "  }\n",
       "</style><div class='table-result-container'><table class='table-result'><thead style='background-color: white'><tr><th>DeptName</th><th>max_salry</th></tr></thead><tbody><tr><td>Sales</td><td>4000</td></tr><tr><td>HR</td><td>3000</td></tr><tr><td>IT</td><td>2500</td></tr></tbody></table></div>"
      ]
     },
     "metadata": {
      "application/vnd.databricks.v1+output": {
       "addedWidgets": {},
       "aggData": [],
       "aggError": "",
       "aggOverflow": false,
       "aggSchema": [],
       "aggSeriesLimitReached": false,
       "aggType": "",
       "arguments": {},
       "columnCustomDisplayInfos": {},
       "data": [
        [
         "Sales",
         4000
        ],
        [
         "HR",
         3000
        ],
        [
         "IT",
         2500
        ]
       ],
       "datasetInfos": [],
       "dbfsResultPath": null,
       "isJsonSchema": true,
       "metadata": {},
       "overflow": false,
       "plotOptions": {
        "customPlotOptions": {},
        "displayType": "table",
        "pivotAggregation": null,
        "pivotColumns": null,
        "xColumns": null,
        "yColumns": null
       },
       "removedWidgets": [],
       "schema": [
        {
         "metadata": "{}",
         "name": "DeptName",
         "type": "\"string\""
        },
        {
         "metadata": "{}",
         "name": "max_salry",
         "type": "\"long\""
        }
       ],
       "type": "table"
      }
     },
     "output_type": "display_data"
    }
   ],
   "source": [
    "from pyspark.sql.functions import *\n",
    "df1=df.groupBy(col(\"DeptName\")).agg(max(col(\"Salary\")).alias(\"max_salry\")).orderBy(desc(col(\"max_salry\")))\n",
    "display(df1)"
   ]
  },
  {
   "cell_type": "code",
   "execution_count": 0,
   "metadata": {
    "application/vnd.databricks.v1+cell": {
     "cellMetadata": {
      "byteLimit": 2048000,
      "rowLimit": 10000
     },
     "inputWidgets": {},
     "nuid": "d78dfb66-e83e-450b-be3f-8880af68978f",
     "showTitle": false,
     "title": ""
    }
   },
   "outputs": [],
   "source": [
    "\n",
    "\n",
    "df1=df.repartition(100)\n"
   ]
  },
  {
   "cell_type": "code",
   "execution_count": 0,
   "metadata": {
    "application/vnd.databricks.v1+cell": {
     "cellMetadata": {
      "byteLimit": 2048000,
      "rowLimit": 10000
     },
     "inputWidgets": {},
     "nuid": "a3dad113-703a-404d-b27d-72f443ceff1b",
     "showTitle": false,
     "title": ""
    }
   },
   "outputs": [
    {
     "output_type": "stream",
     "name": "stdout",
     "output_type": "stream",
     "text": [
      "Out[40]: 100"
     ]
    }
   ],
   "source": [
    "\n",
    "df1.rdd.getNumPartitions()"
   ]
  },
  {
   "cell_type": "code",
   "execution_count": 0,
   "metadata": {
    "application/vnd.databricks.v1+cell": {
     "cellMetadata": {
      "byteLimit": 2048000,
      "rowLimit": 10000
     },
     "inputWidgets": {},
     "nuid": "30f127f0-1804-4f68-86bb-e7cf718b1562",
     "showTitle": false,
     "title": ""
    }
   },
   "outputs": [
    {
     "output_type": "display_data",
     "data": {
      "text/html": [
       "<style scoped>\n",
       "  .table-result-container {\n",
       "    max-height: 300px;\n",
       "    overflow: auto;\n",
       "  }\n",
       "  table, th, td {\n",
       "    border: 1px solid black;\n",
       "    border-collapse: collapse;\n",
       "  }\n",
       "  th, td {\n",
       "    padding: 5px;\n",
       "  }\n",
       "  th {\n",
       "    text-align: left;\n",
       "  }\n",
       "</style><div class='table-result-container'><table class='table-result'><thead style='background-color: white'><tr><th>partid</th><th>count</th></tr></thead><tbody><tr><td>4</td><td>1</td></tr><tr><td>26</td><td>1</td></tr><tr><td>29</td><td>2</td></tr><tr><td>48</td><td>1</td></tr><tr><td>49</td><td>1</td></tr><tr><td>54</td><td>1</td></tr><tr><td>61</td><td>1</td></tr><tr><td>62</td><td>1</td></tr><tr><td>91</td><td>1</td></tr></tbody></table></div>"
      ]
     },
     "metadata": {
      "application/vnd.databricks.v1+output": {
       "addedWidgets": {},
       "aggData": [],
       "aggError": "",
       "aggOverflow": false,
       "aggSchema": [],
       "aggSeriesLimitReached": false,
       "aggType": "",
       "arguments": {},
       "columnCustomDisplayInfos": {},
       "data": [
        [
         4,
         1
        ],
        [
         26,
         1
        ],
        [
         29,
         2
        ],
        [
         48,
         1
        ],
        [
         49,
         1
        ],
        [
         54,
         1
        ],
        [
         61,
         1
        ],
        [
         62,
         1
        ],
        [
         91,
         1
        ]
       ],
       "datasetInfos": [],
       "dbfsResultPath": null,
       "isJsonSchema": true,
       "metadata": {},
       "overflow": false,
       "plotOptions": {
        "customPlotOptions": {},
        "displayType": "table",
        "pivotAggregation": null,
        "pivotColumns": null,
        "xColumns": null,
        "yColumns": null
       },
       "removedWidgets": [],
       "schema": [
        {
         "metadata": "{}",
         "name": "partid",
         "type": "\"integer\""
        },
        {
         "metadata": "{}",
         "name": "count",
         "type": "\"long\""
        }
       ],
       "type": "table"
      }
     },
     "output_type": "display_data"
    }
   ],
   "source": [
    "from pyspark.sql.functions import *\n",
    "df2=df1.select(spark_partition_id().alias('partid')).groupBy('partid').count()\n",
    "display(df2)"
   ]
  }
 ],
 "metadata": {
  "application/vnd.databricks.v1+notebook": {
   "dashboards": [],
   "environmentMetadata": null,
   "language": "python",
   "notebookMetadata": {
    "pythonIndentUnit": 4
   },
   "notebookName": "maximum salary dept &check number of rows per partition",
   "widgets": {}
  }
 },
 "nbformat": 4,
 "nbformat_minor": 0
}
