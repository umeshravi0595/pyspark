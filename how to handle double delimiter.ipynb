{
 "cells": [
  {
   "cell_type": "code",
   "execution_count": 0,
   "metadata": {
    "application/vnd.databricks.v1+cell": {
     "cellMetadata": {
      "byteLimit": 2048000,
      "rowLimit": 10000
     },
     "inputWidgets": {},
     "nuid": "b7f451d8-f4d8-491b-933d-6a9f3440ea7a",
     "showTitle": false,
     "title": ""
    }
   },
   "outputs": [
    {
     "output_type": "stream",
     "name": "stdout",
     "output_type": "stream",
     "text": [
      "Wrote 106 bytes.\nOut[1]: True"
     ]
    }
   ],
   "source": [
    "dbutils.fs.put(\"/FileStore/tables/double_pipe.csv\",\"\"\"id||name||loc\n",
    "1||ravi||Bangalore\n",
    "2||Raj||Chennai\n",
    "3||Mahesh||Hyderabad\n",
    "4||Prasad||Chennai\n",
    "5||Sridhar||Pune\n",
    "\"\"\",True)"
   ]
  },
  {
   "cell_type": "code",
   "execution_count": 0,
   "metadata": {
    "application/vnd.databricks.v1+cell": {
     "cellMetadata": {
      "byteLimit": 2048000,
      "rowLimit": 10000
     },
     "inputWidgets": {},
     "nuid": "0890615d-a678-4d11-8906-6b23a212c283",
     "showTitle": false,
     "title": ""
    }
   },
   "outputs": [
    {
     "output_type": "display_data",
     "data": {
      "text/html": [
       "<style scoped>\n",
       "  .table-result-container {\n",
       "    max-height: 300px;\n",
       "    overflow: auto;\n",
       "  }\n",
       "  table, th, td {\n",
       "    border: 1px solid black;\n",
       "    border-collapse: collapse;\n",
       "  }\n",
       "  th, td {\n",
       "    padding: 5px;\n",
       "  }\n",
       "  th {\n",
       "    text-align: left;\n",
       "  }\n",
       "</style><div class='table-result-container'><table class='table-result'><thead style='background-color: white'><tr><th>id</th><th>name</th><th>loc</th></tr></thead><tbody><tr><td>1</td><td>ravi</td><td>Bangalore</td></tr><tr><td>2</td><td>Raj</td><td>Chennai</td></tr><tr><td>3</td><td>Mahesh</td><td>Hyderabad</td></tr><tr><td>4</td><td>Prasad</td><td>Chennai</td></tr><tr><td>5</td><td>Sridhar</td><td>Pune</td></tr></tbody></table></div>"
      ]
     },
     "metadata": {
      "application/vnd.databricks.v1+output": {
       "addedWidgets": {},
       "aggData": [],
       "aggError": "",
       "aggOverflow": false,
       "aggSchema": [],
       "aggSeriesLimitReached": false,
       "aggType": "",
       "arguments": {},
       "columnCustomDisplayInfos": {},
       "data": [
        [
         "1",
         "ravi",
         "Bangalore"
        ],
        [
         "2",
         "Raj",
         "Chennai"
        ],
        [
         "3",
         "Mahesh",
         "Hyderabad"
        ],
        [
         "4",
         "Prasad",
         "Chennai"
        ],
        [
         "5",
         "Sridhar",
         "Pune"
        ]
       ],
       "datasetInfos": [],
       "dbfsResultPath": null,
       "isJsonSchema": true,
       "metadata": {},
       "overflow": false,
       "plotOptions": {
        "customPlotOptions": {},
        "displayType": "table",
        "pivotAggregation": null,
        "pivotColumns": null,
        "xColumns": null,
        "yColumns": null
       },
       "removedWidgets": [],
       "schema": [
        {
         "metadata": "{}",
         "name": "id",
         "type": "\"string\""
        },
        {
         "metadata": "{}",
         "name": "name",
         "type": "\"string\""
        },
        {
         "metadata": "{}",
         "name": "loc",
         "type": "\"string\""
        }
       ],
       "type": "table"
      }
     },
     "output_type": "display_data"
    }
   ],
   "source": [
    "df=spark.read.csv(\"/FileStore/tables/double_pipe.csv\",header=True,sep=\"||\")\n",
    "display(df)"
   ]
  },
  {
   "cell_type": "code",
   "execution_count": 0,
   "metadata": {
    "application/vnd.databricks.v1+cell": {
     "cellMetadata": {
      "byteLimit": 2048000,
      "rowLimit": 10000
     },
     "inputWidgets": {},
     "nuid": "027c23f8-9d2f-4c1a-b1f0-6b7e12af3042",
     "showTitle": false,
     "title": ""
    }
   },
   "outputs": [
    {
     "output_type": "stream",
     "name": "stdout",
     "output_type": "stream",
     "text": [
      "Wrote 160 bytes.\nOut[5]: True"
     ]
    }
   ],
   "source": [
    "dbutils.fs.put(\"/FileStore/tables/multi_sep.csv\",\"\"\"id,name,loc,marks\n",
    "1,ravi,Bangalore,35|45|55|65\n",
    "2,Raj,Chennai,35|45|55|65\n",
    "3,Mahesh,Hyderabad,35|45|55|65\n",
    "4,Prasad,Chennai,35|45|55|65\n",
    "5,Sridhar,Pune,35|45|55|65\n",
    "\"\"\",True)"
   ]
  },
  {
   "cell_type": "code",
   "execution_count": 0,
   "metadata": {
    "application/vnd.databricks.v1+cell": {
     "cellMetadata": {
      "byteLimit": 2048000,
      "rowLimit": 10000
     },
     "inputWidgets": {},
     "nuid": "fcd02884-6d77-4832-ae47-265037e12fcb",
     "showTitle": false,
     "title": ""
    }
   },
   "outputs": [
    {
     "output_type": "display_data",
     "data": {
      "text/html": [
       "<style scoped>\n",
       "  .table-result-container {\n",
       "    max-height: 300px;\n",
       "    overflow: auto;\n",
       "  }\n",
       "  table, th, td {\n",
       "    border: 1px solid black;\n",
       "    border-collapse: collapse;\n",
       "  }\n",
       "  th, td {\n",
       "    padding: 5px;\n",
       "  }\n",
       "  th {\n",
       "    text-align: left;\n",
       "  }\n",
       "</style><div class='table-result-container'><table class='table-result'><thead style='background-color: white'><tr><th>id</th><th>name</th><th>loc</th><th>marks</th></tr></thead><tbody><tr><td>1</td><td>ravi</td><td>Bangalore</td><td>35|45|55|65</td></tr><tr><td>2</td><td>Raj</td><td>Chennai</td><td>35|45|55|65</td></tr><tr><td>3</td><td>Mahesh</td><td>Hyderabad</td><td>35|45|55|65</td></tr><tr><td>4</td><td>Prasad</td><td>Chennai</td><td>35|45|55|65</td></tr><tr><td>5</td><td>Sridhar</td><td>Pune</td><td>35|45|55|65</td></tr></tbody></table></div>"
      ]
     },
     "metadata": {
      "application/vnd.databricks.v1+output": {
       "addedWidgets": {},
       "aggData": [],
       "aggError": "",
       "aggOverflow": false,
       "aggSchema": [],
       "aggSeriesLimitReached": false,
       "aggType": "",
       "arguments": {},
       "columnCustomDisplayInfos": {},
       "data": [
        [
         "1",
         "ravi",
         "Bangalore",
         "35|45|55|65"
        ],
        [
         "2",
         "Raj",
         "Chennai",
         "35|45|55|65"
        ],
        [
         "3",
         "Mahesh",
         "Hyderabad",
         "35|45|55|65"
        ],
        [
         "4",
         "Prasad",
         "Chennai",
         "35|45|55|65"
        ],
        [
         "5",
         "Sridhar",
         "Pune",
         "35|45|55|65"
        ]
       ],
       "datasetInfos": [],
       "dbfsResultPath": null,
       "isJsonSchema": true,
       "metadata": {},
       "overflow": false,
       "plotOptions": {
        "customPlotOptions": {},
        "displayType": "table",
        "pivotAggregation": null,
        "pivotColumns": null,
        "xColumns": null,
        "yColumns": null
       },
       "removedWidgets": [],
       "schema": [
        {
         "metadata": "{}",
         "name": "id",
         "type": "\"string\""
        },
        {
         "metadata": "{}",
         "name": "name",
         "type": "\"string\""
        },
        {
         "metadata": "{}",
         "name": "loc",
         "type": "\"string\""
        },
        {
         "metadata": "{}",
         "name": "marks",
         "type": "\"string\""
        }
       ],
       "type": "table"
      }
     },
     "output_type": "display_data"
    }
   ],
   "source": [
    "df1=spark.read.csv(\"/FileStore/tables/multi_sep.csv\",header=True)\n",
    "display(df1)"
   ]
  },
  {
   "cell_type": "code",
   "execution_count": 0,
   "metadata": {
    "application/vnd.databricks.v1+cell": {
     "cellMetadata": {
      "byteLimit": 2048000,
      "rowLimit": 10000
     },
     "inputWidgets": {},
     "nuid": "2481627a-c85a-4275-929a-145edebbbbee",
     "showTitle": false,
     "title": ""
    }
   },
   "outputs": [
    {
     "output_type": "display_data",
     "data": {
      "text/html": [
       "<style scoped>\n",
       "  .table-result-container {\n",
       "    max-height: 300px;\n",
       "    overflow: auto;\n",
       "  }\n",
       "  table, th, td {\n",
       "    border: 1px solid black;\n",
       "    border-collapse: collapse;\n",
       "  }\n",
       "  th, td {\n",
       "    padding: 5px;\n",
       "  }\n",
       "  th {\n",
       "    text-align: left;\n",
       "  }\n",
       "</style><div class='table-result-container'><table class='table-result'><thead style='background-color: white'><tr><th>id</th><th>name</th><th>loc</th><th>marks</th><th>marks_split</th><th>marks_1</th><th>marks_2</th><th>marks_3</th><th>marks_4</th></tr></thead><tbody><tr><td>1</td><td>ravi</td><td>Bangalore</td><td>35|45|55|65</td><td>List(35, 45, 55, 65)</td><td>35</td><td>45</td><td>55</td><td>65</td></tr><tr><td>2</td><td>Raj</td><td>Chennai</td><td>35|45|55|65</td><td>List(35, 45, 55, 65)</td><td>35</td><td>45</td><td>55</td><td>65</td></tr><tr><td>3</td><td>Mahesh</td><td>Hyderabad</td><td>35|45|55|65</td><td>List(35, 45, 55, 65)</td><td>35</td><td>45</td><td>55</td><td>65</td></tr><tr><td>4</td><td>Prasad</td><td>Chennai</td><td>35|45|55|65</td><td>List(35, 45, 55, 65)</td><td>35</td><td>45</td><td>55</td><td>65</td></tr><tr><td>5</td><td>Sridhar</td><td>Pune</td><td>35|45|55|65</td><td>List(35, 45, 55, 65)</td><td>35</td><td>45</td><td>55</td><td>65</td></tr></tbody></table></div>"
      ]
     },
     "metadata": {
      "application/vnd.databricks.v1+output": {
       "addedWidgets": {},
       "aggData": [],
       "aggError": "",
       "aggOverflow": false,
       "aggSchema": [],
       "aggSeriesLimitReached": false,
       "aggType": "",
       "arguments": {},
       "columnCustomDisplayInfos": {},
       "data": [
        [
         "1",
         "ravi",
         "Bangalore",
         "35|45|55|65",
         [
          "35",
          "45",
          "55",
          "65"
         ],
         "35",
         "45",
         "55",
         "65"
        ],
        [
         "2",
         "Raj",
         "Chennai",
         "35|45|55|65",
         [
          "35",
          "45",
          "55",
          "65"
         ],
         "35",
         "45",
         "55",
         "65"
        ],
        [
         "3",
         "Mahesh",
         "Hyderabad",
         "35|45|55|65",
         [
          "35",
          "45",
          "55",
          "65"
         ],
         "35",
         "45",
         "55",
         "65"
        ],
        [
         "4",
         "Prasad",
         "Chennai",
         "35|45|55|65",
         [
          "35",
          "45",
          "55",
          "65"
         ],
         "35",
         "45",
         "55",
         "65"
        ],
        [
         "5",
         "Sridhar",
         "Pune",
         "35|45|55|65",
         [
          "35",
          "45",
          "55",
          "65"
         ],
         "35",
         "45",
         "55",
         "65"
        ]
       ],
       "datasetInfos": [],
       "dbfsResultPath": null,
       "isJsonSchema": true,
       "metadata": {},
       "overflow": false,
       "plotOptions": {
        "customPlotOptions": {},
        "displayType": "table",
        "pivotAggregation": null,
        "pivotColumns": null,
        "xColumns": null,
        "yColumns": null
       },
       "removedWidgets": [],
       "schema": [
        {
         "metadata": "{}",
         "name": "id",
         "type": "\"string\""
        },
        {
         "metadata": "{}",
         "name": "name",
         "type": "\"string\""
        },
        {
         "metadata": "{}",
         "name": "loc",
         "type": "\"string\""
        },
        {
         "metadata": "{}",
         "name": "marks",
         "type": "\"string\""
        },
        {
         "metadata": "{}",
         "name": "marks_split",
         "type": "{\"type\":\"array\",\"elementType\":\"string\",\"containsNull\":false}"
        },
        {
         "metadata": "{}",
         "name": "marks_1",
         "type": "\"string\""
        },
        {
         "metadata": "{}",
         "name": "marks_2",
         "type": "\"string\""
        },
        {
         "metadata": "{}",
         "name": "marks_3",
         "type": "\"string\""
        },
        {
         "metadata": "{}",
         "name": "marks_4",
         "type": "\"string\""
        }
       ],
       "type": "table"
      }
     },
     "output_type": "display_data"
    }
   ],
   "source": [
    "from pyspark.sql.functions import *\n",
    "df2=df1.withColumn(\"marks_split\",split(col(\"marks\"),\"\\\\|\"))\\\n",
    "       .withColumn(\"marks_1\",col(\"marks_split\")[0])\\\n",
    "           .withColumn(\"marks_2\",col(\"marks_split\")[1])\\\n",
    "               .withColumn(\"marks_3\",col(\"marks_split\")[2])\\\n",
    "                   .withColumn(\"marks_4\",col(\"marks_split\")[3])\\\n",
    "       \n",
    "display(df2)"
   ]
  }
 ],
 "metadata": {
  "application/vnd.databricks.v1+notebook": {
   "dashboards": [],
   "environmentMetadata": null,
   "language": "python",
   "notebookMetadata": {
    "pythonIndentUnit": 4
   },
   "notebookName": "how to handle double delimiter",
   "widgets": {}
  }
 },
 "nbformat": 4,
 "nbformat_minor": 0
}
