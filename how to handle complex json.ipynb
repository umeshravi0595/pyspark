{
 "cells": [
  {
   "cell_type": "code",
   "execution_count": 0,
   "metadata": {
    "application/vnd.databricks.v1+cell": {
     "cellMetadata": {
      "byteLimit": 2048000,
      "rowLimit": 10000
     },
     "inputWidgets": {},
     "nuid": "5b20c7bd-3305-405c-9fcb-dec758c591ab",
     "showTitle": false,
     "title": ""
    }
   },
   "outputs": [
    {
     "output_type": "stream",
     "name": "stdout",
     "output_type": "stream",
     "text": [
      "Wrote 608 bytes.\nOut[1]: True"
     ]
    }
   ],
   "source": [
    "dbutils.fs.put(\"/FileStore/tables/complex_json.json\",\"\"\"[{\n",
    "\t\"id\": \"0001\",\n",
    "\t\"type\": \"donut\",\n",
    "\t\"name\": \"Cake\",\n",
    "\t\"ppu\": 0.55,\n",
    "\t\"batters\":\n",
    "\t\t{\n",
    "\t\t\t\"batter\":\n",
    "\t\t\t\t[\n",
    "\t\t\t\t\t{ \"id\": \"1001\", \"type\": \"Regular\" },\n",
    "\t\t\t\t\t{ \"id\": \"1002\", \"type\": \"Chocolate\" },\n",
    "\t\t\t\t\t{ \"id\": \"1003\", \"type\": \"Blueberry\" },\n",
    "\t\t\t\t\t{ \"id\": \"1004\", \"type\": \"Devil's Food\" }\n",
    "\t\t\t\t]\n",
    "\t\t},\n",
    "\t\"topping\":\n",
    "\t\t[\n",
    "\t\t\t{ \"id\": \"5001\", \"type\": \"None\" },\n",
    "\t\t\t{ \"id\": \"5002\", \"type\": \"Glazed\" },\n",
    "\t\t\t{ \"id\": \"5005\", \"type\": \"Sugar\" },\n",
    "\t\t\t{ \"id\": \"5007\", \"type\": \"Powdered Sugar\" },\n",
    "\t\t\t{ \"id\": \"5006\", \"type\": \"Chocolate with Sprinkles\" },\n",
    "\t\t\t{ \"id\": \"5003\", \"type\": \"Chocolate\" },\n",
    "\t\t\t{ \"id\": \"5004\", \"type\": \"Maple\" }\n",
    "\t\t]\n",
    "}]\"\"\",True)"
   ]
  },
  {
   "cell_type": "code",
   "execution_count": 0,
   "metadata": {
    "application/vnd.databricks.v1+cell": {
     "cellMetadata": {
      "byteLimit": 2048000,
      "rowLimit": 10000
     },
     "inputWidgets": {},
     "nuid": "5df42fab-1311-4b71-87b4-d68a267e2870",
     "showTitle": false,
     "title": ""
    }
   },
   "outputs": [
    {
     "output_type": "display_data",
     "data": {
      "text/html": [
       "<style scoped>\n",
       "  .table-result-container {\n",
       "    max-height: 300px;\n",
       "    overflow: auto;\n",
       "  }\n",
       "  table, th, td {\n",
       "    border: 1px solid black;\n",
       "    border-collapse: collapse;\n",
       "  }\n",
       "  th, td {\n",
       "    padding: 5px;\n",
       "  }\n",
       "  th {\n",
       "    text-align: left;\n",
       "  }\n",
       "</style><div class='table-result-container'><table class='table-result'><thead style='background-color: white'><tr><th>batters</th><th>id</th><th>name</th><th>ppu</th><th>topping</th><th>type</th></tr></thead><tbody><tr><td>List(List(List(1001, Regular), List(1002, Chocolate), List(1003, Blueberry), List(1004, Devil's Food)))</td><td>0001</td><td>Cake</td><td>0.55</td><td>List(List(5001, None), List(5002, Glazed), List(5005, Sugar), List(5007, Powdered Sugar), List(5006, Chocolate with Sprinkles), List(5003, Chocolate), List(5004, Maple))</td><td>donut</td></tr></tbody></table></div>"
      ]
     },
     "metadata": {
      "application/vnd.databricks.v1+output": {
       "addedWidgets": {},
       "aggData": [],
       "aggError": "",
       "aggOverflow": false,
       "aggSchema": [],
       "aggSeriesLimitReached": false,
       "aggType": "",
       "arguments": {},
       "columnCustomDisplayInfos": {},
       "data": [
        [
         [
          [
           [
            "1001",
            "Regular"
           ],
           [
            "1002",
            "Chocolate"
           ],
           [
            "1003",
            "Blueberry"
           ],
           [
            "1004",
            "Devil's Food"
           ]
          ]
         ],
         "0001",
         "Cake",
         0.55,
         [
          [
           "5001",
           "None"
          ],
          [
           "5002",
           "Glazed"
          ],
          [
           "5005",
           "Sugar"
          ],
          [
           "5007",
           "Powdered Sugar"
          ],
          [
           "5006",
           "Chocolate with Sprinkles"
          ],
          [
           "5003",
           "Chocolate"
          ],
          [
           "5004",
           "Maple"
          ]
         ],
         "donut"
        ]
       ],
       "datasetInfos": [],
       "dbfsResultPath": null,
       "isJsonSchema": true,
       "metadata": {},
       "overflow": false,
       "plotOptions": {
        "customPlotOptions": {},
        "displayType": "table",
        "pivotAggregation": null,
        "pivotColumns": null,
        "xColumns": null,
        "yColumns": null
       },
       "removedWidgets": [],
       "schema": [
        {
         "metadata": "{}",
         "name": "batters",
         "type": "{\"type\":\"struct\",\"fields\":[{\"name\":\"batter\",\"type\":{\"type\":\"array\",\"elementType\":{\"type\":\"struct\",\"fields\":[{\"name\":\"id\",\"type\":\"string\",\"nullable\":true,\"metadata\":{}},{\"name\":\"type\",\"type\":\"string\",\"nullable\":true,\"metadata\":{}}]},\"containsNull\":true},\"nullable\":true,\"metadata\":{}}]}"
        },
        {
         "metadata": "{}",
         "name": "id",
         "type": "\"string\""
        },
        {
         "metadata": "{}",
         "name": "name",
         "type": "\"string\""
        },
        {
         "metadata": "{}",
         "name": "ppu",
         "type": "\"double\""
        },
        {
         "metadata": "{}",
         "name": "topping",
         "type": "{\"type\":\"array\",\"elementType\":{\"type\":\"struct\",\"fields\":[{\"name\":\"id\",\"type\":\"string\",\"nullable\":true,\"metadata\":{}},{\"name\":\"type\",\"type\":\"string\",\"nullable\":true,\"metadata\":{}}]},\"containsNull\":true}"
        },
        {
         "metadata": "{}",
         "name": "type",
         "type": "\"string\""
        }
       ],
       "type": "table"
      }
     },
     "output_type": "display_data"
    }
   ],
   "source": [
    "df=spark.read.option(\"multiLine\",\"true\").json(\"/FileStore/tables/complex_json.json\")\n",
    "display(df)"
   ]
  },
  {
   "cell_type": "code",
   "execution_count": 0,
   "metadata": {
    "application/vnd.databricks.v1+cell": {
     "cellMetadata": {
      "byteLimit": 2048000,
      "rowLimit": 10000
     },
     "inputWidgets": {},
     "nuid": "4cfa6ba3-0719-4fa7-ad3c-17b7743842c3",
     "showTitle": false,
     "title": ""
    }
   },
   "outputs": [
    {
     "output_type": "display_data",
     "data": {
      "text/html": [
       "<style scoped>\n",
       "  .table-result-container {\n",
       "    max-height: 300px;\n",
       "    overflow: auto;\n",
       "  }\n",
       "  table, th, td {\n",
       "    border: 1px solid black;\n",
       "    border-collapse: collapse;\n",
       "  }\n",
       "  th, td {\n",
       "    padding: 5px;\n",
       "  }\n",
       "  th {\n",
       "    text-align: left;\n",
       "  }\n",
       "</style><div class='table-result-container'><table class='table-result'><thead style='background-color: white'><tr><th>id</th><th>name</th><th>ppu</th><th>type</th><th>topping_id</th><th>topping_type</th><th>batter_id</th><th>batter_type</th></tr></thead><tbody><tr><td>0001</td><td>Cake</td><td>0.55</td><td>donut</td><td>5001</td><td>None</td><td>1001</td><td>Regular</td></tr><tr><td>0001</td><td>Cake</td><td>0.55</td><td>donut</td><td>5001</td><td>None</td><td>1002</td><td>Chocolate</td></tr><tr><td>0001</td><td>Cake</td><td>0.55</td><td>donut</td><td>5001</td><td>None</td><td>1003</td><td>Blueberry</td></tr><tr><td>0001</td><td>Cake</td><td>0.55</td><td>donut</td><td>5001</td><td>None</td><td>1004</td><td>Devil's Food</td></tr><tr><td>0001</td><td>Cake</td><td>0.55</td><td>donut</td><td>5002</td><td>Glazed</td><td>1001</td><td>Regular</td></tr><tr><td>0001</td><td>Cake</td><td>0.55</td><td>donut</td><td>5002</td><td>Glazed</td><td>1002</td><td>Chocolate</td></tr><tr><td>0001</td><td>Cake</td><td>0.55</td><td>donut</td><td>5002</td><td>Glazed</td><td>1003</td><td>Blueberry</td></tr><tr><td>0001</td><td>Cake</td><td>0.55</td><td>donut</td><td>5002</td><td>Glazed</td><td>1004</td><td>Devil's Food</td></tr><tr><td>0001</td><td>Cake</td><td>0.55</td><td>donut</td><td>5005</td><td>Sugar</td><td>1001</td><td>Regular</td></tr><tr><td>0001</td><td>Cake</td><td>0.55</td><td>donut</td><td>5005</td><td>Sugar</td><td>1002</td><td>Chocolate</td></tr><tr><td>0001</td><td>Cake</td><td>0.55</td><td>donut</td><td>5005</td><td>Sugar</td><td>1003</td><td>Blueberry</td></tr><tr><td>0001</td><td>Cake</td><td>0.55</td><td>donut</td><td>5005</td><td>Sugar</td><td>1004</td><td>Devil's Food</td></tr><tr><td>0001</td><td>Cake</td><td>0.55</td><td>donut</td><td>5007</td><td>Powdered Sugar</td><td>1001</td><td>Regular</td></tr><tr><td>0001</td><td>Cake</td><td>0.55</td><td>donut</td><td>5007</td><td>Powdered Sugar</td><td>1002</td><td>Chocolate</td></tr><tr><td>0001</td><td>Cake</td><td>0.55</td><td>donut</td><td>5007</td><td>Powdered Sugar</td><td>1003</td><td>Blueberry</td></tr><tr><td>0001</td><td>Cake</td><td>0.55</td><td>donut</td><td>5007</td><td>Powdered Sugar</td><td>1004</td><td>Devil's Food</td></tr><tr><td>0001</td><td>Cake</td><td>0.55</td><td>donut</td><td>5006</td><td>Chocolate with Sprinkles</td><td>1001</td><td>Regular</td></tr><tr><td>0001</td><td>Cake</td><td>0.55</td><td>donut</td><td>5006</td><td>Chocolate with Sprinkles</td><td>1002</td><td>Chocolate</td></tr><tr><td>0001</td><td>Cake</td><td>0.55</td><td>donut</td><td>5006</td><td>Chocolate with Sprinkles</td><td>1003</td><td>Blueberry</td></tr><tr><td>0001</td><td>Cake</td><td>0.55</td><td>donut</td><td>5006</td><td>Chocolate with Sprinkles</td><td>1004</td><td>Devil's Food</td></tr><tr><td>0001</td><td>Cake</td><td>0.55</td><td>donut</td><td>5003</td><td>Chocolate</td><td>1001</td><td>Regular</td></tr><tr><td>0001</td><td>Cake</td><td>0.55</td><td>donut</td><td>5003</td><td>Chocolate</td><td>1002</td><td>Chocolate</td></tr><tr><td>0001</td><td>Cake</td><td>0.55</td><td>donut</td><td>5003</td><td>Chocolate</td><td>1003</td><td>Blueberry</td></tr><tr><td>0001</td><td>Cake</td><td>0.55</td><td>donut</td><td>5003</td><td>Chocolate</td><td>1004</td><td>Devil's Food</td></tr><tr><td>0001</td><td>Cake</td><td>0.55</td><td>donut</td><td>5004</td><td>Maple</td><td>1001</td><td>Regular</td></tr><tr><td>0001</td><td>Cake</td><td>0.55</td><td>donut</td><td>5004</td><td>Maple</td><td>1002</td><td>Chocolate</td></tr><tr><td>0001</td><td>Cake</td><td>0.55</td><td>donut</td><td>5004</td><td>Maple</td><td>1003</td><td>Blueberry</td></tr><tr><td>0001</td><td>Cake</td><td>0.55</td><td>donut</td><td>5004</td><td>Maple</td><td>1004</td><td>Devil's Food</td></tr></tbody></table></div>"
      ]
     },
     "metadata": {
      "application/vnd.databricks.v1+output": {
       "addedWidgets": {},
       "aggData": [],
       "aggError": "",
       "aggOverflow": false,
       "aggSchema": [],
       "aggSeriesLimitReached": false,
       "aggType": "",
       "arguments": {},
       "columnCustomDisplayInfos": {},
       "data": [
        [
         "0001",
         "Cake",
         0.55,
         "donut",
         "5001",
         "None",
         "1001",
         "Regular"
        ],
        [
         "0001",
         "Cake",
         0.55,
         "donut",
         "5001",
         "None",
         "1002",
         "Chocolate"
        ],
        [
         "0001",
         "Cake",
         0.55,
         "donut",
         "5001",
         "None",
         "1003",
         "Blueberry"
        ],
        [
         "0001",
         "Cake",
         0.55,
         "donut",
         "5001",
         "None",
         "1004",
         "Devil's Food"
        ],
        [
         "0001",
         "Cake",
         0.55,
         "donut",
         "5002",
         "Glazed",
         "1001",
         "Regular"
        ],
        [
         "0001",
         "Cake",
         0.55,
         "donut",
         "5002",
         "Glazed",
         "1002",
         "Chocolate"
        ],
        [
         "0001",
         "Cake",
         0.55,
         "donut",
         "5002",
         "Glazed",
         "1003",
         "Blueberry"
        ],
        [
         "0001",
         "Cake",
         0.55,
         "donut",
         "5002",
         "Glazed",
         "1004",
         "Devil's Food"
        ],
        [
         "0001",
         "Cake",
         0.55,
         "donut",
         "5005",
         "Sugar",
         "1001",
         "Regular"
        ],
        [
         "0001",
         "Cake",
         0.55,
         "donut",
         "5005",
         "Sugar",
         "1002",
         "Chocolate"
        ],
        [
         "0001",
         "Cake",
         0.55,
         "donut",
         "5005",
         "Sugar",
         "1003",
         "Blueberry"
        ],
        [
         "0001",
         "Cake",
         0.55,
         "donut",
         "5005",
         "Sugar",
         "1004",
         "Devil's Food"
        ],
        [
         "0001",
         "Cake",
         0.55,
         "donut",
         "5007",
         "Powdered Sugar",
         "1001",
         "Regular"
        ],
        [
         "0001",
         "Cake",
         0.55,
         "donut",
         "5007",
         "Powdered Sugar",
         "1002",
         "Chocolate"
        ],
        [
         "0001",
         "Cake",
         0.55,
         "donut",
         "5007",
         "Powdered Sugar",
         "1003",
         "Blueberry"
        ],
        [
         "0001",
         "Cake",
         0.55,
         "donut",
         "5007",
         "Powdered Sugar",
         "1004",
         "Devil's Food"
        ],
        [
         "0001",
         "Cake",
         0.55,
         "donut",
         "5006",
         "Chocolate with Sprinkles",
         "1001",
         "Regular"
        ],
        [
         "0001",
         "Cake",
         0.55,
         "donut",
         "5006",
         "Chocolate with Sprinkles",
         "1002",
         "Chocolate"
        ],
        [
         "0001",
         "Cake",
         0.55,
         "donut",
         "5006",
         "Chocolate with Sprinkles",
         "1003",
         "Blueberry"
        ],
        [
         "0001",
         "Cake",
         0.55,
         "donut",
         "5006",
         "Chocolate with Sprinkles",
         "1004",
         "Devil's Food"
        ],
        [
         "0001",
         "Cake",
         0.55,
         "donut",
         "5003",
         "Chocolate",
         "1001",
         "Regular"
        ],
        [
         "0001",
         "Cake",
         0.55,
         "donut",
         "5003",
         "Chocolate",
         "1002",
         "Chocolate"
        ],
        [
         "0001",
         "Cake",
         0.55,
         "donut",
         "5003",
         "Chocolate",
         "1003",
         "Blueberry"
        ],
        [
         "0001",
         "Cake",
         0.55,
         "donut",
         "5003",
         "Chocolate",
         "1004",
         "Devil's Food"
        ],
        [
         "0001",
         "Cake",
         0.55,
         "donut",
         "5004",
         "Maple",
         "1001",
         "Regular"
        ],
        [
         "0001",
         "Cake",
         0.55,
         "donut",
         "5004",
         "Maple",
         "1002",
         "Chocolate"
        ],
        [
         "0001",
         "Cake",
         0.55,
         "donut",
         "5004",
         "Maple",
         "1003",
         "Blueberry"
        ],
        [
         "0001",
         "Cake",
         0.55,
         "donut",
         "5004",
         "Maple",
         "1004",
         "Devil's Food"
        ]
       ],
       "datasetInfos": [],
       "dbfsResultPath": null,
       "isJsonSchema": true,
       "metadata": {},
       "overflow": false,
       "plotOptions": {
        "customPlotOptions": {},
        "displayType": "table",
        "pivotAggregation": null,
        "pivotColumns": null,
        "xColumns": null,
        "yColumns": null
       },
       "removedWidgets": [],
       "schema": [
        {
         "metadata": "{}",
         "name": "id",
         "type": "\"string\""
        },
        {
         "metadata": "{}",
         "name": "name",
         "type": "\"string\""
        },
        {
         "metadata": "{}",
         "name": "ppu",
         "type": "\"double\""
        },
        {
         "metadata": "{}",
         "name": "type",
         "type": "\"string\""
        },
        {
         "metadata": "{}",
         "name": "topping_id",
         "type": "\"string\""
        },
        {
         "metadata": "{}",
         "name": "topping_type",
         "type": "\"string\""
        },
        {
         "metadata": "{}",
         "name": "batter_id",
         "type": "\"string\""
        },
        {
         "metadata": "{}",
         "name": "batter_type",
         "type": "\"string\""
        }
       ],
       "type": "table"
      }
     },
     "output_type": "display_data"
    }
   ],
   "source": [
    "from pyspark.sql.functions import *\n",
    "df_topping_explode=df.withColumn(\"topping_explode\",explode(col('topping')))\\\n",
    "                     .withColumn(\"topping_id\",col(\"topping_explode.id\"))\\\n",
    "                    .withColumn(\"topping_type\",col(\"topping_explode.type\"))\\\n",
    "                     .drop(\"topping\",\"topping_explode\")\\\n",
    "                .withColumn(\"batter_explode\",explode(\"batters.batter\"))\\\n",
    "                .withColumn(\"batter_id\",col(\"batter_explode.id\"))\\\n",
    "                .withColumn(\"batter_type\",col(\"batter_explode.type\"))\\\n",
    "                .drop(\"batters\",\"batter_explode\")\n",
    "\n",
    "\n",
    "display(df_topping_explode)"
   ]
  }
 ],
 "metadata": {
  "application/vnd.databricks.v1+notebook": {
   "dashboards": [],
   "environmentMetadata": null,
   "language": "python",
   "notebookMetadata": {
    "pythonIndentUnit": 4
   },
   "notebookName": "how to handle complex json",
   "widgets": {}
  }
 },
 "nbformat": 4,
 "nbformat_minor": 0
}
