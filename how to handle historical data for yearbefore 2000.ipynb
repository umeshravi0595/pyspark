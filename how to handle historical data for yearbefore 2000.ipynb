{
 "cells": [
  {
   "cell_type": "code",
   "execution_count": 0,
   "metadata": {
    "application/vnd.databricks.v1+cell": {
     "cellMetadata": {
      "byteLimit": 2048000,
      "rowLimit": 10000
     },
     "inputWidgets": {},
     "nuid": "99777b29-4327-48b8-88f6-5f85ee1e6e74",
     "showTitle": false,
     "title": ""
    }
   },
   "outputs": [
    {
     "output_type": "stream",
     "name": "stdout",
     "output_type": "stream",
     "text": [
      "Wrote 719 bytes.\nOut[1]: True"
     ]
    }
   ],
   "source": [
    "dbutils.fs.put(\"/FileStore/tables/emp_data.csv\",\"\"\"EMPNO,ENAME,JOB,MGR,HIREDATE,SAL,COMM,DEPTNO\n",
    "7369,SMITH,CLERK,7902,17-12-80,800,null,20\n",
    "7499,ALLEN,SALESMAN,7698,20-02-81,1600,300,30\n",
    "7521,WARD,SALESMAN,7698,22-02-81,1250,500,30\n",
    "7566,JONES,MANAGER,7839,04-02-81,2975,null,20\n",
    "7654,MARTIN,SALESMAN,7698,21-09-81,1250,1400,30\n",
    "7698,SGR,MANAGER,7839,05-01-81,2850,null,30\n",
    "7782,RAVI,MANAGER,7839,06-09-81,2450,null,10\n",
    "7788,SCOTT,ANALYST,7566,19-04-87,3000,null,20\n",
    "7839,KING,PRESIDENT,null,01-11-81,5000,null,10\n",
    "7844,TURNER,SALESMAN,7698,09-08-81,1500,0,30\n",
    "7876,ADAMS,CLERK,7788,23-05-87,1100,null,20\n",
    "7900,JAMES,CLERK,7698,12-03-81,950,null,30\n",
    "7902,FORD,ANALYST,7566,12-03-81,3000,null,20\n",
    "7934,MILLER,CLERK,7782,01-03-82,1300,null,10\n",
    "1234,SEKHAR,doctor,7777,31-12-99,667,78,80\"\"\",True)"
   ]
  },
  {
   "cell_type": "code",
   "execution_count": 0,
   "metadata": {
    "application/vnd.databricks.v1+cell": {
     "cellMetadata": {
      "byteLimit": 2048000,
      "rowLimit": 10000
     },
     "inputWidgets": {},
     "nuid": "56754f1a-43cd-4e47-ab95-910174c2a89a",
     "showTitle": false,
     "title": ""
    }
   },
   "outputs": [
    {
     "output_type": "display_data",
     "data": {
      "text/html": [
       "<style scoped>\n",
       "  .table-result-container {\n",
       "    max-height: 300px;\n",
       "    overflow: auto;\n",
       "  }\n",
       "  table, th, td {\n",
       "    border: 1px solid black;\n",
       "    border-collapse: collapse;\n",
       "  }\n",
       "  th, td {\n",
       "    padding: 5px;\n",
       "  }\n",
       "  th {\n",
       "    text-align: left;\n",
       "  }\n",
       "</style><div class='table-result-container'><table class='table-result'><thead style='background-color: white'><tr><th>EMPNO</th><th>ENAME</th><th>JOB</th><th>MGR</th><th>HIREDATE</th><th>SAL</th><th>COMM</th><th>DEPTNO</th></tr></thead><tbody><tr><td>7369</td><td>SMITH</td><td>CLERK</td><td>7902</td><td>17-12-80</td><td>800</td><td>null</td><td>20</td></tr><tr><td>7499</td><td>ALLEN</td><td>SALESMAN</td><td>7698</td><td>20-02-81</td><td>1600</td><td>300</td><td>30</td></tr><tr><td>7521</td><td>WARD</td><td>SALESMAN</td><td>7698</td><td>22-02-81</td><td>1250</td><td>500</td><td>30</td></tr><tr><td>7566</td><td>JONES</td><td>MANAGER</td><td>7839</td><td>04-02-81</td><td>2975</td><td>null</td><td>20</td></tr><tr><td>7654</td><td>MARTIN</td><td>SALESMAN</td><td>7698</td><td>21-09-81</td><td>1250</td><td>1400</td><td>30</td></tr><tr><td>7698</td><td>SGR</td><td>MANAGER</td><td>7839</td><td>05-01-81</td><td>2850</td><td>null</td><td>30</td></tr><tr><td>7782</td><td>RAVI</td><td>MANAGER</td><td>7839</td><td>06-09-81</td><td>2450</td><td>null</td><td>10</td></tr><tr><td>7788</td><td>SCOTT</td><td>ANALYST</td><td>7566</td><td>19-04-87</td><td>3000</td><td>null</td><td>20</td></tr><tr><td>7839</td><td>KING</td><td>PRESIDENT</td><td>null</td><td>01-11-81</td><td>5000</td><td>null</td><td>10</td></tr><tr><td>7844</td><td>TURNER</td><td>SALESMAN</td><td>7698</td><td>09-08-81</td><td>1500</td><td>0</td><td>30</td></tr><tr><td>7876</td><td>ADAMS</td><td>CLERK</td><td>7788</td><td>23-05-87</td><td>1100</td><td>null</td><td>20</td></tr><tr><td>7900</td><td>JAMES</td><td>CLERK</td><td>7698</td><td>12-03-81</td><td>950</td><td>null</td><td>30</td></tr><tr><td>7902</td><td>FORD</td><td>ANALYST</td><td>7566</td><td>12-03-81</td><td>3000</td><td>null</td><td>20</td></tr><tr><td>7934</td><td>MILLER</td><td>CLERK</td><td>7782</td><td>01-03-82</td><td>1300</td><td>null</td><td>10</td></tr><tr><td>1234</td><td>SEKHAR</td><td>doctor</td><td>7777</td><td>31-12-99</td><td>667</td><td>78</td><td>80</td></tr></tbody></table></div>"
      ]
     },
     "metadata": {
      "application/vnd.databricks.v1+output": {
       "addedWidgets": {},
       "aggData": [],
       "aggError": "",
       "aggOverflow": false,
       "aggSchema": [],
       "aggSeriesLimitReached": false,
       "aggType": "",
       "arguments": {},
       "columnCustomDisplayInfos": {},
       "data": [
        [
         "7369",
         "SMITH",
         "CLERK",
         "7902",
         "17-12-80",
         "800",
         null,
         "20"
        ],
        [
         "7499",
         "ALLEN",
         "SALESMAN",
         "7698",
         "20-02-81",
         "1600",
         "300",
         "30"
        ],
        [
         "7521",
         "WARD",
         "SALESMAN",
         "7698",
         "22-02-81",
         "1250",
         "500",
         "30"
        ],
        [
         "7566",
         "JONES",
         "MANAGER",
         "7839",
         "04-02-81",
         "2975",
         null,
         "20"
        ],
        [
         "7654",
         "MARTIN",
         "SALESMAN",
         "7698",
         "21-09-81",
         "1250",
         "1400",
         "30"
        ],
        [
         "7698",
         "SGR",
         "MANAGER",
         "7839",
         "05-01-81",
         "2850",
         null,
         "30"
        ],
        [
         "7782",
         "RAVI",
         "MANAGER",
         "7839",
         "06-09-81",
         "2450",
         null,
         "10"
        ],
        [
         "7788",
         "SCOTT",
         "ANALYST",
         "7566",
         "19-04-87",
         "3000",
         null,
         "20"
        ],
        [
         "7839",
         "KING",
         "PRESIDENT",
         null,
         "01-11-81",
         "5000",
         null,
         "10"
        ],
        [
         "7844",
         "TURNER",
         "SALESMAN",
         "7698",
         "09-08-81",
         "1500",
         "0",
         "30"
        ],
        [
         "7876",
         "ADAMS",
         "CLERK",
         "7788",
         "23-05-87",
         "1100",
         null,
         "20"
        ],
        [
         "7900",
         "JAMES",
         "CLERK",
         "7698",
         "12-03-81",
         "950",
         null,
         "30"
        ],
        [
         "7902",
         "FORD",
         "ANALYST",
         "7566",
         "12-03-81",
         "3000",
         null,
         "20"
        ],
        [
         "7934",
         "MILLER",
         "CLERK",
         "7782",
         "01-03-82",
         "1300",
         null,
         "10"
        ],
        [
         "1234",
         "SEKHAR",
         "doctor",
         "7777",
         "31-12-99",
         "667",
         "78",
         "80"
        ]
       ],
       "datasetInfos": [],
       "dbfsResultPath": null,
       "isJsonSchema": true,
       "metadata": {},
       "overflow": false,
       "plotOptions": {
        "customPlotOptions": {},
        "displayType": "table",
        "pivotAggregation": null,
        "pivotColumns": null,
        "xColumns": null,
        "yColumns": null
       },
       "removedWidgets": [],
       "schema": [
        {
         "metadata": "{}",
         "name": "EMPNO",
         "type": "\"string\""
        },
        {
         "metadata": "{}",
         "name": "ENAME",
         "type": "\"string\""
        },
        {
         "metadata": "{}",
         "name": "JOB",
         "type": "\"string\""
        },
        {
         "metadata": "{}",
         "name": "MGR",
         "type": "\"string\""
        },
        {
         "metadata": "{}",
         "name": "HIREDATE",
         "type": "\"string\""
        },
        {
         "metadata": "{}",
         "name": "SAL",
         "type": "\"string\""
        },
        {
         "metadata": "{}",
         "name": "COMM",
         "type": "\"string\""
        },
        {
         "metadata": "{}",
         "name": "DEPTNO",
         "type": "\"string\""
        }
       ],
       "type": "table"
      }
     },
     "output_type": "display_data"
    }
   ],
   "source": [
    "df=spark.read.option(\"nullValue\",\"null\").csv(\"/FileStore/tables/emp_data.csv\",header=True)\n",
    "display(df)"
   ]
  },
  {
   "cell_type": "code",
   "execution_count": 0,
   "metadata": {
    "application/vnd.databricks.v1+cell": {
     "cellMetadata": {
      "byteLimit": 2048000,
      "rowLimit": 10000
     },
     "inputWidgets": {},
     "nuid": "995a638e-c34c-40fc-98f5-5d4be7d7cd9d",
     "showTitle": false,
     "title": ""
    }
   },
   "outputs": [],
   "source": []
  },
  {
   "cell_type": "code",
   "execution_count": 0,
   "metadata": {
    "application/vnd.databricks.v1+cell": {
     "cellMetadata": {
      "byteLimit": 2048000,
      "rowLimit": 10000
     },
     "inputWidgets": {},
     "nuid": "60174af2-5469-4d4e-9a1c-f8bc056d26f1",
     "showTitle": false,
     "title": ""
    }
   },
   "outputs": [
    {
     "output_type": "stream",
     "name": "stdout",
     "output_type": "stream",
     "text": [
      "+-----+------+---------+----+--------+----+----+------+----------+-----------+\n|EMPNO| ENAME|      JOB| MGR|HIREDATE| SAL|COMM|DEPTNO|      date|date_format|\n+-----+------+---------+----+--------+----+----+------+----------+-----------+\n| 7369| SMITH|    CLERK|7902|17-12-80| 800|null|    20|2080-12-17| 2080.12.17|\n| 7499| ALLEN| SALESMAN|7698|20-02-81|1600| 300|    30|2081-02-20| 2081.02.20|\n| 7521|  WARD| SALESMAN|7698|22-02-81|1250| 500|    30|2081-02-22| 2081.02.22|\n| 7566| JONES|  MANAGER|7839|04-02-81|2975|null|    20|2081-02-04| 2081.02.04|\n| 7654|MARTIN| SALESMAN|7698|21-09-81|1250|1400|    30|2081-09-21| 2081.09.21|\n| 7698|   SGR|  MANAGER|7839|05-01-81|2850|null|    30|2081-01-05| 2081.01.05|\n| 7782|  RAVI|  MANAGER|7839|06-09-81|2450|null|    10|2081-09-06| 2081.09.06|\n| 7788| SCOTT|  ANALYST|7566|19-04-87|3000|null|    20|2087-04-19| 2087.04.19|\n| 7839|  KING|PRESIDENT|null|01-11-81|5000|null|    10|2081-11-01| 2081.11.01|\n| 7844|TURNER| SALESMAN|7698|09-08-81|1500|   0|    30|2081-08-09| 2081.08.09|\n| 7876| ADAMS|    CLERK|7788|23-05-87|1100|null|    20|2087-05-23| 2087.05.23|\n| 7900| JAMES|    CLERK|7698|12-03-81| 950|null|    30|2081-03-12| 2081.03.12|\n| 7902|  FORD|  ANALYST|7566|12-03-81|3000|null|    20|2081-03-12| 2081.03.12|\n| 7934|MILLER|    CLERK|7782|01-03-82|1300|null|    10|2082-03-01| 2082.03.01|\n| 1234|SEKHAR|   doctor|7777|31-12-99| 667|  78|    80|2099-12-31| 2099.12.31|\n+-----+------+---------+----+--------+----+----+------+----------+-----------+\n\n"
     ]
    }
   ],
   "source": [
    "from pyspark.sql.functions import *\n",
    "#to_date to_date will convert string data type to date datatype and if we have date with different format we can use to date to change it to default spark format (yyyy-MM-dd)\n",
    "df_date=df.withColumn(\"date\",to_date(col('HIREDATE'),'dd-MM-yy'))\n",
    "# date_format will conver date format to string format \n",
    "df_date_format=df_date.withColumn(\"date_format\",date_format(col('date'),'yyyy.MM.dd'))\n",
    "df_date_format.show()"
   ]
  },
  {
   "cell_type": "code",
   "execution_count": 0,
   "metadata": {
    "application/vnd.databricks.v1+cell": {
     "cellMetadata": {
      "byteLimit": 2048000,
      "rowLimit": 10000
     },
     "inputWidgets": {},
     "nuid": "9e495db7-1c84-4dec-b95c-0dc5adb343ef",
     "showTitle": false,
     "title": ""
    }
   },
   "outputs": [
    {
     "output_type": "stream",
     "name": "stdout",
     "output_type": "stream",
     "text": [
      "+-----+------+---------+----+--------+----+----+------+---+-----+----+\n|EMPNO| ENAME|      JOB| MGR|HIREDATE| SAL|COMM|DEPTNO|day|month|year|\n+-----+------+---------+----+--------+----+----+------+---+-----+----+\n| 7369| SMITH|    CLERK|7902|17-12-80| 800|null|    20| 17|   12|  80|\n| 7499| ALLEN| SALESMAN|7698|20-02-81|1600| 300|    30| 20|   02|  81|\n| 7521|  WARD| SALESMAN|7698|22-02-81|1250| 500|    30| 22|   02|  81|\n| 7566| JONES|  MANAGER|7839|04-02-81|2975|null|    20| 04|   02|  81|\n| 7654|MARTIN| SALESMAN|7698|21-09-81|1250|1400|    30| 21|   09|  81|\n| 7698|   SGR|  MANAGER|7839|05-01-81|2850|null|    30| 05|   01|  81|\n| 7782|  RAVI|  MANAGER|7839|06-09-81|2450|null|    10| 06|   09|  81|\n| 7788| SCOTT|  ANALYST|7566|19-04-87|3000|null|    20| 19|   04|  87|\n| 7839|  KING|PRESIDENT|null|01-11-81|5000|null|    10| 01|   11|  81|\n| 7844|TURNER| SALESMAN|7698|09-08-81|1500|   0|    30| 09|   08|  81|\n| 7876| ADAMS|    CLERK|7788|23-05-87|1100|null|    20| 23|   05|  87|\n| 7900| JAMES|    CLERK|7698|12-03-81| 950|null|    30| 12|   03|  81|\n| 7902|  FORD|  ANALYST|7566|12-03-81|3000|null|    20| 12|   03|  81|\n| 7934|MILLER|    CLERK|7782|01-03-82|1300|null|    10| 01|   03|  82|\n| 1234|SEKHAR|   doctor|7777|31-12-99| 667|  78|    80| 31|   12|  99|\n+-----+------+---------+----+--------+----+----+------+---+-----+----+\n\n"
     ]
    }
   ],
   "source": [
    "df_split=df_split = df.withColumn(\"day\", expr(\"substring(HIREDATE, 1, 2)\")) \\\n",
    "             .withColumn(\"month\", expr(\"substring(HIREDATE, 4, 2)\")) \\\n",
    "             .withColumn(\"year\", expr(\"substring(HIREDATE, 7, 2)\"))\n",
    "df_split.show()\n",
    "\n"
   ]
  },
  {
   "cell_type": "code",
   "execution_count": 0,
   "metadata": {
    "application/vnd.databricks.v1+cell": {
     "cellMetadata": {
      "byteLimit": 2048000,
      "rowLimit": 10000
     },
     "inputWidgets": {},
     "nuid": "1dece39a-e3a2-4366-943c-2891190e7a5b",
     "showTitle": false,
     "title": ""
    }
   },
   "outputs": [
    {
     "output_type": "stream",
     "name": "stdout",
     "output_type": "stream",
     "text": [
      "+-----+------+---------+----+--------+----+----+------+---+-----+----+\n|EMPNO| ENAME|      JOB| MGR|HIREDATE| SAL|COMM|DEPTNO|day|month|year|\n+-----+------+---------+----+--------+----+----+------+---+-----+----+\n| 7369| SMITH|    CLERK|7902|17-12-80| 800|null|    20| 17|   12|1980|\n| 7499| ALLEN| SALESMAN|7698|20-02-81|1600| 300|    30| 20|   02|1981|\n| 7521|  WARD| SALESMAN|7698|22-02-81|1250| 500|    30| 22|   02|1981|\n| 7566| JONES|  MANAGER|7839|04-02-81|2975|null|    20| 04|   02|1981|\n| 7654|MARTIN| SALESMAN|7698|21-09-81|1250|1400|    30| 21|   09|1981|\n| 7698|   SGR|  MANAGER|7839|05-01-81|2850|null|    30| 05|   01|1981|\n| 7782|  RAVI|  MANAGER|7839|06-09-81|2450|null|    10| 06|   09|1981|\n| 7788| SCOTT|  ANALYST|7566|19-04-87|3000|null|    20| 19|   04|1987|\n| 7839|  KING|PRESIDENT|null|01-11-81|5000|null|    10| 01|   11|1981|\n| 7844|TURNER| SALESMAN|7698|09-08-81|1500|   0|    30| 09|   08|1981|\n| 7876| ADAMS|    CLERK|7788|23-05-87|1100|null|    20| 23|   05|1987|\n| 7900| JAMES|    CLERK|7698|12-03-81| 950|null|    30| 12|   03|1981|\n| 7902|  FORD|  ANALYST|7566|12-03-81|3000|null|    20| 12|   03|1981|\n| 7934|MILLER|    CLERK|7782|01-03-82|1300|null|    10| 01|   03|1982|\n| 1234|SEKHAR|   doctor|7777|31-12-99| 667|  78|    80| 31|   12|1999|\n+-----+------+---------+----+--------+----+----+------+---+-----+----+\n\n"
     ]
    }
   ],
   "source": [
    "# Adjust the year to correct the century\n",
    "df_adjusted = df_split.withColumn(\n",
    "    \"year\",\n",
    "    when(col(\"year\").cast(\"int\") > 50, concat(lit(\"19\"), col(\"year\")))\n",
    "    .otherwise(concat(lit(\"20\"), col(\"year\")))\n",
    ")\n",
    "df_adjusted.show()"
   ]
  },
  {
   "cell_type": "code",
   "execution_count": 0,
   "metadata": {
    "application/vnd.databricks.v1+cell": {
     "cellMetadata": {
      "byteLimit": 2048000,
      "rowLimit": 10000
     },
     "inputWidgets": {},
     "nuid": "c4cd850c-2bdd-4e6d-b34f-ea8431c168e0",
     "showTitle": false,
     "title": ""
    }
   },
   "outputs": [
    {
     "output_type": "stream",
     "name": "stdout",
     "output_type": "stream",
     "text": [
      "+-----+------+---------+----+--------+----+----+------+---+-----+----+-------------------+\n|EMPNO| ENAME|      JOB| MGR|HIREDATE| SAL|COMM|DEPTNO|day|month|year|hiredate_historical|\n+-----+------+---------+----+--------+----+----+------+---+-----+----+-------------------+\n| 7369| SMITH|    CLERK|7902|17-12-80| 800|null|    20| 17|   12|1980|         17-12-1980|\n| 7499| ALLEN| SALESMAN|7698|20-02-81|1600| 300|    30| 20|   02|1981|         20-02-1981|\n| 7521|  WARD| SALESMAN|7698|22-02-81|1250| 500|    30| 22|   02|1981|         22-02-1981|\n| 7566| JONES|  MANAGER|7839|04-02-81|2975|null|    20| 04|   02|1981|         04-02-1981|\n| 7654|MARTIN| SALESMAN|7698|21-09-81|1250|1400|    30| 21|   09|1981|         21-09-1981|\n| 7698|   SGR|  MANAGER|7839|05-01-81|2850|null|    30| 05|   01|1981|         05-01-1981|\n| 7782|  RAVI|  MANAGER|7839|06-09-81|2450|null|    10| 06|   09|1981|         06-09-1981|\n| 7788| SCOTT|  ANALYST|7566|19-04-87|3000|null|    20| 19|   04|1987|         19-04-1987|\n| 7839|  KING|PRESIDENT|null|01-11-81|5000|null|    10| 01|   11|1981|         01-11-1981|\n| 7844|TURNER| SALESMAN|7698|09-08-81|1500|   0|    30| 09|   08|1981|         09-08-1981|\n| 7876| ADAMS|    CLERK|7788|23-05-87|1100|null|    20| 23|   05|1987|         23-05-1987|\n| 7900| JAMES|    CLERK|7698|12-03-81| 950|null|    30| 12|   03|1981|         12-03-1981|\n| 7902|  FORD|  ANALYST|7566|12-03-81|3000|null|    20| 12|   03|1981|         12-03-1981|\n| 7934|MILLER|    CLERK|7782|01-03-82|1300|null|    10| 01|   03|1982|         01-03-1982|\n| 1234|SEKHAR|   doctor|7777|31-12-99| 667|  78|    80| 31|   12|1999|         31-12-1999|\n+-----+------+---------+----+--------+----+----+------+---+-----+----+-------------------+\n\n"
     ]
    }
   ],
   "source": [
    "df_historical_date=df_adjusted.withColumn(\"hiredate_historical\",concat_ws(\"-\",col('day'),col('month'),col('year')))\n",
    "df_historical_date.show()"
   ]
  }
 ],
 "metadata": {
  "application/vnd.databricks.v1+notebook": {
   "dashboards": [],
   "environmentMetadata": null,
   "language": "python",
   "notebookMetadata": {
    "pythonIndentUnit": 4
   },
   "notebookName": "how to handle historical data for yearbefore 2000",
   "widgets": {}
  }
 },
 "nbformat": 4,
 "nbformat_minor": 0
}
