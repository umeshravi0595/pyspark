{
 "cells": [
  {
   "cell_type": "markdown",
   "metadata": {
    "application/vnd.databricks.v1+cell": {
     "cellMetadata": {},
     "inputWidgets": {},
     "nuid": "6ac7e7d4-239f-4a9d-b56f-4625eb95f062",
     "showTitle": false,
     "title": ""
    }
   },
   "source": [
    "1. Read the input testfile (Pipe delimited) provided as a \"Spark RDD\" \n",
    "\n",
    "2. Remove the Header Record from the RDD\n",
    "\n",
    "3. Calculate Final_Price:\n",
    "\n",
    "       Final_Price = (Size * Price_SQ_FT)\n",
    "\n",
    "4. Save the final rdd asTextfile with three fields\n",
    "\n",
    "        Property_ID|Location|Final_Price\n",
    "\n"
   ]
  },
  {
   "cell_type": "code",
   "execution_count": 0,
   "metadata": {
    "application/vnd.databricks.v1+cell": {
     "cellMetadata": {
      "byteLimit": 2048000,
      "rowLimit": 10000
     },
     "inputWidgets": {},
     "nuid": "9a0aeca0-5466-4464-a8e2-bad2a467b051",
     "showTitle": false,
     "title": ""
    }
   },
   "outputs": [
    {
     "output_type": "display_data",
     "data": {
      "text/html": [
       "<style scoped>\n",
       "  .ansiout {\n",
       "    display: block;\n",
       "    unicode-bidi: embed;\n",
       "    white-space: pre-wrap;\n",
       "    word-wrap: break-word;\n",
       "    word-break: break-all;\n",
       "    font-family: \"Menlo\", \"Monaco\", \"Consolas\", \"Ubuntu Mono\", \"Source Code Pro\", monospace;\n",
       "    font-size: 13px;\n",
       "    color: #555;\n",
       "    margin-left: 4px;\n",
       "    line-height: 19px;\n",
       "  }\n",
       "</style>\n",
       "<div class=\"ansiout\">Property_ID|Location|Price|Bedrooms|Bathrooms|Size|Price_SQ_FT|Status\r\n",
       "1461262|Arroyo Grande|795000|3|3|2371|365.3|Short Sale\r\n",
       "1478004|Paulo Pablo|399000|4|3|2818|163.59|Short Sale\r\n",
       "1486551|Paulo Pablo|545000|4|3|3032|179.75|Short Sale\r\n",
       "1492832|Santa Bay|909000|4|4|3540|286.78|Short Sale\r\n",
       "1499102|Thomas Country|109900|3|1|1249|98.99|Short Sale\r\n",
       "1489132|Thomas Country|109000|2|1|1129|93.99|Short Sale\r\n",
       "1467262|Fort Worth|987000|4|3|2771|465.3|Short Sale\r\n",
       "1478114|Paulo Pablo|409000|4|3|2918|223.19|Short Sale\r\n",
       "1402551|Nashville|545000|4|3|2932|169.75|Short Sale\r\n",
       "1405832|San Jose|980000|4|4|3340|290.98|Short Sale\r\n",
       "1493302|Fort Worth|119900|3|2|2249|198.99|Short Sale\r\n",
       "1412332|Thomas Country|129000|3|2|1329|73.99|Short Sale\r\n",
       "1469062|Arroyo Grande|798000|3|4|2321|235.9|Short Sale\r\n",
       "1498004|Nashville|789000|4|3|2419|263.59|Short Sale\r\n",
       "1586751|Nashville|896000|4|3|3132|199.75|Short Sale\r\n",
       "1433232|Glendale|987000|4|4|3340|216.78|Short Sale\r\n",
       "1495502|Fort Worth|219900|3|2|987|200.99|Short Sale\r\n",
       "1489100|San Jose|107200|1|1|789|78.99|Short Sale\n",
       "</div>"
      ]
     },
     "metadata": {
      "application/vnd.databricks.v1+output": {
       "addedWidgets": {},
       "arguments": {},
       "data": "<div class=\"ansiout\">Property_ID|Location|Price|Bedrooms|Bathrooms|Size|Price_SQ_FT|Status\r\n1461262|Arroyo Grande|795000|3|3|2371|365.3|Short Sale\r\n1478004|Paulo Pablo|399000|4|3|2818|163.59|Short Sale\r\n1486551|Paulo Pablo|545000|4|3|3032|179.75|Short Sale\r\n1492832|Santa Bay|909000|4|4|3540|286.78|Short Sale\r\n1499102|Thomas Country|109900|3|1|1249|98.99|Short Sale\r\n1489132|Thomas Country|109000|2|1|1129|93.99|Short Sale\r\n1467262|Fort Worth|987000|4|3|2771|465.3|Short Sale\r\n1478114|Paulo Pablo|409000|4|3|2918|223.19|Short Sale\r\n1402551|Nashville|545000|4|3|2932|169.75|Short Sale\r\n1405832|San Jose|980000|4|4|3340|290.98|Short Sale\r\n1493302|Fort Worth|119900|3|2|2249|198.99|Short Sale\r\n1412332|Thomas Country|129000|3|2|1329|73.99|Short Sale\r\n1469062|Arroyo Grande|798000|3|4|2321|235.9|Short Sale\r\n1498004|Nashville|789000|4|3|2419|263.59|Short Sale\r\n1586751|Nashville|896000|4|3|3132|199.75|Short Sale\r\n1433232|Glendale|987000|4|4|3340|216.78|Short Sale\r\n1495502|Fort Worth|219900|3|2|987|200.99|Short Sale\r\n1489100|San Jose|107200|1|1|789|78.99|Short Sale\n</div>",
       "datasetInfos": [],
       "metadata": {
        "isDbfsCommandResult": false
       },
       "removedWidgets": [],
       "type": "html"
      }
     },
     "output_type": "display_data"
    }
   ],
   "source": [
    "%fs head \"/FileStore/tables/real_estate.txt\""
   ]
  },
  {
   "cell_type": "code",
   "execution_count": 0,
   "metadata": {
    "application/vnd.databricks.v1+cell": {
     "cellMetadata": {
      "byteLimit": 2048000,
      "rowLimit": 10000
     },
     "inputWidgets": {},
     "nuid": "b826e605-e12e-426f-b98c-7d7651f12e4a",
     "showTitle": false,
     "title": ""
    }
   },
   "outputs": [],
   "source": [
    "from pyspark.sql import SparkSession\n",
    "spark=SparkSession.builder.appName(\"demo\").getOrCreate()\n",
    "sc=spark.sparkContext\n",
    "rdd=sc.textFile(\"/FileStore/tables/real_estate.txt\")"
   ]
  },
  {
   "cell_type": "code",
   "execution_count": 0,
   "metadata": {
    "application/vnd.databricks.v1+cell": {
     "cellMetadata": {
      "byteLimit": 2048000,
      "rowLimit": 10000
     },
     "inputWidgets": {},
     "nuid": "4da309a6-cec5-424b-ba64-c6037bde1785",
     "showTitle": false,
     "title": ""
    }
   },
   "outputs": [
    {
     "output_type": "stream",
     "name": "stdout",
     "output_type": "stream",
     "text": [
      "Out[5]: ['1499102|Thomas Country|109900|3|1|1249|98.99|Short Sale',\n '1489132|Thomas Country|109000|2|1|1129|93.99|Short Sale',\n '1467262|Fort Worth|987000|4|3|2771|465.3|Short Sale',\n '1478114|Paulo Pablo|409000|4|3|2918|223.19|Short Sale',\n '1402551|Nashville|545000|4|3|2932|169.75|Short Sale',\n '1405832|San Jose|980000|4|4|3340|290.98|Short Sale',\n '1493302|Fort Worth|119900|3|2|2249|198.99|Short Sale',\n '1412332|Thomas Country|129000|3|2|1329|73.99|Short Sale',\n '1469062|Arroyo Grande|798000|3|4|2321|235.9|Short Sale',\n '1498004|Nashville|789000|4|3|2419|263.59|Short Sale',\n '1586751|Nashville|896000|4|3|3132|199.75|Short Sale',\n '1433232|Glendale|987000|4|4|3340|216.78|Short Sale',\n '1495502|Fort Worth|219900|3|2|987|200.99|Short Sale',\n '1489100|San Jose|107200|1|1|789|78.99|Short Sale']"
     ]
    }
   ],
   "source": [
    "# how to skip first five lines of a text file\n",
    "rdd1=rdd.zipWithIndex().filter(lambda x: x[1]>=5).map(lambda x: x[0])\n",
    "rdd1.collect()"
   ]
  },
  {
   "cell_type": "code",
   "execution_count": 0,
   "metadata": {
    "application/vnd.databricks.v1+cell": {
     "cellMetadata": {
      "byteLimit": 2048000,
      "rowLimit": 10000
     },
     "inputWidgets": {},
     "nuid": "66be1bcb-457a-4e7e-9496-83c7892ade30",
     "showTitle": false,
     "title": ""
    }
   },
   "outputs": [
    {
     "output_type": "stream",
     "name": "stdout",
     "output_type": "stream",
     "text": [
      "Out[27]: [['1461262',\n  'Arroyo Grande',\n  '795000',\n  '3',\n  '3',\n  '2371',\n  '365.3',\n  'Short Sale'],\n ['1478004',\n  'Paulo Pablo',\n  '399000',\n  '4',\n  '3',\n  '2818',\n  '163.59',\n  'Short Sale'],\n ['1486551',\n  'Paulo Pablo',\n  '545000',\n  '4',\n  '3',\n  '3032',\n  '179.75',\n  'Short Sale'],\n ['1492832', 'Santa Bay', '909000', '4', '4', '3540', '286.78', 'Short Sale'],\n ['1499102',\n  'Thomas Country',\n  '109900',\n  '3',\n  '1',\n  '1249',\n  '98.99',\n  'Short Sale'],\n ['1489132',\n  'Thomas Country',\n  '109000',\n  '2',\n  '1',\n  '1129',\n  '93.99',\n  'Short Sale'],\n ['1467262', 'Fort Worth', '987000', '4', '3', '2771', '465.3', 'Short Sale'],\n ['1478114',\n  'Paulo Pablo',\n  '409000',\n  '4',\n  '3',\n  '2918',\n  '223.19',\n  'Short Sale'],\n ['1402551', 'Nashville', '545000', '4', '3', '2932', '169.75', 'Short Sale'],\n ['1405832', 'San Jose', '980000', '4', '4', '3340', '290.98', 'Short Sale'],\n ['1493302', 'Fort Worth', '119900', '3', '2', '2249', '198.99', 'Short Sale'],\n ['1412332',\n  'Thomas Country',\n  '129000',\n  '3',\n  '2',\n  '1329',\n  '73.99',\n  'Short Sale'],\n ['1469062',\n  'Arroyo Grande',\n  '798000',\n  '3',\n  '4',\n  '2321',\n  '235.9',\n  'Short Sale'],\n ['1498004', 'Nashville', '789000', '4', '3', '2419', '263.59', 'Short Sale'],\n ['1586751', 'Nashville', '896000', '4', '3', '3132', '199.75', 'Short Sale'],\n ['1433232', 'Glendale', '987000', '4', '4', '3340', '216.78', 'Short Sale'],\n ['1495502', 'Fort Worth', '219900', '3', '2', '987', '200.99', 'Short Sale'],\n ['1489100', 'San Jose', '107200', '1', '1', '789', '78.99', 'Short Sale']]"
     ]
    }
   ],
   "source": [
    "text_header=rdd.filter(lambda x: x.startswith(\"Property_ID\"))\n",
    "text_file=rdd.filter(lambda x: not x.startswith(\"Property_ID\"))\n",
    "rdd_textfile=text_file.map(lambda x: x.split('|'))\n",
    "rdd_textfile.collect()"
   ]
  },
  {
   "cell_type": "code",
   "execution_count": 0,
   "metadata": {
    "application/vnd.databricks.v1+cell": {
     "cellMetadata": {
      "byteLimit": 2048000,
      "rowLimit": 10000
     },
     "inputWidgets": {},
     "nuid": "629969ac-0f3a-43f2-88e8-56b71539c907",
     "showTitle": false,
     "title": ""
    }
   },
   "outputs": [],
   "source": [
    "col_list=text_header.first().split('|')\n",
    "h1=col_list.index(\"Property_ID\")\n",
    "h2=col_list.index(\"Location\")\n",
    "h3=col_list.index(\"Size\")\n",
    "h4=col_list.index(\"Price_SQ_FT\")"
   ]
  },
  {
   "cell_type": "code",
   "execution_count": 0,
   "metadata": {
    "application/vnd.databricks.v1+cell": {
     "cellMetadata": {
      "byteLimit": 2048000,
      "rowLimit": 10000
     },
     "inputWidgets": {},
     "nuid": "edc25eb3-ec76-478d-8215-f70f82933e33",
     "showTitle": false,
     "title": ""
    }
   },
   "outputs": [],
   "source": [
    "#Function definition to calculate the final price\n",
    "def mul_price(d1,d2):\n",
    "    res=float(d1)*float(d2)\n",
    "    return str(res)"
   ]
  },
  {
   "cell_type": "code",
   "execution_count": 0,
   "metadata": {
    "application/vnd.databricks.v1+cell": {
     "cellMetadata": {
      "byteLimit": 2048000,
      "rowLimit": 10000
     },
     "inputWidgets": {},
     "nuid": "6c0d993e-2c20-4aae-8c88-7ac8c275d4d8",
     "showTitle": false,
     "title": ""
    }
   },
   "outputs": [
    {
     "output_type": "stream",
     "name": "stdout",
     "output_type": "stream",
     "text": [
      "Out[41]: ['1461262|Arroyo Grande|866126.3',\n '1478004|Paulo Pablo|460996.62',\n '1486551|Paulo Pablo|545002.0',\n '1492832|Santa Bay|1015201.2',\n '1499102|Thomas Country|123638.51',\n '1489132|Thomas Country|106114.70999999999',\n '1467262|Fort Worth|1289346.3',\n '1478114|Paulo Pablo|651268.42',\n '1402551|Nashville|497707.0',\n '1405832|San Jose|971873.2000000001',\n '1493302|Fort Worth|447528.51',\n '1412332|Thomas Country|98332.70999999999',\n '1469062|Arroyo Grande|547523.9',\n '1498004|Nashville|637624.21',\n '1586751|Nashville|625617.0',\n '1433232|Glendale|724045.2',\n '1495502|Fort Worth|198377.13',\n '1489100|San Jose|62323.10999999999']"
     ]
    }
   ],
   "source": [
    "header_output=text_header.map(lambda x : x.split(\"|\")[h1] +\"|\"+x.split(\"|\")[h2]+\"|final_price\")\n",
    "text_output=rdd_textfile.map(lambda x: x[h1]+\"|\"+x[h2]+\"|\" +mul_price(x[h3],x[h4]))\n",
    "text_output.collect()"
   ]
  },
  {
   "cell_type": "code",
   "execution_count": 0,
   "metadata": {
    "application/vnd.databricks.v1+cell": {
     "cellMetadata": {
      "byteLimit": 2048000,
      "rowLimit": 10000
     },
     "inputWidgets": {},
     "nuid": "9cf34c52-df44-471a-8d17-da72a04ba256",
     "showTitle": false,
     "title": ""
    }
   },
   "outputs": [
    {
     "output_type": "stream",
     "name": "stdout",
     "output_type": "stream",
     "text": [
      "Out[43]: ['Property_ID|Location|final_price',\n '1461262|Arroyo Grande|866126.3',\n '1478004|Paulo Pablo|460996.62',\n '1486551|Paulo Pablo|545002.0',\n '1492832|Santa Bay|1015201.2',\n '1499102|Thomas Country|123638.51',\n '1489132|Thomas Country|106114.70999999999',\n '1467262|Fort Worth|1289346.3',\n '1478114|Paulo Pablo|651268.42',\n '1402551|Nashville|497707.0',\n '1405832|San Jose|971873.2000000001',\n '1493302|Fort Worth|447528.51',\n '1412332|Thomas Country|98332.70999999999',\n '1469062|Arroyo Grande|547523.9',\n '1498004|Nashville|637624.21',\n '1586751|Nashville|625617.0',\n '1433232|Glendale|724045.2',\n '1495502|Fort Worth|198377.13',\n '1489100|San Jose|62323.10999999999']"
     ]
    }
   ],
   "source": [
    "final_output=header_output.union(text_output)\n",
    "final_output.collect()"
   ]
  }
 ],
 "metadata": {
  "application/vnd.databricks.v1+notebook": {
   "dashboards": [],
   "environmentMetadata": null,
   "language": "python",
   "notebookMetadata": {
    "mostRecentlyExecutedCommandWithImplicitDF": {
     "commandId": 191980423798931,
     "dataframes": [
      "_sqldf"
     ]
    },
    "pythonIndentUnit": 4
   },
   "notebookName": "clear understanding of map function",
   "widgets": {}
  }
 },
 "nbformat": 4,
 "nbformat_minor": 0
}
