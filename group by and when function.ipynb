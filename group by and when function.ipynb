{
 "cells": [
  {
   "cell_type": "code",
   "execution_count": 0,
   "metadata": {
    "application/vnd.databricks.v1+cell": {
     "cellMetadata": {
      "byteLimit": 2048000,
      "rowLimit": 10000
     },
     "inputWidgets": {},
     "nuid": "368e99e5-9f35-43c0-b186-914af5c03bb0",
     "showTitle": false,
     "title": ""
    }
   },
   "outputs": [
    {
     "output_type": "display_data",
     "data": {
      "text/html": [
       "<style scoped>\n",
       "  .table-result-container {\n",
       "    max-height: 300px;\n",
       "    overflow: auto;\n",
       "  }\n",
       "  table, th, td {\n",
       "    border: 1px solid black;\n",
       "    border-collapse: collapse;\n",
       "  }\n",
       "  th, td {\n",
       "    padding: 5px;\n",
       "  }\n",
       "  th {\n",
       "    text-align: left;\n",
       "  }\n",
       "</style><div class='table-result-container'><table class='table-result'><thead style='background-color: white'><tr><th>Id</th><th>Name</th></tr></thead><tbody><tr><td>1</td><td>Steve</td></tr><tr><td>2</td><td>David</td></tr><tr><td>3</td><td>John</td></tr><tr><td>4</td><td>Shree</td></tr><tr><td>5</td><td>Helen</td></tr></tbody></table></div>"
      ]
     },
     "metadata": {
      "application/vnd.databricks.v1+output": {
       "addedWidgets": {},
       "aggData": [],
       "aggError": "",
       "aggOverflow": false,
       "aggSchema": [],
       "aggSeriesLimitReached": false,
       "aggType": "",
       "arguments": {},
       "columnCustomDisplayInfos": {},
       "data": [
        [
         1,
         "Steve"
        ],
        [
         2,
         "David"
        ],
        [
         3,
         "John"
        ],
        [
         4,
         "Shree"
        ],
        [
         5,
         "Helen"
        ]
       ],
       "datasetInfos": [],
       "dbfsResultPath": null,
       "isJsonSchema": true,
       "metadata": {},
       "overflow": false,
       "plotOptions": {
        "customPlotOptions": {},
        "displayType": "table",
        "pivotAggregation": null,
        "pivotColumns": null,
        "xColumns": null,
        "yColumns": null
       },
       "removedWidgets": [],
       "schema": [
        {
         "metadata": "{}",
         "name": "Id",
         "type": "\"long\""
        },
        {
         "metadata": "{}",
         "name": "Name",
         "type": "\"string\""
        }
       ],
       "type": "table"
      }
     },
     "output_type": "display_data"
    },
    {
     "output_type": "display_data",
     "data": {
      "text/html": [
       "<style scoped>\n",
       "  .table-result-container {\n",
       "    max-height: 300px;\n",
       "    overflow: auto;\n",
       "  }\n",
       "  table, th, td {\n",
       "    border: 1px solid black;\n",
       "    border-collapse: collapse;\n",
       "  }\n",
       "  th, td {\n",
       "    padding: 5px;\n",
       "  }\n",
       "  th {\n",
       "    text-align: left;\n",
       "  }\n",
       "</style><div class='table-result-container'><table class='table-result'><thead style='background-color: white'><tr><th>Id</th><th>Subject</th><th>Mark</th></tr></thead><tbody><tr><td>1</td><td>SQL</td><td>90</td></tr><tr><td>1</td><td>PySpark</td><td>100</td></tr><tr><td>2</td><td>SQL</td><td>70</td></tr><tr><td>2</td><td>PySpark</td><td>60</td></tr><tr><td>3</td><td>SQL</td><td>30</td></tr><tr><td>3</td><td>PySpark</td><td>20</td></tr><tr><td>4</td><td>SQL</td><td>50</td></tr><tr><td>4</td><td>PySpark</td><td>50</td></tr><tr><td>5</td><td>SQL</td><td>45</td></tr><tr><td>5</td><td>PySpark</td><td>45</td></tr></tbody></table></div>"
      ]
     },
     "metadata": {
      "application/vnd.databricks.v1+output": {
       "addedWidgets": {},
       "aggData": [],
       "aggError": "",
       "aggOverflow": false,
       "aggSchema": [],
       "aggSeriesLimitReached": false,
       "aggType": "",
       "arguments": {},
       "columnCustomDisplayInfos": {},
       "data": [
        [
         1,
         "SQL",
         90
        ],
        [
         1,
         "PySpark",
         100
        ],
        [
         2,
         "SQL",
         70
        ],
        [
         2,
         "PySpark",
         60
        ],
        [
         3,
         "SQL",
         30
        ],
        [
         3,
         "PySpark",
         20
        ],
        [
         4,
         "SQL",
         50
        ],
        [
         4,
         "PySpark",
         50
        ],
        [
         5,
         "SQL",
         45
        ],
        [
         5,
         "PySpark",
         45
        ]
       ],
       "datasetInfos": [],
       "dbfsResultPath": null,
       "isJsonSchema": true,
       "metadata": {},
       "overflow": false,
       "plotOptions": {
        "customPlotOptions": {},
        "displayType": "table",
        "pivotAggregation": null,
        "pivotColumns": null,
        "xColumns": null,
        "yColumns": null
       },
       "removedWidgets": [],
       "schema": [
        {
         "metadata": "{}",
         "name": "Id",
         "type": "\"long\""
        },
        {
         "metadata": "{}",
         "name": "Subject",
         "type": "\"string\""
        },
        {
         "metadata": "{}",
         "name": "Mark",
         "type": "\"long\""
        }
       ],
       "type": "table"
      }
     },
     "output_type": "display_data"
    }
   ],
   "source": [
    "data1=[(1,\"Steve\"),(2,\"David\"),(3,\"John\"),(4,\"Shree\"),(5,\"Helen\")]\n",
    "data2=[(1,\"SQL\",90),(1,\"PySpark\",100),(2,\"SQL\",70),(2,\"PySpark\",60),(3,\"SQL\",30),(3,\"PySpark\",20),(4,\"SQL\",50),(4,\"PySpark\",50),(5,\"SQL\",45),(5,\"PySpark\",45)]\n",
    "\n",
    "schema1=[\"Id\",\"Name\"]\n",
    "schema2=[\"Id\",\"Subject\",\"Mark\"]\n",
    "\n",
    "df1=spark.createDataFrame(data1,schema1)\n",
    "df2=spark.createDataFrame(data2,schema2)\n",
    "display(df1)\n",
    "display(df2)"
   ]
  },
  {
   "cell_type": "code",
   "execution_count": 0,
   "metadata": {
    "application/vnd.databricks.v1+cell": {
     "cellMetadata": {
      "byteLimit": 2048000,
      "rowLimit": 10000
     },
     "inputWidgets": {},
     "nuid": "029e9591-3584-4bff-88eb-e40e7af2b0a2",
     "showTitle": false,
     "title": ""
    }
   },
   "outputs": [
    {
     "output_type": "display_data",
     "data": {
      "text/html": [
       "<style scoped>\n",
       "  .table-result-container {\n",
       "    max-height: 300px;\n",
       "    overflow: auto;\n",
       "  }\n",
       "  table, th, td {\n",
       "    border: 1px solid black;\n",
       "    border-collapse: collapse;\n",
       "  }\n",
       "  th, td {\n",
       "    padding: 5px;\n",
       "  }\n",
       "  th {\n",
       "    text-align: left;\n",
       "  }\n",
       "</style><div class='table-result-container'><table class='table-result'><thead style='background-color: white'><tr><th>Id</th><th>Subject</th><th>Mark</th><th>Id</th><th>Name</th></tr></thead><tbody><tr><td>1</td><td>SQL</td><td>90</td><td>1</td><td>Steve</td></tr><tr><td>1</td><td>PySpark</td><td>100</td><td>1</td><td>Steve</td></tr><tr><td>2</td><td>SQL</td><td>70</td><td>2</td><td>David</td></tr><tr><td>2</td><td>PySpark</td><td>60</td><td>2</td><td>David</td></tr><tr><td>3</td><td>SQL</td><td>30</td><td>3</td><td>John</td></tr><tr><td>3</td><td>PySpark</td><td>20</td><td>3</td><td>John</td></tr><tr><td>4</td><td>SQL</td><td>50</td><td>4</td><td>Shree</td></tr><tr><td>4</td><td>PySpark</td><td>50</td><td>4</td><td>Shree</td></tr><tr><td>5</td><td>SQL</td><td>45</td><td>5</td><td>Helen</td></tr><tr><td>5</td><td>PySpark</td><td>45</td><td>5</td><td>Helen</td></tr></tbody></table></div>"
      ]
     },
     "metadata": {
      "application/vnd.databricks.v1+output": {
       "addedWidgets": {},
       "aggData": [],
       "aggError": "",
       "aggOverflow": false,
       "aggSchema": [],
       "aggSeriesLimitReached": false,
       "aggType": "",
       "arguments": {},
       "columnCustomDisplayInfos": {},
       "data": [
        [
         1,
         "SQL",
         90,
         1,
         "Steve"
        ],
        [
         1,
         "PySpark",
         100,
         1,
         "Steve"
        ],
        [
         2,
         "SQL",
         70,
         2,
         "David"
        ],
        [
         2,
         "PySpark",
         60,
         2,
         "David"
        ],
        [
         3,
         "SQL",
         30,
         3,
         "John"
        ],
        [
         3,
         "PySpark",
         20,
         3,
         "John"
        ],
        [
         4,
         "SQL",
         50,
         4,
         "Shree"
        ],
        [
         4,
         "PySpark",
         50,
         4,
         "Shree"
        ],
        [
         5,
         "SQL",
         45,
         5,
         "Helen"
        ],
        [
         5,
         "PySpark",
         45,
         5,
         "Helen"
        ]
       ],
       "datasetInfos": [],
       "dbfsResultPath": null,
       "isJsonSchema": true,
       "metadata": {},
       "overflow": false,
       "plotOptions": {
        "customPlotOptions": {},
        "displayType": "table",
        "pivotAggregation": null,
        "pivotColumns": null,
        "xColumns": null,
        "yColumns": null
       },
       "removedWidgets": [],
       "schema": [
        {
         "metadata": "{}",
         "name": "Id",
         "type": "\"long\""
        },
        {
         "metadata": "{}",
         "name": "Subject",
         "type": "\"string\""
        },
        {
         "metadata": "{}",
         "name": "Mark",
         "type": "\"long\""
        },
        {
         "metadata": "{}",
         "name": "Id",
         "type": "\"long\""
        },
        {
         "metadata": "{}",
         "name": "Name",
         "type": "\"string\""
        }
       ],
       "type": "table"
      }
     },
     "output_type": "display_data"
    }
   ],
   "source": [
    "from pyspark.sql.functions import *\n",
    "df_join =df2.join(broadcast (df1),df1.Id==df2.Id,\"left\")\n",
    "\n",
    "display(df_join)"
   ]
  },
  {
   "cell_type": "code",
   "execution_count": 0,
   "metadata": {
    "application/vnd.databricks.v1+cell": {
     "cellMetadata": {
      "byteLimit": 2048000,
      "rowLimit": 10000
     },
     "inputWidgets": {},
     "nuid": "88a5cf76-af87-40e2-878b-1202880bd5d2",
     "showTitle": false,
     "title": ""
    }
   },
   "outputs": [
    {
     "output_type": "stream",
     "name": "stdout",
     "output_type": "stream",
     "text": [
      "== Physical Plan ==\nAdaptiveSparkPlan isFinalPlan=false\n+- BroadcastHashJoin [Id#6L], [Id#2L], LeftOuter, BuildRight, false, true\n   :- Scan ExistingRDD[Id#6L,Subject#7,Mark#8L]\n   +- Exchange SinglePartition, EXECUTOR_BROADCAST, [plan_id=957]\n      +- Filter isnotnull(Id#2L)\n         +- Scan ExistingRDD[Id#2L,Name#3]\n\n\n"
     ]
    }
   ],
   "source": [
    "df_join.explain()"
   ]
  },
  {
   "cell_type": "code",
   "execution_count": 0,
   "metadata": {
    "application/vnd.databricks.v1+cell": {
     "cellMetadata": {
      "byteLimit": 2048000,
      "rowLimit": 10000
     },
     "inputWidgets": {},
     "nuid": "149d4b2a-9ce0-4928-b224-627f7b4fe49d",
     "showTitle": false,
     "title": ""
    }
   },
   "outputs": [
    {
     "output_type": "display_data",
     "data": {
      "text/html": [
       "<style scoped>\n",
       "  .table-result-container {\n",
       "    max-height: 300px;\n",
       "    overflow: auto;\n",
       "  }\n",
       "  table, th, td {\n",
       "    border: 1px solid black;\n",
       "    border-collapse: collapse;\n",
       "  }\n",
       "  th, td {\n",
       "    padding: 5px;\n",
       "  }\n",
       "  th {\n",
       "    text-align: left;\n",
       "  }\n",
       "</style><div class='table-result-container'><table class='table-result'><thead style='background-color: white'><tr><th>Id</th><th>Name</th><th>total_marks</th></tr></thead><tbody><tr><td>1</td><td>Steve</td><td>95.0</td></tr><tr><td>2</td><td>David</td><td>65.0</td></tr><tr><td>3</td><td>John</td><td>25.0</td></tr><tr><td>4</td><td>Shree</td><td>50.0</td></tr><tr><td>5</td><td>Helen</td><td>45.0</td></tr></tbody></table></div>"
      ]
     },
     "metadata": {
      "application/vnd.databricks.v1+output": {
       "addedWidgets": {},
       "aggData": [],
       "aggError": "",
       "aggOverflow": false,
       "aggSchema": [],
       "aggSeriesLimitReached": false,
       "aggType": "",
       "arguments": {},
       "columnCustomDisplayInfos": {},
       "data": [
        [
         1,
         "Steve",
         95.0
        ],
        [
         2,
         "David",
         65.0
        ],
        [
         3,
         "John",
         25.0
        ],
        [
         4,
         "Shree",
         50.0
        ],
        [
         5,
         "Helen",
         45.0
        ]
       ],
       "datasetInfos": [],
       "dbfsResultPath": null,
       "isJsonSchema": true,
       "metadata": {},
       "overflow": false,
       "plotOptions": {
        "customPlotOptions": {},
        "displayType": "table",
        "pivotAggregation": null,
        "pivotColumns": null,
        "xColumns": null,
        "yColumns": null
       },
       "removedWidgets": [],
       "schema": [
        {
         "metadata": "{}",
         "name": "Id",
         "type": "\"long\""
        },
        {
         "metadata": "{}",
         "name": "Name",
         "type": "\"string\""
        },
        {
         "metadata": "{}",
         "name": "total_marks",
         "type": "\"double\""
        }
       ],
       "type": "table"
      }
     },
     "output_type": "display_data"
    }
   ],
   "source": [
    "df3=df_join.select(df1['Id'],df1['Name'],df2['Mark']).groupBy(col(\"Id\"),col(\"Name\")).agg(\n",
    "    sum(col(\"Mark\")/2).alias(\"total_marks\")\n",
    ")\n",
    "display(df3)"
   ]
  },
  {
   "cell_type": "code",
   "execution_count": 0,
   "metadata": {
    "application/vnd.databricks.v1+cell": {
     "cellMetadata": {
      "byteLimit": 2048000,
      "rowLimit": 10000
     },
     "inputWidgets": {},
     "nuid": "c786f946-732a-4212-be7c-4374c880ef62",
     "showTitle": false,
     "title": ""
    }
   },
   "outputs": [
    {
     "output_type": "display_data",
     "data": {
      "text/html": [
       "<style scoped>\n",
       "  .table-result-container {\n",
       "    max-height: 300px;\n",
       "    overflow: auto;\n",
       "  }\n",
       "  table, th, td {\n",
       "    border: 1px solid black;\n",
       "    border-collapse: collapse;\n",
       "  }\n",
       "  th, td {\n",
       "    padding: 5px;\n",
       "  }\n",
       "  th {\n",
       "    text-align: left;\n",
       "  }\n",
       "</style><div class='table-result-container'><table class='table-result'><thead style='background-color: white'><tr><th>Id</th><th>Name</th><th>total_marks</th><th>Grade</th></tr></thead><tbody><tr><td>1</td><td>Steve</td><td>95.0</td><td>Distinction</td></tr><tr><td>2</td><td>David</td><td>65.0</td><td>First class</td></tr><tr><td>3</td><td>John</td><td>25.0</td><td>Fail</td></tr><tr><td>4</td><td>Shree</td><td>50.0</td><td>Pass</td></tr><tr><td>5</td><td>Helen</td><td>45.0</td><td>Pass</td></tr></tbody></table></div>"
      ]
     },
     "metadata": {
      "application/vnd.databricks.v1+output": {
       "addedWidgets": {},
       "aggData": [],
       "aggError": "",
       "aggOverflow": false,
       "aggSchema": [],
       "aggSeriesLimitReached": false,
       "aggType": "",
       "arguments": {},
       "columnCustomDisplayInfos": {},
       "data": [
        [
         1,
         "Steve",
         95.0,
         "Distinction"
        ],
        [
         2,
         "David",
         65.0,
         "First class"
        ],
        [
         3,
         "John",
         25.0,
         "Fail"
        ],
        [
         4,
         "Shree",
         50.0,
         "Pass"
        ],
        [
         5,
         "Helen",
         45.0,
         "Pass"
        ]
       ],
       "datasetInfos": [],
       "dbfsResultPath": null,
       "isJsonSchema": true,
       "metadata": {},
       "overflow": false,
       "plotOptions": {
        "customPlotOptions": {},
        "displayType": "table",
        "pivotAggregation": null,
        "pivotColumns": null,
        "xColumns": null,
        "yColumns": null
       },
       "removedWidgets": [],
       "schema": [
        {
         "metadata": "{}",
         "name": "Id",
         "type": "\"long\""
        },
        {
         "metadata": "{}",
         "name": "Name",
         "type": "\"string\""
        },
        {
         "metadata": "{}",
         "name": "total_marks",
         "type": "\"double\""
        },
        {
         "metadata": "{}",
         "name": "Grade",
         "type": "\"string\""
        }
       ],
       "type": "table"
      }
     },
     "output_type": "display_data"
    }
   ],
   "source": [
    "df3 = df3.withColumn(\"Grade\",\n",
    "                     when(df3.total_marks > 90, \"Distinction\")\n",
    "                     .when(df3.total_marks > 60, \"First class\")\n",
    "                     .when((df3.total_marks <= 50) & (df3.total_marks > 40), \"Pass\")\n",
    "                     .otherwise(\"Fail\"))   \n",
    "                                \n",
    "display(df3)                   "
   ]
  },
  {
   "cell_type": "code",
   "execution_count": 0,
   "metadata": {
    "application/vnd.databricks.v1+cell": {
     "cellMetadata": {},
     "inputWidgets": {},
     "nuid": "96fff92a-9ac3-4e94-8a44-a7ed595a9702",
     "showTitle": false,
     "title": ""
    }
   },
   "outputs": [],
   "source": []
  }
 ],
 "metadata": {
  "application/vnd.databricks.v1+notebook": {
   "dashboards": [],
   "environmentMetadata": null,
   "language": "python",
   "notebookMetadata": {
    "pythonIndentUnit": 4
   },
   "notebookName": "group by and when function",
   "widgets": {}
  }
 },
 "nbformat": 4,
 "nbformat_minor": 0
}
