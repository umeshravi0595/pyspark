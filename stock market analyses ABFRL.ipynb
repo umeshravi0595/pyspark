{
 "cells": [
  {
   "cell_type": "code",
   "execution_count": 0,
   "metadata": {
    "application/vnd.databricks.v1+cell": {
     "cellMetadata": {
      "byteLimit": 2048000,
      "rowLimit": 10000
     },
     "inputWidgets": {},
     "nuid": "8cae5ddf-2a6c-4616-be8a-15a9e7fb8dbe",
     "showTitle": false,
     "title": ""
    }
   },
   "outputs": [],
   "source": [
    "df=spark.read.csv('/FileStore/tables/stocks_df.csv',header=True,inferSchema=True)\n",
    "#display(df)"
   ]
  },
  {
   "cell_type": "code",
   "execution_count": 0,
   "metadata": {
    "application/vnd.databricks.v1+cell": {
     "cellMetadata": {
      "byteLimit": 2048000,
      "rowLimit": 10000
     },
     "inputWidgets": {},
     "nuid": "8607b9d7-7ee3-43f8-a693-3b7a1cc86f8e",
     "showTitle": false,
     "title": ""
    }
   },
   "outputs": [],
   "source": [
    "df1=df.select('Date','Stock','Open','High','Low','Close')\n",
    "#df1.cache()"
   ]
  },
  {
   "cell_type": "code",
   "execution_count": 0,
   "metadata": {
    "application/vnd.databricks.v1+cell": {
     "cellMetadata": {
      "byteLimit": 2048000,
      "rowLimit": 10000
     },
     "inputWidgets": {},
     "nuid": "2bc3b40d-3362-4d80-92b0-950b05f5c27f",
     "showTitle": false,
     "title": ""
    }
   },
   "outputs": [],
   "source": [
    "from pyspark.sql.functions import *\n",
    "df2=df1.withColumn('year',year(col('Date')))\\\n",
    "       .withColumn('month',month(col('Date')))\\\n",
    "       .withColumn('day',dayofmonth(col('Date')))\n"
   ]
  },
  {
   "cell_type": "code",
   "execution_count": 0,
   "metadata": {
    "application/vnd.databricks.v1+cell": {
     "cellMetadata": {
      "byteLimit": 2048000,
      "rowLimit": 10000
     },
     "inputWidgets": {},
     "nuid": "2d3da536-9b18-4240-be7f-2d0a14a04f8e",
     "showTitle": false,
     "title": ""
    }
   },
   "outputs": [
    {
     "output_type": "stream",
     "name": "stdout",
     "output_type": "stream",
     "text": [
      "Out[29]: DataFrame[Date: date, Stock: string, Open: double, High: double, Low: double, Close: double, year: int, month: int, day: int]"
     ]
    }
   ],
   "source": [
    "df2.cache()"
   ]
  },
  {
   "cell_type": "code",
   "execution_count": 0,
   "metadata": {
    "application/vnd.databricks.v1+cell": {
     "cellMetadata": {
      "byteLimit": 2048000,
      "rowLimit": 10000
     },
     "inputWidgets": {},
     "nuid": "ad3feb7b-56c4-4723-8ba0-4522593c3a30",
     "showTitle": false,
     "title": ""
    }
   },
   "outputs": [],
   "source": [
    "from pyspark.sql.window import Window\n",
    "df_rank=df2.withColumn(\"rank\",dense_rank().over(Window.partitionBy(col('year'),col('stock'),col('month')).orderBy(col('date'))))\n",
    "#display(df_rank)"
   ]
  },
  {
   "cell_type": "code",
   "execution_count": 0,
   "metadata": {
    "application/vnd.databricks.v1+cell": {
     "cellMetadata": {
      "byteLimit": 2048000,
      "rowLimit": 10000
     },
     "inputWidgets": {},
     "nuid": "bbd38e2c-4729-4a80-aa25-8f255cb11724",
     "showTitle": false,
     "title": ""
    }
   },
   "outputs": [
    {
     "output_type": "stream",
     "name": "stdout",
     "output_type": "stream",
     "text": [
      "Out[7]: DataFrame[Date: date, Stock: string, Open: double, High: double, Low: double, Close: double, year: int, month: int, day: int, rank: int]"
     ]
    }
   ],
   "source": [
    "df_rank.cache()"
   ]
  },
  {
   "cell_type": "code",
   "execution_count": 0,
   "metadata": {
    "application/vnd.databricks.v1+cell": {
     "cellMetadata": {
      "byteLimit": 2048000,
      "rowLimit": 10000
     },
     "inputWidgets": {},
     "nuid": "9a4f560e-aa78-41ed-84ed-6fc377d27242",
     "showTitle": false,
     "title": ""
    }
   },
   "outputs": [],
   "source": [
    "df_open = df_rank.select('Open', col('year').alias('year_open'), col('month').alias('month_open')) \\\n",
    "                .filter((col('Stock') == 'ABFRL') & (col('rank') == 1)).orderBy(col('year'),col('month'))\n",
    "\n",
    "#display(df_open)\n"
   ]
  },
  {
   "cell_type": "code",
   "execution_count": 0,
   "metadata": {
    "application/vnd.databricks.v1+cell": {
     "cellMetadata": {
      "byteLimit": 2048000,
      "rowLimit": 10000
     },
     "inputWidgets": {},
     "nuid": "0b0d3b85-55fd-41a0-bd74-95d6becb9151",
     "showTitle": false,
     "title": ""
    }
   },
   "outputs": [],
   "source": [
    "df_max_rank=df_rank.filter(col('stock')=='ABFRL').groupBy(col('year').alias('max_year'),col('month').alias('max_month')).agg(max(col('rank')).alias('maxrank')).orderBy(col('year'),col('month'))\n",
    "#display(df_max_rank)\n"
   ]
  },
  {
   "cell_type": "code",
   "execution_count": 0,
   "metadata": {
    "application/vnd.databricks.v1+cell": {
     "cellMetadata": {
      "byteLimit": 2048000,
      "rowLimit": 10000
     },
     "inputWidgets": {},
     "nuid": "5a18d49a-8bc6-4aef-abed-35ae03c262ee",
     "showTitle": false,
     "title": ""
    }
   },
   "outputs": [],
   "source": [
    "df_close = df_rank.join(broadcast(df_max_rank),\n",
    "                        (df_rank['year'] == df_max_rank['max_year']) &\n",
    "                        (df_rank['month'] == df_max_rank['max_month']) &\n",
    "                        (df_rank['rank'] == df_max_rank['maxrank']),\n",
    "                        how='inner')\n",
    "#display(df_close)"
   ]
  },
  {
   "cell_type": "code",
   "execution_count": 0,
   "metadata": {
    "application/vnd.databricks.v1+cell": {
     "cellMetadata": {
      "byteLimit": 2048000,
      "rowLimit": 10000
     },
     "inputWidgets": {},
     "nuid": "94ef947e-0b28-47f0-aec4-6518d718f4d8",
     "showTitle": false,
     "title": ""
    }
   },
   "outputs": [],
   "source": [
    "df_close_filter=df_close.select('Date','Stock','Close','year','month').filter(col('Stock')=='ABFRL').orderBy(col('year'),col('month'))\n",
    "#display(df_close_filter)"
   ]
  },
  {
   "cell_type": "code",
   "execution_count": 0,
   "metadata": {
    "application/vnd.databricks.v1+cell": {
     "cellMetadata": {
      "byteLimit": 2048000,
      "rowLimit": 10000
     },
     "inputWidgets": {},
     "nuid": "faa34f54-2c1b-4f0e-926e-58759e08d26b",
     "showTitle": false,
     "title": ""
    }
   },
   "outputs": [],
   "source": [
    "df_final=df_close_filter.join(df_open,(df_close['year']==df_open['year_open']) &(df_close['month']==df_open['month_open']),how='inner')\n",
    "df_final_1=df_final.select('Date','Stock','Open','Close','year','month').orderBy(col('year'),col('month'))\n",
    "#display(df_final_1)"
   ]
  },
  {
   "cell_type": "code",
   "execution_count": 0,
   "metadata": {
    "application/vnd.databricks.v1+cell": {
     "cellMetadata": {
      "byteLimit": 2048000,
      "rowLimit": 10000
     },
     "inputWidgets": {},
     "nuid": "5c7618f6-8c6e-4dda-892b-2d05631348db",
     "showTitle": false,
     "title": ""
    }
   },
   "outputs": [
    {
     "output_type": "display_data",
     "data": {
      "text/html": [
       "<style scoped>\n",
       "  .table-result-container {\n",
       "    max-height: 300px;\n",
       "    overflow: auto;\n",
       "  }\n",
       "  table, th, td {\n",
       "    border: 1px solid black;\n",
       "    border-collapse: collapse;\n",
       "  }\n",
       "  th, td {\n",
       "    padding: 5px;\n",
       "  }\n",
       "  th {\n",
       "    text-align: left;\n",
       "  }\n",
       "</style><div class='table-result-container'><table class='table-result'><thead style='background-color: white'><tr><th>Date</th><th>Stock</th><th>Open</th><th>Close</th><th>year</th><th>month</th><th>returns_monthly</th></tr></thead><tbody><tr><td>2013-07-31</td><td>ABFRL</td><td>157.7</td><td>154.2</td><td>2013</td><td>7</td><td>-2.22</td></tr><tr><td>2013-08-30</td><td>ABFRL</td><td>158.8</td><td>127.0</td><td>2013</td><td>8</td><td>-20.03</td></tr><tr><td>2013-09-30</td><td>ABFRL</td><td>125.4</td><td>111.75</td><td>2013</td><td>9</td><td>-10.89</td></tr><tr><td>2013-10-31</td><td>ABFRL</td><td>111.25</td><td>101.25</td><td>2013</td><td>10</td><td>-8.99</td></tr><tr><td>2013-11-29</td><td>ABFRL</td><td>101.0</td><td>87.1</td><td>2013</td><td>11</td><td>-13.76</td></tr><tr><td>2013-12-31</td><td>ABFRL</td><td>86.5</td><td>89.65</td><td>2013</td><td>12</td><td>3.64</td></tr><tr><td>2014-01-31</td><td>ABFRL</td><td>89.9</td><td>84.05</td><td>2014</td><td>1</td><td>-6.51</td></tr><tr><td>2014-02-28</td><td>ABFRL</td><td>84.05</td><td>85.1</td><td>2014</td><td>2</td><td>1.25</td></tr><tr><td>2014-03-31</td><td>ABFRL</td><td>85.0</td><td>82.6</td><td>2014</td><td>3</td><td>-2.82</td></tr><tr><td>2014-04-30</td><td>ABFRL</td><td>81.8</td><td>122.65</td><td>2014</td><td>4</td><td>49.94</td></tr><tr><td>2014-05-30</td><td>ABFRL</td><td>124.85</td><td>121.7</td><td>2014</td><td>5</td><td>-2.52</td></tr><tr><td>2014-06-30</td><td>ABFRL</td><td>123.9</td><td>124.1</td><td>2014</td><td>6</td><td>0.16</td></tr><tr><td>2014-07-31</td><td>ABFRL</td><td>123.0</td><td>125.35</td><td>2014</td><td>7</td><td>1.91</td></tr><tr><td>2014-08-28</td><td>ABFRL</td><td>117.65</td><td>114.6</td><td>2014</td><td>8</td><td>-2.59</td></tr><tr><td>2014-09-30</td><td>ABFRL</td><td>114.1</td><td>128.9</td><td>2014</td><td>9</td><td>12.97</td></tr><tr><td>2014-10-31</td><td>ABFRL</td><td>127.0</td><td>123.55</td><td>2014</td><td>10</td><td>-2.72</td></tr><tr><td>2014-11-28</td><td>ABFRL</td><td>122.25</td><td>116.4</td><td>2014</td><td>11</td><td>-4.79</td></tr><tr><td>2014-12-31</td><td>ABFRL</td><td>116.2</td><td>120.15</td><td>2014</td><td>12</td><td>3.4</td></tr><tr><td>2015-01-30</td><td>ABFRL</td><td>119.0</td><td>122.5</td><td>2015</td><td>1</td><td>2.94</td></tr><tr><td>2015-02-27</td><td>ABFRL</td><td>121.0</td><td>113.5</td><td>2015</td><td>2</td><td>-6.2</td></tr><tr><td>2015-03-31</td><td>ABFRL</td><td>114.0</td><td>115.0</td><td>2015</td><td>3</td><td>0.88</td></tr><tr><td>2015-04-30</td><td>ABFRL</td><td>114.0</td><td>114.65</td><td>2015</td><td>4</td><td>0.57</td></tr><tr><td>2015-05-29</td><td>ABFRL</td><td>132.7</td><td>182.0</td><td>2015</td><td>5</td><td>37.15</td></tr><tr><td>2015-06-30</td><td>ABFRL</td><td>184.95</td><td>179.4</td><td>2015</td><td>6</td><td>-3.0</td></tr><tr><td>2015-07-31</td><td>ABFRL</td><td>181.15</td><td>223.8</td><td>2015</td><td>7</td><td>23.54</td></tr><tr><td>2015-08-31</td><td>ABFRL</td><td>228.25</td><td>192.9</td><td>2015</td><td>8</td><td>-15.49</td></tr><tr><td>2015-09-30</td><td>ABFRL</td><td>195.05</td><td>218.95</td><td>2015</td><td>9</td><td>12.25</td></tr><tr><td>2015-10-30</td><td>ABFRL</td><td>220.05</td><td>215.3</td><td>2015</td><td>10</td><td>-2.16</td></tr><tr><td>2015-11-30</td><td>ABFRL</td><td>215.45</td><td>218.2</td><td>2015</td><td>11</td><td>1.28</td></tr><tr><td>2015-12-31</td><td>ABFRL</td><td>219.8</td><td>231.3</td><td>2015</td><td>12</td><td>5.23</td></tr><tr><td>2016-01-29</td><td>ABFRL</td><td>233.0</td><td>222.3</td><td>2016</td><td>1</td><td>-4.59</td></tr><tr><td>2016-02-29</td><td>ABFRL</td><td>224.25</td><td>128.15</td><td>2016</td><td>2</td><td>-42.85</td></tr><tr><td>2016-03-31</td><td>ABFRL</td><td>128.45</td><td>146.15</td><td>2016</td><td>3</td><td>13.78</td></tr><tr><td>2016-04-29</td><td>ABFRL</td><td>138.9</td><td>147.55</td><td>2016</td><td>4</td><td>6.23</td></tr><tr><td>2016-05-31</td><td>ABFRL</td><td>145.1</td><td>131.75</td><td>2016</td><td>5</td><td>-9.2</td></tr><tr><td>2016-06-30</td><td>ABFRL</td><td>131.7</td><td>142.7</td><td>2016</td><td>6</td><td>8.35</td></tr><tr><td>2016-07-29</td><td>ABFRL</td><td>142.6</td><td>144.8</td><td>2016</td><td>7</td><td>1.54</td></tr><tr><td>2016-08-31</td><td>ABFRL</td><td>145.0</td><td>155.7</td><td>2016</td><td>8</td><td>7.38</td></tr><tr><td>2016-09-30</td><td>ABFRL</td><td>156.85</td><td>137.85</td><td>2016</td><td>9</td><td>-12.11</td></tr><tr><td>2016-10-30</td><td>ABFRL</td><td>139.35</td><td>163.85</td><td>2016</td><td>10</td><td>17.58</td></tr><tr><td>2016-11-30</td><td>ABFRL</td><td>164.9</td><td>139.55</td><td>2016</td><td>11</td><td>-15.37</td></tr><tr><td>2016-12-30</td><td>ABFRL</td><td>140.95</td><td>138.05</td><td>2016</td><td>12</td><td>-2.06</td></tr><tr><td>2017-01-31</td><td>ABFRL</td><td>138.5</td><td>150.05</td><td>2017</td><td>1</td><td>8.34</td></tr><tr><td>2017-02-28</td><td>ABFRL</td><td>151.5</td><td>157.95</td><td>2017</td><td>2</td><td>4.26</td></tr><tr><td>2017-03-31</td><td>ABFRL</td><td>158.45</td><td>153.85</td><td>2017</td><td>3</td><td>-2.9</td></tr><tr><td>2017-04-28</td><td>ABFRL</td><td>154.35</td><td>172.7</td><td>2017</td><td>4</td><td>11.89</td></tr><tr><td>2017-05-31</td><td>ABFRL</td><td>173.45</td><td>175.5</td><td>2017</td><td>5</td><td>1.18</td></tr><tr><td>2017-06-30</td><td>ABFRL</td><td>178.0</td><td>173.4</td><td>2017</td><td>6</td><td>-2.58</td></tr><tr><td>2017-07-31</td><td>ABFRL</td><td>173.1</td><td>172.5</td><td>2017</td><td>7</td><td>-0.35</td></tr><tr><td>2017-08-31</td><td>ABFRL</td><td>173.45</td><td>170.95</td><td>2017</td><td>8</td><td>-1.44</td></tr><tr><td>2017-09-29</td><td>ABFRL</td><td>171.0</td><td>163.0</td><td>2017</td><td>9</td><td>-4.68</td></tr><tr><td>2017-10-31</td><td>ABFRL</td><td>164.0</td><td>156.9</td><td>2017</td><td>10</td><td>-4.33</td></tr><tr><td>2017-11-30</td><td>ABFRL</td><td>157.8</td><td>167.55</td><td>2017</td><td>11</td><td>6.18</td></tr><tr><td>2017-12-29</td><td>ABFRL</td><td>168.1</td><td>172.45</td><td>2017</td><td>12</td><td>2.59</td></tr><tr><td>2018-01-31</td><td>ABFRL</td><td>170.1</td><td>163.05</td><td>2018</td><td>1</td><td>-4.14</td></tr><tr><td>2018-02-28</td><td>ABFRL</td><td>163.8</td><td>152.3</td><td>2018</td><td>2</td><td>-7.02</td></tr><tr><td>2018-03-28</td><td>ABFRL</td><td>152.3</td><td>150.85</td><td>2018</td><td>3</td><td>-0.95</td></tr><tr><td>2018-04-30</td><td>ABFRL</td><td>150.75</td><td>146.75</td><td>2018</td><td>4</td><td>-2.65</td></tr><tr><td>2018-05-31</td><td>ABFRL</td><td>146.5</td><td>148.3</td><td>2018</td><td>5</td><td>1.23</td></tr><tr><td>2018-06-29</td><td>ABFRL</td><td>148.0</td><td>136.03</td><td>2018</td><td>6</td><td>-8.09</td></tr><tr><td>2018-07-31</td><td>ABFRL</td><td>138.0</td><td>138.15</td><td>2018</td><td>7</td><td>0.11</td></tr><tr><td>2018-08-31</td><td>ABFRL</td><td>139.92</td><td>195.66</td><td>2018</td><td>8</td><td>39.84</td></tr><tr><td>2018-09-28</td><td>ABFRL</td><td>197.49</td><td>180.88</td><td>2018</td><td>9</td><td>-8.41</td></tr><tr><td>2018-10-31</td><td>ABFRL</td><td>177.53</td><td>177.53</td><td>2018</td><td>10</td><td>0.0</td></tr><tr><td>2018-11-30</td><td>ABFRL</td><td>177.72</td><td>178.46</td><td>2018</td><td>11</td><td>0.42</td></tr><tr><td>2018-12-31</td><td>ABFRL</td><td>179.65</td><td>199.61</td><td>2018</td><td>12</td><td>11.11</td></tr><tr><td>2019-01-31</td><td>ABFRL</td><td>199.56</td><td>206.51</td><td>2019</td><td>1</td><td>3.48</td></tr><tr><td>2019-02-28</td><td>ABFRL</td><td>206.51</td><td>222.08</td><td>2019</td><td>2</td><td>7.54</td></tr><tr><td>2019-03-29</td><td>ABFRL</td><td>223.12</td><td>217.2</td><td>2019</td><td>3</td><td>-2.65</td></tr><tr><td>2019-04-30</td><td>ABFRL</td><td>219.12</td><td>212.67</td><td>2019</td><td>4</td><td>-2.94</td></tr><tr><td>2019-05-31</td><td>ABFRL</td><td>212.37</td><td>207.93</td><td>2019</td><td>5</td><td>-2.09</td></tr><tr><td>2019-06-28</td><td>ABFRL</td><td>206.41</td><td>212.27</td><td>2019</td><td>6</td><td>2.84</td></tr><tr><td>2019-07-31</td><td>ABFRL</td><td>211.04</td><td>185.56</td><td>2019</td><td>7</td><td>-12.07</td></tr><tr><td>2019-08-30</td><td>ABFRL</td><td>185.56</td><td>186.84</td><td>2019</td><td>8</td><td>0.69</td></tr><tr><td>2019-09-30</td><td>ABFRL</td><td>186.3</td><td>208.33</td><td>2019</td><td>9</td><td>11.83</td></tr><tr><td>2019-10-31</td><td>ABFRL</td><td>207.0</td><td>209.17</td><td>2019</td><td>10</td><td>1.05</td></tr><tr><td>2019-11-29</td><td>ABFRL</td><td>210.2</td><td>222.03</td><td>2019</td><td>11</td><td>5.63</td></tr><tr><td>2019-12-31</td><td>ABFRL</td><td>221.44</td><td>228.39</td><td>2019</td><td>12</td><td>3.14</td></tr><tr><td>2020-01-31</td><td>ABFRL</td><td>229.57</td><td>230.31</td><td>2020</td><td>1</td><td>0.32</td></tr><tr><td>2020-02-28</td><td>ABFRL</td><td>231.05</td><td>247.81</td><td>2020</td><td>2</td><td>7.25</td></tr><tr><td>2020-03-31</td><td>ABFRL</td><td>248.5</td><td>150.71</td><td>2020</td><td>3</td><td>-39.35</td></tr><tr><td>2020-04-30</td><td>ABFRL</td><td>150.81</td><td>113.95</td><td>2020</td><td>4</td><td>-24.44</td></tr><tr><td>2020-05-29</td><td>ABFRL</td><td>112.37</td><td>118.19</td><td>2020</td><td>5</td><td>5.18</td></tr><tr><td>2020-06-30</td><td>ABFRL</td><td>126.17</td><td>125.3</td><td>2020</td><td>6</td><td>-0.69</td></tr><tr><td>2020-07-31</td><td>ABFRL</td><td>125.5</td><td>124.7</td><td>2020</td><td>7</td><td>-0.64</td></tr><tr><td>2020-08-31</td><td>ABFRL</td><td>124.15</td><td>139.9</td><td>2020</td><td>8</td><td>12.69</td></tr><tr><td>2020-09-30</td><td>ABFRL</td><td>137.1</td><td>133.6</td><td>2020</td><td>9</td><td>-2.55</td></tr><tr><td>2020-10-30</td><td>ABFRL</td><td>135.0</td><td>153.3</td><td>2020</td><td>10</td><td>13.56</td></tr><tr><td>2020-11-27</td><td>ABFRL</td><td>154.65</td><td>162.65</td><td>2020</td><td>11</td><td>5.17</td></tr><tr><td>2020-12-31</td><td>ABFRL</td><td>164.4</td><td>165.6</td><td>2020</td><td>12</td><td>0.73</td></tr><tr><td>2021-01-29</td><td>ABFRL</td><td>166.65</td><td>150.1</td><td>2021</td><td>1</td><td>-9.93</td></tr><tr><td>2021-02-26</td><td>ABFRL</td><td>152.0</td><td>183.6</td><td>2021</td><td>2</td><td>20.79</td></tr><tr><td>2021-03-31</td><td>ABFRL</td><td>186.05</td><td>201.25</td><td>2021</td><td>3</td><td>8.17</td></tr><tr><td>2021-04-30</td><td>ABFRL</td><td>203.6</td><td>175.0</td><td>2021</td><td>4</td><td>-14.05</td></tr><tr><td>2021-05-31</td><td>ABFRL</td><td>175.0</td><td>195.15</td><td>2021</td><td>5</td><td>11.51</td></tr><tr><td>2021-06-30</td><td>ABFRL</td><td>198.0</td><td>215.75</td><td>2021</td><td>6</td><td>8.96</td></tr><tr><td>2021-07-30</td><td>ABFRL</td><td>216.6</td><td>224.25</td><td>2021</td><td>7</td><td>3.53</td></tr><tr><td>2021-08-31</td><td>ABFRL</td><td>227.0</td><td>208.1</td><td>2021</td><td>8</td><td>-8.33</td></tr><tr><td>2021-09-30</td><td>ABFRL</td><td>208.45</td><td>246.35</td><td>2021</td><td>9</td><td>18.18</td></tr><tr><td>2021-10-29</td><td>ABFRL</td><td>242.55</td><td>263.0</td><td>2021</td><td>10</td><td>8.43</td></tr><tr><td>2021-11-30</td><td>ABFRL</td><td>264.65</td><td>255.1</td><td>2021</td><td>11</td><td>-3.61</td></tr><tr><td>2021-12-31</td><td>ABFRL</td><td>259.0</td><td>272.25</td><td>2021</td><td>12</td><td>5.12</td></tr><tr><td>2022-01-11</td><td>ABFRL</td><td>272.0</td><td>293.9</td><td>2022</td><td>1</td><td>8.05</td></tr></tbody></table></div>"
      ]
     },
     "metadata": {
      "application/vnd.databricks.v1+output": {
       "addedWidgets": {},
       "aggData": [],
       "aggError": "",
       "aggOverflow": false,
       "aggSchema": [],
       "aggSeriesLimitReached": false,
       "aggType": "",
       "arguments": {},
       "columnCustomDisplayInfos": {},
       "data": [
        [
         "2013-07-31",
         "ABFRL",
         157.7,
         154.2,
         2013,
         7,
         -2.22
        ],
        [
         "2013-08-30",
         "ABFRL",
         158.8,
         127.0,
         2013,
         8,
         -20.03
        ],
        [
         "2013-09-30",
         "ABFRL",
         125.4,
         111.75,
         2013,
         9,
         -10.89
        ],
        [
         "2013-10-31",
         "ABFRL",
         111.25,
         101.25,
         2013,
         10,
         -8.99
        ],
        [
         "2013-11-29",
         "ABFRL",
         101.0,
         87.1,
         2013,
         11,
         -13.76
        ],
        [
         "2013-12-31",
         "ABFRL",
         86.5,
         89.65,
         2013,
         12,
         3.64
        ],
        [
         "2014-01-31",
         "ABFRL",
         89.9,
         84.05,
         2014,
         1,
         -6.51
        ],
        [
         "2014-02-28",
         "ABFRL",
         84.05,
         85.1,
         2014,
         2,
         1.25
        ],
        [
         "2014-03-31",
         "ABFRL",
         85.0,
         82.6,
         2014,
         3,
         -2.82
        ],
        [
         "2014-04-30",
         "ABFRL",
         81.8,
         122.65,
         2014,
         4,
         49.94
        ],
        [
         "2014-05-30",
         "ABFRL",
         124.85,
         121.7,
         2014,
         5,
         -2.52
        ],
        [
         "2014-06-30",
         "ABFRL",
         123.9,
         124.1,
         2014,
         6,
         0.16
        ],
        [
         "2014-07-31",
         "ABFRL",
         123.0,
         125.35,
         2014,
         7,
         1.91
        ],
        [
         "2014-08-28",
         "ABFRL",
         117.65,
         114.6,
         2014,
         8,
         -2.59
        ],
        [
         "2014-09-30",
         "ABFRL",
         114.1,
         128.9,
         2014,
         9,
         12.97
        ],
        [
         "2014-10-31",
         "ABFRL",
         127.0,
         123.55,
         2014,
         10,
         -2.72
        ],
        [
         "2014-11-28",
         "ABFRL",
         122.25,
         116.4,
         2014,
         11,
         -4.79
        ],
        [
         "2014-12-31",
         "ABFRL",
         116.2,
         120.15,
         2014,
         12,
         3.4
        ],
        [
         "2015-01-30",
         "ABFRL",
         119.0,
         122.5,
         2015,
         1,
         2.94
        ],
        [
         "2015-02-27",
         "ABFRL",
         121.0,
         113.5,
         2015,
         2,
         -6.2
        ],
        [
         "2015-03-31",
         "ABFRL",
         114.0,
         115.0,
         2015,
         3,
         0.88
        ],
        [
         "2015-04-30",
         "ABFRL",
         114.0,
         114.65,
         2015,
         4,
         0.57
        ],
        [
         "2015-05-29",
         "ABFRL",
         132.7,
         182.0,
         2015,
         5,
         37.15
        ],
        [
         "2015-06-30",
         "ABFRL",
         184.95,
         179.4,
         2015,
         6,
         -3.0
        ],
        [
         "2015-07-31",
         "ABFRL",
         181.15,
         223.8,
         2015,
         7,
         23.54
        ],
        [
         "2015-08-31",
         "ABFRL",
         228.25,
         192.9,
         2015,
         8,
         -15.49
        ],
        [
         "2015-09-30",
         "ABFRL",
         195.05,
         218.95,
         2015,
         9,
         12.25
        ],
        [
         "2015-10-30",
         "ABFRL",
         220.05,
         215.3,
         2015,
         10,
         -2.16
        ],
        [
         "2015-11-30",
         "ABFRL",
         215.45,
         218.2,
         2015,
         11,
         1.28
        ],
        [
         "2015-12-31",
         "ABFRL",
         219.8,
         231.3,
         2015,
         12,
         5.23
        ],
        [
         "2016-01-29",
         "ABFRL",
         233.0,
         222.3,
         2016,
         1,
         -4.59
        ],
        [
         "2016-02-29",
         "ABFRL",
         224.25,
         128.15,
         2016,
         2,
         -42.85
        ],
        [
         "2016-03-31",
         "ABFRL",
         128.45,
         146.15,
         2016,
         3,
         13.78
        ],
        [
         "2016-04-29",
         "ABFRL",
         138.9,
         147.55,
         2016,
         4,
         6.23
        ],
        [
         "2016-05-31",
         "ABFRL",
         145.1,
         131.75,
         2016,
         5,
         -9.2
        ],
        [
         "2016-06-30",
         "ABFRL",
         131.7,
         142.7,
         2016,
         6,
         8.35
        ],
        [
         "2016-07-29",
         "ABFRL",
         142.6,
         144.8,
         2016,
         7,
         1.54
        ],
        [
         "2016-08-31",
         "ABFRL",
         145.0,
         155.7,
         2016,
         8,
         7.38
        ],
        [
         "2016-09-30",
         "ABFRL",
         156.85,
         137.85,
         2016,
         9,
         -12.11
        ],
        [
         "2016-10-30",
         "ABFRL",
         139.35,
         163.85,
         2016,
         10,
         17.58
        ],
        [
         "2016-11-30",
         "ABFRL",
         164.9,
         139.55,
         2016,
         11,
         -15.37
        ],
        [
         "2016-12-30",
         "ABFRL",
         140.95,
         138.05,
         2016,
         12,
         -2.06
        ],
        [
         "2017-01-31",
         "ABFRL",
         138.5,
         150.05,
         2017,
         1,
         8.34
        ],
        [
         "2017-02-28",
         "ABFRL",
         151.5,
         157.95,
         2017,
         2,
         4.26
        ],
        [
         "2017-03-31",
         "ABFRL",
         158.45,
         153.85,
         2017,
         3,
         -2.9
        ],
        [
         "2017-04-28",
         "ABFRL",
         154.35,
         172.7,
         2017,
         4,
         11.89
        ],
        [
         "2017-05-31",
         "ABFRL",
         173.45,
         175.5,
         2017,
         5,
         1.18
        ],
        [
         "2017-06-30",
         "ABFRL",
         178.0,
         173.4,
         2017,
         6,
         -2.58
        ],
        [
         "2017-07-31",
         "ABFRL",
         173.1,
         172.5,
         2017,
         7,
         -0.35
        ],
        [
         "2017-08-31",
         "ABFRL",
         173.45,
         170.95,
         2017,
         8,
         -1.44
        ],
        [
         "2017-09-29",
         "ABFRL",
         171.0,
         163.0,
         2017,
         9,
         -4.68
        ],
        [
         "2017-10-31",
         "ABFRL",
         164.0,
         156.9,
         2017,
         10,
         -4.33
        ],
        [
         "2017-11-30",
         "ABFRL",
         157.8,
         167.55,
         2017,
         11,
         6.18
        ],
        [
         "2017-12-29",
         "ABFRL",
         168.1,
         172.45,
         2017,
         12,
         2.59
        ],
        [
         "2018-01-31",
         "ABFRL",
         170.1,
         163.05,
         2018,
         1,
         -4.14
        ],
        [
         "2018-02-28",
         "ABFRL",
         163.8,
         152.3,
         2018,
         2,
         -7.02
        ],
        [
         "2018-03-28",
         "ABFRL",
         152.3,
         150.85,
         2018,
         3,
         -0.95
        ],
        [
         "2018-04-30",
         "ABFRL",
         150.75,
         146.75,
         2018,
         4,
         -2.65
        ],
        [
         "2018-05-31",
         "ABFRL",
         146.5,
         148.3,
         2018,
         5,
         1.23
        ],
        [
         "2018-06-29",
         "ABFRL",
         148.0,
         136.03,
         2018,
         6,
         -8.09
        ],
        [
         "2018-07-31",
         "ABFRL",
         138.0,
         138.15,
         2018,
         7,
         0.11
        ],
        [
         "2018-08-31",
         "ABFRL",
         139.92,
         195.66,
         2018,
         8,
         39.84
        ],
        [
         "2018-09-28",
         "ABFRL",
         197.49,
         180.88,
         2018,
         9,
         -8.41
        ],
        [
         "2018-10-31",
         "ABFRL",
         177.53,
         177.53,
         2018,
         10,
         0.0
        ],
        [
         "2018-11-30",
         "ABFRL",
         177.72,
         178.46,
         2018,
         11,
         0.42
        ],
        [
         "2018-12-31",
         "ABFRL",
         179.65,
         199.61,
         2018,
         12,
         11.11
        ],
        [
         "2019-01-31",
         "ABFRL",
         199.56,
         206.51,
         2019,
         1,
         3.48
        ],
        [
         "2019-02-28",
         "ABFRL",
         206.51,
         222.08,
         2019,
         2,
         7.54
        ],
        [
         "2019-03-29",
         "ABFRL",
         223.12,
         217.2,
         2019,
         3,
         -2.65
        ],
        [
         "2019-04-30",
         "ABFRL",
         219.12,
         212.67,
         2019,
         4,
         -2.94
        ],
        [
         "2019-05-31",
         "ABFRL",
         212.37,
         207.93,
         2019,
         5,
         -2.09
        ],
        [
         "2019-06-28",
         "ABFRL",
         206.41,
         212.27,
         2019,
         6,
         2.84
        ],
        [
         "2019-07-31",
         "ABFRL",
         211.04,
         185.56,
         2019,
         7,
         -12.07
        ],
        [
         "2019-08-30",
         "ABFRL",
         185.56,
         186.84,
         2019,
         8,
         0.69
        ],
        [
         "2019-09-30",
         "ABFRL",
         186.3,
         208.33,
         2019,
         9,
         11.83
        ],
        [
         "2019-10-31",
         "ABFRL",
         207.0,
         209.17,
         2019,
         10,
         1.05
        ],
        [
         "2019-11-29",
         "ABFRL",
         210.2,
         222.03,
         2019,
         11,
         5.63
        ],
        [
         "2019-12-31",
         "ABFRL",
         221.44,
         228.39,
         2019,
         12,
         3.14
        ],
        [
         "2020-01-31",
         "ABFRL",
         229.57,
         230.31,
         2020,
         1,
         0.32
        ],
        [
         "2020-02-28",
         "ABFRL",
         231.05,
         247.81,
         2020,
         2,
         7.25
        ],
        [
         "2020-03-31",
         "ABFRL",
         248.5,
         150.71,
         2020,
         3,
         -39.35
        ],
        [
         "2020-04-30",
         "ABFRL",
         150.81,
         113.95,
         2020,
         4,
         -24.44
        ],
        [
         "2020-05-29",
         "ABFRL",
         112.37,
         118.19,
         2020,
         5,
         5.18
        ],
        [
         "2020-06-30",
         "ABFRL",
         126.17,
         125.3,
         2020,
         6,
         -0.69
        ],
        [
         "2020-07-31",
         "ABFRL",
         125.5,
         124.7,
         2020,
         7,
         -0.64
        ],
        [
         "2020-08-31",
         "ABFRL",
         124.15,
         139.9,
         2020,
         8,
         12.69
        ],
        [
         "2020-09-30",
         "ABFRL",
         137.1,
         133.6,
         2020,
         9,
         -2.55
        ],
        [
         "2020-10-30",
         "ABFRL",
         135.0,
         153.3,
         2020,
         10,
         13.56
        ],
        [
         "2020-11-27",
         "ABFRL",
         154.65,
         162.65,
         2020,
         11,
         5.17
        ],
        [
         "2020-12-31",
         "ABFRL",
         164.4,
         165.6,
         2020,
         12,
         0.73
        ],
        [
         "2021-01-29",
         "ABFRL",
         166.65,
         150.1,
         2021,
         1,
         -9.93
        ],
        [
         "2021-02-26",
         "ABFRL",
         152.0,
         183.6,
         2021,
         2,
         20.79
        ],
        [
         "2021-03-31",
         "ABFRL",
         186.05,
         201.25,
         2021,
         3,
         8.17
        ],
        [
         "2021-04-30",
         "ABFRL",
         203.6,
         175.0,
         2021,
         4,
         -14.05
        ],
        [
         "2021-05-31",
         "ABFRL",
         175.0,
         195.15,
         2021,
         5,
         11.51
        ],
        [
         "2021-06-30",
         "ABFRL",
         198.0,
         215.75,
         2021,
         6,
         8.96
        ],
        [
         "2021-07-30",
         "ABFRL",
         216.6,
         224.25,
         2021,
         7,
         3.53
        ],
        [
         "2021-08-31",
         "ABFRL",
         227.0,
         208.1,
         2021,
         8,
         -8.33
        ],
        [
         "2021-09-30",
         "ABFRL",
         208.45,
         246.35,
         2021,
         9,
         18.18
        ],
        [
         "2021-10-29",
         "ABFRL",
         242.55,
         263.0,
         2021,
         10,
         8.43
        ],
        [
         "2021-11-30",
         "ABFRL",
         264.65,
         255.1,
         2021,
         11,
         -3.61
        ],
        [
         "2021-12-31",
         "ABFRL",
         259.0,
         272.25,
         2021,
         12,
         5.12
        ],
        [
         "2022-01-11",
         "ABFRL",
         272.0,
         293.9,
         2022,
         1,
         8.05
        ]
       ],
       "datasetInfos": [],
       "dbfsResultPath": null,
       "isJsonSchema": true,
       "metadata": {},
       "overflow": false,
       "plotOptions": {
        "customPlotOptions": {},
        "displayType": "table",
        "pivotAggregation": null,
        "pivotColumns": null,
        "xColumns": null,
        "yColumns": null
       },
       "removedWidgets": [],
       "schema": [
        {
         "metadata": "{\"__detected_date_formats\":\"yyyy-M-d\"}",
         "name": "Date",
         "type": "\"date\""
        },
        {
         "metadata": "{}",
         "name": "Stock",
         "type": "\"string\""
        },
        {
         "metadata": "{}",
         "name": "Open",
         "type": "\"double\""
        },
        {
         "metadata": "{}",
         "name": "Close",
         "type": "\"double\""
        },
        {
         "metadata": "{}",
         "name": "year",
         "type": "\"integer\""
        },
        {
         "metadata": "{}",
         "name": "month",
         "type": "\"integer\""
        },
        {
         "metadata": "{}",
         "name": "returns_monthly",
         "type": "\"double\""
        }
       ],
       "type": "table"
      }
     },
     "output_type": "display_data"
    }
   ],
   "source": [
    "df_final_returns_monthly=df_final_1.withColumn('returns_monthly',round((col('Close')-col('Open'))/col('Open')*100,2))\n",
    "display(df_final_returns_monthly)"
   ]
  },
  {
   "cell_type": "code",
   "execution_count": 0,
   "metadata": {
    "application/vnd.databricks.v1+cell": {
     "cellMetadata": {
      "byteLimit": 2048000,
      "rowLimit": 10000
     },
     "inputWidgets": {},
     "nuid": "fb48f72a-e014-4e90-96e3-55c3164477c9",
     "showTitle": false,
     "title": ""
    }
   },
   "outputs": [
    {
     "output_type": "display_data",
     "data": {
      "text/html": [
       "<style scoped>\n",
       "  .table-result-container {\n",
       "    max-height: 300px;\n",
       "    overflow: auto;\n",
       "  }\n",
       "  table, th, td {\n",
       "    border: 1px solid black;\n",
       "    border-collapse: collapse;\n",
       "  }\n",
       "  th, td {\n",
       "    padding: 5px;\n",
       "  }\n",
       "  th {\n",
       "    text-align: left;\n",
       "  }\n",
       "</style><div class='table-result-container'><table class='table-result'><thead style='background-color: white'><tr><th>Stock</th><th>Open</th><th>year</th><th>month</th></tr></thead><tbody><tr><td>ABFRL</td><td>89.9</td><td>2014</td><td>1</td></tr><tr><td>ABFRL</td><td>119.0</td><td>2015</td><td>1</td></tr><tr><td>ABFRL</td><td>233.0</td><td>2016</td><td>1</td></tr><tr><td>ABFRL</td><td>138.5</td><td>2017</td><td>1</td></tr><tr><td>ABFRL</td><td>170.1</td><td>2018</td><td>1</td></tr><tr><td>ABFRL</td><td>199.56</td><td>2019</td><td>1</td></tr><tr><td>ABFRL</td><td>229.57</td><td>2020</td><td>1</td></tr><tr><td>ABFRL</td><td>166.65</td><td>2021</td><td>1</td></tr><tr><td>ABFRL</td><td>272.0</td><td>2022</td><td>1</td></tr></tbody></table></div>"
      ]
     },
     "metadata": {
      "application/vnd.databricks.v1+output": {
       "addedWidgets": {},
       "aggData": [],
       "aggError": "",
       "aggOverflow": false,
       "aggSchema": [],
       "aggSeriesLimitReached": false,
       "aggType": "",
       "arguments": {},
       "columnCustomDisplayInfos": {},
       "data": [
        [
         "ABFRL",
         89.9,
         2014,
         1
        ],
        [
         "ABFRL",
         119.0,
         2015,
         1
        ],
        [
         "ABFRL",
         233.0,
         2016,
         1
        ],
        [
         "ABFRL",
         138.5,
         2017,
         1
        ],
        [
         "ABFRL",
         170.1,
         2018,
         1
        ],
        [
         "ABFRL",
         199.56,
         2019,
         1
        ],
        [
         "ABFRL",
         229.57,
         2020,
         1
        ],
        [
         "ABFRL",
         166.65,
         2021,
         1
        ],
        [
         "ABFRL",
         272.0,
         2022,
         1
        ]
       ],
       "datasetInfos": [],
       "dbfsResultPath": null,
       "isJsonSchema": true,
       "metadata": {},
       "overflow": false,
       "plotOptions": {
        "customPlotOptions": {},
        "displayType": "table",
        "pivotAggregation": null,
        "pivotColumns": null,
        "xColumns": null,
        "yColumns": null
       },
       "removedWidgets": [],
       "schema": [
        {
         "metadata": "{}",
         "name": "Stock",
         "type": "\"string\""
        },
        {
         "metadata": "{}",
         "name": "Open",
         "type": "\"double\""
        },
        {
         "metadata": "{}",
         "name": "year",
         "type": "\"integer\""
        },
        {
         "metadata": "{}",
         "name": "month",
         "type": "\"integer\""
        }
       ],
       "type": "table"
      }
     },
     "output_type": "display_data"
    }
   ],
   "source": [
    "df_final_returns_yearly_open=df_final_returns_monthly.filter(col('month')==1).select('Stock','Open','year','month').orderBy(col('year'))\n",
    "display(df_final_returns_yearly_open)"
   ]
  },
  {
   "cell_type": "code",
   "execution_count": 0,
   "metadata": {
    "application/vnd.databricks.v1+cell": {
     "cellMetadata": {
      "byteLimit": 2048000,
      "rowLimit": 10000
     },
     "inputWidgets": {},
     "nuid": "17ecd7e5-f2ff-413e-8e24-36a55075d7fe",
     "showTitle": false,
     "title": ""
    }
   },
   "outputs": [
    {
     "output_type": "display_data",
     "data": {
      "text/html": [
       "<style scoped>\n",
       "  .table-result-container {\n",
       "    max-height: 300px;\n",
       "    overflow: auto;\n",
       "  }\n",
       "  table, th, td {\n",
       "    border: 1px solid black;\n",
       "    border-collapse: collapse;\n",
       "  }\n",
       "  th, td {\n",
       "    padding: 5px;\n",
       "  }\n",
       "  th {\n",
       "    text-align: left;\n",
       "  }\n",
       "</style><div class='table-result-container'><table class='table-result'><thead style='background-color: white'><tr><th>Stock_close</th><th>Close</th><th>year_close</th><th>month</th></tr></thead><tbody><tr><td>ABFRL</td><td>89.65</td><td>2013</td><td>12</td></tr><tr><td>ABFRL</td><td>120.15</td><td>2014</td><td>12</td></tr><tr><td>ABFRL</td><td>231.3</td><td>2015</td><td>12</td></tr><tr><td>ABFRL</td><td>138.05</td><td>2016</td><td>12</td></tr><tr><td>ABFRL</td><td>172.45</td><td>2017</td><td>12</td></tr><tr><td>ABFRL</td><td>199.61</td><td>2018</td><td>12</td></tr><tr><td>ABFRL</td><td>228.39</td><td>2019</td><td>12</td></tr><tr><td>ABFRL</td><td>165.6</td><td>2020</td><td>12</td></tr><tr><td>ABFRL</td><td>272.25</td><td>2021</td><td>12</td></tr></tbody></table></div>"
      ]
     },
     "metadata": {
      "application/vnd.databricks.v1+output": {
       "addedWidgets": {},
       "aggData": [],
       "aggError": "",
       "aggOverflow": false,
       "aggSchema": [],
       "aggSeriesLimitReached": false,
       "aggType": "",
       "arguments": {},
       "columnCustomDisplayInfos": {},
       "data": [
        [
         "ABFRL",
         89.65,
         2013,
         12
        ],
        [
         "ABFRL",
         120.15,
         2014,
         12
        ],
        [
         "ABFRL",
         231.3,
         2015,
         12
        ],
        [
         "ABFRL",
         138.05,
         2016,
         12
        ],
        [
         "ABFRL",
         172.45,
         2017,
         12
        ],
        [
         "ABFRL",
         199.61,
         2018,
         12
        ],
        [
         "ABFRL",
         228.39,
         2019,
         12
        ],
        [
         "ABFRL",
         165.6,
         2020,
         12
        ],
        [
         "ABFRL",
         272.25,
         2021,
         12
        ]
       ],
       "datasetInfos": [],
       "dbfsResultPath": null,
       "isJsonSchema": true,
       "metadata": {},
       "overflow": false,
       "plotOptions": {
        "customPlotOptions": {},
        "displayType": "table",
        "pivotAggregation": null,
        "pivotColumns": null,
        "xColumns": null,
        "yColumns": null
       },
       "removedWidgets": [],
       "schema": [
        {
         "metadata": "{}",
         "name": "Stock_close",
         "type": "\"string\""
        },
        {
         "metadata": "{}",
         "name": "Close",
         "type": "\"double\""
        },
        {
         "metadata": "{}",
         "name": "year_close",
         "type": "\"integer\""
        },
        {
         "metadata": "{}",
         "name": "month",
         "type": "\"integer\""
        }
       ],
       "type": "table"
      }
     },
     "output_type": "display_data"
    }
   ],
   "source": [
    "df_final_returns_yearly_close=df_final_returns_monthly.filter(col('month')==12).select(col('Stock').alias('Stock_close'),'Close',col('year').alias('year_close'),'month').orderBy(col('year_close'))\n",
    "display(df_final_returns_yearly_close)"
   ]
  },
  {
   "cell_type": "code",
   "execution_count": 0,
   "metadata": {
    "application/vnd.databricks.v1+cell": {
     "cellMetadata": {
      "byteLimit": 2048000,
      "rowLimit": 10000
     },
     "inputWidgets": {},
     "nuid": "1e90d953-bb86-4265-8e05-1bd9a6111eca",
     "showTitle": false,
     "title": ""
    }
   },
   "outputs": [
    {
     "output_type": "display_data",
     "data": {
      "text/html": [
       "<style scoped>\n",
       "  .table-result-container {\n",
       "    max-height: 300px;\n",
       "    overflow: auto;\n",
       "  }\n",
       "  table, th, td {\n",
       "    border: 1px solid black;\n",
       "    border-collapse: collapse;\n",
       "  }\n",
       "  th, td {\n",
       "    padding: 5px;\n",
       "  }\n",
       "  th {\n",
       "    text-align: left;\n",
       "  }\n",
       "</style><div class='table-result-container'><table class='table-result'><thead style='background-color: white'><tr><th>Stock</th><th>Open</th><th>year</th><th>month</th><th>Stock_close</th><th>Close</th><th>year_close</th><th>month</th></tr></thead><tbody><tr><td>ABFRL</td><td>89.9</td><td>2014</td><td>1</td><td>ABFRL</td><td>120.15</td><td>2014</td><td>12</td></tr><tr><td>ABFRL</td><td>119.0</td><td>2015</td><td>1</td><td>ABFRL</td><td>231.3</td><td>2015</td><td>12</td></tr><tr><td>ABFRL</td><td>233.0</td><td>2016</td><td>1</td><td>ABFRL</td><td>138.05</td><td>2016</td><td>12</td></tr><tr><td>ABFRL</td><td>138.5</td><td>2017</td><td>1</td><td>ABFRL</td><td>172.45</td><td>2017</td><td>12</td></tr><tr><td>ABFRL</td><td>170.1</td><td>2018</td><td>1</td><td>ABFRL</td><td>199.61</td><td>2018</td><td>12</td></tr><tr><td>ABFRL</td><td>199.56</td><td>2019</td><td>1</td><td>ABFRL</td><td>228.39</td><td>2019</td><td>12</td></tr><tr><td>ABFRL</td><td>229.57</td><td>2020</td><td>1</td><td>ABFRL</td><td>165.6</td><td>2020</td><td>12</td></tr><tr><td>ABFRL</td><td>166.65</td><td>2021</td><td>1</td><td>ABFRL</td><td>272.25</td><td>2021</td><td>12</td></tr></tbody></table></div>"
      ]
     },
     "metadata": {
      "application/vnd.databricks.v1+output": {
       "addedWidgets": {},
       "aggData": [],
       "aggError": "",
       "aggOverflow": false,
       "aggSchema": [],
       "aggSeriesLimitReached": false,
       "aggType": "",
       "arguments": {},
       "columnCustomDisplayInfos": {},
       "data": [
        [
         "ABFRL",
         89.9,
         2014,
         1,
         "ABFRL",
         120.15,
         2014,
         12
        ],
        [
         "ABFRL",
         119.0,
         2015,
         1,
         "ABFRL",
         231.3,
         2015,
         12
        ],
        [
         "ABFRL",
         233.0,
         2016,
         1,
         "ABFRL",
         138.05,
         2016,
         12
        ],
        [
         "ABFRL",
         138.5,
         2017,
         1,
         "ABFRL",
         172.45,
         2017,
         12
        ],
        [
         "ABFRL",
         170.1,
         2018,
         1,
         "ABFRL",
         199.61,
         2018,
         12
        ],
        [
         "ABFRL",
         199.56,
         2019,
         1,
         "ABFRL",
         228.39,
         2019,
         12
        ],
        [
         "ABFRL",
         229.57,
         2020,
         1,
         "ABFRL",
         165.6,
         2020,
         12
        ],
        [
         "ABFRL",
         166.65,
         2021,
         1,
         "ABFRL",
         272.25,
         2021,
         12
        ]
       ],
       "datasetInfos": [],
       "dbfsResultPath": null,
       "isJsonSchema": true,
       "metadata": {},
       "overflow": false,
       "plotOptions": {
        "customPlotOptions": {},
        "displayType": "table",
        "pivotAggregation": null,
        "pivotColumns": null,
        "xColumns": null,
        "yColumns": null
       },
       "removedWidgets": [],
       "schema": [
        {
         "metadata": "{}",
         "name": "Stock",
         "type": "\"string\""
        },
        {
         "metadata": "{}",
         "name": "Open",
         "type": "\"double\""
        },
        {
         "metadata": "{}",
         "name": "year",
         "type": "\"integer\""
        },
        {
         "metadata": "{}",
         "name": "month",
         "type": "\"integer\""
        },
        {
         "metadata": "{}",
         "name": "Stock_close",
         "type": "\"string\""
        },
        {
         "metadata": "{}",
         "name": "Close",
         "type": "\"double\""
        },
        {
         "metadata": "{}",
         "name": "year_close",
         "type": "\"integer\""
        },
        {
         "metadata": "{}",
         "name": "month",
         "type": "\"integer\""
        }
       ],
       "type": "table"
      }
     },
     "output_type": "display_data"
    }
   ],
   "source": [
    "df_yearly_join=df_final_returns_yearly_open.join(df_final_returns_yearly_close,df_final_returns_yearly_open['year']==df_final_returns_yearly_close['year_close'],how='inner')\n",
    "display(df_yearly_join)"
   ]
  },
  {
   "cell_type": "code",
   "execution_count": 0,
   "metadata": {
    "application/vnd.databricks.v1+cell": {
     "cellMetadata": {
      "byteLimit": 2048000,
      "rowLimit": 10000
     },
     "inputWidgets": {},
     "nuid": "019c3dc8-8c7c-4225-b8dd-5d90e70aee0b",
     "showTitle": false,
     "title": ""
    }
   },
   "outputs": [
    {
     "output_type": "stream",
     "name": "stdout",
     "output_type": "stream",
     "text": [
      "+-----+------+----+-----+-----------+------+----------+-----+--------------+\n|Stock|Open  |year|month|Stock_close|Close |year_close|month|Yearly_returns|\n+-----+------+----+-----+-----------+------+----------+-----+--------------+\n|ABFRL|89.9  |2014|1    |ABFRL      |120.15|2014      |12   |33.65         |\n|ABFRL|119.0 |2015|1    |ABFRL      |231.3 |2015      |12   |94.37         |\n|ABFRL|233.0 |2016|1    |ABFRL      |138.05|2016      |12   |-40.75        |\n|ABFRL|138.5 |2017|1    |ABFRL      |172.45|2017      |12   |24.51         |\n|ABFRL|170.1 |2018|1    |ABFRL      |199.61|2018      |12   |17.35         |\n|ABFRL|199.56|2019|1    |ABFRL      |228.39|2019      |12   |14.45         |\n|ABFRL|229.57|2020|1    |ABFRL      |165.6 |2020      |12   |-27.87        |\n|ABFRL|166.65|2021|1    |ABFRL      |272.25|2021      |12   |63.37         |\n+-----+------+----+-----+-----------+------+----------+-----+--------------+\n\n"
     ]
    }
   ],
   "source": [
    "df_yearly_final=df_yearly_join.withColumn('Yearly_returns',round((col('Close')-col('Open'))/col('Open')*100,2))\n",
    "df_yearly_final.show(truncate=0)"
   ]
  },
  {
   "cell_type": "code",
   "execution_count": 0,
   "metadata": {
    "application/vnd.databricks.v1+cell": {
     "cellMetadata": {
      "byteLimit": 2048000,
      "rowLimit": 10000
     },
     "inputWidgets": {},
     "nuid": "4591189c-4e46-4ec0-b975-92eae4cca783",
     "showTitle": false,
     "title": ""
    }
   },
   "outputs": [
    {
     "output_type": "stream",
     "name": "stdout",
     "output_type": "stream",
     "text": [
      "+-----+----+--------------+\n|Stock|year|Yearly_returns|\n+-----+----+--------------+\n|ABFRL|2014|33.65         |\n|ABFRL|2015|94.37         |\n|ABFRL|2016|-40.75        |\n|ABFRL|2017|24.51         |\n|ABFRL|2018|17.35         |\n|ABFRL|2019|14.45         |\n|ABFRL|2020|-27.87        |\n|ABFRL|2021|63.37         |\n+-----+----+--------------+\n\n"
     ]
    }
   ],
   "source": [
    "df_yearly_final_1=df_yearly_final.select('Stock','year','Yearly_returns')\n",
    "df_yearly_final_1.show(truncate=0)"
   ]
  }
 ],
 "metadata": {
  "application/vnd.databricks.v1+notebook": {
   "dashboards": [],
   "environmentMetadata": null,
   "language": "python",
   "notebookMetadata": {
    "mostRecentlyExecutedCommandWithImplicitDF": {
     "commandId": 2363029604002390,
     "dataframes": [
      "_sqldf"
     ]
    },
    "pythonIndentUnit": 4
   },
   "notebookName": "stock market analyses ABFRL",
   "widgets": {}
  }
 },
 "nbformat": 4,
 "nbformat_minor": 0
}
