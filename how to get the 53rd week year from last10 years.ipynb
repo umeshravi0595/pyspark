{
 "cells": [
  {
   "cell_type": "code",
   "execution_count": 0,
   "metadata": {
    "application/vnd.databricks.v1+cell": {
     "cellMetadata": {
      "byteLimit": 2048000,
      "rowLimit": 10000
     },
     "inputWidgets": {},
     "nuid": "a3e1329a-f580-4b54-8f2b-0a1ad9e16b84",
     "showTitle": false,
     "title": ""
    }
   },
   "outputs": [
    {
     "output_type": "display_data",
     "data": {
      "text/html": [
       "<style scoped>\n",
       "  .table-result-container {\n",
       "    max-height: 300px;\n",
       "    overflow: auto;\n",
       "  }\n",
       "  table, th, td {\n",
       "    border: 1px solid black;\n",
       "    border-collapse: collapse;\n",
       "  }\n",
       "  th, td {\n",
       "    padding: 5px;\n",
       "  }\n",
       "  th {\n",
       "    text-align: left;\n",
       "  }\n",
       "</style><div class='table-result-container'><table class='table-result'><thead style='background-color: white'><tr><th>year</th><th>date</th></tr></thead><tbody><tr><td>2000</td><td>01-01-2000</td></tr><tr><td>2001</td><td>01-01-2001</td></tr><tr><td>2002</td><td>01-01-2002</td></tr><tr><td>2003</td><td>01-01-2003</td></tr><tr><td>2004</td><td>01-01-2004</td></tr><tr><td>2005</td><td>01-01-2005</td></tr><tr><td>2006</td><td>01-01-2006</td></tr><tr><td>2007</td><td>01-01-2007</td></tr><tr><td>2008</td><td>01-01-2008</td></tr><tr><td>2009</td><td>01-01-2009</td></tr></tbody></table></div>"
      ]
     },
     "metadata": {
      "application/vnd.databricks.v1+output": {
       "addedWidgets": {},
       "aggData": [],
       "aggError": "",
       "aggOverflow": false,
       "aggSchema": [],
       "aggSeriesLimitReached": false,
       "aggType": "",
       "arguments": {},
       "columnCustomDisplayInfos": {},
       "data": [
        [
         2000,
         "01-01-2000"
        ],
        [
         2001,
         "01-01-2001"
        ],
        [
         2002,
         "01-01-2002"
        ],
        [
         2003,
         "01-01-2003"
        ],
        [
         2004,
         "01-01-2004"
        ],
        [
         2005,
         "01-01-2005"
        ],
        [
         2006,
         "01-01-2006"
        ],
        [
         2007,
         "01-01-2007"
        ],
        [
         2008,
         "01-01-2008"
        ],
        [
         2009,
         "01-01-2009"
        ]
       ],
       "datasetInfos": [],
       "dbfsResultPath": null,
       "isJsonSchema": true,
       "metadata": {},
       "overflow": false,
       "plotOptions": {
        "customPlotOptions": {},
        "displayType": "table",
        "pivotAggregation": null,
        "pivotColumns": null,
        "xColumns": null,
        "yColumns": null
       },
       "removedWidgets": [],
       "schema": [
        {
         "metadata": "{}",
         "name": "year",
         "type": "\"long\""
        },
        {
         "metadata": "{}",
         "name": "date",
         "type": "\"string\""
        }
       ],
       "type": "table"
      }
     },
     "output_type": "display_data"
    }
   ],
   "source": [
    "df=spark.createDataFrame([(y,'01-01-'+str(y))for y in range (2000,2010)],('year','date'))\n",
    "display(df)"
   ]
  },
  {
   "cell_type": "code",
   "execution_count": 0,
   "metadata": {
    "application/vnd.databricks.v1+cell": {
     "cellMetadata": {
      "byteLimit": 2048000,
      "rowLimit": 10000
     },
     "inputWidgets": {},
     "nuid": "c8d994cb-3e7a-4575-b319-62601c0c83fb",
     "showTitle": false,
     "title": ""
    }
   },
   "outputs": [
    {
     "output_type": "display_data",
     "data": {
      "text/html": [
       "<style scoped>\n",
       "  .table-result-container {\n",
       "    max-height: 300px;\n",
       "    overflow: auto;\n",
       "  }\n",
       "  table, th, td {\n",
       "    border: 1px solid black;\n",
       "    border-collapse: collapse;\n",
       "  }\n",
       "  th, td {\n",
       "    padding: 5px;\n",
       "  }\n",
       "  th {\n",
       "    text-align: left;\n",
       "  }\n",
       "</style><div class='table-result-container'><table class='table-result'><thead style='background-color: white'><tr><th>year</th><th>date</th><th>53_week</th></tr></thead><tbody><tr><td>2000</td><td>2000-01-01</td><td>52</td></tr><tr><td>2001</td><td>2001-01-01</td><td>1</td></tr><tr><td>2002</td><td>2002-01-01</td><td>1</td></tr><tr><td>2003</td><td>2003-01-01</td><td>1</td></tr><tr><td>2004</td><td>2004-01-01</td><td>1</td></tr><tr><td>2005</td><td>2005-01-01</td><td>53</td></tr><tr><td>2006</td><td>2006-01-01</td><td>52</td></tr><tr><td>2007</td><td>2007-01-01</td><td>1</td></tr><tr><td>2008</td><td>2008-01-01</td><td>1</td></tr><tr><td>2009</td><td>2009-01-01</td><td>1</td></tr></tbody></table></div>"
      ]
     },
     "metadata": {
      "application/vnd.databricks.v1+output": {
       "addedWidgets": {},
       "aggData": [],
       "aggError": "",
       "aggOverflow": false,
       "aggSchema": [],
       "aggSeriesLimitReached": false,
       "aggType": "",
       "arguments": {},
       "columnCustomDisplayInfos": {},
       "data": [
        [
         2000,
         "2000-01-01",
         52
        ],
        [
         2001,
         "2001-01-01",
         1
        ],
        [
         2002,
         "2002-01-01",
         1
        ],
        [
         2003,
         "2003-01-01",
         1
        ],
        [
         2004,
         "2004-01-01",
         1
        ],
        [
         2005,
         "2005-01-01",
         53
        ],
        [
         2006,
         "2006-01-01",
         52
        ],
        [
         2007,
         "2007-01-01",
         1
        ],
        [
         2008,
         "2008-01-01",
         1
        ],
        [
         2009,
         "2009-01-01",
         1
        ]
       ],
       "datasetInfos": [],
       "dbfsResultPath": null,
       "isJsonSchema": true,
       "metadata": {},
       "overflow": false,
       "plotOptions": {
        "customPlotOptions": {},
        "displayType": "table",
        "pivotAggregation": null,
        "pivotColumns": null,
        "xColumns": null,
        "yColumns": null
       },
       "removedWidgets": [],
       "schema": [
        {
         "metadata": "{}",
         "name": "year",
         "type": "\"long\""
        },
        {
         "metadata": "{}",
         "name": "date",
         "type": "\"date\""
        },
        {
         "metadata": "{}",
         "name": "53_week",
         "type": "\"integer\""
        }
       ],
       "type": "table"
      }
     },
     "output_type": "display_data"
    },
    {
     "output_type": "display_data",
     "data": {
      "text/html": [
       "<style scoped>\n",
       "  .table-result-container {\n",
       "    max-height: 300px;\n",
       "    overflow: auto;\n",
       "  }\n",
       "  table, th, td {\n",
       "    border: 1px solid black;\n",
       "    border-collapse: collapse;\n",
       "  }\n",
       "  th, td {\n",
       "    padding: 5px;\n",
       "  }\n",
       "  th {\n",
       "    text-align: left;\n",
       "  }\n",
       "</style><div class='table-result-container'><table class='table-result'><thead style='background-color: white'><tr><th>year</th><th>date</th><th>53_week</th></tr></thead><tbody><tr><td>2005</td><td>2005-01-01</td><td>53</td></tr></tbody></table></div>"
      ]
     },
     "metadata": {
      "application/vnd.databricks.v1+output": {
       "addedWidgets": {},
       "aggData": [],
       "aggError": "",
       "aggOverflow": false,
       "aggSchema": [],
       "aggSeriesLimitReached": false,
       "aggType": "",
       "arguments": {},
       "columnCustomDisplayInfos": {},
       "data": [
        [
         2005,
         "2005-01-01",
         53
        ]
       ],
       "datasetInfos": [],
       "dbfsResultPath": null,
       "isJsonSchema": true,
       "metadata": {},
       "overflow": false,
       "plotOptions": {
        "customPlotOptions": {},
        "displayType": "table",
        "pivotAggregation": null,
        "pivotColumns": null,
        "xColumns": null,
        "yColumns": null
       },
       "removedWidgets": [],
       "schema": [
        {
         "metadata": "{}",
         "name": "year",
         "type": "\"long\""
        },
        {
         "metadata": "{}",
         "name": "date",
         "type": "\"date\""
        },
        {
         "metadata": "{}",
         "name": "53_week",
         "type": "\"integer\""
        }
       ],
       "type": "table"
      }
     },
     "output_type": "display_data"
    }
   ],
   "source": [
    "from pyspark.sql.functions import *\n",
    "df_53=df.withColumn(\"date\",to_date(\"date\",'dd-MM-yyyy'))\\\n",
    "        .withColumn(\"53_week\",weekofyear(\"date\"))\n",
    "\n",
    "display(df_53)\n",
    "df_1=df_53.filter(\"53_week=53\")\n",
    "display(df_1)\n",
    "\n"
   ]
  }
 ],
 "metadata": {
  "application/vnd.databricks.v1+notebook": {
   "dashboards": [],
   "environmentMetadata": null,
   "language": "python",
   "notebookMetadata": {
    "pythonIndentUnit": 4
   },
   "notebookName": "how to get the 53rd week year from last10 years",
   "widgets": {}
  }
 },
 "nbformat": 4,
 "nbformat_minor": 0
}
