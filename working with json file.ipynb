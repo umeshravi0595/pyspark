{
 "cells": [
  {
   "cell_type": "code",
   "execution_count": 0,
   "metadata": {
    "application/vnd.databricks.v1+cell": {
     "cellMetadata": {
      "byteLimit": 2048000,
      "rowLimit": 10000
     },
     "inputWidgets": {},
     "nuid": "2bd8f5ba-28fa-40f8-8311-83d5e07d1017",
     "showTitle": false,
     "title": ""
    }
   },
   "outputs": [],
   "source": [
    "employee_json=\"\"\"\n",
    "[\n",
    "  {\n",
    "    \"id\": 1,\n",
    "    \"name\": \"Alice\",\n",
    "    \"age\": 34,\n",
    "    \"address\": {\n",
    "      \"street\": \"123 Maple St\",\n",
    "      \"city\": \"Springfield\",\n",
    "      \"state\": \"IL\",\n",
    "      \"zip\": \"62701\"\n",
    "    },\n",
    "    \"phoneNumbers\": [\n",
    "      {\n",
    "        \"type\": \"home\",\n",
    "        \"number\": \"555-1234\"\n",
    "      },\n",
    "      {\n",
    "        \"type\": \"work\",\n",
    "        \"number\": \"555-5678\"\n",
    "      }\n",
    "    ],\n",
    "    \"email\": \"alice@example.com\"\n",
    "  },\n",
    "  {\n",
    "    \"id\": 2,\n",
    "    \"name\": \"Bob\",\n",
    "    \"age\": 45,\n",
    "    \"address\": {\n",
    "      \"street\": \"456 Oak St\",\n",
    "      \"city\": \"Springfield\",\n",
    "      \"state\": \"IL\",\n",
    "      \"zip\": \"62701\"\n",
    "    },\n",
    "    \"phoneNumbers\": [\n",
    "      {\n",
    "        \"type\": \"home\",\n",
    "        \"number\": \"555-8765\"\n",
    "      },\n",
    "      {\n",
    "        \"type\": \"work\",\n",
    "        \"number\": \"555-4321\"\n",
    "      }\n",
    "    ],\n",
    "    \"email\": \"bob@example.com\"\n",
    "  }\n",
    "]\n",
    "\"\"\""
   ]
  },
  {
   "cell_type": "code",
   "execution_count": 0,
   "metadata": {
    "application/vnd.databricks.v1+cell": {
     "cellMetadata": {
      "byteLimit": 2048000,
      "rowLimit": 10000
     },
     "inputWidgets": {},
     "nuid": "5b8c3005-9c1b-46d1-8540-305641aead88",
     "showTitle": false,
     "title": ""
    }
   },
   "outputs": [
    {
     "output_type": "stream",
     "name": "stdout",
     "output_type": "stream",
     "text": [
      "Wrote 770 bytes.\nOut[2]: True"
     ]
    }
   ],
   "source": [
    "dbutils.fs.put(\"/FileStore/tables/employee.json\",employee_json,True)"
   ]
  },
  {
   "cell_type": "code",
   "execution_count": 0,
   "metadata": {
    "application/vnd.databricks.v1+cell": {
     "cellMetadata": {
      "byteLimit": 2048000,
      "rowLimit": 10000
     },
     "inputWidgets": {},
     "nuid": "22e0eca7-ca8b-4349-b37f-240d2218383c",
     "showTitle": false,
     "title": ""
    }
   },
   "outputs": [
    {
     "output_type": "display_data",
     "data": {
      "text/html": [
       "<style scoped>\n",
       "  .table-result-container {\n",
       "    max-height: 300px;\n",
       "    overflow: auto;\n",
       "  }\n",
       "  table, th, td {\n",
       "    border: 1px solid black;\n",
       "    border-collapse: collapse;\n",
       "  }\n",
       "  th, td {\n",
       "    padding: 5px;\n",
       "  }\n",
       "  th {\n",
       "    text-align: left;\n",
       "  }\n",
       "</style><div class='table-result-container'><table class='table-result'><thead style='background-color: white'><tr><th>address</th><th>age</th><th>email</th><th>id</th><th>name</th><th>phoneNumbers</th></tr></thead><tbody><tr><td>List(Springfield, IL, 123 Maple St, 62701)</td><td>34</td><td>alice@example.com</td><td>1</td><td>Alice</td><td>List(List(555-1234, home), List(555-5678, work))</td></tr><tr><td>List(Springfield, IL, 456 Oak St, 62701)</td><td>45</td><td>bob@example.com</td><td>2</td><td>Bob</td><td>List(List(555-8765, home), List(555-4321, work))</td></tr></tbody></table></div>"
      ]
     },
     "metadata": {
      "application/vnd.databricks.v1+output": {
       "addedWidgets": {},
       "aggData": [],
       "aggError": "",
       "aggOverflow": false,
       "aggSchema": [],
       "aggSeriesLimitReached": false,
       "aggType": "",
       "arguments": {},
       "columnCustomDisplayInfos": {},
       "data": [
        [
         [
          "Springfield",
          "IL",
          "123 Maple St",
          "62701"
         ],
         34,
         "alice@example.com",
         1,
         "Alice",
         [
          [
           "555-1234",
           "home"
          ],
          [
           "555-5678",
           "work"
          ]
         ]
        ],
        [
         [
          "Springfield",
          "IL",
          "456 Oak St",
          "62701"
         ],
         45,
         "bob@example.com",
         2,
         "Bob",
         [
          [
           "555-8765",
           "home"
          ],
          [
           "555-4321",
           "work"
          ]
         ]
        ]
       ],
       "datasetInfos": [],
       "dbfsResultPath": null,
       "isJsonSchema": true,
       "metadata": {},
       "overflow": false,
       "plotOptions": {
        "customPlotOptions": {},
        "displayType": "table",
        "pivotAggregation": null,
        "pivotColumns": null,
        "xColumns": null,
        "yColumns": null
       },
       "removedWidgets": [],
       "schema": [
        {
         "metadata": "{}",
         "name": "address",
         "type": "{\"type\":\"struct\",\"fields\":[{\"name\":\"city\",\"type\":\"string\",\"nullable\":true,\"metadata\":{}},{\"name\":\"state\",\"type\":\"string\",\"nullable\":true,\"metadata\":{}},{\"name\":\"street\",\"type\":\"string\",\"nullable\":true,\"metadata\":{}},{\"name\":\"zip\",\"type\":\"string\",\"nullable\":true,\"metadata\":{}}]}"
        },
        {
         "metadata": "{}",
         "name": "age",
         "type": "\"long\""
        },
        {
         "metadata": "{}",
         "name": "email",
         "type": "\"string\""
        },
        {
         "metadata": "{}",
         "name": "id",
         "type": "\"long\""
        },
        {
         "metadata": "{}",
         "name": "name",
         "type": "\"string\""
        },
        {
         "metadata": "{}",
         "name": "phoneNumbers",
         "type": "{\"type\":\"array\",\"elementType\":{\"type\":\"struct\",\"fields\":[{\"name\":\"number\",\"type\":\"string\",\"nullable\":true,\"metadata\":{}},{\"name\":\"type\",\"type\":\"string\",\"nullable\":true,\"metadata\":{}}]},\"containsNull\":true}"
        }
       ],
       "type": "table"
      }
     },
     "output_type": "display_data"
    }
   ],
   "source": [
    "df=spark.read.json('/FileStore/tables/employee.json',multiLine=True)\n",
    "display(df)"
   ]
  },
  {
   "cell_type": "code",
   "execution_count": 0,
   "metadata": {
    "application/vnd.databricks.v1+cell": {
     "cellMetadata": {
      "byteLimit": 2048000,
      "rowLimit": 10000
     },
     "inputWidgets": {},
     "nuid": "1113d776-b04c-4108-b3de-65116af0032b",
     "showTitle": false,
     "title": ""
    }
   },
   "outputs": [
    {
     "output_type": "display_data",
     "data": {
      "text/html": [
       "<style scoped>\n",
       "  .table-result-container {\n",
       "    max-height: 300px;\n",
       "    overflow: auto;\n",
       "  }\n",
       "  table, th, td {\n",
       "    border: 1px solid black;\n",
       "    border-collapse: collapse;\n",
       "  }\n",
       "  th, td {\n",
       "    padding: 5px;\n",
       "  }\n",
       "  th {\n",
       "    text-align: left;\n",
       "  }\n",
       "</style><div class='table-result-container'><table class='table-result'><thead style='background-color: white'><tr><th>address</th><th>age</th><th>email</th><th>id</th><th>name</th><th>mobile_number</th></tr></thead><tbody><tr><td>List(Springfield, IL, 123 Maple St, 62701)</td><td>34</td><td>alice@example.com</td><td>1</td><td>Alice</td><td>List(555-1234, home)</td></tr><tr><td>List(Springfield, IL, 123 Maple St, 62701)</td><td>34</td><td>alice@example.com</td><td>1</td><td>Alice</td><td>List(555-5678, work)</td></tr><tr><td>List(Springfield, IL, 456 Oak St, 62701)</td><td>45</td><td>bob@example.com</td><td>2</td><td>Bob</td><td>List(555-8765, home)</td></tr><tr><td>List(Springfield, IL, 456 Oak St, 62701)</td><td>45</td><td>bob@example.com</td><td>2</td><td>Bob</td><td>List(555-4321, work)</td></tr></tbody></table></div>"
      ]
     },
     "metadata": {
      "application/vnd.databricks.v1+output": {
       "addedWidgets": {},
       "aggData": [],
       "aggError": "",
       "aggOverflow": false,
       "aggSchema": [],
       "aggSeriesLimitReached": false,
       "aggType": "",
       "arguments": {},
       "columnCustomDisplayInfos": {},
       "data": [
        [
         [
          "Springfield",
          "IL",
          "123 Maple St",
          "62701"
         ],
         34,
         "alice@example.com",
         1,
         "Alice",
         [
          "555-1234",
          "home"
         ]
        ],
        [
         [
          "Springfield",
          "IL",
          "123 Maple St",
          "62701"
         ],
         34,
         "alice@example.com",
         1,
         "Alice",
         [
          "555-5678",
          "work"
         ]
        ],
        [
         [
          "Springfield",
          "IL",
          "456 Oak St",
          "62701"
         ],
         45,
         "bob@example.com",
         2,
         "Bob",
         [
          "555-8765",
          "home"
         ]
        ],
        [
         [
          "Springfield",
          "IL",
          "456 Oak St",
          "62701"
         ],
         45,
         "bob@example.com",
         2,
         "Bob",
         [
          "555-4321",
          "work"
         ]
        ]
       ],
       "datasetInfos": [],
       "dbfsResultPath": null,
       "isJsonSchema": true,
       "metadata": {},
       "overflow": false,
       "plotOptions": {
        "customPlotOptions": {},
        "displayType": "table",
        "pivotAggregation": null,
        "pivotColumns": null,
        "xColumns": null,
        "yColumns": null
       },
       "removedWidgets": [],
       "schema": [
        {
         "metadata": "{}",
         "name": "address",
         "type": "{\"type\":\"struct\",\"fields\":[{\"name\":\"city\",\"type\":\"string\",\"nullable\":true,\"metadata\":{}},{\"name\":\"state\",\"type\":\"string\",\"nullable\":true,\"metadata\":{}},{\"name\":\"street\",\"type\":\"string\",\"nullable\":true,\"metadata\":{}},{\"name\":\"zip\",\"type\":\"string\",\"nullable\":true,\"metadata\":{}}]}"
        },
        {
         "metadata": "{}",
         "name": "age",
         "type": "\"long\""
        },
        {
         "metadata": "{}",
         "name": "email",
         "type": "\"string\""
        },
        {
         "metadata": "{}",
         "name": "id",
         "type": "\"long\""
        },
        {
         "metadata": "{}",
         "name": "name",
         "type": "\"string\""
        },
        {
         "metadata": "{}",
         "name": "mobile_number",
         "type": "{\"type\":\"struct\",\"fields\":[{\"name\":\"number\",\"type\":\"string\",\"nullable\":true,\"metadata\":{}},{\"name\":\"type\",\"type\":\"string\",\"nullable\":true,\"metadata\":{}}]}"
        }
       ],
       "type": "table"
      }
     },
     "output_type": "display_data"
    }
   ],
   "source": [
    "from pyspark.sql.functions import *\n",
    "df1=df.select(\"address\",\"age\",\"email\",\"id\",\"name\",explode(col(\"phoneNumbers\")).alias(\"mobile_number\"))\n",
    "display(df1)"
   ]
  },
  {
   "cell_type": "code",
   "execution_count": 0,
   "metadata": {
    "application/vnd.databricks.v1+cell": {
     "cellMetadata": {
      "byteLimit": 2048000,
      "rowLimit": 10000
     },
     "inputWidgets": {},
     "nuid": "9fdaf62d-b4cd-49d9-9252-8fd6b2754a29",
     "showTitle": false,
     "title": ""
    }
   },
   "outputs": [],
   "source": [
    "#conver the struct type into json type then only with json tuple we can split the columns\n",
    "df_json=df1.select(to_json(col(\"address\")).alias(\"address\"),\"age\",\"email\",\"id\",\"name\",to_json(col(\"mobile_number\")).alias(\"mobile_number\"))\n"
   ]
  },
  {
   "cell_type": "code",
   "execution_count": 0,
   "metadata": {
    "application/vnd.databricks.v1+cell": {
     "cellMetadata": {
      "byteLimit": 2048000,
      "rowLimit": 10000
     },
     "inputWidgets": {},
     "nuid": "f8eb5d6d-8d51-47f9-ba00-404701511816",
     "showTitle": false,
     "title": ""
    }
   },
   "outputs": [
    {
     "output_type": "display_data",
     "data": {
      "text/html": [
       "<style scoped>\n",
       "  .table-result-container {\n",
       "    max-height: 300px;\n",
       "    overflow: auto;\n",
       "  }\n",
       "  table, th, td {\n",
       "    border: 1px solid black;\n",
       "    border-collapse: collapse;\n",
       "  }\n",
       "  th, td {\n",
       "    padding: 5px;\n",
       "  }\n",
       "  th {\n",
       "    text-align: left;\n",
       "  }\n",
       "</style><div class='table-result-container'><table class='table-result'><thead style='background-color: white'><tr><th>city</th><th>state</th><th>street</th><th>zip</th><th>age</th><th>email</th><th>id</th><th>name</th><th>number</th><th>type</th></tr></thead><tbody><tr><td>Springfield</td><td>IL</td><td>123 Maple St</td><td>62701</td><td>34</td><td>alice@example.com</td><td>1</td><td>Alice</td><td>555-1234</td><td>home</td></tr><tr><td>Springfield</td><td>IL</td><td>123 Maple St</td><td>62701</td><td>34</td><td>alice@example.com</td><td>1</td><td>Alice</td><td>555-5678</td><td>work</td></tr><tr><td>Springfield</td><td>IL</td><td>456 Oak St</td><td>62701</td><td>45</td><td>bob@example.com</td><td>2</td><td>Bob</td><td>555-8765</td><td>home</td></tr><tr><td>Springfield</td><td>IL</td><td>456 Oak St</td><td>62701</td><td>45</td><td>bob@example.com</td><td>2</td><td>Bob</td><td>555-4321</td><td>work</td></tr></tbody></table></div>"
      ]
     },
     "metadata": {
      "application/vnd.databricks.v1+output": {
       "addedWidgets": {},
       "aggData": [],
       "aggError": "",
       "aggOverflow": false,
       "aggSchema": [],
       "aggSeriesLimitReached": false,
       "aggType": "",
       "arguments": {},
       "columnCustomDisplayInfos": {},
       "data": [
        [
         "Springfield",
         "IL",
         "123 Maple St",
         "62701",
         34,
         "alice@example.com",
         1,
         "Alice",
         "555-1234",
         "home"
        ],
        [
         "Springfield",
         "IL",
         "123 Maple St",
         "62701",
         34,
         "alice@example.com",
         1,
         "Alice",
         "555-5678",
         "work"
        ],
        [
         "Springfield",
         "IL",
         "456 Oak St",
         "62701",
         45,
         "bob@example.com",
         2,
         "Bob",
         "555-8765",
         "home"
        ],
        [
         "Springfield",
         "IL",
         "456 Oak St",
         "62701",
         45,
         "bob@example.com",
         2,
         "Bob",
         "555-4321",
         "work"
        ]
       ],
       "datasetInfos": [],
       "dbfsResultPath": null,
       "isJsonSchema": true,
       "metadata": {},
       "overflow": false,
       "plotOptions": {
        "customPlotOptions": {},
        "displayType": "table",
        "pivotAggregation": null,
        "pivotColumns": null,
        "xColumns": null,
        "yColumns": null
       },
       "removedWidgets": [],
       "schema": [
        {
         "metadata": "{}",
         "name": "city",
         "type": "\"string\""
        },
        {
         "metadata": "{}",
         "name": "state",
         "type": "\"string\""
        },
        {
         "metadata": "{}",
         "name": "street",
         "type": "\"string\""
        },
        {
         "metadata": "{}",
         "name": "zip",
         "type": "\"string\""
        },
        {
         "metadata": "{}",
         "name": "age",
         "type": "\"long\""
        },
        {
         "metadata": "{}",
         "name": "email",
         "type": "\"string\""
        },
        {
         "metadata": "{}",
         "name": "id",
         "type": "\"long\""
        },
        {
         "metadata": "{}",
         "name": "name",
         "type": "\"string\""
        },
        {
         "metadata": "{}",
         "name": "number",
         "type": "\"string\""
        },
        {
         "metadata": "{}",
         "name": "type",
         "type": "\"string\""
        }
       ],
       "type": "table"
      }
     },
     "output_type": "display_data"
    }
   ],
   "source": [
    "#json tuple to seperate the json nested type into seperate columns and The json_tuple function in Spark can be used to extract multiple fields from a JSON column into separate columns. \n",
    "df_json_tuple_1=df_json.select(\"address\",\"age\",\"email\",\"id\",\"name\",json_tuple(col(\"mobile_number\"),\"number\",\"type\").alias(\"number\",\"type\"))\n",
    "df_json_tuple_2=df_json_tuple_1.select(json_tuple(col(\"address\"),\"city\",\"state\",\"street\",\"zip\").alias(\"city\",\"state\",\"street\",\"zip\"),\"age\",\"email\",\"id\",\"name\",\"number\",\"type\")\n",
    "display(df_json_tuple_2)\n"
   ]
  }
 ],
 "metadata": {
  "application/vnd.databricks.v1+notebook": {
   "dashboards": [],
   "environmentMetadata": null,
   "language": "python",
   "notebookMetadata": {
    "pythonIndentUnit": 4
   },
   "notebookName": "working with json file",
   "widgets": {}
  }
 },
 "nbformat": 4,
 "nbformat_minor": 0
}
