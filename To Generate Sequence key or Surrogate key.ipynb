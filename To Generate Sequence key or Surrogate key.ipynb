{
 "cells": [
  {
   "cell_type": "code",
   "execution_count": 0,
   "metadata": {
    "application/vnd.databricks.v1+cell": {
     "cellMetadata": {
      "byteLimit": 2048000,
      "rowLimit": 10000
     },
     "inputWidgets": {},
     "nuid": "a5c47f65-4816-491e-a558-8b109d019de1",
     "showTitle": false,
     "title": ""
    }
   },
   "outputs": [
    {
     "output_type": "stream",
     "name": "stdout",
     "output_type": "stream",
     "text": [
      "Wrote 1918 bytes.\nOut[37]: True"
     ]
    }
   ],
   "source": [
    "dbutils.fs.put(\"FileStore/tables/sequence.csv\",\"\"\" EMPNO,ENAME,JOB,MGR,HIREDATE,SAL,COMM,DEPTNO,UPDATED_DATE\n",
    "7369,SMITH,CLERK,7902,17-12-1980,800,null,20,2022-01-01\n",
    "7499,ALLEN,SALESMAN,7698,20-02-1981,1600,300,30,2022-01-01\n",
    "7521,WARD,SALESMAN,7698,22-02-1981,1250,500,30,2022-01-01\n",
    "7566,JONES,MANAGER,7839,04-02-1981,2975,null,20,2022-01-05\n",
    "7654,MARTIN,SALESMAN,7698,21-09-1981,1250,1400,30,2022-01-03\n",
    "7698,SGR,MANAGER,7839,05-01-1981,2850,null,30,2022-01-04\n",
    "7782,RAVI,MANAGER,7839,06-09-1981,2450,null,10,2022-01-02\n",
    "7788,SCOTT,ANALYST,7566,19-04-1987,3000,null,20,2022-01-02\n",
    "7839,KING,PRESIDENT,null,01-11-1981,5000,null,10,2022-01-02\n",
    "7844,TURNER,SALESMAN,7698,09-08-1981,1500,0,30,2022-01-02\n",
    "7876,ADAMS,CLERK,7788,23-05-1987,1100,null,20,2022-01-03\n",
    "7900,JAMES,CLERK,7698,12-03-1981,950,null,30,2022-01-03\n",
    "7902,FORD,ANALYST,7566,12-03-1981,3000,null,20,2022-01-03\n",
    "7934,MILLER,CLERK,7782,01-03-1982,1300,null,10,2022-01-03\n",
    "1234,SEKHAR,doctor,7777,null,667,78,80,2022-01-03\n",
    "7369,SMITH,CLERK,7902,17-12-1980,800,null,20,2022-01-04\n",
    "7499,ALLEN,SALESMAN,7698,20-02-1981,1600,300,30,2022-01-04\n",
    "7521,WARD,SALESMAN,7698,22-02-1981,1250,500,30,2022-01-04\n",
    "7566,JONES,MANAGER,7839,04-02-1981,2975,null,20,2022-01-04\n",
    "7654,MARTIN,SALESMAN,7698,21-09-1981,1250,1400,30,2022-01-05\n",
    "7698,SGR,MANAGER,7839,05-01-1981,2850,null,30,2022-01-05\n",
    "7782,RAVI,MANAGER,7839,06-09-1981,2450,null,10,2022-01-05\n",
    "7788,SCOTT,ANALYST,7566,19-04-1987,3000,null,20,2022-01-06\n",
    "7839,KING,PRESIDENT,null,01-11-1981,5000,null,10,2022-01-06\n",
    "7844,TURNER,SALESMAN,7698,09-08-1981,1500,0,30,2022-01-06\n",
    "7876,ADAMS,CLERK,7788,23-05-1987,1100,null,20,2022-01-06\n",
    "7900,JAMES,CLERK,7698,12-03-1981,950,null,30,2022-01-07\n",
    "7902,FORD,ANALYST,7566,12-03-1981,3000,null,20,2022-01-07\n",
    "7934,MILLER,CLERK,7782,01-03-1982,1300,null,10,2022-01-07\n",
    "1234,RAM,CLERK,7457,null,494,588,80,2022-01-07\n",
    "null,null,null,null,null,null,null,null,null\n",
    "null,null,null,null,null,null,null,null,null\n",
    "null,null,null,null,null,null,null,null,null\"\"\",True)"
   ]
  },
  {
   "cell_type": "code",
   "execution_count": 0,
   "metadata": {
    "application/vnd.databricks.v1+cell": {
     "cellMetadata": {
      "byteLimit": 2048000,
      "rowLimit": 10000
     },
     "inputWidgets": {},
     "nuid": "63b61933-9e07-4cc3-8c1d-048bd1c904a7",
     "showTitle": false,
     "title": ""
    }
   },
   "outputs": [
    {
     "output_type": "stream",
     "name": "stdout",
     "output_type": "stream",
     "text": [
      "Out[52]: [' EMPNO',\n 'ENAME',\n 'JOB',\n 'MGR',\n 'HIREDATE',\n 'SAL',\n 'COMM',\n 'DEPTNO',\n 'UPDATED_DATE']"
     ]
    }
   ],
   "source": [
    "# crc37 will not generate seq if there are null values\n",
    "df=spark.read.option(\"nullValue\",\"null\").csv(\"/FileStore/tables/sequence.csv\",header=True,inferSchema=True).dropna(how='all')\n",
    "df.columns\n",
    "#display(df)\n"
   ]
  },
  {
   "cell_type": "code",
   "execution_count": 0,
   "metadata": {
    "application/vnd.databricks.v1+cell": {
     "cellMetadata": {
      "byteLimit": 2048000,
      "rowLimit": 10000
     },
     "inputWidgets": {},
     "nuid": "52b1679b-9a6e-4caa-a08e-20cb96e59a9b",
     "showTitle": false,
     "title": ""
    }
   },
   "outputs": [
    {
     "output_type": "stream",
     "name": "stdout",
     "output_type": "stream",
     "text": [
      "Out[53]: ['EMPNO',\n 'ENAME',\n 'JOB',\n 'MGR',\n 'HIREDATE',\n 'SAL',\n 'COMM',\n 'DEPTNO',\n 'UPDATED_DATE']"
     ]
    }
   ],
   "source": [
    "#strip will remove trailing spaces in columns \n",
    "df3=df.select([col(column).alias(column.strip()) for column in df.columns])\n",
    "df3.columns\n",
    "#display(df1)"
   ]
  },
  {
   "cell_type": "code",
   "execution_count": 0,
   "metadata": {
    "application/vnd.databricks.v1+cell": {
     "cellMetadata": {
      "byteLimit": 2048000,
      "rowLimit": 10000
     },
     "inputWidgets": {},
     "nuid": "ab3e3680-55b5-4aad-80ad-a22ea2008e26",
     "showTitle": false,
     "title": ""
    }
   },
   "outputs": [
    {
     "output_type": "display_data",
     "data": {
      "text/html": [
       "<style scoped>\n",
       "  .table-result-container {\n",
       "    max-height: 300px;\n",
       "    overflow: auto;\n",
       "  }\n",
       "  table, th, td {\n",
       "    border: 1px solid black;\n",
       "    border-collapse: collapse;\n",
       "  }\n",
       "  th, td {\n",
       "    padding: 5px;\n",
       "  }\n",
       "  th {\n",
       "    text-align: left;\n",
       "  }\n",
       "</style><div class='table-result-container'><table class='table-result'><thead style='background-color: white'><tr><th>EMPNO</th><th>ENAME</th><th>JOB</th><th>MGR</th><th>HIREDATE</th><th>SAL</th><th>COMM</th><th>DEPTNO</th><th>UPDATED_DATE</th><th>Seq_mono</th><th>seq_row</th><th>CRC32_KEY</th><th>MD5</th><th>SHA2</th></tr></thead><tbody><tr><td>7369</td><td>SMITH</td><td>CLERK</td><td>7902</td><td>1980-12-17</td><td>800</td><td>null</td><td>20</td><td>2022-01-01</td><td>1</td><td>1</td><td>3163315632</td><td>0d7f9017fbda691900187b22404b8a1f</td><td>c59f438f16c5a409eb2a040b299e82de37503321b9cbfec4fb351547261dd1b1</td></tr><tr><td>7499</td><td>ALLEN</td><td>SALESMAN</td><td>7698</td><td>1981-02-20</td><td>1600</td><td>300</td><td>30</td><td>2022-01-01</td><td>2</td><td>2</td><td>1046173690</td><td>7a2b33c672ce223b2aa5789171ddde2f</td><td>4427dc2e32a1d099dbe2e3c093a8726e0ea72b9422c36a99915dae1d31e9385f</td></tr><tr><td>7521</td><td>WARD</td><td>SALESMAN</td><td>7698</td><td>1981-02-22</td><td>1250</td><td>500</td><td>30</td><td>2022-01-01</td><td>3</td><td>3</td><td>3535170612</td><td>e1e1f667ce4596e5644be6fab627c226</td><td>74ed8ca63e8b4fb8b8ac06e8df400f098b0b09cf1b89c8a331e72e1919b57bd4</td></tr><tr><td>7566</td><td>JONES</td><td>MANAGER</td><td>7839</td><td>1981-02-04</td><td>2975</td><td>null</td><td>20</td><td>2022-01-05</td><td>4</td><td>4</td><td>683555987</td><td>b937384a573b94c4d7cc6004c496f919</td><td>b2ca4f93866dc5f5aa73f9df7a8c8d7ce03d296a3ccb5eec5fc28717f2de4874</td></tr><tr><td>7654</td><td>MARTIN</td><td>SALESMAN</td><td>7698</td><td>1981-09-21</td><td>1250</td><td>1400</td><td>30</td><td>2022-01-03</td><td>5</td><td>5</td><td>4024152101</td><td>e2a7555f7cabd6e31aef45cb8cda4999</td><td>b969b01c158ebfecd0ac568aee526cb1ff8811fcdc77b4d682dab89146ad9891</td></tr><tr><td>7698</td><td>SGR</td><td>MANAGER</td><td>7839</td><td>1981-01-05</td><td>2850</td><td>null</td><td>30</td><td>2022-01-04</td><td>6</td><td>6</td><td>1255715586</td><td>c570c225d1fb8a72ad79995dd17a77bc</td><td>83f9d8d707524a4f56447204e344a997fff07b23b11f206eb5d02eac91385251</td></tr><tr><td>7782</td><td>RAVI</td><td>MANAGER</td><td>7839</td><td>1981-09-06</td><td>2450</td><td>null</td><td>10</td><td>2022-01-02</td><td>7</td><td>7</td><td>3000238442</td><td>ac5c482277858d6fe45065d0a3f92b0c</td><td>d7b6fab9aa91943de418ecbacefa4b276e82fbbb07bae1f7296775cc59a6f323</td></tr><tr><td>7788</td><td>SCOTT</td><td>ANALYST</td><td>7566</td><td>1987-04-19</td><td>3000</td><td>null</td><td>20</td><td>2022-01-02</td><td>8</td><td>8</td><td>1375856756</td><td>866c7ee013c58f01fa153a8d32c9ed57</td><td>16740bf13991fe083fbe5820cc8da08a5d88e5a48f44a3cfcc283c27b2797ba7</td></tr><tr><td>7839</td><td>KING</td><td>PRESIDENT</td><td>null</td><td>1981-11-01</td><td>5000</td><td>null</td><td>10</td><td>2022-01-02</td><td>9</td><td>9</td><td>3450750484</td><td>ca91c5464e73d3066825362c3093a45f</td><td>cc87d27285025584dc9cf888e8b1f415eca13f64bc04b9acbdc04259e9f27864</td></tr><tr><td>7844</td><td>TURNER</td><td>SALESMAN</td><td>7698</td><td>1981-08-09</td><td>1500</td><td>0</td><td>30</td><td>2022-01-02</td><td>10</td><td>10</td><td>4234062958</td><td>b356e7aed7ee82589e54a466e0dca157</td><td>b513a7ff5978b95883e4e6f83d4d991de3b8a22827d2f5bc58986e3cee03c6b1</td></tr><tr><td>7876</td><td>ADAMS</td><td>CLERK</td><td>7788</td><td>1987-05-23</td><td>1100</td><td>null</td><td>20</td><td>2022-01-03</td><td>11</td><td>11</td><td>964533889</td><td>42dab56861d81108ee356d037190c315</td><td>05a4cd58579909328296060a91fa22242c6449980486c196868a007bc4ccd455</td></tr><tr><td>7900</td><td>JAMES</td><td>CLERK</td><td>7698</td><td>1981-03-12</td><td>950</td><td>null</td><td>30</td><td>2022-01-03</td><td>12</td><td>12</td><td>2661140292</td><td>400c3241004b5db7ca7f5abfef2794f2</td><td>22191a9215264bb24037d3fa2e7d1516c97813abb7aa0a417e5a157910fb0af7</td></tr><tr><td>7902</td><td>FORD</td><td>ANALYST</td><td>7566</td><td>1981-03-12</td><td>3000</td><td>null</td><td>20</td><td>2022-01-03</td><td>13</td><td>13</td><td>1888724584</td><td>66fe2bcc701bb627e111be6847a8436c</td><td>7b721c50ff0220bb9376a328f3aafc0c56e1590ff644ec01bd8a43d75307c2c4</td></tr><tr><td>7934</td><td>MILLER</td><td>CLERK</td><td>7782</td><td>1982-03-01</td><td>1300</td><td>null</td><td>10</td><td>2022-01-03</td><td>14</td><td>14</td><td>3000848542</td><td>6c90885b28e58d1f44856d787da2078f</td><td>6a25547cf30b010a2206506ec10adb46cd02e86c40e886c2efbec3c4c7515df9</td></tr><tr><td>1234</td><td>SEKHAR</td><td>doctor</td><td>7777</td><td>null</td><td>667</td><td>78</td><td>80</td><td>2022-01-03</td><td>15</td><td>15</td><td>2615402659</td><td>81dc9bdb52d04dc20036dbd8313ed055</td><td>03ac674216f3e15c761ee1a5e255f067953623c8b388b4459e13f978d7c846f4</td></tr><tr><td>7369</td><td>SMITH</td><td>CLERK</td><td>7902</td><td>1980-12-17</td><td>800</td><td>null</td><td>20</td><td>2022-01-04</td><td>16</td><td>16</td><td>3163315632</td><td>0d7f9017fbda691900187b22404b8a1f</td><td>c59f438f16c5a409eb2a040b299e82de37503321b9cbfec4fb351547261dd1b1</td></tr><tr><td>7499</td><td>ALLEN</td><td>SALESMAN</td><td>7698</td><td>1981-02-20</td><td>1600</td><td>300</td><td>30</td><td>2022-01-04</td><td>17</td><td>17</td><td>1046173690</td><td>7a2b33c672ce223b2aa5789171ddde2f</td><td>4427dc2e32a1d099dbe2e3c093a8726e0ea72b9422c36a99915dae1d31e9385f</td></tr><tr><td>7521</td><td>WARD</td><td>SALESMAN</td><td>7698</td><td>1981-02-22</td><td>1250</td><td>500</td><td>30</td><td>2022-01-04</td><td>18</td><td>18</td><td>3535170612</td><td>e1e1f667ce4596e5644be6fab627c226</td><td>74ed8ca63e8b4fb8b8ac06e8df400f098b0b09cf1b89c8a331e72e1919b57bd4</td></tr><tr><td>7566</td><td>JONES</td><td>MANAGER</td><td>7839</td><td>1981-02-04</td><td>2975</td><td>null</td><td>20</td><td>2022-01-04</td><td>19</td><td>19</td><td>683555987</td><td>b937384a573b94c4d7cc6004c496f919</td><td>b2ca4f93866dc5f5aa73f9df7a8c8d7ce03d296a3ccb5eec5fc28717f2de4874</td></tr><tr><td>7654</td><td>MARTIN</td><td>SALESMAN</td><td>7698</td><td>1981-09-21</td><td>1250</td><td>1400</td><td>30</td><td>2022-01-05</td><td>20</td><td>20</td><td>4024152101</td><td>e2a7555f7cabd6e31aef45cb8cda4999</td><td>b969b01c158ebfecd0ac568aee526cb1ff8811fcdc77b4d682dab89146ad9891</td></tr><tr><td>7698</td><td>SGR</td><td>MANAGER</td><td>7839</td><td>1981-01-05</td><td>2850</td><td>null</td><td>30</td><td>2022-01-05</td><td>21</td><td>21</td><td>1255715586</td><td>c570c225d1fb8a72ad79995dd17a77bc</td><td>83f9d8d707524a4f56447204e344a997fff07b23b11f206eb5d02eac91385251</td></tr><tr><td>7782</td><td>RAVI</td><td>MANAGER</td><td>7839</td><td>1981-09-06</td><td>2450</td><td>null</td><td>10</td><td>2022-01-05</td><td>22</td><td>22</td><td>3000238442</td><td>ac5c482277858d6fe45065d0a3f92b0c</td><td>d7b6fab9aa91943de418ecbacefa4b276e82fbbb07bae1f7296775cc59a6f323</td></tr><tr><td>7788</td><td>SCOTT</td><td>ANALYST</td><td>7566</td><td>1987-04-19</td><td>3000</td><td>null</td><td>20</td><td>2022-01-06</td><td>23</td><td>23</td><td>1375856756</td><td>866c7ee013c58f01fa153a8d32c9ed57</td><td>16740bf13991fe083fbe5820cc8da08a5d88e5a48f44a3cfcc283c27b2797ba7</td></tr><tr><td>7839</td><td>KING</td><td>PRESIDENT</td><td>null</td><td>1981-11-01</td><td>5000</td><td>null</td><td>10</td><td>2022-01-06</td><td>24</td><td>24</td><td>3450750484</td><td>ca91c5464e73d3066825362c3093a45f</td><td>cc87d27285025584dc9cf888e8b1f415eca13f64bc04b9acbdc04259e9f27864</td></tr><tr><td>7844</td><td>TURNER</td><td>SALESMAN</td><td>7698</td><td>1981-08-09</td><td>1500</td><td>0</td><td>30</td><td>2022-01-06</td><td>25</td><td>25</td><td>4234062958</td><td>b356e7aed7ee82589e54a466e0dca157</td><td>b513a7ff5978b95883e4e6f83d4d991de3b8a22827d2f5bc58986e3cee03c6b1</td></tr><tr><td>7876</td><td>ADAMS</td><td>CLERK</td><td>7788</td><td>1987-05-23</td><td>1100</td><td>null</td><td>20</td><td>2022-01-06</td><td>26</td><td>26</td><td>964533889</td><td>42dab56861d81108ee356d037190c315</td><td>05a4cd58579909328296060a91fa22242c6449980486c196868a007bc4ccd455</td></tr><tr><td>7900</td><td>JAMES</td><td>CLERK</td><td>7698</td><td>1981-03-12</td><td>950</td><td>null</td><td>30</td><td>2022-01-07</td><td>27</td><td>27</td><td>2661140292</td><td>400c3241004b5db7ca7f5abfef2794f2</td><td>22191a9215264bb24037d3fa2e7d1516c97813abb7aa0a417e5a157910fb0af7</td></tr><tr><td>7902</td><td>FORD</td><td>ANALYST</td><td>7566</td><td>1981-03-12</td><td>3000</td><td>null</td><td>20</td><td>2022-01-07</td><td>28</td><td>28</td><td>1888724584</td><td>66fe2bcc701bb627e111be6847a8436c</td><td>7b721c50ff0220bb9376a328f3aafc0c56e1590ff644ec01bd8a43d75307c2c4</td></tr><tr><td>7934</td><td>MILLER</td><td>CLERK</td><td>7782</td><td>1982-03-01</td><td>1300</td><td>null</td><td>10</td><td>2022-01-07</td><td>29</td><td>29</td><td>3000848542</td><td>6c90885b28e58d1f44856d787da2078f</td><td>6a25547cf30b010a2206506ec10adb46cd02e86c40e886c2efbec3c4c7515df9</td></tr><tr><td>1234</td><td>RAM</td><td>CLERK</td><td>7457</td><td>null</td><td>494</td><td>588</td><td>80</td><td>2022-01-07</td><td>30</td><td>30</td><td>2615402659</td><td>81dc9bdb52d04dc20036dbd8313ed055</td><td>03ac674216f3e15c761ee1a5e255f067953623c8b388b4459e13f978d7c846f4</td></tr></tbody></table></div>"
      ]
     },
     "metadata": {
      "application/vnd.databricks.v1+output": {
       "addedWidgets": {},
       "aggData": [],
       "aggError": "",
       "aggOverflow": false,
       "aggSchema": [],
       "aggSeriesLimitReached": false,
       "aggType": "",
       "arguments": {},
       "columnCustomDisplayInfos": {},
       "data": [
        [
         7369,
         "SMITH",
         "CLERK",
         7902,
         "1980-12-17",
         800,
         null,
         20,
         "2022-01-01",
         1,
         1,
         3163315632,
         "0d7f9017fbda691900187b22404b8a1f",
         "c59f438f16c5a409eb2a040b299e82de37503321b9cbfec4fb351547261dd1b1"
        ],
        [
         7499,
         "ALLEN",
         "SALESMAN",
         7698,
         "1981-02-20",
         1600,
         300,
         30,
         "2022-01-01",
         2,
         2,
         1046173690,
         "7a2b33c672ce223b2aa5789171ddde2f",
         "4427dc2e32a1d099dbe2e3c093a8726e0ea72b9422c36a99915dae1d31e9385f"
        ],
        [
         7521,
         "WARD",
         "SALESMAN",
         7698,
         "1981-02-22",
         1250,
         500,
         30,
         "2022-01-01",
         3,
         3,
         3535170612,
         "e1e1f667ce4596e5644be6fab627c226",
         "74ed8ca63e8b4fb8b8ac06e8df400f098b0b09cf1b89c8a331e72e1919b57bd4"
        ],
        [
         7566,
         "JONES",
         "MANAGER",
         7839,
         "1981-02-04",
         2975,
         null,
         20,
         "2022-01-05",
         4,
         4,
         683555987,
         "b937384a573b94c4d7cc6004c496f919",
         "b2ca4f93866dc5f5aa73f9df7a8c8d7ce03d296a3ccb5eec5fc28717f2de4874"
        ],
        [
         7654,
         "MARTIN",
         "SALESMAN",
         7698,
         "1981-09-21",
         1250,
         1400,
         30,
         "2022-01-03",
         5,
         5,
         4024152101,
         "e2a7555f7cabd6e31aef45cb8cda4999",
         "b969b01c158ebfecd0ac568aee526cb1ff8811fcdc77b4d682dab89146ad9891"
        ],
        [
         7698,
         "SGR",
         "MANAGER",
         7839,
         "1981-01-05",
         2850,
         null,
         30,
         "2022-01-04",
         6,
         6,
         1255715586,
         "c570c225d1fb8a72ad79995dd17a77bc",
         "83f9d8d707524a4f56447204e344a997fff07b23b11f206eb5d02eac91385251"
        ],
        [
         7782,
         "RAVI",
         "MANAGER",
         7839,
         "1981-09-06",
         2450,
         null,
         10,
         "2022-01-02",
         7,
         7,
         3000238442,
         "ac5c482277858d6fe45065d0a3f92b0c",
         "d7b6fab9aa91943de418ecbacefa4b276e82fbbb07bae1f7296775cc59a6f323"
        ],
        [
         7788,
         "SCOTT",
         "ANALYST",
         7566,
         "1987-04-19",
         3000,
         null,
         20,
         "2022-01-02",
         8,
         8,
         1375856756,
         "866c7ee013c58f01fa153a8d32c9ed57",
         "16740bf13991fe083fbe5820cc8da08a5d88e5a48f44a3cfcc283c27b2797ba7"
        ],
        [
         7839,
         "KING",
         "PRESIDENT",
         null,
         "1981-11-01",
         5000,
         null,
         10,
         "2022-01-02",
         9,
         9,
         3450750484,
         "ca91c5464e73d3066825362c3093a45f",
         "cc87d27285025584dc9cf888e8b1f415eca13f64bc04b9acbdc04259e9f27864"
        ],
        [
         7844,
         "TURNER",
         "SALESMAN",
         7698,
         "1981-08-09",
         1500,
         0,
         30,
         "2022-01-02",
         10,
         10,
         4234062958,
         "b356e7aed7ee82589e54a466e0dca157",
         "b513a7ff5978b95883e4e6f83d4d991de3b8a22827d2f5bc58986e3cee03c6b1"
        ],
        [
         7876,
         "ADAMS",
         "CLERK",
         7788,
         "1987-05-23",
         1100,
         null,
         20,
         "2022-01-03",
         11,
         11,
         964533889,
         "42dab56861d81108ee356d037190c315",
         "05a4cd58579909328296060a91fa22242c6449980486c196868a007bc4ccd455"
        ],
        [
         7900,
         "JAMES",
         "CLERK",
         7698,
         "1981-03-12",
         950,
         null,
         30,
         "2022-01-03",
         12,
         12,
         2661140292,
         "400c3241004b5db7ca7f5abfef2794f2",
         "22191a9215264bb24037d3fa2e7d1516c97813abb7aa0a417e5a157910fb0af7"
        ],
        [
         7902,
         "FORD",
         "ANALYST",
         7566,
         "1981-03-12",
         3000,
         null,
         20,
         "2022-01-03",
         13,
         13,
         1888724584,
         "66fe2bcc701bb627e111be6847a8436c",
         "7b721c50ff0220bb9376a328f3aafc0c56e1590ff644ec01bd8a43d75307c2c4"
        ],
        [
         7934,
         "MILLER",
         "CLERK",
         7782,
         "1982-03-01",
         1300,
         null,
         10,
         "2022-01-03",
         14,
         14,
         3000848542,
         "6c90885b28e58d1f44856d787da2078f",
         "6a25547cf30b010a2206506ec10adb46cd02e86c40e886c2efbec3c4c7515df9"
        ],
        [
         1234,
         "SEKHAR",
         "doctor",
         7777,
         null,
         667,
         78,
         80,
         "2022-01-03",
         15,
         15,
         2615402659,
         "81dc9bdb52d04dc20036dbd8313ed055",
         "03ac674216f3e15c761ee1a5e255f067953623c8b388b4459e13f978d7c846f4"
        ],
        [
         7369,
         "SMITH",
         "CLERK",
         7902,
         "1980-12-17",
         800,
         null,
         20,
         "2022-01-04",
         16,
         16,
         3163315632,
         "0d7f9017fbda691900187b22404b8a1f",
         "c59f438f16c5a409eb2a040b299e82de37503321b9cbfec4fb351547261dd1b1"
        ],
        [
         7499,
         "ALLEN",
         "SALESMAN",
         7698,
         "1981-02-20",
         1600,
         300,
         30,
         "2022-01-04",
         17,
         17,
         1046173690,
         "7a2b33c672ce223b2aa5789171ddde2f",
         "4427dc2e32a1d099dbe2e3c093a8726e0ea72b9422c36a99915dae1d31e9385f"
        ],
        [
         7521,
         "WARD",
         "SALESMAN",
         7698,
         "1981-02-22",
         1250,
         500,
         30,
         "2022-01-04",
         18,
         18,
         3535170612,
         "e1e1f667ce4596e5644be6fab627c226",
         "74ed8ca63e8b4fb8b8ac06e8df400f098b0b09cf1b89c8a331e72e1919b57bd4"
        ],
        [
         7566,
         "JONES",
         "MANAGER",
         7839,
         "1981-02-04",
         2975,
         null,
         20,
         "2022-01-04",
         19,
         19,
         683555987,
         "b937384a573b94c4d7cc6004c496f919",
         "b2ca4f93866dc5f5aa73f9df7a8c8d7ce03d296a3ccb5eec5fc28717f2de4874"
        ],
        [
         7654,
         "MARTIN",
         "SALESMAN",
         7698,
         "1981-09-21",
         1250,
         1400,
         30,
         "2022-01-05",
         20,
         20,
         4024152101,
         "e2a7555f7cabd6e31aef45cb8cda4999",
         "b969b01c158ebfecd0ac568aee526cb1ff8811fcdc77b4d682dab89146ad9891"
        ],
        [
         7698,
         "SGR",
         "MANAGER",
         7839,
         "1981-01-05",
         2850,
         null,
         30,
         "2022-01-05",
         21,
         21,
         1255715586,
         "c570c225d1fb8a72ad79995dd17a77bc",
         "83f9d8d707524a4f56447204e344a997fff07b23b11f206eb5d02eac91385251"
        ],
        [
         7782,
         "RAVI",
         "MANAGER",
         7839,
         "1981-09-06",
         2450,
         null,
         10,
         "2022-01-05",
         22,
         22,
         3000238442,
         "ac5c482277858d6fe45065d0a3f92b0c",
         "d7b6fab9aa91943de418ecbacefa4b276e82fbbb07bae1f7296775cc59a6f323"
        ],
        [
         7788,
         "SCOTT",
         "ANALYST",
         7566,
         "1987-04-19",
         3000,
         null,
         20,
         "2022-01-06",
         23,
         23,
         1375856756,
         "866c7ee013c58f01fa153a8d32c9ed57",
         "16740bf13991fe083fbe5820cc8da08a5d88e5a48f44a3cfcc283c27b2797ba7"
        ],
        [
         7839,
         "KING",
         "PRESIDENT",
         null,
         "1981-11-01",
         5000,
         null,
         10,
         "2022-01-06",
         24,
         24,
         3450750484,
         "ca91c5464e73d3066825362c3093a45f",
         "cc87d27285025584dc9cf888e8b1f415eca13f64bc04b9acbdc04259e9f27864"
        ],
        [
         7844,
         "TURNER",
         "SALESMAN",
         7698,
         "1981-08-09",
         1500,
         0,
         30,
         "2022-01-06",
         25,
         25,
         4234062958,
         "b356e7aed7ee82589e54a466e0dca157",
         "b513a7ff5978b95883e4e6f83d4d991de3b8a22827d2f5bc58986e3cee03c6b1"
        ],
        [
         7876,
         "ADAMS",
         "CLERK",
         7788,
         "1987-05-23",
         1100,
         null,
         20,
         "2022-01-06",
         26,
         26,
         964533889,
         "42dab56861d81108ee356d037190c315",
         "05a4cd58579909328296060a91fa22242c6449980486c196868a007bc4ccd455"
        ],
        [
         7900,
         "JAMES",
         "CLERK",
         7698,
         "1981-03-12",
         950,
         null,
         30,
         "2022-01-07",
         27,
         27,
         2661140292,
         "400c3241004b5db7ca7f5abfef2794f2",
         "22191a9215264bb24037d3fa2e7d1516c97813abb7aa0a417e5a157910fb0af7"
        ],
        [
         7902,
         "FORD",
         "ANALYST",
         7566,
         "1981-03-12",
         3000,
         null,
         20,
         "2022-01-07",
         28,
         28,
         1888724584,
         "66fe2bcc701bb627e111be6847a8436c",
         "7b721c50ff0220bb9376a328f3aafc0c56e1590ff644ec01bd8a43d75307c2c4"
        ],
        [
         7934,
         "MILLER",
         "CLERK",
         7782,
         "1982-03-01",
         1300,
         null,
         10,
         "2022-01-07",
         29,
         29,
         3000848542,
         "6c90885b28e58d1f44856d787da2078f",
         "6a25547cf30b010a2206506ec10adb46cd02e86c40e886c2efbec3c4c7515df9"
        ],
        [
         1234,
         "RAM",
         "CLERK",
         7457,
         null,
         494,
         588,
         80,
         "2022-01-07",
         30,
         30,
         2615402659,
         "81dc9bdb52d04dc20036dbd8313ed055",
         "03ac674216f3e15c761ee1a5e255f067953623c8b388b4459e13f978d7c846f4"
        ]
       ],
       "datasetInfos": [],
       "dbfsResultPath": null,
       "isJsonSchema": true,
       "metadata": {},
       "overflow": false,
       "plotOptions": {
        "customPlotOptions": {},
        "displayType": "table",
        "pivotAggregation": null,
        "pivotColumns": null,
        "xColumns": null,
        "yColumns": null
       },
       "removedWidgets": [],
       "schema": [
        {
         "metadata": "{}",
         "name": "EMPNO",
         "type": "\"integer\""
        },
        {
         "metadata": "{}",
         "name": "ENAME",
         "type": "\"string\""
        },
        {
         "metadata": "{}",
         "name": "JOB",
         "type": "\"string\""
        },
        {
         "metadata": "{}",
         "name": "MGR",
         "type": "\"integer\""
        },
        {
         "metadata": "{\"__detected_date_formats\":\"d-M-yyyy\"}",
         "name": "HIREDATE",
         "type": "\"date\""
        },
        {
         "metadata": "{}",
         "name": "SAL",
         "type": "\"integer\""
        },
        {
         "metadata": "{}",
         "name": "COMM",
         "type": "\"integer\""
        },
        {
         "metadata": "{}",
         "name": "DEPTNO",
         "type": "\"integer\""
        },
        {
         "metadata": "{\"__detected_date_formats\":\"yyyy-M-d\"}",
         "name": "UPDATED_DATE",
         "type": "\"date\""
        },
        {
         "metadata": "{}",
         "name": "Seq_mono",
         "type": "\"long\""
        },
        {
         "metadata": "{}",
         "name": "seq_row",
         "type": "\"integer\""
        },
        {
         "metadata": "{}",
         "name": "CRC32_KEY",
         "type": "\"long\""
        },
        {
         "metadata": "{}",
         "name": "MD5",
         "type": "\"string\""
        },
        {
         "metadata": "{}",
         "name": "SHA2",
         "type": "\"string\""
        }
       ],
       "type": "table"
      }
     },
     "output_type": "display_data"
    }
   ],
   "source": [
    "from pyspark.sql.functions import *\n",
    "from pyspark.sql.window import Window\n",
    "# monotonically_increasing_id,Row_Number--only for small data sets,crc32 upto million records then generate duplicates,MD5 will work upto 10 million records,SHA1,SHA2 --in prod\n",
    "df2=df3.withColumn(\"Seq_mono\",monotonically_increasing_id()+1)\\\n",
    "      .withColumn(\"seq_row\",row_number().over(Window.partitionBy(lit('')).orderBy(lit(''))))\\\n",
    "      .withColumn(\"CRC32_KEY\",crc32(col(\"EMPNO\").cast(\"string\")))\\\n",
    "      .withColumn(\"MD5\",md5(col(\"EMPNO\").cast(\"string\")))\\\n",
    "      .withColumn(\"SHA2\",sha2(col(\"EMPNO\").cast(\"string\"),256))\n",
    "display(df2)"
   ]
  },
  {
   "cell_type": "code",
   "execution_count": 0,
   "metadata": {
    "application/vnd.databricks.v1+cell": {
     "cellMetadata": {},
     "inputWidgets": {},
     "nuid": "3832be0a-9d9c-4171-9c36-f8412e46a11b",
     "showTitle": false,
     "title": ""
    }
   },
   "outputs": [],
   "source": []
  }
 ],
 "metadata": {
  "application/vnd.databricks.v1+notebook": {
   "dashboards": [],
   "environmentMetadata": null,
   "language": "python",
   "notebookMetadata": {
    "pythonIndentUnit": 4
   },
   "notebookName": "To Generate Sequence key or Surrogate key",
   "widgets": {}
  }
 },
 "nbformat": 4,
 "nbformat_minor": 0
}
