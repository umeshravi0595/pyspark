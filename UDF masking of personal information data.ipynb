{
 "cells": [
  {
   "cell_type": "code",
   "execution_count": 0,
   "metadata": {
    "application/vnd.databricks.v1+cell": {
     "cellMetadata": {
      "byteLimit": 2048000,
      "rowLimit": 10000
     },
     "inputWidgets": {},
     "nuid": "abeec91d-e3a7-485f-8908-a8abec1fbcbc",
     "showTitle": false,
     "title": ""
    }
   },
   "outputs": [
    {
     "output_type": "stream",
     "name": "stdout",
     "output_type": "stream",
     "text": [
      "+-------+-------------------+------------+\n|   name|              email|phone_number|\n+-------+-------------------+------------+\n|  Alice|  alice@example.com|123-456-7890|\n|    Bob|    bob@example.com|987-654-3210|\n|Charlie|charlie@example.com|555-123-4567|\n+-------+-------------------+------------+\n\n"
     ]
    }
   ],
   "source": [
    "from pyspark.sql.types import StructType, StructField, StringType , IntegerType\n",
    "schema = StructType([\n",
    "    StructField(\"name\", StringType(), True),\n",
    "    StructField(\"email\", StringType(), True),\n",
    "    StructField(\"phone_number\", StringType(), True)\n",
    "])\n",
    "\n",
    "# Sample data\n",
    "data = [\n",
    "    (\"Alice\", \"alice@example.com\", \"123-456-7890\"),\n",
    "    (\"Bob\", \"bob@example.com\", \"987-654-3210\"),\n",
    "    (\"Charlie\", \"charlie@example.com\", \"555-123-4567\")\n",
    "]\n",
    "\n",
    "# Create DataFrame\n",
    "df = spark.createDataFrame(data, schema=schema)\n",
    "\n",
    "# Show the DataFrame\n",
    "df.show()"
   ]
  },
  {
   "cell_type": "code",
   "execution_count": 0,
   "metadata": {
    "application/vnd.databricks.v1+cell": {
     "cellMetadata": {
      "byteLimit": 2048000,
      "rowLimit": 10000
     },
     "inputWidgets": {},
     "nuid": "0812ec6c-2673-4c30-8a0a-6152ba57ce82",
     "showTitle": false,
     "title": ""
    }
   },
   "outputs": [],
   "source": [
    "def masked_email(email):\n",
    "    split_data = email.split('@')\n",
    "    username = split_data[0]\n",
    "    masked_data = \"*\" * (len(username) - 2) + username[-2:]\n",
    "    return masked_data + \"@\" + split_data[1]"
   ]
  },
  {
   "cell_type": "code",
   "execution_count": 0,
   "metadata": {
    "application/vnd.databricks.v1+cell": {
     "cellMetadata": {
      "byteLimit": 2048000,
      "rowLimit": 10000
     },
     "inputWidgets": {},
     "nuid": "a483bfc5-ff2a-44d0-8817-a5f20190d162",
     "showTitle": false,
     "title": ""
    }
   },
   "outputs": [],
   "source": [
    "def mask_phonenumber(phonenumber):\n",
    "    split_data=phonenumber.split(\"-\")\n",
    "    mask_array=split_data[1]\n",
    "    masked_data=\"*\"*(len(mask_array))\n",
    "    return split_data[0]+\"-\"+masked_data+\"-\"+split_data[2]"
   ]
  },
  {
   "cell_type": "code",
   "execution_count": 0,
   "metadata": {
    "application/vnd.databricks.v1+cell": {
     "cellMetadata": {
      "byteLimit": 2048000,
      "rowLimit": 10000
     },
     "inputWidgets": {},
     "nuid": "7e481efe-0821-4a6a-a51d-81af129e3111",
     "showTitle": false,
     "title": ""
    }
   },
   "outputs": [],
   "source": [
    "masked_email_udf = udf(masked_email, StringType())\n",
    "masked_mobile_udf= udf(mask_phonenumber, StringType())"
   ]
  },
  {
   "cell_type": "code",
   "execution_count": 0,
   "metadata": {
    "application/vnd.databricks.v1+cell": {
     "cellMetadata": {
      "byteLimit": 2048000,
      "rowLimit": 10000
     },
     "inputWidgets": {},
     "nuid": "53d601bc-40c3-4c8d-8fab-fe5f4bb6bab1",
     "showTitle": false,
     "title": ""
    }
   },
   "outputs": [
    {
     "output_type": "stream",
     "name": "stdout",
     "output_type": "stream",
     "text": [
      "+-------+-------------------+------------+-------------------+------------+\n|   name|              email|phone_number|       masked_email|masked_phone|\n+-------+-------------------+------------+-------------------+------------+\n|  Alice|  alice@example.com|123-456-7890|  ***ce@example.com|123-***-7890|\n|    Bob|    bob@example.com|987-654-3210|    *ob@example.com|987-***-3210|\n|Charlie|charlie@example.com|555-123-4567|*****ie@example.com|555-***-4567|\n+-------+-------------------+------------+-------------------+------------+\n\n"
     ]
    }
   ],
   "source": [
    "from pyspark.sql.functions import *\n",
    "maskedEmail_df = df.withColumn(\"masked_email\", when(df.email.isNotNull(), masked_email_udf(df.email)).otherwise(None))\n",
    "masked_mobile=maskedEmail_df.withColumn(\"masked_phone\",  masked_mobile_udf(df.phone_number))\n",
    "masked_mobile.show()\n"
   ]
  }
 ],
 "metadata": {
  "application/vnd.databricks.v1+notebook": {
   "dashboards": [],
   "environmentMetadata": null,
   "language": "python",
   "notebookMetadata": {
    "pythonIndentUnit": 4
   },
   "notebookName": "UDF masking of personal information data",
   "widgets": {}
  }
 },
 "nbformat": 4,
 "nbformat_minor": 0
}
