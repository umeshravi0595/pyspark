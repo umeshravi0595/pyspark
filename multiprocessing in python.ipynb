{
 "cells": [
  {
   "cell_type": "code",
   "execution_count": 0,
   "metadata": {
    "application/vnd.databricks.v1+cell": {
     "cellMetadata": {
      "byteLimit": 2048000,
      "rowLimit": 10000
     },
     "inputWidgets": {},
     "nuid": "60dd2b5c-b3c5-4964-aac6-f73d64e6b106",
     "showTitle": false,
     "title": ""
    }
   },
   "outputs": [],
   "source": [
    "def filecreation(filename):\n",
    "    f=open(f\"/tmp/testfiles/{filename}.txt\",\"w\")\n",
    "    for i in range(10):\n",
    "        f.write(\"sameple file:\" +str(i))\n",
    "        f.write(\"\\n\")\n",
    "    f.close()\n",
    "    return filename"
   ]
  },
  {
   "cell_type": "code",
   "execution_count": 0,
   "metadata": {
    "application/vnd.databricks.v1+cell": {
     "cellMetadata": {
      "byteLimit": 2048000,
      "rowLimit": 10000
     },
     "inputWidgets": {},
     "nuid": "535fedfa-c14f-453e-9535-f317d698f306",
     "showTitle": false,
     "title": ""
    }
   },
   "outputs": [
    {
     "output_type": "display_data",
     "data": {
      "text/html": [
       "<style scoped>\n",
       "  .ansiout {\n",
       "    display: block;\n",
       "    unicode-bidi: embed;\n",
       "    white-space: pre-wrap;\n",
       "    word-wrap: break-word;\n",
       "    word-break: break-all;\n",
       "    font-family: \"Menlo\", \"Monaco\", \"Consolas\", \"Ubuntu Mono\", \"Source Code Pro\", monospace;\n",
       "    font-size: 13px;\n",
       "    color: #555;\n",
       "    margin-left: 4px;\n",
       "    line-height: 19px;\n",
       "  }\n",
       "</style>\n",
       "<div class=\"ansiout\">res0: Boolean = true\n",
       "</div>"
      ]
     },
     "metadata": {
      "application/vnd.databricks.v1+output": {
       "addedWidgets": {},
       "arguments": {},
       "data": "<div class=\"ansiout\">res0: Boolean = true\n</div>",
       "datasetInfos": [],
       "metadata": {
        "isDbfsCommandResult": false
       },
       "removedWidgets": [],
       "type": "html"
      }
     },
     "output_type": "display_data"
    }
   ],
   "source": [
    "%fs mkdirs file:/tmp/testfiles/"
   ]
  },
  {
   "cell_type": "code",
   "execution_count": 0,
   "metadata": {
    "application/vnd.databricks.v1+cell": {
     "cellMetadata": {
      "byteLimit": 2048000,
      "rowLimit": 10000
     },
     "inputWidgets": {},
     "nuid": "3c4b7bb2-acc1-4ea7-b057-b6296cd37707",
     "showTitle": false,
     "title": ""
    }
   },
   "outputs": [
    {
     "output_type": "stream",
     "name": "stdout",
     "output_type": "stream",
     "text": [
      "Out[16]: 'sample'"
     ]
    }
   ],
   "source": [
    "filecreation('sample')"
   ]
  },
  {
   "cell_type": "code",
   "execution_count": 0,
   "metadata": {
    "application/vnd.databricks.v1+cell": {
     "cellMetadata": {
      "byteLimit": 2048000,
      "rowLimit": 10000
     },
     "inputWidgets": {},
     "nuid": "853c39fb-ecfc-4a5e-b702-bd6ebc8a661d",
     "showTitle": false,
     "title": ""
    }
   },
   "outputs": [
    {
     "output_type": "display_data",
     "data": {
      "text/html": [
       "<style scoped>\n",
       "  .table-result-container {\n",
       "    max-height: 300px;\n",
       "    overflow: auto;\n",
       "  }\n",
       "  table, th, td {\n",
       "    border: 1px solid black;\n",
       "    border-collapse: collapse;\n",
       "  }\n",
       "  th, td {\n",
       "    padding: 5px;\n",
       "  }\n",
       "  th {\n",
       "    text-align: left;\n",
       "  }\n",
       "</style><div class='table-result-container'><table class='table-result'><thead style='background-color: white'><tr><th>path</th><th>name</th><th>size</th><th>modificationTime</th></tr></thead><tbody><tr><td>file:/tmp/testfiles/sample1.txt</td><td>sample1.txt</td><td>150</td><td>1720195969347</td></tr><tr><td>file:/tmp/testfiles/sample4.txt</td><td>sample4.txt</td><td>150</td><td>1720195969347</td></tr><tr><td>file:/tmp/testfiles/sample5.txt</td><td>sample5.txt</td><td>150</td><td>1720195969347</td></tr><tr><td>file:/tmp/testfiles/sample.txt</td><td>sample.txt</td><td>150</td><td>1720195634323</td></tr><tr><td>file:/tmp/testfiles/sample8.txt</td><td>sample8.txt</td><td>150</td><td>1720195969347</td></tr><tr><td>file:/tmp/testfiles/sample9.txt</td><td>sample9.txt</td><td>150</td><td>1720195969347</td></tr><tr><td>file:/tmp/testfiles/sample0.txt</td><td>sample0.txt</td><td>150</td><td>1720195969347</td></tr><tr><td>file:/tmp/testfiles/sample3.txt</td><td>sample3.txt</td><td>150</td><td>1720195969347</td></tr><tr><td>file:/tmp/testfiles/sample2.txt</td><td>sample2.txt</td><td>150</td><td>1720195969347</td></tr><tr><td>file:/tmp/testfiles/sample7.txt</td><td>sample7.txt</td><td>150</td><td>1720195969347</td></tr><tr><td>file:/tmp/testfiles/sample6.txt</td><td>sample6.txt</td><td>150</td><td>1720195969347</td></tr></tbody></table></div>"
      ]
     },
     "metadata": {
      "application/vnd.databricks.v1+output": {
       "addedWidgets": {},
       "aggData": [],
       "aggError": "",
       "aggOverflow": false,
       "aggSchema": [],
       "aggSeriesLimitReached": false,
       "aggType": "",
       "arguments": {},
       "columnCustomDisplayInfos": {},
       "data": [
        [
         "file:/tmp/testfiles/sample1.txt",
         "sample1.txt",
         150,
         1720195969347
        ],
        [
         "file:/tmp/testfiles/sample4.txt",
         "sample4.txt",
         150,
         1720195969347
        ],
        [
         "file:/tmp/testfiles/sample5.txt",
         "sample5.txt",
         150,
         1720195969347
        ],
        [
         "file:/tmp/testfiles/sample.txt",
         "sample.txt",
         150,
         1720195634323
        ],
        [
         "file:/tmp/testfiles/sample8.txt",
         "sample8.txt",
         150,
         1720195969347
        ],
        [
         "file:/tmp/testfiles/sample9.txt",
         "sample9.txt",
         150,
         1720195969347
        ],
        [
         "file:/tmp/testfiles/sample0.txt",
         "sample0.txt",
         150,
         1720195969347
        ],
        [
         "file:/tmp/testfiles/sample3.txt",
         "sample3.txt",
         150,
         1720195969347
        ],
        [
         "file:/tmp/testfiles/sample2.txt",
         "sample2.txt",
         150,
         1720195969347
        ],
        [
         "file:/tmp/testfiles/sample7.txt",
         "sample7.txt",
         150,
         1720195969347
        ],
        [
         "file:/tmp/testfiles/sample6.txt",
         "sample6.txt",
         150,
         1720195969347
        ]
       ],
       "datasetInfos": [],
       "dbfsResultPath": null,
       "isJsonSchema": true,
       "metadata": {
        "isDbfsCommandResult": false
       },
       "overflow": false,
       "plotOptions": {
        "customPlotOptions": {},
        "displayType": "table",
        "pivotAggregation": null,
        "pivotColumns": null,
        "xColumns": null,
        "yColumns": null
       },
       "removedWidgets": [],
       "schema": [
        {
         "metadata": "{}",
         "name": "path",
         "type": "\"string\""
        },
        {
         "metadata": "{}",
         "name": "name",
         "type": "\"string\""
        },
        {
         "metadata": "{}",
         "name": "size",
         "type": "\"long\""
        },
        {
         "metadata": "{}",
         "name": "modificationTime",
         "type": "\"long\""
        }
       ],
       "type": "table"
      }
     },
     "output_type": "display_data"
    }
   ],
   "source": [
    "%fs ls file:/tmp/testfiles"
   ]
  },
  {
   "cell_type": "code",
   "execution_count": 0,
   "metadata": {
    "application/vnd.databricks.v1+cell": {
     "cellMetadata": {
      "byteLimit": 2048000,
      "rowLimit": 10000
     },
     "inputWidgets": {},
     "nuid": "997690a9-9819-4af0-9cc7-7813811dcc3c",
     "showTitle": false,
     "title": ""
    }
   },
   "outputs": [
    {
     "output_type": "display_data",
     "data": {
      "text/html": [
       "<style scoped>\n",
       "  .ansiout {\n",
       "    display: block;\n",
       "    unicode-bidi: embed;\n",
       "    white-space: pre-wrap;\n",
       "    word-wrap: break-word;\n",
       "    word-break: break-all;\n",
       "    font-family: \"Menlo\", \"Monaco\", \"Consolas\", \"Ubuntu Mono\", \"Source Code Pro\", monospace;\n",
       "    font-size: 13px;\n",
       "    color: #555;\n",
       "    margin-left: 4px;\n",
       "    line-height: 19px;\n",
       "  }\n",
       "</style>\n",
       "<div class=\"ansiout\">sameple file:0\n",
       "sameple file:1\n",
       "sameple file:2\n",
       "sameple file:3\n",
       "sameple file:4\n",
       "sameple file:5\n",
       "sameple file:6\n",
       "sameple file:7\n",
       "sameple file:8\n",
       "sameple file:9\n",
       "\n",
       "</div>"
      ]
     },
     "metadata": {
      "application/vnd.databricks.v1+output": {
       "addedWidgets": {},
       "arguments": {},
       "data": "<div class=\"ansiout\">sameple file:0\nsameple file:1\nsameple file:2\nsameple file:3\nsameple file:4\nsameple file:5\nsameple file:6\nsameple file:7\nsameple file:8\nsameple file:9\n\n</div>",
       "datasetInfos": [],
       "metadata": {
        "isDbfsCommandResult": false
       },
       "removedWidgets": [],
       "type": "html"
      }
     },
     "output_type": "display_data"
    }
   ],
   "source": [
    "%fs head file:/tmp/testfiles/sample.txt"
   ]
  },
  {
   "cell_type": "code",
   "execution_count": 0,
   "metadata": {
    "application/vnd.databricks.v1+cell": {
     "cellMetadata": {
      "byteLimit": 2048000,
      "rowLimit": 10000
     },
     "inputWidgets": {},
     "nuid": "89e056a4-9090-4c5b-b281-6d2a2c9ffeb0",
     "showTitle": false,
     "title": ""
    }
   },
   "outputs": [
    {
     "output_type": "stream",
     "name": "stdout",
     "output_type": "stream",
     "text": [
      "Out[17]: ['sample0',\n 'sample1',\n 'sample2',\n 'sample3',\n 'sample4',\n 'sample5',\n 'sample6',\n 'sample7',\n 'sample8',\n 'sample9']"
     ]
    }
   ],
   "source": [
    "# multi threading process\n",
    "from multiprocessing.pool import ThreadPool\n",
    "parallels = ThreadPool(2)\n",
    "parallels.map(filecreation,[ \"sample\"+str(i) for i in range(10)])"
   ]
  }
 ],
 "metadata": {
  "application/vnd.databricks.v1+notebook": {
   "dashboards": [],
   "environmentMetadata": null,
   "language": "python",
   "notebookMetadata": {
    "mostRecentlyExecutedCommandWithImplicitDF": {
     "commandId": 710250174489983,
     "dataframes": [
      "_sqldf"
     ]
    },
    "pythonIndentUnit": 4
   },
   "notebookName": "multiprocessing in python",
   "widgets": {}
  }
 },
 "nbformat": 4,
 "nbformat_minor": 0
}
