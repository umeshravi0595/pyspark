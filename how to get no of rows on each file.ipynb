{
 "cells": [
  {
   "cell_type": "code",
   "execution_count": 0,
   "metadata": {
    "application/vnd.databricks.v1+cell": {
     "cellMetadata": {
      "byteLimit": 2048000,
      "rowLimit": 10000
     },
     "inputWidgets": {},
     "nuid": "4d58d5cb-3c57-4c28-ab10-265b74dfb444",
     "showTitle": false,
     "title": ""
    }
   },
   "outputs": [
    {
     "output_type": "display_data",
     "data": {
      "text/html": [
       "<style scoped>\n",
       "  .table-result-container {\n",
       "    max-height: 300px;\n",
       "    overflow: auto;\n",
       "  }\n",
       "  table, th, td {\n",
       "    border: 1px solid black;\n",
       "    border-collapse: collapse;\n",
       "  }\n",
       "  th, td {\n",
       "    padding: 5px;\n",
       "  }\n",
       "  th {\n",
       "    text-align: left;\n",
       "  }\n",
       "</style><div class='table-result-container'><table class='table-result'><thead style='background-color: white'><tr><th>path</th><th>name</th><th>size</th><th>modificationTime</th></tr></thead><tbody><tr><td>dbfs:/FileStore/tables/20240704T161233/</td><td>20240704T161233/</td><td>0</td><td>0</td></tr><tr><td>dbfs:/FileStore/tables/Book-1.csv</td><td>Book-1.csv</td><td>83</td><td>1715692755000</td></tr><tr><td>dbfs:/FileStore/tables/Book.csv</td><td>Book.csv</td><td>81</td><td>1715692059000</td></tr><tr><td>dbfs:/FileStore/tables/Book1-1.xlsx</td><td>Book1-1.xlsx</td><td>10465</td><td>1714557239000</td></tr><tr><td>dbfs:/FileStore/tables/Book1.xlsx</td><td>Book1.xlsx</td><td>10465</td><td>1714556901000</td></tr><tr><td>dbfs:/FileStore/tables/azure_data_engineering_questions-1.txt</td><td>azure_data_engineering_questions-1.txt</td><td>574</td><td>1715704624000</td></tr><tr><td>dbfs:/FileStore/tables/channels.csv</td><td>channels.csv</td><td>459</td><td>1720107812000</td></tr><tr><td>dbfs:/FileStore/tables/complex_json.json</td><td>complex_json.json</td><td>608</td><td>1720198473000</td></tr><tr><td>dbfs:/FileStore/tables/double_pipe.csv</td><td>double_pipe.csv</td><td>106</td><td>1720269902000</td></tr><tr><td>dbfs:/FileStore/tables/emp_data.csv</td><td>emp_data.csv</td><td>719</td><td>1720160572000</td></tr><tr><td>dbfs:/FileStore/tables/employee.json</td><td>employee.json</td><td>770</td><td>1718378984000</td></tr><tr><td>dbfs:/FileStore/tables/fill_na-1.txt</td><td>fill_na-1.txt</td><td>102</td><td>1718206623000</td></tr><tr><td>dbfs:/FileStore/tables/fill_na.txt</td><td>fill_na.txt</td><td>102</td><td>1718206582000</td></tr><tr><td>dbfs:/FileStore/tables/json.txt</td><td>json.txt</td><td>191</td><td>1715613058000</td></tr><tr><td>dbfs:/FileStore/tables/json_csv.xlsx</td><td>json_csv.xlsx</td><td>8824</td><td>1715613854000</td></tr><tr><td>dbfs:/FileStore/tables/mart_in_json.json</td><td>mart_in_json.json</td><td>818</td><td>1717074694000</td></tr><tr><td>dbfs:/FileStore/tables/multi_sep.csv</td><td>multi_sep.csv</td><td>160</td><td>1720270047000</td></tr><tr><td>dbfs:/FileStore/tables/multilinejson.csv</td><td>multilinejson.csv</td><td>216</td><td>1715613980000</td></tr><tr><td>dbfs:/FileStore/tables/null_values.csv</td><td>null_values.csv</td><td>664</td><td>1720273112000</td></tr><tr><td>dbfs:/FileStore/tables/real_estate.txt</td><td>real_estate.txt</td><td>1043</td><td>1715356425000</td></tr><tr><td>dbfs:/FileStore/tables/regularExpression.txt</td><td>regularExpression.txt</td><td>117</td><td>1715533192000</td></tr><tr><td>dbfs:/FileStore/tables/sequence.csv</td><td>sequence.csv</td><td>1918</td><td>1720284796000</td></tr><tr><td>dbfs:/FileStore/tables/spark_performance_improvement.txt</td><td>spark_performance_improvement.txt</td><td>661</td><td>1715255948000</td></tr><tr><td>dbfs:/FileStore/tables/testfile.txt</td><td>testfile.txt</td><td>72</td><td>1715529079000</td></tr></tbody></table></div>"
      ]
     },
     "metadata": {
      "application/vnd.databricks.v1+output": {
       "addedWidgets": {},
       "aggData": [],
       "aggError": "",
       "aggOverflow": false,
       "aggSchema": [],
       "aggSeriesLimitReached": false,
       "aggType": "",
       "arguments": {},
       "columnCustomDisplayInfos": {},
       "data": [
        [
         "dbfs:/FileStore/tables/20240704T161233/",
         "20240704T161233/",
         0,
         0
        ],
        [
         "dbfs:/FileStore/tables/Book-1.csv",
         "Book-1.csv",
         83,
         1715692755000
        ],
        [
         "dbfs:/FileStore/tables/Book.csv",
         "Book.csv",
         81,
         1715692059000
        ],
        [
         "dbfs:/FileStore/tables/Book1-1.xlsx",
         "Book1-1.xlsx",
         10465,
         1714557239000
        ],
        [
         "dbfs:/FileStore/tables/Book1.xlsx",
         "Book1.xlsx",
         10465,
         1714556901000
        ],
        [
         "dbfs:/FileStore/tables/azure_data_engineering_questions-1.txt",
         "azure_data_engineering_questions-1.txt",
         574,
         1715704624000
        ],
        [
         "dbfs:/FileStore/tables/channels.csv",
         "channels.csv",
         459,
         1720107812000
        ],
        [
         "dbfs:/FileStore/tables/complex_json.json",
         "complex_json.json",
         608,
         1720198473000
        ],
        [
         "dbfs:/FileStore/tables/double_pipe.csv",
         "double_pipe.csv",
         106,
         1720269902000
        ],
        [
         "dbfs:/FileStore/tables/emp_data.csv",
         "emp_data.csv",
         719,
         1720160572000
        ],
        [
         "dbfs:/FileStore/tables/employee.json",
         "employee.json",
         770,
         1718378984000
        ],
        [
         "dbfs:/FileStore/tables/fill_na-1.txt",
         "fill_na-1.txt",
         102,
         1718206623000
        ],
        [
         "dbfs:/FileStore/tables/fill_na.txt",
         "fill_na.txt",
         102,
         1718206582000
        ],
        [
         "dbfs:/FileStore/tables/json.txt",
         "json.txt",
         191,
         1715613058000
        ],
        [
         "dbfs:/FileStore/tables/json_csv.xlsx",
         "json_csv.xlsx",
         8824,
         1715613854000
        ],
        [
         "dbfs:/FileStore/tables/mart_in_json.json",
         "mart_in_json.json",
         818,
         1717074694000
        ],
        [
         "dbfs:/FileStore/tables/multi_sep.csv",
         "multi_sep.csv",
         160,
         1720270047000
        ],
        [
         "dbfs:/FileStore/tables/multilinejson.csv",
         "multilinejson.csv",
         216,
         1715613980000
        ],
        [
         "dbfs:/FileStore/tables/null_values.csv",
         "null_values.csv",
         664,
         1720273112000
        ],
        [
         "dbfs:/FileStore/tables/real_estate.txt",
         "real_estate.txt",
         1043,
         1715356425000
        ],
        [
         "dbfs:/FileStore/tables/regularExpression.txt",
         "regularExpression.txt",
         117,
         1715533192000
        ],
        [
         "dbfs:/FileStore/tables/sequence.csv",
         "sequence.csv",
         1918,
         1720284796000
        ],
        [
         "dbfs:/FileStore/tables/spark_performance_improvement.txt",
         "spark_performance_improvement.txt",
         661,
         1715255948000
        ],
        [
         "dbfs:/FileStore/tables/testfile.txt",
         "testfile.txt",
         72,
         1715529079000
        ]
       ],
       "datasetInfos": [],
       "dbfsResultPath": null,
       "isJsonSchema": true,
       "metadata": {
        "isDbfsCommandResult": false
       },
       "overflow": false,
       "plotOptions": {
        "customPlotOptions": {},
        "displayType": "table",
        "pivotAggregation": null,
        "pivotColumns": null,
        "xColumns": null,
        "yColumns": null
       },
       "removedWidgets": [],
       "schema": [
        {
         "metadata": "{}",
         "name": "path",
         "type": "\"string\""
        },
        {
         "metadata": "{}",
         "name": "name",
         "type": "\"string\""
        },
        {
         "metadata": "{}",
         "name": "size",
         "type": "\"long\""
        },
        {
         "metadata": "{}",
         "name": "modificationTime",
         "type": "\"long\""
        }
       ],
       "type": "table"
      }
     },
     "output_type": "display_data"
    }
   ],
   "source": [
    "%fs ls 'FileStore/tables'"
   ]
  },
  {
   "cell_type": "code",
   "execution_count": 0,
   "metadata": {
    "application/vnd.databricks.v1+cell": {
     "cellMetadata": {
      "byteLimit": 2048000,
      "rowLimit": 10000
     },
     "inputWidgets": {},
     "nuid": "427eb74f-1906-496f-8259-013a30b6de1c",
     "showTitle": false,
     "title": ""
    }
   },
   "outputs": [
    {
     "output_type": "display_data",
     "data": {
      "text/html": [
       "<style scoped>\n",
       "  .table-result-container {\n",
       "    max-height: 300px;\n",
       "    overflow: auto;\n",
       "  }\n",
       "  table, th, td {\n",
       "    border: 1px solid black;\n",
       "    border-collapse: collapse;\n",
       "  }\n",
       "  th, td {\n",
       "    padding: 5px;\n",
       "  }\n",
       "  th {\n",
       "    text-align: left;\n",
       "  }\n",
       "</style><div class='table-result-container'><table class='table-result'><thead style='background-color: white'><tr><th> EMPNO</th><th>ENAME</th><th>JOB</th><th>MGR</th><th>HIREDATE</th><th>SAL</th><th>COMM</th><th>DEPTNO</th><th>UPDATED_DATE</th><th>filename</th></tr></thead><tbody><tr><td>7369</td><td>SMITH</td><td>CLERK</td><td>7902</td><td>17-12-1980</td><td>800</td><td>null</td><td>20</td><td>2022-01-01</td><td>dbfs:/FileStore/tables/sequence.csv</td></tr><tr><td>7499</td><td>ALLEN</td><td>SALESMAN</td><td>7698</td><td>20-02-1981</td><td>1600</td><td>300</td><td>30</td><td>2022-01-01</td><td>dbfs:/FileStore/tables/sequence.csv</td></tr><tr><td>7521</td><td>WARD</td><td>SALESMAN</td><td>7698</td><td>22-02-1981</td><td>1250</td><td>500</td><td>30</td><td>2022-01-01</td><td>dbfs:/FileStore/tables/sequence.csv</td></tr><tr><td>7566</td><td>JONES</td><td>MANAGER</td><td>7839</td><td>04-02-1981</td><td>2975</td><td>null</td><td>20</td><td>2022-01-05</td><td>dbfs:/FileStore/tables/sequence.csv</td></tr><tr><td>7654</td><td>MARTIN</td><td>SALESMAN</td><td>7698</td><td>21-09-1981</td><td>1250</td><td>1400</td><td>30</td><td>2022-01-03</td><td>dbfs:/FileStore/tables/sequence.csv</td></tr><tr><td>7698</td><td>SGR</td><td>MANAGER</td><td>7839</td><td>05-01-1981</td><td>2850</td><td>null</td><td>30</td><td>2022-01-04</td><td>dbfs:/FileStore/tables/sequence.csv</td></tr><tr><td>7782</td><td>RAVI</td><td>MANAGER</td><td>7839</td><td>06-09-1981</td><td>2450</td><td>null</td><td>10</td><td>2022-01-02</td><td>dbfs:/FileStore/tables/sequence.csv</td></tr><tr><td>7788</td><td>SCOTT</td><td>ANALYST</td><td>7566</td><td>19-04-1987</td><td>3000</td><td>null</td><td>20</td><td>2022-01-02</td><td>dbfs:/FileStore/tables/sequence.csv</td></tr><tr><td>7839</td><td>KING</td><td>PRESIDENT</td><td>null</td><td>01-11-1981</td><td>5000</td><td>null</td><td>10</td><td>2022-01-02</td><td>dbfs:/FileStore/tables/sequence.csv</td></tr><tr><td>7844</td><td>TURNER</td><td>SALESMAN</td><td>7698</td><td>09-08-1981</td><td>1500</td><td>0</td><td>30</td><td>2022-01-02</td><td>dbfs:/FileStore/tables/sequence.csv</td></tr><tr><td>7876</td><td>ADAMS</td><td>CLERK</td><td>7788</td><td>23-05-1987</td><td>1100</td><td>null</td><td>20</td><td>2022-01-03</td><td>dbfs:/FileStore/tables/sequence.csv</td></tr><tr><td>7900</td><td>JAMES</td><td>CLERK</td><td>7698</td><td>12-03-1981</td><td>950</td><td>null</td><td>30</td><td>2022-01-03</td><td>dbfs:/FileStore/tables/sequence.csv</td></tr><tr><td>7902</td><td>FORD</td><td>ANALYST</td><td>7566</td><td>12-03-1981</td><td>3000</td><td>null</td><td>20</td><td>2022-01-03</td><td>dbfs:/FileStore/tables/sequence.csv</td></tr><tr><td>7934</td><td>MILLER</td><td>CLERK</td><td>7782</td><td>01-03-1982</td><td>1300</td><td>null</td><td>10</td><td>2022-01-03</td><td>dbfs:/FileStore/tables/sequence.csv</td></tr><tr><td>1234</td><td>SEKHAR</td><td>doctor</td><td>7777</td><td>null</td><td>667</td><td>78</td><td>80</td><td>2022-01-03</td><td>dbfs:/FileStore/tables/sequence.csv</td></tr><tr><td>7369</td><td>SMITH</td><td>CLERK</td><td>7902</td><td>17-12-1980</td><td>800</td><td>null</td><td>20</td><td>2022-01-04</td><td>dbfs:/FileStore/tables/sequence.csv</td></tr><tr><td>7499</td><td>ALLEN</td><td>SALESMAN</td><td>7698</td><td>20-02-1981</td><td>1600</td><td>300</td><td>30</td><td>2022-01-04</td><td>dbfs:/FileStore/tables/sequence.csv</td></tr><tr><td>7521</td><td>WARD</td><td>SALESMAN</td><td>7698</td><td>22-02-1981</td><td>1250</td><td>500</td><td>30</td><td>2022-01-04</td><td>dbfs:/FileStore/tables/sequence.csv</td></tr><tr><td>7566</td><td>JONES</td><td>MANAGER</td><td>7839</td><td>04-02-1981</td><td>2975</td><td>null</td><td>20</td><td>2022-01-04</td><td>dbfs:/FileStore/tables/sequence.csv</td></tr><tr><td>7654</td><td>MARTIN</td><td>SALESMAN</td><td>7698</td><td>21-09-1981</td><td>1250</td><td>1400</td><td>30</td><td>2022-01-05</td><td>dbfs:/FileStore/tables/sequence.csv</td></tr><tr><td>7698</td><td>SGR</td><td>MANAGER</td><td>7839</td><td>05-01-1981</td><td>2850</td><td>null</td><td>30</td><td>2022-01-05</td><td>dbfs:/FileStore/tables/sequence.csv</td></tr><tr><td>7782</td><td>RAVI</td><td>MANAGER</td><td>7839</td><td>06-09-1981</td><td>2450</td><td>null</td><td>10</td><td>2022-01-05</td><td>dbfs:/FileStore/tables/sequence.csv</td></tr><tr><td>7788</td><td>SCOTT</td><td>ANALYST</td><td>7566</td><td>19-04-1987</td><td>3000</td><td>null</td><td>20</td><td>2022-01-06</td><td>dbfs:/FileStore/tables/sequence.csv</td></tr><tr><td>7839</td><td>KING</td><td>PRESIDENT</td><td>null</td><td>01-11-1981</td><td>5000</td><td>null</td><td>10</td><td>2022-01-06</td><td>dbfs:/FileStore/tables/sequence.csv</td></tr><tr><td>7844</td><td>TURNER</td><td>SALESMAN</td><td>7698</td><td>09-08-1981</td><td>1500</td><td>0</td><td>30</td><td>2022-01-06</td><td>dbfs:/FileStore/tables/sequence.csv</td></tr><tr><td>7876</td><td>ADAMS</td><td>CLERK</td><td>7788</td><td>23-05-1987</td><td>1100</td><td>null</td><td>20</td><td>2022-01-06</td><td>dbfs:/FileStore/tables/sequence.csv</td></tr><tr><td>7900</td><td>JAMES</td><td>CLERK</td><td>7698</td><td>12-03-1981</td><td>950</td><td>null</td><td>30</td><td>2022-01-07</td><td>dbfs:/FileStore/tables/sequence.csv</td></tr><tr><td>7902</td><td>FORD</td><td>ANALYST</td><td>7566</td><td>12-03-1981</td><td>3000</td><td>null</td><td>20</td><td>2022-01-07</td><td>dbfs:/FileStore/tables/sequence.csv</td></tr><tr><td>7934</td><td>MILLER</td><td>CLERK</td><td>7782</td><td>01-03-1982</td><td>1300</td><td>null</td><td>10</td><td>2022-01-07</td><td>dbfs:/FileStore/tables/sequence.csv</td></tr><tr><td>1234</td><td>RAM</td><td>CLERK</td><td>7457</td><td>null</td><td>494</td><td>588</td><td>80</td><td>2022-01-07</td><td>dbfs:/FileStore/tables/sequence.csv</td></tr><tr><td>null</td><td>null</td><td>null</td><td>null</td><td>null</td><td>null</td><td>null</td><td>null</td><td>null</td><td>dbfs:/FileStore/tables/sequence.csv</td></tr><tr><td>null</td><td>null</td><td>null</td><td>null</td><td>null</td><td>null</td><td>null</td><td>null</td><td>null</td><td>dbfs:/FileStore/tables/sequence.csv</td></tr><tr><td>null</td><td>null</td><td>null</td><td>null</td><td>null</td><td>null</td><td>null</td><td>null</td><td>null</td><td>dbfs:/FileStore/tables/sequence.csv</td></tr><tr><td>7369</td><td>SMITH</td><td>CLERK</td><td>7902</td><td>17-12-80</td><td>800</td><td>null</td><td>20</td><td>null</td><td>dbfs:/FileStore/tables/emp_data.csv</td></tr><tr><td>7499</td><td>ALLEN</td><td>SALESMAN</td><td>7698</td><td>20-02-81</td><td>1600</td><td>300</td><td>30</td><td>null</td><td>dbfs:/FileStore/tables/emp_data.csv</td></tr><tr><td>7521</td><td>WARD</td><td>SALESMAN</td><td>7698</td><td>22-02-81</td><td>1250</td><td>500</td><td>30</td><td>null</td><td>dbfs:/FileStore/tables/emp_data.csv</td></tr><tr><td>7566</td><td>JONES</td><td>MANAGER</td><td>7839</td><td>04-02-81</td><td>2975</td><td>null</td><td>20</td><td>null</td><td>dbfs:/FileStore/tables/emp_data.csv</td></tr><tr><td>7654</td><td>MARTIN</td><td>SALESMAN</td><td>7698</td><td>21-09-81</td><td>1250</td><td>1400</td><td>30</td><td>null</td><td>dbfs:/FileStore/tables/emp_data.csv</td></tr><tr><td>7698</td><td>SGR</td><td>MANAGER</td><td>7839</td><td>05-01-81</td><td>2850</td><td>null</td><td>30</td><td>null</td><td>dbfs:/FileStore/tables/emp_data.csv</td></tr><tr><td>7782</td><td>RAVI</td><td>MANAGER</td><td>7839</td><td>06-09-81</td><td>2450</td><td>null</td><td>10</td><td>null</td><td>dbfs:/FileStore/tables/emp_data.csv</td></tr><tr><td>7788</td><td>SCOTT</td><td>ANALYST</td><td>7566</td><td>19-04-87</td><td>3000</td><td>null</td><td>20</td><td>null</td><td>dbfs:/FileStore/tables/emp_data.csv</td></tr><tr><td>7839</td><td>KING</td><td>PRESIDENT</td><td>null</td><td>01-11-81</td><td>5000</td><td>null</td><td>10</td><td>null</td><td>dbfs:/FileStore/tables/emp_data.csv</td></tr><tr><td>7844</td><td>TURNER</td><td>SALESMAN</td><td>7698</td><td>09-08-81</td><td>1500</td><td>0</td><td>30</td><td>null</td><td>dbfs:/FileStore/tables/emp_data.csv</td></tr><tr><td>7876</td><td>ADAMS</td><td>CLERK</td><td>7788</td><td>23-05-87</td><td>1100</td><td>null</td><td>20</td><td>null</td><td>dbfs:/FileStore/tables/emp_data.csv</td></tr><tr><td>7900</td><td>JAMES</td><td>CLERK</td><td>7698</td><td>12-03-81</td><td>950</td><td>null</td><td>30</td><td>null</td><td>dbfs:/FileStore/tables/emp_data.csv</td></tr><tr><td>7902</td><td>FORD</td><td>ANALYST</td><td>7566</td><td>12-03-81</td><td>3000</td><td>null</td><td>20</td><td>null</td><td>dbfs:/FileStore/tables/emp_data.csv</td></tr><tr><td>7934</td><td>MILLER</td><td>CLERK</td><td>7782</td><td>01-03-82</td><td>1300</td><td>null</td><td>10</td><td>null</td><td>dbfs:/FileStore/tables/emp_data.csv</td></tr><tr><td>1234</td><td>SEKHAR</td><td>doctor</td><td>7777</td><td>31-12-99</td><td>667</td><td>78</td><td>80</td><td>null</td><td>dbfs:/FileStore/tables/emp_data.csv</td></tr><tr><td>7369</td><td>SMITH</td><td>CLERK</td><td>7902</td><td>1980-12-17</td><td>800</td><td>null</td><td>20</td><td>null</td><td>dbfs:/FileStore/tables/null_values.csv</td></tr><tr><td>7499</td><td>ALLEN</td><td>SALESMAN</td><td>7698</td><td>1981-02-20</td><td>1600</td><td>300</td><td>30</td><td>null</td><td>dbfs:/FileStore/tables/null_values.csv</td></tr><tr><td>7521</td><td>WARD</td><td>SALESMAN</td><td>7698</td><td>1981-02-22</td><td>1250</td><td>500</td><td>30</td><td>null</td><td>dbfs:/FileStore/tables/null_values.csv</td></tr><tr><td>7566</td><td>JONES</td><td>MANAGER</td><td>7839</td><td>1981-02-04</td><td>2975</td><td>null</td><td>20</td><td>null</td><td>dbfs:/FileStore/tables/null_values.csv</td></tr><tr><td>7654</td><td>MARTIN</td><td>SALESMAN</td><td>7698</td><td>1981-09-21</td><td>1250</td><td>1400</td><td>30</td><td>null</td><td>dbfs:/FileStore/tables/null_values.csv</td></tr><tr><td>7698</td><td>BLAKE</td><td>MANAGER</td><td>7839</td><td>1981-01-05</td><td>2850</td><td>null</td><td>30</td><td>null</td><td>dbfs:/FileStore/tables/null_values.csv</td></tr><tr><td>7782</td><td>CLARK</td><td>MANAGER</td><td>7839</td><td>1981-09-06</td><td>2450</td><td>null</td><td>10</td><td>null</td><td>dbfs:/FileStore/tables/null_values.csv</td></tr><tr><td>7788</td><td>SCOTT</td><td>ANALYST</td><td>7566</td><td>1987-04-19</td><td>3000</td><td>null</td><td>20</td><td>null</td><td>dbfs:/FileStore/tables/null_values.csv</td></tr><tr><td>7839</td><td>KING</td><td>PRESIDENT</td><td>null</td><td>1981-11-01</td><td>5000</td><td>null</td><td>10</td><td>null</td><td>dbfs:/FileStore/tables/null_values.csv</td></tr><tr><td>7844</td><td>TURNER</td><td>SALESMAN</td><td>7698</td><td>1981-08-09</td><td>1500</td><td>null</td><td>30</td><td>null</td><td>dbfs:/FileStore/tables/null_values.csv</td></tr><tr><td>7876</td><td>ADAMS</td><td>CLERK</td><td>7788</td><td>1987-05-23</td><td>1100</td><td>null</td><td>20</td><td>null</td><td>dbfs:/FileStore/tables/null_values.csv</td></tr><tr><td>7900</td><td>JAMES</td><td>CLERK</td><td>7698</td><td>1981-03-12</td><td>950</td><td>null</td><td>30</td><td>null</td><td>dbfs:/FileStore/tables/null_values.csv</td></tr><tr><td>7902</td><td>FORD</td><td>ANALYST</td><td>7566</td><td>1981-03-12</td><td>3000</td><td>null</td><td>20</td><td>null</td><td>dbfs:/FileStore/tables/null_values.csv</td></tr><tr><td>7934</td><td>MILLER</td><td>CLERK</td><td>7782</td><td>1982-03-01</td><td>1300</td><td>null</td><td>10</td><td>null</td><td>dbfs:/FileStore/tables/null_values.csv</td></tr><tr><td>3</td><td>Direct Sales</td><td>Direct</td><td>12</td><td>Channel total</td><td>1</td><td>null</td><td>null</td><td>null</td><td>dbfs:/FileStore/tables/channels.csv</td></tr><tr><td>9</td><td>Tele Sales</td><td>Direct</td><td>12</td><td>Channel total</td><td>1</td><td>null</td><td>null</td><td>null</td><td>dbfs:/FileStore/tables/channels.csv</td></tr><tr><td>5</td><td>Catalog</td><td>Indirect</td><td>13</td><td>Channel total</td><td>1</td><td>null</td><td>null</td><td>null</td><td>dbfs:/FileStore/tables/channels.csv</td></tr><tr><td>4</td><td>Internet</td><td>Indirect</td><td>13</td><td>Channel total</td><td>1</td><td>null</td><td>null</td><td>null</td><td>dbfs:/FileStore/tables/channels.csv</td></tr><tr><td>2</td><td>Partners</td><td>Others</td><td>14</td><td>Channel total</td><td>1</td><td>null</td><td>null</td><td>null</td><td>dbfs:/FileStore/tables/channels.csv</td></tr><tr><td>12</td><td>Partners</td><td>Others</td><td>14</td><td>Channel total</td><td>1</td><td>45</td><td>ram</td><td>3434</td><td>dbfs:/FileStore/tables/channels.csv</td></tr><tr><td>sample</td><td>Partners</td><td>Others</td><td>14</td><td>Channel total</td><td>1</td><td>45</td><td>ram</td><td>3434</td><td>dbfs:/FileStore/tables/channels.csv</td></tr><tr><td>10 Partners Others 14 Channel total 1</td><td>null</td><td>null</td><td>null</td><td>null</td><td>null</td><td>null</td><td>null</td><td>null</td><td>dbfs:/FileStore/tables/channels.csv</td></tr><tr><td>11 Partners Others 14 Channel total 1</td><td>null</td><td>null</td><td>null</td><td>null</td><td>null</td><td>null</td><td>null</td><td>null</td><td>dbfs:/FileStore/tables/channels.csv</td></tr><tr><td>30-06-2020</td><td>Internal Error</td><td>\"{\"\"Response\"\":{\"\"MessageId\"\" : 15432 }}\"</td><td>null</td><td>null</td><td>null</td><td>null</td><td>null</td><td>null</td><td>dbfs:/FileStore/tables/multilinejson.csv</td></tr><tr><td>30-06-2020</td><td>Success</td><td>\"{\"\"Response\"\":{\"\"MessageId\"\" : 15432</td><td>\"\"Latitude\"\":\"\"-176.2989\"\"</td><td>\"\"longitude\"\":\"\"7.3614\"\" }}\"</td><td>null</td><td>null</td><td>null</td><td>null</td><td>dbfs:/FileStore/tables/multilinejson.csv</td></tr><tr><td>1</td><td>ravi</td><td>Bangalore</td><td>35|45|55|65</td><td>null</td><td>null</td><td>null</td><td>null</td><td>null</td><td>dbfs:/FileStore/tables/multi_sep.csv</td></tr><tr><td>2</td><td>Raj</td><td>Chennai</td><td>35|45|55|65</td><td>null</td><td>null</td><td>null</td><td>null</td><td>null</td><td>dbfs:/FileStore/tables/multi_sep.csv</td></tr><tr><td>3</td><td>Mahesh</td><td>Hyderabad</td><td>35|45|55|65</td><td>null</td><td>null</td><td>null</td><td>null</td><td>null</td><td>dbfs:/FileStore/tables/multi_sep.csv</td></tr><tr><td>4</td><td>Prasad</td><td>Chennai</td><td>35|45|55|65</td><td>null</td><td>null</td><td>null</td><td>null</td><td>null</td><td>dbfs:/FileStore/tables/multi_sep.csv</td></tr><tr><td>5</td><td>Sridhar</td><td>Pune</td><td>35|45|55|65</td><td>null</td><td>null</td><td>null</td><td>null</td><td>null</td><td>dbfs:/FileStore/tables/multi_sep.csv</td></tr><tr><td>1||ravi||Bangalore</td><td>null</td><td>null</td><td>null</td><td>null</td><td>null</td><td>null</td><td>null</td><td>null</td><td>dbfs:/FileStore/tables/double_pipe.csv</td></tr><tr><td>2||Raj||Chennai</td><td>null</td><td>null</td><td>null</td><td>null</td><td>null</td><td>null</td><td>null</td><td>null</td><td>dbfs:/FileStore/tables/double_pipe.csv</td></tr><tr><td>3||Mahesh||Hyderabad</td><td>null</td><td>null</td><td>null</td><td>null</td><td>null</td><td>null</td><td>null</td><td>null</td><td>dbfs:/FileStore/tables/double_pipe.csv</td></tr><tr><td>4||Prasad||Chennai</td><td>null</td><td>null</td><td>null</td><td>null</td><td>null</td><td>null</td><td>null</td><td>null</td><td>dbfs:/FileStore/tables/double_pipe.csv</td></tr><tr><td>5||Sridhar||Pune</td><td>null</td><td>null</td><td>null</td><td>null</td><td>null</td><td>null</td><td>null</td><td>null</td><td>dbfs:/FileStore/tables/double_pipe.csv</td></tr><tr><td>Azar|25|MBA,BE,HSC|</td><td>null</td><td>null</td><td>null</td><td>null</td><td>null</td><td>null</td><td>null</td><td>null</td><td>dbfs:/FileStore/tables/Book-1.csv</td></tr><tr><td>Hari|32|</td><td>null</td><td>null</td><td>null</td><td>null</td><td>null</td><td>null</td><td>null</td><td>null</td><td>dbfs:/FileStore/tables/Book-1.csv</td></tr><tr><td>Kumar|35|ME,BE,Diploma|</td><td>null</td><td>null</td><td>null</td><td>null</td><td>null</td><td>null</td><td>null</td><td>null</td><td>dbfs:/FileStore/tables/Book-1.csv</td></tr><tr><td>Azar|25|MBA,BE,HSC</td><td>null</td><td>null</td><td>null</td><td>null</td><td>null</td><td>null</td><td>null</td><td>null</td><td>dbfs:/FileStore/tables/Book.csv</td></tr><tr><td>Hari|32|</td><td>null</td><td>null</td><td>null</td><td>null</td><td>null</td><td>null</td><td>null</td><td>null</td><td>dbfs:/FileStore/tables/Book.csv</td></tr><tr><td>Kumar|35|ME,BE,Diploma</td><td>null</td><td>null</td><td>null</td><td>null</td><td>null</td><td>null</td><td>null</td><td>null</td><td>dbfs:/FileStore/tables/Book.csv</td></tr></tbody></table></div>"
      ]
     },
     "metadata": {
      "application/vnd.databricks.v1+output": {
       "addedWidgets": {},
       "aggData": [],
       "aggError": "",
       "aggOverflow": false,
       "aggSchema": [],
       "aggSeriesLimitReached": false,
       "aggType": "",
       "arguments": {},
       "columnCustomDisplayInfos": {},
       "data": [
        [
         "7369",
         "SMITH",
         "CLERK",
         "7902",
         "17-12-1980",
         "800",
         "null",
         "20",
         "2022-01-01",
         "dbfs:/FileStore/tables/sequence.csv"
        ],
        [
         "7499",
         "ALLEN",
         "SALESMAN",
         "7698",
         "20-02-1981",
         "1600",
         "300",
         "30",
         "2022-01-01",
         "dbfs:/FileStore/tables/sequence.csv"
        ],
        [
         "7521",
         "WARD",
         "SALESMAN",
         "7698",
         "22-02-1981",
         "1250",
         "500",
         "30",
         "2022-01-01",
         "dbfs:/FileStore/tables/sequence.csv"
        ],
        [
         "7566",
         "JONES",
         "MANAGER",
         "7839",
         "04-02-1981",
         "2975",
         "null",
         "20",
         "2022-01-05",
         "dbfs:/FileStore/tables/sequence.csv"
        ],
        [
         "7654",
         "MARTIN",
         "SALESMAN",
         "7698",
         "21-09-1981",
         "1250",
         "1400",
         "30",
         "2022-01-03",
         "dbfs:/FileStore/tables/sequence.csv"
        ],
        [
         "7698",
         "SGR",
         "MANAGER",
         "7839",
         "05-01-1981",
         "2850",
         "null",
         "30",
         "2022-01-04",
         "dbfs:/FileStore/tables/sequence.csv"
        ],
        [
         "7782",
         "RAVI",
         "MANAGER",
         "7839",
         "06-09-1981",
         "2450",
         "null",
         "10",
         "2022-01-02",
         "dbfs:/FileStore/tables/sequence.csv"
        ],
        [
         "7788",
         "SCOTT",
         "ANALYST",
         "7566",
         "19-04-1987",
         "3000",
         "null",
         "20",
         "2022-01-02",
         "dbfs:/FileStore/tables/sequence.csv"
        ],
        [
         "7839",
         "KING",
         "PRESIDENT",
         "null",
         "01-11-1981",
         "5000",
         "null",
         "10",
         "2022-01-02",
         "dbfs:/FileStore/tables/sequence.csv"
        ],
        [
         "7844",
         "TURNER",
         "SALESMAN",
         "7698",
         "09-08-1981",
         "1500",
         "0",
         "30",
         "2022-01-02",
         "dbfs:/FileStore/tables/sequence.csv"
        ],
        [
         "7876",
         "ADAMS",
         "CLERK",
         "7788",
         "23-05-1987",
         "1100",
         "null",
         "20",
         "2022-01-03",
         "dbfs:/FileStore/tables/sequence.csv"
        ],
        [
         "7900",
         "JAMES",
         "CLERK",
         "7698",
         "12-03-1981",
         "950",
         "null",
         "30",
         "2022-01-03",
         "dbfs:/FileStore/tables/sequence.csv"
        ],
        [
         "7902",
         "FORD",
         "ANALYST",
         "7566",
         "12-03-1981",
         "3000",
         "null",
         "20",
         "2022-01-03",
         "dbfs:/FileStore/tables/sequence.csv"
        ],
        [
         "7934",
         "MILLER",
         "CLERK",
         "7782",
         "01-03-1982",
         "1300",
         "null",
         "10",
         "2022-01-03",
         "dbfs:/FileStore/tables/sequence.csv"
        ],
        [
         "1234",
         "SEKHAR",
         "doctor",
         "7777",
         "null",
         "667",
         "78",
         "80",
         "2022-01-03",
         "dbfs:/FileStore/tables/sequence.csv"
        ],
        [
         "7369",
         "SMITH",
         "CLERK",
         "7902",
         "17-12-1980",
         "800",
         "null",
         "20",
         "2022-01-04",
         "dbfs:/FileStore/tables/sequence.csv"
        ],
        [
         "7499",
         "ALLEN",
         "SALESMAN",
         "7698",
         "20-02-1981",
         "1600",
         "300",
         "30",
         "2022-01-04",
         "dbfs:/FileStore/tables/sequence.csv"
        ],
        [
         "7521",
         "WARD",
         "SALESMAN",
         "7698",
         "22-02-1981",
         "1250",
         "500",
         "30",
         "2022-01-04",
         "dbfs:/FileStore/tables/sequence.csv"
        ],
        [
         "7566",
         "JONES",
         "MANAGER",
         "7839",
         "04-02-1981",
         "2975",
         "null",
         "20",
         "2022-01-04",
         "dbfs:/FileStore/tables/sequence.csv"
        ],
        [
         "7654",
         "MARTIN",
         "SALESMAN",
         "7698",
         "21-09-1981",
         "1250",
         "1400",
         "30",
         "2022-01-05",
         "dbfs:/FileStore/tables/sequence.csv"
        ],
        [
         "7698",
         "SGR",
         "MANAGER",
         "7839",
         "05-01-1981",
         "2850",
         "null",
         "30",
         "2022-01-05",
         "dbfs:/FileStore/tables/sequence.csv"
        ],
        [
         "7782",
         "RAVI",
         "MANAGER",
         "7839",
         "06-09-1981",
         "2450",
         "null",
         "10",
         "2022-01-05",
         "dbfs:/FileStore/tables/sequence.csv"
        ],
        [
         "7788",
         "SCOTT",
         "ANALYST",
         "7566",
         "19-04-1987",
         "3000",
         "null",
         "20",
         "2022-01-06",
         "dbfs:/FileStore/tables/sequence.csv"
        ],
        [
         "7839",
         "KING",
         "PRESIDENT",
         "null",
         "01-11-1981",
         "5000",
         "null",
         "10",
         "2022-01-06",
         "dbfs:/FileStore/tables/sequence.csv"
        ],
        [
         "7844",
         "TURNER",
         "SALESMAN",
         "7698",
         "09-08-1981",
         "1500",
         "0",
         "30",
         "2022-01-06",
         "dbfs:/FileStore/tables/sequence.csv"
        ],
        [
         "7876",
         "ADAMS",
         "CLERK",
         "7788",
         "23-05-1987",
         "1100",
         "null",
         "20",
         "2022-01-06",
         "dbfs:/FileStore/tables/sequence.csv"
        ],
        [
         "7900",
         "JAMES",
         "CLERK",
         "7698",
         "12-03-1981",
         "950",
         "null",
         "30",
         "2022-01-07",
         "dbfs:/FileStore/tables/sequence.csv"
        ],
        [
         "7902",
         "FORD",
         "ANALYST",
         "7566",
         "12-03-1981",
         "3000",
         "null",
         "20",
         "2022-01-07",
         "dbfs:/FileStore/tables/sequence.csv"
        ],
        [
         "7934",
         "MILLER",
         "CLERK",
         "7782",
         "01-03-1982",
         "1300",
         "null",
         "10",
         "2022-01-07",
         "dbfs:/FileStore/tables/sequence.csv"
        ],
        [
         "1234",
         "RAM",
         "CLERK",
         "7457",
         "null",
         "494",
         "588",
         "80",
         "2022-01-07",
         "dbfs:/FileStore/tables/sequence.csv"
        ],
        [
         "null",
         "null",
         "null",
         "null",
         "null",
         "null",
         "null",
         "null",
         "null",
         "dbfs:/FileStore/tables/sequence.csv"
        ],
        [
         "null",
         "null",
         "null",
         "null",
         "null",
         "null",
         "null",
         "null",
         "null",
         "dbfs:/FileStore/tables/sequence.csv"
        ],
        [
         "null",
         "null",
         "null",
         "null",
         "null",
         "null",
         "null",
         "null",
         "null",
         "dbfs:/FileStore/tables/sequence.csv"
        ],
        [
         "7369",
         "SMITH",
         "CLERK",
         "7902",
         "17-12-80",
         "800",
         "null",
         "20",
         null,
         "dbfs:/FileStore/tables/emp_data.csv"
        ],
        [
         "7499",
         "ALLEN",
         "SALESMAN",
         "7698",
         "20-02-81",
         "1600",
         "300",
         "30",
         null,
         "dbfs:/FileStore/tables/emp_data.csv"
        ],
        [
         "7521",
         "WARD",
         "SALESMAN",
         "7698",
         "22-02-81",
         "1250",
         "500",
         "30",
         null,
         "dbfs:/FileStore/tables/emp_data.csv"
        ],
        [
         "7566",
         "JONES",
         "MANAGER",
         "7839",
         "04-02-81",
         "2975",
         "null",
         "20",
         null,
         "dbfs:/FileStore/tables/emp_data.csv"
        ],
        [
         "7654",
         "MARTIN",
         "SALESMAN",
         "7698",
         "21-09-81",
         "1250",
         "1400",
         "30",
         null,
         "dbfs:/FileStore/tables/emp_data.csv"
        ],
        [
         "7698",
         "SGR",
         "MANAGER",
         "7839",
         "05-01-81",
         "2850",
         "null",
         "30",
         null,
         "dbfs:/FileStore/tables/emp_data.csv"
        ],
        [
         "7782",
         "RAVI",
         "MANAGER",
         "7839",
         "06-09-81",
         "2450",
         "null",
         "10",
         null,
         "dbfs:/FileStore/tables/emp_data.csv"
        ],
        [
         "7788",
         "SCOTT",
         "ANALYST",
         "7566",
         "19-04-87",
         "3000",
         "null",
         "20",
         null,
         "dbfs:/FileStore/tables/emp_data.csv"
        ],
        [
         "7839",
         "KING",
         "PRESIDENT",
         "null",
         "01-11-81",
         "5000",
         "null",
         "10",
         null,
         "dbfs:/FileStore/tables/emp_data.csv"
        ],
        [
         "7844",
         "TURNER",
         "SALESMAN",
         "7698",
         "09-08-81",
         "1500",
         "0",
         "30",
         null,
         "dbfs:/FileStore/tables/emp_data.csv"
        ],
        [
         "7876",
         "ADAMS",
         "CLERK",
         "7788",
         "23-05-87",
         "1100",
         "null",
         "20",
         null,
         "dbfs:/FileStore/tables/emp_data.csv"
        ],
        [
         "7900",
         "JAMES",
         "CLERK",
         "7698",
         "12-03-81",
         "950",
         "null",
         "30",
         null,
         "dbfs:/FileStore/tables/emp_data.csv"
        ],
        [
         "7902",
         "FORD",
         "ANALYST",
         "7566",
         "12-03-81",
         "3000",
         "null",
         "20",
         null,
         "dbfs:/FileStore/tables/emp_data.csv"
        ],
        [
         "7934",
         "MILLER",
         "CLERK",
         "7782",
         "01-03-82",
         "1300",
         "null",
         "10",
         null,
         "dbfs:/FileStore/tables/emp_data.csv"
        ],
        [
         "1234",
         "SEKHAR",
         "doctor",
         "7777",
         "31-12-99",
         "667",
         "78",
         "80",
         null,
         "dbfs:/FileStore/tables/emp_data.csv"
        ],
        [
         "7369",
         "SMITH",
         "CLERK",
         "7902",
         "1980-12-17",
         "800",
         null,
         "20",
         null,
         "dbfs:/FileStore/tables/null_values.csv"
        ],
        [
         "7499",
         "ALLEN",
         "SALESMAN",
         "7698",
         "1981-02-20",
         "1600",
         "300",
         "30",
         null,
         "dbfs:/FileStore/tables/null_values.csv"
        ],
        [
         "7521",
         "WARD",
         "SALESMAN",
         "7698",
         "1981-02-22",
         "1250",
         "500",
         "30",
         null,
         "dbfs:/FileStore/tables/null_values.csv"
        ],
        [
         "7566",
         "JONES",
         "MANAGER",
         "7839",
         "1981-02-04",
         "2975",
         null,
         "20",
         null,
         "dbfs:/FileStore/tables/null_values.csv"
        ],
        [
         "7654",
         "MARTIN",
         "SALESMAN",
         "7698",
         "1981-09-21",
         "1250",
         "1400",
         "30",
         null,
         "dbfs:/FileStore/tables/null_values.csv"
        ],
        [
         "7698",
         "BLAKE",
         "MANAGER",
         "7839",
         "1981-01-05",
         "2850",
         null,
         "30",
         null,
         "dbfs:/FileStore/tables/null_values.csv"
        ],
        [
         "7782",
         "CLARK",
         "MANAGER",
         "7839",
         "1981-09-06",
         "2450",
         null,
         "10",
         null,
         "dbfs:/FileStore/tables/null_values.csv"
        ],
        [
         "7788",
         "SCOTT",
         "ANALYST",
         "7566",
         "1987-04-19",
         "3000",
         null,
         "20",
         null,
         "dbfs:/FileStore/tables/null_values.csv"
        ],
        [
         "7839",
         "KING",
         "PRESIDENT",
         null,
         "1981-11-01",
         "5000",
         null,
         "10",
         null,
         "dbfs:/FileStore/tables/null_values.csv"
        ],
        [
         "7844",
         "TURNER",
         "SALESMAN",
         "7698",
         "1981-08-09",
         "1500",
         null,
         "30",
         null,
         "dbfs:/FileStore/tables/null_values.csv"
        ],
        [
         "7876",
         "ADAMS",
         "CLERK",
         "7788",
         "1987-05-23",
         "1100",
         null,
         "20",
         null,
         "dbfs:/FileStore/tables/null_values.csv"
        ],
        [
         "7900",
         "JAMES",
         "CLERK",
         "7698",
         "1981-03-12",
         "950",
         null,
         "30",
         null,
         "dbfs:/FileStore/tables/null_values.csv"
        ],
        [
         "7902",
         "FORD",
         "ANALYST",
         "7566",
         "1981-03-12",
         "3000",
         null,
         "20",
         null,
         "dbfs:/FileStore/tables/null_values.csv"
        ],
        [
         "7934",
         "MILLER",
         "CLERK",
         "7782",
         "1982-03-01",
         "1300",
         null,
         "10",
         null,
         "dbfs:/FileStore/tables/null_values.csv"
        ],
        [
         "3",
         "Direct Sales",
         "Direct",
         "12",
         "Channel total",
         "1",
         null,
         null,
         null,
         "dbfs:/FileStore/tables/channels.csv"
        ],
        [
         "9",
         "Tele Sales",
         "Direct",
         "12",
         "Channel total",
         "1",
         null,
         null,
         null,
         "dbfs:/FileStore/tables/channels.csv"
        ],
        [
         "5",
         "Catalog",
         "Indirect",
         "13",
         "Channel total",
         "1",
         null,
         null,
         null,
         "dbfs:/FileStore/tables/channels.csv"
        ],
        [
         "4",
         "Internet",
         "Indirect",
         "13",
         "Channel total",
         "1",
         null,
         null,
         null,
         "dbfs:/FileStore/tables/channels.csv"
        ],
        [
         "2",
         "Partners",
         "Others",
         "14",
         "Channel total",
         "1",
         null,
         null,
         null,
         "dbfs:/FileStore/tables/channels.csv"
        ],
        [
         "12",
         "Partners",
         "Others",
         "14",
         "Channel total",
         "1",
         "45",
         "ram",
         "3434",
         "dbfs:/FileStore/tables/channels.csv"
        ],
        [
         "sample",
         "Partners",
         "Others",
         "14",
         "Channel total",
         "1",
         "45",
         "ram",
         "3434",
         "dbfs:/FileStore/tables/channels.csv"
        ],
        [
         "10 Partners Others 14 Channel total 1",
         null,
         null,
         null,
         null,
         null,
         null,
         null,
         null,
         "dbfs:/FileStore/tables/channels.csv"
        ],
        [
         "11 Partners Others 14 Channel total 1",
         null,
         null,
         null,
         null,
         null,
         null,
         null,
         null,
         "dbfs:/FileStore/tables/channels.csv"
        ],
        [
         "30-06-2020",
         "Internal Error",
         "\"{\"\"Response\"\":{\"\"MessageId\"\" : 15432 }}\"",
         null,
         null,
         null,
         null,
         null,
         null,
         "dbfs:/FileStore/tables/multilinejson.csv"
        ],
        [
         "30-06-2020",
         "Success",
         "\"{\"\"Response\"\":{\"\"MessageId\"\" : 15432",
         "\"\"Latitude\"\":\"\"-176.2989\"\"",
         "\"\"longitude\"\":\"\"7.3614\"\" }}\"",
         null,
         null,
         null,
         null,
         "dbfs:/FileStore/tables/multilinejson.csv"
        ],
        [
         "1",
         "ravi",
         "Bangalore",
         "35|45|55|65",
         null,
         null,
         null,
         null,
         null,
         "dbfs:/FileStore/tables/multi_sep.csv"
        ],
        [
         "2",
         "Raj",
         "Chennai",
         "35|45|55|65",
         null,
         null,
         null,
         null,
         null,
         "dbfs:/FileStore/tables/multi_sep.csv"
        ],
        [
         "3",
         "Mahesh",
         "Hyderabad",
         "35|45|55|65",
         null,
         null,
         null,
         null,
         null,
         "dbfs:/FileStore/tables/multi_sep.csv"
        ],
        [
         "4",
         "Prasad",
         "Chennai",
         "35|45|55|65",
         null,
         null,
         null,
         null,
         null,
         "dbfs:/FileStore/tables/multi_sep.csv"
        ],
        [
         "5",
         "Sridhar",
         "Pune",
         "35|45|55|65",
         null,
         null,
         null,
         null,
         null,
         "dbfs:/FileStore/tables/multi_sep.csv"
        ],
        [
         "1||ravi||Bangalore",
         null,
         null,
         null,
         null,
         null,
         null,
         null,
         null,
         "dbfs:/FileStore/tables/double_pipe.csv"
        ],
        [
         "2||Raj||Chennai",
         null,
         null,
         null,
         null,
         null,
         null,
         null,
         null,
         "dbfs:/FileStore/tables/double_pipe.csv"
        ],
        [
         "3||Mahesh||Hyderabad",
         null,
         null,
         null,
         null,
         null,
         null,
         null,
         null,
         "dbfs:/FileStore/tables/double_pipe.csv"
        ],
        [
         "4||Prasad||Chennai",
         null,
         null,
         null,
         null,
         null,
         null,
         null,
         null,
         "dbfs:/FileStore/tables/double_pipe.csv"
        ],
        [
         "5||Sridhar||Pune",
         null,
         null,
         null,
         null,
         null,
         null,
         null,
         null,
         "dbfs:/FileStore/tables/double_pipe.csv"
        ],
        [
         "Azar|25|MBA,BE,HSC|",
         null,
         null,
         null,
         null,
         null,
         null,
         null,
         null,
         "dbfs:/FileStore/tables/Book-1.csv"
        ],
        [
         "Hari|32|",
         null,
         null,
         null,
         null,
         null,
         null,
         null,
         null,
         "dbfs:/FileStore/tables/Book-1.csv"
        ],
        [
         "Kumar|35|ME,BE,Diploma|",
         null,
         null,
         null,
         null,
         null,
         null,
         null,
         null,
         "dbfs:/FileStore/tables/Book-1.csv"
        ],
        [
         "Azar|25|MBA,BE,HSC",
         null,
         null,
         null,
         null,
         null,
         null,
         null,
         null,
         "dbfs:/FileStore/tables/Book.csv"
        ],
        [
         "Hari|32|",
         null,
         null,
         null,
         null,
         null,
         null,
         null,
         null,
         "dbfs:/FileStore/tables/Book.csv"
        ],
        [
         "Kumar|35|ME,BE,Diploma",
         null,
         null,
         null,
         null,
         null,
         null,
         null,
         null,
         "dbfs:/FileStore/tables/Book.csv"
        ]
       ],
       "datasetInfos": [],
       "dbfsResultPath": null,
       "isJsonSchema": true,
       "metadata": {},
       "overflow": false,
       "plotOptions": {
        "customPlotOptions": {},
        "displayType": "table",
        "pivotAggregation": null,
        "pivotColumns": null,
        "xColumns": null,
        "yColumns": null
       },
       "removedWidgets": [],
       "schema": [
        {
         "metadata": "{}",
         "name": " EMPNO",
         "type": "\"string\""
        },
        {
         "metadata": "{}",
         "name": "ENAME",
         "type": "\"string\""
        },
        {
         "metadata": "{}",
         "name": "JOB",
         "type": "\"string\""
        },
        {
         "metadata": "{}",
         "name": "MGR",
         "type": "\"string\""
        },
        {
         "metadata": "{}",
         "name": "HIREDATE",
         "type": "\"string\""
        },
        {
         "metadata": "{}",
         "name": "SAL",
         "type": "\"string\""
        },
        {
         "metadata": "{}",
         "name": "COMM",
         "type": "\"string\""
        },
        {
         "metadata": "{}",
         "name": "DEPTNO",
         "type": "\"string\""
        },
        {
         "metadata": "{}",
         "name": "UPDATED_DATE",
         "type": "\"string\""
        },
        {
         "metadata": "{}",
         "name": "filename",
         "type": "\"string\""
        }
       ],
       "type": "table"
      }
     },
     "output_type": "display_data"
    }
   ],
   "source": [
    "from pyspark.sql.functions import *\n",
    "df=spark.read.csv(\"/FileStore/tables/*.csv\",header=True)\n",
    "df_filename=df.withColumn(\"filename\",input_file_name())\n",
    "display(df_rows)"
   ]
  },
  {
   "cell_type": "code",
   "execution_count": 0,
   "metadata": {
    "application/vnd.databricks.v1+cell": {
     "cellMetadata": {
      "byteLimit": 2048000,
      "rowLimit": 10000
     },
     "inputWidgets": {},
     "nuid": "9c6a00cb-5e33-4cbc-b734-04b486836d18",
     "showTitle": false,
     "title": ""
    }
   },
   "outputs": [
    {
     "output_type": "display_data",
     "data": {
      "text/html": [
       "<style scoped>\n",
       "  .table-result-container {\n",
       "    max-height: 300px;\n",
       "    overflow: auto;\n",
       "  }\n",
       "  table, th, td {\n",
       "    border: 1px solid black;\n",
       "    border-collapse: collapse;\n",
       "  }\n",
       "  th, td {\n",
       "    padding: 5px;\n",
       "  }\n",
       "  th {\n",
       "    text-align: left;\n",
       "  }\n",
       "</style><div class='table-result-container'><table class='table-result'><thead style='background-color: white'><tr><th>filename</th><th>count</th></tr></thead><tbody><tr><td>dbfs:/FileStore/tables/emp_data.csv</td><td>15</td></tr><tr><td>dbfs:/FileStore/tables/sequence.csv</td><td>33</td></tr><tr><td>dbfs:/FileStore/tables/null_values.csv</td><td>14</td></tr><tr><td>dbfs:/FileStore/tables/channels.csv</td><td>9</td></tr><tr><td>dbfs:/FileStore/tables/multilinejson.csv</td><td>2</td></tr><tr><td>dbfs:/FileStore/tables/multi_sep.csv</td><td>5</td></tr><tr><td>dbfs:/FileStore/tables/Book-1.csv</td><td>3</td></tr><tr><td>dbfs:/FileStore/tables/double_pipe.csv</td><td>5</td></tr><tr><td>dbfs:/FileStore/tables/Book.csv</td><td>3</td></tr></tbody></table></div>"
      ]
     },
     "metadata": {
      "application/vnd.databricks.v1+output": {
       "addedWidgets": {},
       "aggData": [],
       "aggError": "",
       "aggOverflow": false,
       "aggSchema": [],
       "aggSeriesLimitReached": false,
       "aggType": "",
       "arguments": {},
       "columnCustomDisplayInfos": {},
       "data": [
        [
         "dbfs:/FileStore/tables/emp_data.csv",
         15
        ],
        [
         "dbfs:/FileStore/tables/sequence.csv",
         33
        ],
        [
         "dbfs:/FileStore/tables/null_values.csv",
         14
        ],
        [
         "dbfs:/FileStore/tables/channels.csv",
         9
        ],
        [
         "dbfs:/FileStore/tables/multilinejson.csv",
         2
        ],
        [
         "dbfs:/FileStore/tables/multi_sep.csv",
         5
        ],
        [
         "dbfs:/FileStore/tables/Book-1.csv",
         3
        ],
        [
         "dbfs:/FileStore/tables/double_pipe.csv",
         5
        ],
        [
         "dbfs:/FileStore/tables/Book.csv",
         3
        ]
       ],
       "datasetInfos": [],
       "dbfsResultPath": null,
       "isJsonSchema": true,
       "metadata": {},
       "overflow": false,
       "plotOptions": {
        "customPlotOptions": {},
        "displayType": "table",
        "pivotAggregation": null,
        "pivotColumns": null,
        "xColumns": null,
        "yColumns": null
       },
       "removedWidgets": [],
       "schema": [
        {
         "metadata": "{}",
         "name": "filename",
         "type": "\"string\""
        },
        {
         "metadata": "{}",
         "name": "count",
         "type": "\"long\""
        }
       ],
       "type": "table"
      }
     },
     "output_type": "display_data"
    }
   ],
   "source": [
    "df_count=df_filename.groupBy('filename').count()\n",
    "display(df_count)"
   ]
  }
 ],
 "metadata": {
  "application/vnd.databricks.v1+notebook": {
   "dashboards": [],
   "environmentMetadata": null,
   "language": "python",
   "notebookMetadata": {
    "mostRecentlyExecutedCommandWithImplicitDF": {
     "commandId": 2847721240316582,
     "dataframes": [
      "_sqldf"
     ]
    },
    "pythonIndentUnit": 4
   },
   "notebookName": "how to get no of rows on each file",
   "widgets": {}
  }
 },
 "nbformat": 4,
 "nbformat_minor": 0
}
