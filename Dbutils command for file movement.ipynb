{
 "cells": [
  {
   "cell_type": "code",
   "execution_count": 0,
   "metadata": {
    "application/vnd.databricks.v1+cell": {
     "cellMetadata": {
      "byteLimit": 2048000,
      "rowLimit": 10000
     },
     "inputWidgets": {},
     "nuid": "cd5bb211-8b55-4b31-93c5-1b0c7acd5372",
     "showTitle": false,
     "title": ""
    }
   },
   "outputs": [],
   "source": [
    "files = dbutils.fs.ls(\"/FileStore/tables\")"
   ]
  },
  {
   "cell_type": "code",
   "execution_count": 0,
   "metadata": {
    "application/vnd.databricks.v1+cell": {
     "cellMetadata": {
      "byteLimit": 2048000,
      "rowLimit": 10000
     },
     "inputWidgets": {},
     "nuid": "40d48b6a-00c4-4493-a98d-90c29c70efb6",
     "showTitle": false,
     "title": ""
    }
   },
   "outputs": [
    {
     "output_type": "stream",
     "name": "stdout",
     "output_type": "stream",
     "text": [
      "azure_data_engineering_questions-1.txt\nazure_data_engineering_questions.txt\nUnexpected exception formatting exception. Falling back to standard exception\n"
     ]
    },
    {
     "output_type": "stream",
     "name": "stderr",
     "output_type": "stream",
     "text": [
      "Traceback (most recent call last):\n  File \"/databricks/python/lib/python3.9/site-packages/IPython/core/interactiveshell.py\", line 3378, in run_code\n    exec(code_obj, self.user_global_ns, self.user_ns)\n  File \"<command-3417683893818065>\", line 5, in <module>\n    dbutils.fs.rm(source_path,'/FileStore/demo')\n  File \"/databricks/python_shell/dbruntime/dbutils.py\", line 346, in f_with_exception_handling\n    return f(*args, **kwargs)\n  File \"/databricks/python_shell/dbruntime/dbutils.py\", line 410, in rm\n    self.check_types([(dir, string_types), (recurse, bool)])\n  File \"/databricks/python_shell/dbruntime/dbutils.py\", line 327, in check_types\n    raise TypeError(u'{0} has the wrong type - {1} is expected.'.format(\nTypeError: '/FileStore/demo' has the wrong type - <class 'bool'> is expected.\n\nDuring handling of the above exception, another exception occurred:\n\nTraceback (most recent call last):\n  File \"/databricks/python/lib/python3.9/site-packages/IPython/core/interactiveshell.py\", line 1997, in showtraceback\n    stb = self.InteractiveTB.structured_traceback(\n  File \"/databricks/python/lib/python3.9/site-packages/IPython/core/ultratb.py\", line 1112, in structured_traceback\n    return FormattedTB.structured_traceback(\n  File \"/databricks/python/lib/python3.9/site-packages/IPython/core/ultratb.py\", line 1006, in structured_traceback\n    return VerboseTB.structured_traceback(\n  File \"/databricks/python/lib/python3.9/site-packages/IPython/core/ultratb.py\", line 859, in structured_traceback\n    formatted_exception = self.format_exception_as_a_whole(etype, evalue, etb, number_of_lines_of_context,\n  File \"/databricks/python/lib/python3.9/site-packages/IPython/core/ultratb.py\", line 812, in format_exception_as_a_whole\n    frames.append(self.format_record(r))\n  File \"/databricks/python/lib/python3.9/site-packages/IPython/core/ultratb.py\", line 730, in format_record\n    result += ''.join(_format_traceback_lines(frame_info.lines, Colors, self.has_colors, lvals))\n  File \"/databricks/python/lib/python3.9/site-packages/stack_data/utils.py\", line 145, in cached_property_wrapper\n    value = obj.__dict__[self.func.__name__] = self.func(obj)\n  File \"/databricks/python/lib/python3.9/site-packages/stack_data/core.py\", line 698, in lines\n    pieces = self.included_pieces\n  File \"/databricks/python/lib/python3.9/site-packages/stack_data/utils.py\", line 145, in cached_property_wrapper\n    value = obj.__dict__[self.func.__name__] = self.func(obj)\n  File \"/databricks/python/lib/python3.9/site-packages/stack_data/core.py\", line 649, in included_pieces\n    pos = scope_pieces.index(self.executing_piece)\n  File \"/databricks/python/lib/python3.9/site-packages/stack_data/utils.py\", line 145, in cached_property_wrapper\n    value = obj.__dict__[self.func.__name__] = self.func(obj)\n  File \"/databricks/python/lib/python3.9/site-packages/stack_data/core.py\", line 628, in executing_piece\n    return only(\n  File \"/databricks/python/lib/python3.9/site-packages/executing/executing.py\", line 164, in only\n    raise NotOneValueFound('Expected one value, found 0')\nexecuting.executing.NotOneValueFound: Expected one value, found 0\n"
     ]
    },
    {
     "output_type": "display_data",
     "data": {
      "text/plain": [
       ""
      ]
     },
     "metadata": {
      "application/vnd.databricks.v1+output": {
       "arguments": {},
       "data": "",
       "errorSummary": "<span class='ansi-red-fg'>TypeError</span>: '/FileStore/demo' has the wrong type - <class 'bool'> is expected.",
       "errorTraceType": "ansi",
       "metadata": {},
       "type": "ipynbError"
      }
     },
     "output_type": "display_data"
    }
   ],
   "source": [
    "azure_files=[ file for file  in files if  file.name.startswith(\"azure\")]\n",
    "for file in azure_files:\n",
    "    source_path=file.path\n",
    "    print(file.name)\n",
    "dbutils.fs.mv(source_path,'/FileStore/demo')"
   ]
  },
  {
   "cell_type": "code",
   "execution_count": 0,
   "metadata": {
    "application/vnd.databricks.v1+cell": {
     "cellMetadata": {
      "byteLimit": 2048000,
      "rowLimit": 10000
     },
     "inputWidgets": {},
     "nuid": "af3df5fe-0b3f-41da-8fad-e6a3990b1535",
     "showTitle": false,
     "title": ""
    }
   },
   "outputs": [
    {
     "output_type": "stream",
     "name": "stdout",
     "output_type": "stream",
     "text": [
      "Out[19]: True"
     ]
    }
   ],
   "source": [
    "dbutils.fs.mkdirs('/FileStore/demo')"
   ]
  },
  {
   "cell_type": "code",
   "execution_count": 0,
   "metadata": {
    "application/vnd.databricks.v1+cell": {
     "cellMetadata": {
      "byteLimit": 2048000,
      "rowLimit": 10000
     },
     "inputWidgets": {},
     "nuid": "4ad667e7-495c-4dc6-b717-2b97e57cc610",
     "showTitle": false,
     "title": ""
    }
   },
   "outputs": [
    {
     "output_type": "stream",
     "name": "stdout",
     "output_type": "stream",
     "text": [
      "dbfs:/FileStore/demo/_SUCCESS\ndbfs:/FileStore/demo/_committed_143103040987647248\ndbfs:/FileStore/demo/_started_143103040987647248\ndbfs:/FileStore/demo/part-00000-tid-143103040987647248-ed67f06f-e230-4fe8-8811-de12cdace8ce-8-1-c000.json\ndbfs:/FileStore/demo/part-00001-tid-143103040987647248-ed67f06f-e230-4fe8-8811-de12cdace8ce-9-1-c000.json\ndbfs:/FileStore/demo/part-00002-tid-143103040987647248-ed67f06f-e230-4fe8-8811-de12cdace8ce-10-1-c000.json\ndbfs:/FileStore/demo/part-00003-tid-143103040987647248-ed67f06f-e230-4fe8-8811-de12cdace8ce-11-1-c000.json\ndbfs:/FileStore/demo/part-00004-tid-143103040987647248-ed67f06f-e230-4fe8-8811-de12cdace8ce-12-1-c000.json\ndbfs:/FileStore/demo/part-00005-tid-143103040987647248-ed67f06f-e230-4fe8-8811-de12cdace8ce-13-1-c000.json\nOut[53]: True"
     ]
    }
   ],
   "source": [
    "files=dbutils.fs.ls('/FileStore/demo')\n",
    "part_files=[ file for file  in files ]\n",
    "for file in part_files:\n",
    " print(file.path)\n",
    " path=file.path\n",
    "dbutils.fs.rm(path)\n"
   ]
  },
  {
   "cell_type": "code",
   "execution_count": 0,
   "metadata": {
    "application/vnd.databricks.v1+cell": {
     "cellMetadata": {
      "byteLimit": 2048000,
      "rowLimit": 10000
     },
     "inputWidgets": {},
     "nuid": "d5ed6148-1f07-4ffc-a8f1-b6f1a22b6261",
     "showTitle": false,
     "title": ""
    }
   },
   "outputs": [
    {
     "output_type": "display_data",
     "data": {
      "text/html": [
       "<div class = \"ansiout\"><b>dbutils.fs</b> provides utilities for working with FileSystems. Most methods in\n",
       "this package can take either a DBFS path (e.g., \"/foo\" or \"dbfs:/foo\"), or\n",
       "another FileSystem URI.\n",
       "\n",
       "For more info about a method, use <b>dbutils.fs.help(\"methodName\")</b>.\n",
       "\n",
       "In notebooks, you can also use the %fs shorthand to access DBFS. The %fs shorthand maps\n",
       "straightforwardly onto dbutils calls. For example, \"%fs head --maxBytes=10000 /file/path\"\n",
       "translates into \"dbutils.fs.head(\"/file/path\", maxBytes = 10000)\".\n",
       "    <h3>mount</h3><b>mount(source: String, mountPoint: String, encryptionType: String = \"\", owner: String = null, extraConfigs: Map = Map.empty[String, String]): boolean</b> -> Mounts the given source directory into DBFS at the given mount point<br /><b>mounts: Seq</b> -> Displays information about what is mounted within DBFS<br /><b>refreshMounts: boolean</b> -> Forces all machines in this cluster to refresh their mount cache, ensuring they receive the most recent information<br /><b>unmount(mountPoint: String): boolean</b> -> Deletes a DBFS mount point<br /><b>updateMount(source: String, mountPoint: String, encryptionType: String = \"\", owner: String = null, extraConfigs: Map = Map.empty[String, String]): boolean</b> -> Similar to mount(), but updates an existing mount point (if present) instead of creating a new one<br /><br /><h3>fsutils</h3><b>cp(from: String, to: String, recurse: boolean = false): boolean</b> -> Copies a file or directory, possibly across FileSystems<br /><b>head(file: String, maxBytes: int = 65536): String</b> -> Returns up to the first 'maxBytes' bytes of the given file as a String encoded in UTF-8<br /><b>ls(dir: String): Seq</b> -> Lists the contents of a directory<br /><b>mkdirs(dir: String): boolean</b> -> Creates the given directory if it does not exist, also creating any necessary parent directories<br /><b>mv(from: String, to: String, recurse: boolean = false): boolean</b> -> Moves a file or directory, possibly across FileSystems<br /><b>put(file: String, contents: String, overwrite: boolean = false): boolean</b> -> Writes the given String out to a file, encoded in UTF-8<br /><b>rm(dir: String, recurse: boolean = false): boolean</b> -> Removes a file or directory<br /><br /></div>"
      ]
     },
     "metadata": {
      "application/vnd.databricks.v1+output": {
       "addedWidgets": {},
       "arguments": {},
       "data": "<div class = \"ansiout\"><b>dbutils.fs</b> provides utilities for working with FileSystems. Most methods in\nthis package can take either a DBFS path (e.g., \"/foo\" or \"dbfs:/foo\"), or\nanother FileSystem URI.\n\nFor more info about a method, use <b>dbutils.fs.help(\"methodName\")</b>.\n\nIn notebooks, you can also use the %fs shorthand to access DBFS. The %fs shorthand maps\nstraightforwardly onto dbutils calls. For example, \"%fs head --maxBytes=10000 /file/path\"\ntranslates into \"dbutils.fs.head(\"/file/path\", maxBytes = 10000)\".\n    <h3>mount</h3><b>mount(source: String, mountPoint: String, encryptionType: String = \"\", owner: String = null, extraConfigs: Map = Map.empty[String, String]): boolean</b> -> Mounts the given source directory into DBFS at the given mount point<br /><b>mounts: Seq</b> -> Displays information about what is mounted within DBFS<br /><b>refreshMounts: boolean</b> -> Forces all machines in this cluster to refresh their mount cache, ensuring they receive the most recent information<br /><b>unmount(mountPoint: String): boolean</b> -> Deletes a DBFS mount point<br /><b>updateMount(source: String, mountPoint: String, encryptionType: String = \"\", owner: String = null, extraConfigs: Map = Map.empty[String, String]): boolean</b> -> Similar to mount(), but updates an existing mount point (if present) instead of creating a new one<br /><br /><h3>fsutils</h3><b>cp(from: String, to: String, recurse: boolean = false): boolean</b> -> Copies a file or directory, possibly across FileSystems<br /><b>head(file: String, maxBytes: int = 65536): String</b> -> Returns up to the first 'maxBytes' bytes of the given file as a String encoded in UTF-8<br /><b>ls(dir: String): Seq</b> -> Lists the contents of a directory<br /><b>mkdirs(dir: String): boolean</b> -> Creates the given directory if it does not exist, also creating any necessary parent directories<br /><b>mv(from: String, to: String, recurse: boolean = false): boolean</b> -> Moves a file or directory, possibly across FileSystems<br /><b>put(file: String, contents: String, overwrite: boolean = false): boolean</b> -> Writes the given String out to a file, encoded in UTF-8<br /><b>rm(dir: String, recurse: boolean = false): boolean</b> -> Removes a file or directory<br /><br /></div>",
       "datasetInfos": [],
       "metadata": {},
       "removedWidgets": [],
       "textData": null,
       "type": "htmlSandbox"
      }
     },
     "output_type": "display_data"
    }
   ],
   "source": [
    "dbutils.fs.mv()"
   ]
  },
  {
   "cell_type": "code",
   "execution_count": 0,
   "metadata": {
    "application/vnd.databricks.v1+cell": {
     "cellMetadata": {
      "byteLimit": 2048000,
      "rowLimit": 10000
     },
     "inputWidgets": {},
     "nuid": "5503747f-8a3b-4a21-bae9-7061a82bd22e",
     "showTitle": false,
     "title": ""
    }
   },
   "outputs": [
    {
     "output_type": "stream",
     "name": "stdout",
     "output_type": "stream",
     "text": [
      "Out[54]: [FileInfo(path='dbfs:/FileStore/demo/_SUCCESS', name='_SUCCESS', size=0, modificationTime=1718794045000),\n FileInfo(path='dbfs:/FileStore/demo/_committed_143103040987647248', name='_committed_143103040987647248', size=726, modificationTime=1718794045000),\n FileInfo(path='dbfs:/FileStore/demo/_started_143103040987647248', name='_started_143103040987647248', size=0, modificationTime=1718794045000),\n FileInfo(path='dbfs:/FileStore/demo/part-00000-tid-143103040987647248-ed67f06f-e230-4fe8-8811-de12cdace8ce-8-1-c000.json', name='part-00000-tid-143103040987647248-ed67f06f-e230-4fe8-8811-de12cdace8ce-8-1-c000.json', size=568, modificationTime=1718794045000),\n FileInfo(path='dbfs:/FileStore/demo/part-00001-tid-143103040987647248-ed67f06f-e230-4fe8-8811-de12cdace8ce-9-1-c000.json', name='part-00001-tid-143103040987647248-ed67f06f-e230-4fe8-8811-de12cdace8ce-9-1-c000.json', size=584, modificationTime=1718794046000),\n FileInfo(path='dbfs:/FileStore/demo/part-00002-tid-143103040987647248-ed67f06f-e230-4fe8-8811-de12cdace8ce-10-1-c000.json', name='part-00002-tid-143103040987647248-ed67f06f-e230-4fe8-8811-de12cdace8ce-10-1-c000.json', size=559, modificationTime=1718794046000),\n FileInfo(path='dbfs:/FileStore/demo/part-00003-tid-143103040987647248-ed67f06f-e230-4fe8-8811-de12cdace8ce-11-1-c000.json', name='part-00003-tid-143103040987647248-ed67f06f-e230-4fe8-8811-de12cdace8ce-11-1-c000.json', size=1208, modificationTime=1718794046000),\n FileInfo(path='dbfs:/FileStore/demo/part-00004-tid-143103040987647248-ed67f06f-e230-4fe8-8811-de12cdace8ce-12-1-c000.json', name='part-00004-tid-143103040987647248-ed67f06f-e230-4fe8-8811-de12cdace8ce-12-1-c000.json', size=583, modificationTime=1718794047000)]"
     ]
    }
   ],
   "source": [
    "dbutils.fs.ls('/FileStore/demo')"
   ]
  },
  {
   "cell_type": "code",
   "execution_count": 0,
   "metadata": {
    "application/vnd.databricks.v1+cell": {
     "cellMetadata": {
      "byteLimit": 2048000,
      "rowLimit": 10000
     },
     "inputWidgets": {},
     "nuid": "89016432-47c0-44b8-b63a-f1844508a435",
     "showTitle": false,
     "title": ""
    }
   },
   "outputs": [
    {
     "output_type": "stream",
     "name": "stdout",
     "output_type": "stream",
     "text": [
      "Removing file: dbfs:/FileStore/demo/part-00000-tid-143103040987647248-ed67f06f-e230-4fe8-8811-de12cdace8ce-8-1-c000.json\nSuccessfully removed: dbfs:/FileStore/demo/part-00000-tid-143103040987647248-ed67f06f-e230-4fe8-8811-de12cdace8ce-8-1-c000.json\nRemoving file: dbfs:/FileStore/demo/part-00001-tid-143103040987647248-ed67f06f-e230-4fe8-8811-de12cdace8ce-9-1-c000.json\nSuccessfully removed: dbfs:/FileStore/demo/part-00001-tid-143103040987647248-ed67f06f-e230-4fe8-8811-de12cdace8ce-9-1-c000.json\nRemoving file: dbfs:/FileStore/demo/part-00002-tid-143103040987647248-ed67f06f-e230-4fe8-8811-de12cdace8ce-10-1-c000.json\nSuccessfully removed: dbfs:/FileStore/demo/part-00002-tid-143103040987647248-ed67f06f-e230-4fe8-8811-de12cdace8ce-10-1-c000.json\nRemoving file: dbfs:/FileStore/demo/part-00003-tid-143103040987647248-ed67f06f-e230-4fe8-8811-de12cdace8ce-11-1-c000.json\nSuccessfully removed: dbfs:/FileStore/demo/part-00003-tid-143103040987647248-ed67f06f-e230-4fe8-8811-de12cdace8ce-11-1-c000.json\nRemoving file: dbfs:/FileStore/demo/part-00004-tid-143103040987647248-ed67f06f-e230-4fe8-8811-de12cdace8ce-12-1-c000.json\nSuccessfully removed: dbfs:/FileStore/demo/part-00004-tid-143103040987647248-ed67f06f-e230-4fe8-8811-de12cdace8ce-12-1-c000.json\nRemaining files in /FileStore/demo:\n_SUCCESS\n_committed_143103040987647248\n_started_143103040987647248\n"
     ]
    }
   ],
   "source": [
    "# List all files in the specified directory\n",
    "files = dbutils.fs.ls(\"/FileStore/demo\")\n",
    "\n",
    "# Filter files that start with \"part\"\n",
    "part_files = [file for file in files if file.name.startswith(\"part\")]\n",
    "\n",
    "# Loop through the filtered files and remove each one\n",
    "for file in part_files:\n",
    "    file_path = file.path  # Full path of the file\n",
    "    print(f\"Removing file: {file_path}\")\n",
    "    success = dbutils.fs.rm(file_path)\n",
    "    if success:\n",
    "        print(f\"Successfully removed: {file_path}\")\n",
    "    else:\n",
    "        print(f\"Failed to remove: {file_path}\")\n",
    "\n",
    "# Verify if files are removed successfully\n",
    "remaining_files = dbutils.fs.ls(\"/FileStore/demo\")\n",
    "print(\"Remaining files in /FileStore/demo:\")\n",
    "for file in remaining_files:\n",
    "    print(file.name)"
   ]
  }
 ],
 "metadata": {
  "application/vnd.databricks.v1+notebook": {
   "dashboards": [],
   "environmentMetadata": null,
   "language": "python",
   "notebookMetadata": {
    "pythonIndentUnit": 4
   },
   "notebookName": "Dbutils command for file movement",
   "widgets": {}
  }
 },
 "nbformat": 4,
 "nbformat_minor": 0
}
