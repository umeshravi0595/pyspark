{
 "cells": [
  {
   "cell_type": "code",
   "execution_count": 0,
   "metadata": {
    "application/vnd.databricks.v1+cell": {
     "cellMetadata": {
      "byteLimit": 2048000,
      "rowLimit": 10000
     },
     "inputWidgets": {},
     "nuid": "3fa317db-288d-4b13-b1d7-794fc7f5dd69",
     "showTitle": false,
     "title": ""
    }
   },
   "outputs": [
    {
     "output_type": "stream",
     "name": "stdout",
     "output_type": "stream",
     "text": [
      "+----------+------------+\n|event_date|event_status|\n+----------+------------+\n|2024-01-01|         won|\n|2024-01-02|         won|\n|2024-01-03|         won|\n|2024-01-04|        lost|\n|2024-01-05|        lost|\n|2024-01-06|        lost|\n|2024-01-07|         won|\n|2024-01-08|         won|\n|2024-01-09|         won|\n+----------+------------+\n\n"
     ]
    }
   ],
   "source": [
    "from pyspark.sql import SparkSession\n",
    "from pyspark.sql.functions import to_date, col\n",
    "\n",
    "# Create a SparkSession\n",
    "spark = SparkSession.builder \\\n",
    "    .appName(\"Example\") \\\n",
    "    .getOrCreate()\n",
    "\n",
    "# Sample data\n",
    "data = [(\"01-01-2024\", \"won\"),\n",
    "        (\"02-01-2024\", \"won\"),\n",
    "        (\"03-01-2024\", \"won\"),\n",
    "        (\"04-01-2024\", \"lost\"),\n",
    "        (\"05-01-2024\", \"lost\"),\n",
    "        (\"06-01-2024\", \"lost\"),\n",
    "        (\"07-01-2024\", \"won\"),\n",
    "        (\"08-01-2024\", \"won\"),\n",
    "        (\"09-01-2024\", \"won\")]\n",
    "\n",
    "# Create a DataFrame from the sample data\n",
    "df = spark.createDataFrame(data, [\"event_date\", \"event_status\"])\n",
    "\n",
    "# Apply to_date function to event_date column\n",
    "df_date = df.select(to_date(col(\"event_date\"), 'dd-MM-yyyy').alias(\"event_date\"), col(\"event_status\"))\n",
    "\n",
    "# Show the DataFrame\n",
    "df_date.show()"
   ]
  },
  {
   "cell_type": "code",
   "execution_count": 0,
   "metadata": {
    "application/vnd.databricks.v1+cell": {
     "cellMetadata": {
      "byteLimit": 2048000,
      "rowLimit": 10000
     },
     "inputWidgets": {},
     "nuid": "844ed0b1-7528-4323-9c61-37381fd0b7b8",
     "showTitle": false,
     "title": ""
    }
   },
   "outputs": [
    {
     "output_type": "display_data",
     "data": {
      "text/html": [
       "<style scoped>\n",
       "  .table-result-container {\n",
       "    max-height: 300px;\n",
       "    overflow: auto;\n",
       "  }\n",
       "  table, th, td {\n",
       "    border: 1px solid black;\n",
       "    border-collapse: collapse;\n",
       "  }\n",
       "  th, td {\n",
       "    padding: 5px;\n",
       "  }\n",
       "  th {\n",
       "    text-align: left;\n",
       "  }\n",
       "</style><div class='table-result-container'><table class='table-result'><thead style='background-color: white'><tr><th>event_date</th><th>event_status</th><th>event_change</th></tr></thead><tbody><tr><td>01-01-2024</td><td>won</td><td>0</td></tr><tr><td>02-01-2024</td><td>won</td><td>0</td></tr><tr><td>03-01-2024</td><td>won</td><td>0</td></tr><tr><td>04-01-2024</td><td>lost</td><td>1</td></tr><tr><td>05-01-2024</td><td>lost</td><td>0</td></tr><tr><td>06-01-2024</td><td>lost</td><td>0</td></tr><tr><td>07-01-2024</td><td>won</td><td>1</td></tr><tr><td>08-01-2024</td><td>won</td><td>0</td></tr><tr><td>09-01-2024</td><td>won</td><td>0</td></tr></tbody></table></div>"
      ]
     },
     "metadata": {
      "application/vnd.databricks.v1+output": {
       "addedWidgets": {},
       "aggData": [],
       "aggError": "",
       "aggOverflow": false,
       "aggSchema": [],
       "aggSeriesLimitReached": false,
       "aggType": "",
       "arguments": {},
       "columnCustomDisplayInfos": {},
       "data": [
        [
         "01-01-2024",
         "won",
         0
        ],
        [
         "02-01-2024",
         "won",
         0
        ],
        [
         "03-01-2024",
         "won",
         0
        ],
        [
         "04-01-2024",
         "lost",
         1
        ],
        [
         "05-01-2024",
         "lost",
         0
        ],
        [
         "06-01-2024",
         "lost",
         0
        ],
        [
         "07-01-2024",
         "won",
         1
        ],
        [
         "08-01-2024",
         "won",
         0
        ],
        [
         "09-01-2024",
         "won",
         0
        ]
       ],
       "datasetInfos": [],
       "dbfsResultPath": null,
       "isJsonSchema": true,
       "metadata": {},
       "overflow": false,
       "plotOptions": {
        "customPlotOptions": {},
        "displayType": "table",
        "pivotAggregation": null,
        "pivotColumns": null,
        "xColumns": null,
        "yColumns": null
       },
       "removedWidgets": [],
       "schema": [
        {
         "metadata": "{}",
         "name": "event_date",
         "type": "\"string\""
        },
        {
         "metadata": "{}",
         "name": "event_status",
         "type": "\"string\""
        },
        {
         "metadata": "{}",
         "name": "event_change",
         "type": "\"integer\""
        }
       ],
       "type": "table"
      }
     },
     "output_type": "display_data"
    }
   ],
   "source": [
    "from pyspark.sql.functions import *\n",
    "from pyspark.sql.window import Window\n",
    "windowSpec = Window.orderBy(col(\"event_date\"))\n",
    "df_date=df.select(col(\"event_date\"),col(\"event_status\"),when(col(\"event_status\")!=lag(col(\"event_status\")).over(windowSpec),1).otherwise(0).alias(\"event_change\"))\n",
    "display(df_date)"
   ]
  },
  {
   "cell_type": "code",
   "execution_count": 0,
   "metadata": {
    "application/vnd.databricks.v1+cell": {
     "cellMetadata": {
      "byteLimit": 2048000,
      "rowLimit": 10000
     },
     "inputWidgets": {},
     "nuid": "98075a1b-0b8a-4a61-b897-2a35f013a4df",
     "showTitle": false,
     "title": ""
    }
   },
   "outputs": [
    {
     "output_type": "display_data",
     "data": {
      "text/html": [
       "<style scoped>\n",
       "  .table-result-container {\n",
       "    max-height: 300px;\n",
       "    overflow: auto;\n",
       "  }\n",
       "  table, th, td {\n",
       "    border: 1px solid black;\n",
       "    border-collapse: collapse;\n",
       "  }\n",
       "  th, td {\n",
       "    padding: 5px;\n",
       "  }\n",
       "  th {\n",
       "    text-align: left;\n",
       "  }\n",
       "</style><div class='table-result-container'><table class='table-result'><thead style='background-color: white'><tr><th>event_date</th><th>event_status</th><th>event_change</th><th>event_sum</th></tr></thead><tbody><tr><td>01-01-2024</td><td>won</td><td>0</td><td>0</td></tr><tr><td>02-01-2024</td><td>won</td><td>0</td><td>0</td></tr><tr><td>03-01-2024</td><td>won</td><td>0</td><td>0</td></tr><tr><td>04-01-2024</td><td>lost</td><td>1</td><td>1</td></tr><tr><td>05-01-2024</td><td>lost</td><td>0</td><td>1</td></tr><tr><td>06-01-2024</td><td>lost</td><td>0</td><td>1</td></tr><tr><td>07-01-2024</td><td>won</td><td>1</td><td>2</td></tr><tr><td>08-01-2024</td><td>won</td><td>0</td><td>2</td></tr><tr><td>09-01-2024</td><td>won</td><td>0</td><td>2</td></tr></tbody></table></div>"
      ]
     },
     "metadata": {
      "application/vnd.databricks.v1+output": {
       "addedWidgets": {},
       "aggData": [],
       "aggError": "",
       "aggOverflow": false,
       "aggSchema": [],
       "aggSeriesLimitReached": false,
       "aggType": "",
       "arguments": {},
       "columnCustomDisplayInfos": {},
       "data": [
        [
         "01-01-2024",
         "won",
         0,
         0
        ],
        [
         "02-01-2024",
         "won",
         0,
         0
        ],
        [
         "03-01-2024",
         "won",
         0,
         0
        ],
        [
         "04-01-2024",
         "lost",
         1,
         1
        ],
        [
         "05-01-2024",
         "lost",
         0,
         1
        ],
        [
         "06-01-2024",
         "lost",
         0,
         1
        ],
        [
         "07-01-2024",
         "won",
         1,
         2
        ],
        [
         "08-01-2024",
         "won",
         0,
         2
        ],
        [
         "09-01-2024",
         "won",
         0,
         2
        ]
       ],
       "datasetInfos": [],
       "dbfsResultPath": null,
       "isJsonSchema": true,
       "metadata": {},
       "overflow": false,
       "plotOptions": {
        "customPlotOptions": {},
        "displayType": "table",
        "pivotAggregation": null,
        "pivotColumns": null,
        "xColumns": null,
        "yColumns": null
       },
       "removedWidgets": [],
       "schema": [
        {
         "metadata": "{}",
         "name": "event_date",
         "type": "\"string\""
        },
        {
         "metadata": "{}",
         "name": "event_status",
         "type": "\"string\""
        },
        {
         "metadata": "{}",
         "name": "event_change",
         "type": "\"integer\""
        },
        {
         "metadata": "{}",
         "name": "event_sum",
         "type": "\"long\""
        }
       ],
       "type": "table"
      }
     },
     "output_type": "display_data"
    }
   ],
   "source": [
    "df_evensum=df_date.withColumn(\"event_sum\",sum(col(\"event_change\")).over(Window.orderBy(col(\"event_date\"))))\n",
    "display(df_evensum)"
   ]
  },
  {
   "cell_type": "code",
   "execution_count": 0,
   "metadata": {
    "application/vnd.databricks.v1+cell": {
     "cellMetadata": {},
     "inputWidgets": {},
     "nuid": "02b01e26-b529-4c35-9035-541c32dc2e71",
     "showTitle": false,
     "title": ""
    }
   },
   "outputs": [],
   "source": []
  },
  {
   "cell_type": "code",
   "execution_count": 0,
   "metadata": {
    "application/vnd.databricks.v1+cell": {
     "cellMetadata": {
      "byteLimit": 2048000,
      "rowLimit": 10000
     },
     "inputWidgets": {},
     "nuid": "49f168fa-5c27-43b4-ab1a-0f78ee7040bc",
     "showTitle": false,
     "title": ""
    }
   },
   "outputs": [
    {
     "output_type": "display_data",
     "data": {
      "text/html": [
       "<style scoped>\n",
       "  .table-result-container {\n",
       "    max-height: 300px;\n",
       "    overflow: auto;\n",
       "  }\n",
       "  table, th, td {\n",
       "    border: 1px solid black;\n",
       "    border-collapse: collapse;\n",
       "  }\n",
       "  th, td {\n",
       "    padding: 5px;\n",
       "  }\n",
       "  th {\n",
       "    text-align: left;\n",
       "  }\n",
       "</style><div class='table-result-container'><table class='table-result'><thead style='background-color: white'><tr><th>event_sum</th><th>event_status</th><th>first(event_date)</th><th>last(event_date)</th></tr></thead><tbody><tr><td>0</td><td>won</td><td>01-01-2024</td><td>03-01-2024</td></tr><tr><td>1</td><td>lost</td><td>04-01-2024</td><td>06-01-2024</td></tr><tr><td>2</td><td>won</td><td>07-01-2024</td><td>09-01-2024</td></tr></tbody></table></div>"
      ]
     },
     "metadata": {
      "application/vnd.databricks.v1+output": {
       "addedWidgets": {},
       "aggData": [],
       "aggError": "",
       "aggOverflow": false,
       "aggSchema": [],
       "aggSeriesLimitReached": false,
       "aggType": "",
       "arguments": {},
       "columnCustomDisplayInfos": {},
       "data": [
        [
         0,
         "won",
         "01-01-2024",
         "03-01-2024"
        ],
        [
         1,
         "lost",
         "04-01-2024",
         "06-01-2024"
        ],
        [
         2,
         "won",
         "07-01-2024",
         "09-01-2024"
        ]
       ],
       "datasetInfos": [],
       "dbfsResultPath": null,
       "isJsonSchema": true,
       "metadata": {},
       "overflow": false,
       "plotOptions": {
        "customPlotOptions": {},
        "displayType": "table",
        "pivotAggregation": null,
        "pivotColumns": null,
        "xColumns": null,
        "yColumns": null
       },
       "removedWidgets": [],
       "schema": [
        {
         "metadata": "{}",
         "name": "event_sum",
         "type": "\"long\""
        },
        {
         "metadata": "{}",
         "name": "event_status",
         "type": "\"string\""
        },
        {
         "metadata": "{}",
         "name": "first(event_date)",
         "type": "\"string\""
        },
        {
         "metadata": "{}",
         "name": "last(event_date)",
         "type": "\"string\""
        }
       ],
       "type": "table"
      }
     },
     "output_type": "display_data"
    }
   ],
   "source": [
    "df_final=df_evensum.groupBy(col(\"event_sum\"),\"event_status\").agg(first(col(\"event_date\")),last(col(\"event_date\")))\n",
    "display(df_final)"
   ]
  }
 ],
 "metadata": {
  "application/vnd.databricks.v1+notebook": {
   "dashboards": [],
   "environmentMetadata": null,
   "language": "python",
   "notebookMetadata": {
    "pythonIndentUnit": 4
   },
   "notebookName": "Lag function",
   "widgets": {}
  }
 },
 "nbformat": 4,
 "nbformat_minor": 0
}
