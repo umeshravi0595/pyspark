{
 "cells": [
  {
   "cell_type": "code",
   "execution_count": 0,
   "metadata": {
    "application/vnd.databricks.v1+cell": {
     "cellMetadata": {
      "byteLimit": 2048000,
      "rowLimit": 10000
     },
     "inputWidgets": {},
     "nuid": "b3999f87-d512-4991-a3c4-c5fa3a0d2199",
     "showTitle": false,
     "title": ""
    }
   },
   "outputs": [
    {
     "output_type": "stream",
     "name": "stdout",
     "output_type": "stream",
     "text": [
      "+----------+---------+---+------+------------------+\n|First_Name|Last_Name|Age|Gender|        Occupation|\n+----------+---------+---+------+------------------+\n|      John|      Doe| 35|  Male|          Engineer|\n|     Alice|    Smith| 28|Female|            Doctor|\n|   Michael|  Johnson| 42|  Male|           Teacher|\n|     Emily|    Brown| 31|Female|Software Developer|\n|     David|      Lee| 38|  Male| Marketing Manager|\n+----------+---------+---+------+------------------+\n\n"
     ]
    }
   ],
   "source": [
    "from pyspark.sql import SparkSession\n",
    "from pyspark.sql.types import StructType, StructField, StringType, IntegerType\n",
    "\n",
    "# Initialize SparkSession\n",
    "spark = SparkSession.builder \\\n",
    "    .appName(\"CreateDataFrame\") \\\n",
    "    .getOrCreate()\n",
    "\n",
    "# Sample data\n",
    "data = [\n",
    "    (\"John\", \"Doe\", 35, \"Male\", \"Engineer\"),\n",
    "    (\"Alice\", \"Smith\", 28, \"Female\", \"Doctor\"),\n",
    "    (\"Michael\", \"Johnson\", 42, \"Male\", \"Teacher\"),\n",
    "    (\"Emily\", \"Brown\", 31, \"Female\", \"Software Developer\"),\n",
    "    (\"David\", \"Lee\", 38, \"Male\", \"Marketing Manager\")\n",
    "]\n",
    "\n",
    "# Define schema\n",
    "schema = StructType([\n",
    "    StructField(\"First_Name\", StringType(), True),\n",
    "    StructField(\"Last_Name\", StringType(), True),\n",
    "    StructField(\"Age\", IntegerType(), True),\n",
    "    StructField(\"Gender\", StringType(), True),\n",
    "    StructField(\"Occupation\", StringType(), True)\n",
    "])\n",
    "\n",
    "# Create DataFrame\n",
    "df = spark.createDataFrame(data, schema=schema)\n",
    "\n",
    "# Show DataFrame\n",
    "df.show()"
   ]
  }
 ],
 "metadata": {
  "application/vnd.databricks.v1+notebook": {
   "dashboards": [],
   "environmentMetadata": null,
   "language": "python",
   "notebookMetadata": {
    "pythonIndentUnit": 4
   },
   "notebookName": "spark session",
   "widgets": {}
  }
 },
 "nbformat": 4,
 "nbformat_minor": 0
}
