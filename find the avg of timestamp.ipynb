{
 "cells": [
  {
   "cell_type": "code",
   "execution_count": 0,
   "metadata": {
    "application/vnd.databricks.v1+cell": {
     "cellMetadata": {
      "byteLimit": 2048000,
      "rowLimit": 10000
     },
     "inputWidgets": {},
     "nuid": "c2b4826d-7b8c-40c2-847b-6ded19369678",
     "showTitle": false,
     "title": ""
    }
   },
   "outputs": [
    {
     "output_type": "display_data",
     "data": {
      "text/html": [
       "<style scoped>\n",
       "  .table-result-container {\n",
       "    max-height: 300px;\n",
       "    overflow: auto;\n",
       "  }\n",
       "  table, th, td {\n",
       "    border: 1px solid black;\n",
       "    border-collapse: collapse;\n",
       "  }\n",
       "  th, td {\n",
       "    padding: 5px;\n",
       "  }\n",
       "  th {\n",
       "    text-align: left;\n",
       "  }\n",
       "</style><div class='table-result-container'><table class='table-result'><thead style='background-color: white'><tr><th>Machine_id</th><th>processid</th><th>activityid</th><th>timestamp</th></tr></thead><tbody><tr><td>0</td><td>0</td><td>start</td><td>0.712</td></tr><tr><td>0</td><td>0</td><td>end</td><td>1.52</td></tr><tr><td>0</td><td>1</td><td>start</td><td>3.14</td></tr><tr><td>0</td><td>1</td><td>end</td><td>4.12</td></tr><tr><td>1</td><td>0</td><td>start</td><td>0.55</td></tr><tr><td>1</td><td>0</td><td>end</td><td>1.55</td></tr><tr><td>1</td><td>1</td><td>start</td><td>0.43</td></tr><tr><td>1</td><td>1</td><td>end</td><td>1.42</td></tr><tr><td>2</td><td>0</td><td>start</td><td>4.1</td></tr><tr><td>2</td><td>0</td><td>end</td><td>4.512</td></tr><tr><td>2</td><td>1</td><td>start</td><td>2.5</td></tr><tr><td>2</td><td>1</td><td>end</td><td>5.0</td></tr></tbody></table></div>"
      ]
     },
     "metadata": {
      "application/vnd.databricks.v1+output": {
       "addedWidgets": {},
       "aggData": [],
       "aggError": "",
       "aggOverflow": false,
       "aggSchema": [],
       "aggSeriesLimitReached": false,
       "aggType": "",
       "arguments": {},
       "columnCustomDisplayInfos": {},
       "data": [
        [
         0,
         0,
         "start",
         0.712
        ],
        [
         0,
         0,
         "end",
         1.52
        ],
        [
         0,
         1,
         "start",
         3.14
        ],
        [
         0,
         1,
         "end",
         4.12
        ],
        [
         1,
         0,
         "start",
         0.55
        ],
        [
         1,
         0,
         "end",
         1.55
        ],
        [
         1,
         1,
         "start",
         0.43
        ],
        [
         1,
         1,
         "end",
         1.42
        ],
        [
         2,
         0,
         "start",
         4.1
        ],
        [
         2,
         0,
         "end",
         4.512
        ],
        [
         2,
         1,
         "start",
         2.5
        ],
        [
         2,
         1,
         "end",
         5.0
        ]
       ],
       "datasetInfos": [],
       "dbfsResultPath": null,
       "isJsonSchema": true,
       "metadata": {},
       "overflow": false,
       "plotOptions": {
        "customPlotOptions": {},
        "displayType": "table",
        "pivotAggregation": null,
        "pivotColumns": null,
        "xColumns": null,
        "yColumns": null
       },
       "removedWidgets": [],
       "schema": [
        {
         "metadata": "{}",
         "name": "Machine_id",
         "type": "\"long\""
        },
        {
         "metadata": "{}",
         "name": "processid",
         "type": "\"long\""
        },
        {
         "metadata": "{}",
         "name": "activityid",
         "type": "\"string\""
        },
        {
         "metadata": "{}",
         "name": "timestamp",
         "type": "\"double\""
        }
       ],
       "type": "table"
      }
     },
     "output_type": "display_data"
    }
   ],
   "source": [
    "from pyspark.sql.types import *\n",
    "data=[(0,0,'start',0.712),(0,0,'end',1.520),(0,1,'start',3.140),(0,1,'end',4.120),\n",
    "      (1,0,'start',0.550),(1,0,'end',1.550),(1,1,'start',0.430),(1,1,'end',1.420),\n",
    "      (2,0,'start',4.100),(2,0,'end',4.512),(2,1,'start',2.500),(2,1,'end',5.000)]\n",
    "schema=[\"Machine_id\",\"processid\",\"activityid\",\"timestamp\"]\n",
    "df1=spark.createDataFrame(data,schema)\n",
    "display(df1)\n"
   ]
  },
  {
   "cell_type": "code",
   "execution_count": 0,
   "metadata": {
    "application/vnd.databricks.v1+cell": {
     "cellMetadata": {
      "byteLimit": 2048000,
      "rowLimit": 10000
     },
     "inputWidgets": {},
     "nuid": "f194b5da-d885-433b-b3bc-bba22260e58a",
     "showTitle": false,
     "title": ""
    }
   },
   "outputs": [],
   "source": [
    "from pyspark.sql.functions import *"
   ]
  },
  {
   "cell_type": "code",
   "execution_count": 0,
   "metadata": {
    "application/vnd.databricks.v1+cell": {
     "cellMetadata": {
      "byteLimit": 2048000,
      "rowLimit": 10000
     },
     "inputWidgets": {},
     "nuid": "00bffbd2-d0cd-4162-a1af-b535e057c091",
     "showTitle": false,
     "title": ""
    }
   },
   "outputs": [
    {
     "output_type": "display_data",
     "data": {
      "text/html": [
       "<style scoped>\n",
       "  .table-result-container {\n",
       "    max-height: 300px;\n",
       "    overflow: auto;\n",
       "  }\n",
       "  table, th, td {\n",
       "    border: 1px solid black;\n",
       "    border-collapse: collapse;\n",
       "  }\n",
       "  th, td {\n",
       "    padding: 5px;\n",
       "  }\n",
       "  th {\n",
       "    text-align: left;\n",
       "  }\n",
       "</style><div class='table-result-container'><table class='table-result'><thead style='background-color: white'><tr><th>processid</th><th>Machine_id</th><th>max_timestamp</th><th>min_timestamp</th></tr></thead><tbody><tr><td>0</td><td>0</td><td>1.52</td><td>0.712</td></tr><tr><td>1</td><td>0</td><td>4.12</td><td>3.14</td></tr><tr><td>0</td><td>1</td><td>1.55</td><td>0.55</td></tr><tr><td>1</td><td>1</td><td>1.42</td><td>0.43</td></tr><tr><td>0</td><td>2</td><td>4.512</td><td>4.1</td></tr><tr><td>1</td><td>2</td><td>5.0</td><td>2.5</td></tr></tbody></table></div>"
      ]
     },
     "metadata": {
      "application/vnd.databricks.v1+output": {
       "addedWidgets": {},
       "aggData": [],
       "aggError": "",
       "aggOverflow": false,
       "aggSchema": [],
       "aggSeriesLimitReached": false,
       "aggType": "",
       "arguments": {},
       "columnCustomDisplayInfos": {},
       "data": [
        [
         0,
         0,
         1.52,
         0.712
        ],
        [
         1,
         0,
         4.12,
         3.14
        ],
        [
         0,
         1,
         1.55,
         0.55
        ],
        [
         1,
         1,
         1.42,
         0.43
        ],
        [
         0,
         2,
         4.512,
         4.1
        ],
        [
         1,
         2,
         5.0,
         2.5
        ]
       ],
       "datasetInfos": [],
       "dbfsResultPath": null,
       "isJsonSchema": true,
       "metadata": {},
       "overflow": false,
       "plotOptions": {
        "customPlotOptions": {},
        "displayType": "table",
        "pivotAggregation": null,
        "pivotColumns": null,
        "xColumns": null,
        "yColumns": null
       },
       "removedWidgets": [],
       "schema": [
        {
         "metadata": "{}",
         "name": "processid",
         "type": "\"long\""
        },
        {
         "metadata": "{}",
         "name": "Machine_id",
         "type": "\"long\""
        },
        {
         "metadata": "{}",
         "name": "max_timestamp",
         "type": "\"double\""
        },
        {
         "metadata": "{}",
         "name": "min_timestamp",
         "type": "\"double\""
        }
       ],
       "type": "table"
      }
     },
     "output_type": "display_data"
    }
   ],
   "source": [
    "df1_agg=df1.groupBy(col('processid'),col('Machine_id')).agg(max(col('timestamp')).alias('max_timestamp'),min(col('timestamp')).alias('min_timestamp')).orderBy(col('Machine_id'))\n",
    "display(df1_agg)"
   ]
  },
  {
   "cell_type": "code",
   "execution_count": 0,
   "metadata": {
    "application/vnd.databricks.v1+cell": {
     "cellMetadata": {
      "byteLimit": 2048000,
      "rowLimit": 10000
     },
     "inputWidgets": {},
     "nuid": "56b0090b-2f63-4eb9-9be6-28b687cbc498",
     "showTitle": false,
     "title": ""
    }
   },
   "outputs": [
    {
     "output_type": "display_data",
     "data": {
      "text/html": [
       "<style scoped>\n",
       "  .table-result-container {\n",
       "    max-height: 300px;\n",
       "    overflow: auto;\n",
       "  }\n",
       "  table, th, td {\n",
       "    border: 1px solid black;\n",
       "    border-collapse: collapse;\n",
       "  }\n",
       "  th, td {\n",
       "    padding: 5px;\n",
       "  }\n",
       "  th {\n",
       "    text-align: left;\n",
       "  }\n",
       "</style><div class='table-result-container'><table class='table-result'><thead style='background-color: white'><tr><th>processid</th><th>Machine_id</th><th>max_timestamp</th><th>min_timestamp</th><th>percentage</th></tr></thead><tbody><tr><td>0</td><td>0</td><td>1.52</td><td>0.712</td><td>0.808</td></tr><tr><td>1</td><td>0</td><td>4.12</td><td>3.14</td><td>0.98</td></tr><tr><td>0</td><td>1</td><td>1.55</td><td>0.55</td><td>1.0</td></tr><tr><td>1</td><td>1</td><td>1.42</td><td>0.43</td><td>0.99</td></tr><tr><td>0</td><td>2</td><td>4.512</td><td>4.1</td><td>0.4119999999999999</td></tr><tr><td>1</td><td>2</td><td>5.0</td><td>2.5</td><td>2.5</td></tr></tbody></table></div>"
      ]
     },
     "metadata": {
      "application/vnd.databricks.v1+output": {
       "addedWidgets": {},
       "aggData": [],
       "aggError": "",
       "aggOverflow": false,
       "aggSchema": [],
       "aggSeriesLimitReached": false,
       "aggType": "",
       "arguments": {},
       "columnCustomDisplayInfos": {},
       "data": [
        [
         0,
         0,
         1.52,
         0.712,
         0.808
        ],
        [
         1,
         0,
         4.12,
         3.14,
         0.98
        ],
        [
         0,
         1,
         1.55,
         0.55,
         1.0
        ],
        [
         1,
         1,
         1.42,
         0.43,
         0.99
        ],
        [
         0,
         2,
         4.512,
         4.1,
         0.4119999999999999
        ],
        [
         1,
         2,
         5.0,
         2.5,
         2.5
        ]
       ],
       "datasetInfos": [],
       "dbfsResultPath": null,
       "isJsonSchema": true,
       "metadata": {},
       "overflow": false,
       "plotOptions": {
        "customPlotOptions": {},
        "displayType": "table",
        "pivotAggregation": null,
        "pivotColumns": null,
        "xColumns": null,
        "yColumns": null
       },
       "removedWidgets": [],
       "schema": [
        {
         "metadata": "{}",
         "name": "processid",
         "type": "\"long\""
        },
        {
         "metadata": "{}",
         "name": "Machine_id",
         "type": "\"long\""
        },
        {
         "metadata": "{}",
         "name": "max_timestamp",
         "type": "\"double\""
        },
        {
         "metadata": "{}",
         "name": "min_timestamp",
         "type": "\"double\""
        },
        {
         "metadata": "{}",
         "name": "percentage",
         "type": "\"double\""
        }
       ],
       "type": "table"
      }
     },
     "output_type": "display_data"
    }
   ],
   "source": [
    "df_final1=df1_agg.withColumn('percentage',(col('max_timestamp')-col('min_timestamp')))\n",
    "display(df_final1)"
   ]
  },
  {
   "cell_type": "code",
   "execution_count": 0,
   "metadata": {
    "application/vnd.databricks.v1+cell": {
     "cellMetadata": {
      "byteLimit": 2048000,
      "rowLimit": 10000
     },
     "inputWidgets": {},
     "nuid": "d9a039bb-1b1e-4e6a-b02e-3f31e620abdc",
     "showTitle": false,
     "title": ""
    }
   },
   "outputs": [],
   "source": [
    "df_final1=df_final1.select('processid','Machine_id','Percentage')"
   ]
  },
  {
   "cell_type": "code",
   "execution_count": 0,
   "metadata": {
    "application/vnd.databricks.v1+cell": {
     "cellMetadata": {
      "byteLimit": 2048000,
      "rowLimit": 10000
     },
     "inputWidgets": {},
     "nuid": "19cae736-3e0f-4b86-9c90-ad382ee14fbe",
     "showTitle": false,
     "title": ""
    }
   },
   "outputs": [
    {
     "output_type": "display_data",
     "data": {
      "text/html": [
       "<style scoped>\n",
       "  .table-result-container {\n",
       "    max-height: 300px;\n",
       "    overflow: auto;\n",
       "  }\n",
       "  table, th, td {\n",
       "    border: 1px solid black;\n",
       "    border-collapse: collapse;\n",
       "  }\n",
       "  th, td {\n",
       "    padding: 5px;\n",
       "  }\n",
       "  th {\n",
       "    text-align: left;\n",
       "  }\n",
       "</style><div class='table-result-container'><table class='table-result'><thead style='background-color: white'><tr><th>Machine_id</th><th>(sum(percentage) / 2)</th></tr></thead><tbody><tr><td>0</td><td>0.894</td></tr><tr><td>1</td><td>0.995</td></tr><tr><td>2</td><td>1.456</td></tr></tbody></table></div>"
      ]
     },
     "metadata": {
      "application/vnd.databricks.v1+output": {
       "addedWidgets": {},
       "aggData": [],
       "aggError": "",
       "aggOverflow": false,
       "aggSchema": [],
       "aggSeriesLimitReached": false,
       "aggType": "",
       "arguments": {},
       "columnCustomDisplayInfos": {},
       "data": [
        [
         0,
         0.894
        ],
        [
         1,
         0.995
        ],
        [
         2,
         1.456
        ]
       ],
       "datasetInfos": [],
       "dbfsResultPath": null,
       "isJsonSchema": true,
       "metadata": {},
       "overflow": false,
       "plotOptions": {
        "customPlotOptions": {},
        "displayType": "table",
        "pivotAggregation": null,
        "pivotColumns": null,
        "xColumns": null,
        "yColumns": null
       },
       "removedWidgets": [],
       "schema": [
        {
         "metadata": "{}",
         "name": "Machine_id",
         "type": "\"long\""
        },
        {
         "metadata": "{}",
         "name": "(sum(percentage) / 2)",
         "type": "\"double\""
        }
       ],
       "type": "table"
      }
     },
     "output_type": "display_data"
    }
   ],
   "source": [
    "df_final2=df_final1.groupBy(col('Machine_id')).agg(sum(col('percentage'))/2)\n",
    "display(df_final2)"
   ]
  }
 ],
 "metadata": {
  "application/vnd.databricks.v1+notebook": {
   "dashboards": [],
   "environmentMetadata": null,
   "language": "python",
   "notebookMetadata": {
    "pythonIndentUnit": 4
   },
   "notebookName": "find the avg of timestamp",
   "widgets": {}
  }
 },
 "nbformat": 4,
 "nbformat_minor": 0
}
