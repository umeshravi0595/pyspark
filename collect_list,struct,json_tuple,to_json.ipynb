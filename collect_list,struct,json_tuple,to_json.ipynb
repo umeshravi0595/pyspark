{
 "cells": [
  {
   "cell_type": "code",
   "execution_count": 0,
   "metadata": {
    "application/vnd.databricks.v1+cell": {
     "cellMetadata": {
      "byteLimit": 2048000,
      "rowLimit": 10000
     },
     "inputWidgets": {},
     "nuid": "e64f8eca-91ab-4c7d-8fb2-c32acb8ec4c5",
     "showTitle": false,
     "title": ""
    }
   },
   "outputs": [
    {
     "output_type": "stream",
     "name": "stdout",
     "output_type": "stream",
     "text": [
      "+--------+------------+------+\n|name    |item        |weight|\n+--------+------------+------+\n|john    |tomato      |2     |\n|𝚋𝚒𝚕𝚕|𝚊𝚙𝚙𝚕𝚎  |2     |\n|john    |𝚋𝚊𝚗𝚊𝚗𝚊|2     |\n|john    |tomato      |3     |\n|𝚋𝚒𝚕𝚕|𝚝𝚊𝚌𝚘    |2     |\n|𝚋𝚒𝚕𝚕|𝚊𝚙𝚙𝚕𝚎  |2     |\n+--------+------------+------+\n\n"
     ]
    }
   ],
   "source": [
    "data = [\n",
    "    (\"john\", \"tomato\", 2),\n",
    "    (\"𝚋𝚒𝚕𝚕\", \"𝚊𝚙𝚙𝚕𝚎\", 2),\n",
    "    (\"john\", \"𝚋𝚊𝚗𝚊𝚗𝚊\", 2),\n",
    "    (\"john\", \"tomato\", 3),\n",
    "    (\"𝚋𝚒𝚕𝚕\", \"𝚝𝚊𝚌𝚘\", 2),\n",
    "    (\"𝚋𝚒𝚕𝚕\", \"𝚊𝚙𝚙𝚕𝚎\", 2),\n",
    "]\n",
    "schema = \"name string,item string,weight int\"\n",
    "df = spark.createDataFrame(data, schema)\n",
    "df.show(truncate=False)"
   ]
  },
  {
   "cell_type": "code",
   "execution_count": 0,
   "metadata": {
    "application/vnd.databricks.v1+cell": {
     "cellMetadata": {
      "byteLimit": 2048000,
      "rowLimit": 10000
     },
     "inputWidgets": {},
     "nuid": "9d1dfc94-4375-44e4-8ea2-621a1875062d",
     "showTitle": false,
     "title": ""
    }
   },
   "outputs": [
    {
     "output_type": "display_data",
     "data": {
      "text/html": [
       "<style scoped>\n",
       "  .table-result-container {\n",
       "    max-height: 300px;\n",
       "    overflow: auto;\n",
       "  }\n",
       "  table, th, td {\n",
       "    border: 1px solid black;\n",
       "    border-collapse: collapse;\n",
       "  }\n",
       "  th, td {\n",
       "    padding: 5px;\n",
       "  }\n",
       "  th {\n",
       "    text-align: left;\n",
       "  }\n",
       "</style><div class='table-result-container'><table class='table-result'><thead style='background-color: white'><tr><th>name</th><th>item</th><th>weight</th></tr></thead><tbody><tr><td>john</td><td>tomato</td><td>5</td></tr><tr><td>𝚋𝚒𝚕𝚕</td><td>𝚊𝚙𝚙𝚕𝚎</td><td>4</td></tr><tr><td>john</td><td>𝚋𝚊𝚗𝚊𝚗𝚊</td><td>2</td></tr><tr><td>𝚋𝚒𝚕𝚕</td><td>𝚝𝚊𝚌𝚘</td><td>2</td></tr></tbody></table></div>"
      ]
     },
     "metadata": {
      "application/vnd.databricks.v1+output": {
       "addedWidgets": {},
       "aggData": [],
       "aggError": "",
       "aggOverflow": false,
       "aggSchema": [],
       "aggSeriesLimitReached": false,
       "aggType": "",
       "arguments": {},
       "columnCustomDisplayInfos": {},
       "data": [
        [
         "john",
         "tomato",
         5
        ],
        [
         "𝚋𝚒𝚕𝚕",
         "𝚊𝚙𝚙𝚕𝚎",
         4
        ],
        [
         "john",
         "𝚋𝚊𝚗𝚊𝚗𝚊",
         2
        ],
        [
         "𝚋𝚒𝚕𝚕",
         "𝚝𝚊𝚌𝚘",
         2
        ]
       ],
       "datasetInfos": [],
       "dbfsResultPath": null,
       "isJsonSchema": true,
       "metadata": {},
       "overflow": false,
       "plotOptions": {
        "customPlotOptions": {},
        "displayType": "table",
        "pivotAggregation": null,
        "pivotColumns": null,
        "xColumns": null,
        "yColumns": null
       },
       "removedWidgets": [],
       "schema": [
        {
         "metadata": "{}",
         "name": "name",
         "type": "\"string\""
        },
        {
         "metadata": "{}",
         "name": "item",
         "type": "\"string\""
        },
        {
         "metadata": "{}",
         "name": "weight",
         "type": "\"long\""
        }
       ],
       "type": "table"
      }
     },
     "output_type": "display_data"
    }
   ],
   "source": [
    "from pyspark.sql.functions import *\n",
    "df_agg=df.groupBy(col('name'),col('item')).agg(sum(col('weight')).alias('weight'))\n",
    "display(df_agg)"
   ]
  },
  {
   "cell_type": "code",
   "execution_count": 0,
   "metadata": {
    "application/vnd.databricks.v1+cell": {
     "cellMetadata": {
      "byteLimit": 2048000,
      "rowLimit": 10000
     },
     "inputWidgets": {},
     "nuid": "73b648fb-72de-4470-ab1e-71711a6c638a",
     "showTitle": false,
     "title": ""
    }
   },
   "outputs": [
    {
     "output_type": "display_data",
     "data": {
      "text/html": [
       "<style scoped>\n",
       "  .table-result-container {\n",
       "    max-height: 300px;\n",
       "    overflow: auto;\n",
       "  }\n",
       "  table, th, td {\n",
       "    border: 1px solid black;\n",
       "    border-collapse: collapse;\n",
       "  }\n",
       "  th, td {\n",
       "    padding: 5px;\n",
       "  }\n",
       "  th {\n",
       "    text-align: left;\n",
       "  }\n",
       "</style><div class='table-result-container'><table class='table-result'><thead style='background-color: white'><tr><th>name</th><th>items</th></tr></thead><tbody><tr><td>𝚋𝚒𝚕𝚕</td><td>List(List(𝚊𝚙𝚙𝚕𝚎, 4), List(𝚝𝚊𝚌𝚘, 2))</td></tr><tr><td>john</td><td>List(List(tomato, 5), List(𝚋𝚊𝚗𝚊𝚗𝚊, 2))</td></tr></tbody></table></div>"
      ]
     },
     "metadata": {
      "application/vnd.databricks.v1+output": {
       "addedWidgets": {},
       "aggData": [],
       "aggError": "",
       "aggOverflow": false,
       "aggSchema": [],
       "aggSeriesLimitReached": false,
       "aggType": "",
       "arguments": {},
       "columnCustomDisplayInfos": {},
       "data": [
        [
         "𝚋𝚒𝚕𝚕",
         [
          [
           "𝚊𝚙𝚙𝚕𝚎",
           4
          ],
          [
           "𝚝𝚊𝚌𝚘",
           2
          ]
         ]
        ],
        [
         "john",
         [
          [
           "tomato",
           5
          ],
          [
           "𝚋𝚊𝚗𝚊𝚗𝚊",
           2
          ]
         ]
        ]
       ],
       "datasetInfos": [],
       "dbfsResultPath": null,
       "isJsonSchema": true,
       "metadata": {},
       "overflow": false,
       "plotOptions": {
        "customPlotOptions": {},
        "displayType": "table",
        "pivotAggregation": null,
        "pivotColumns": null,
        "xColumns": null,
        "yColumns": null
       },
       "removedWidgets": [],
       "schema": [
        {
         "metadata": "{}",
         "name": "name",
         "type": "\"string\""
        },
        {
         "metadata": "{}",
         "name": "items",
         "type": "{\"type\":\"array\",\"elementType\":{\"type\":\"struct\",\"fields\":[{\"name\":\"item\",\"type\":\"string\",\"nullable\":true,\"metadata\":{}},{\"name\":\"weight\",\"type\":\"long\",\"nullable\":true,\"metadata\":{}}]},\"containsNull\":false}"
        }
       ],
       "type": "table"
      }
     },
     "output_type": "display_data"
    }
   ],
   "source": [
    "from pyspark.sql.functions import *\n",
    "df_agg1 = df_agg.groupBy(col(\"name\")) \\\n",
    "            .agg(collect_list(struct(col(\"item\"), col(\"weight\"))).alias(\"items\"))\n",
    "\n",
    "display(df_agg1)"
   ]
  },
  {
   "cell_type": "code",
   "execution_count": 0,
   "metadata": {
    "application/vnd.databricks.v1+cell": {
     "cellMetadata": {
      "byteLimit": 2048000,
      "rowLimit": 10000
     },
     "inputWidgets": {},
     "nuid": "385ba27b-5834-4fea-bff6-13efe098d689",
     "showTitle": false,
     "title": ""
    }
   },
   "outputs": [
    {
     "output_type": "stream",
     "name": "stdout",
     "output_type": "stream",
     "text": [
      "+--------+-----------------+\n|name    |props            |\n+--------+-----------------+\n|𝚋𝚒𝚕𝚕|{𝚊𝚙𝚙𝚕𝚎, 4}  |\n|𝚋𝚒𝚕𝚕|{𝚝𝚊𝚌𝚘, 2}    |\n|john    |{tomato, 5}      |\n|john    |{𝚋𝚊𝚗𝚊𝚗𝚊, 2}|\n+--------+-----------------+\n\n"
     ]
    }
   ],
   "source": [
    "df_exploded = df_agg1.select(\"name\", explode(\"items\").alias(\"props\"))\n",
    "df_exploded.show(truncate=False)"
   ]
  },
  {
   "cell_type": "code",
   "execution_count": 0,
   "metadata": {
    "application/vnd.databricks.v1+cell": {
     "cellMetadata": {
      "byteLimit": 2048000,
      "rowLimit": 10000
     },
     "inputWidgets": {},
     "nuid": "81a77bf0-10ed-4cde-a056-6625e0840292",
     "showTitle": false,
     "title": ""
    }
   },
   "outputs": [
    {
     "output_type": "display_data",
     "data": {
      "text/html": [
       "<style scoped>\n",
       "  .table-result-container {\n",
       "    max-height: 300px;\n",
       "    overflow: auto;\n",
       "  }\n",
       "  table, th, td {\n",
       "    border: 1px solid black;\n",
       "    border-collapse: collapse;\n",
       "  }\n",
       "  th, td {\n",
       "    padding: 5px;\n",
       "  }\n",
       "  th {\n",
       "    text-align: left;\n",
       "  }\n",
       "</style><div class='table-result-container'><table class='table-result'><thead style='background-color: white'><tr><th>name</th><th>props</th><th>item</th><th>weight</th></tr></thead><tbody><tr><td>𝚋𝚒𝚕𝚕</td><td>List(𝚊𝚙𝚙𝚕𝚎, 4)</td><td>𝚊𝚙𝚙𝚕𝚎</td><td>4</td></tr><tr><td>𝚋𝚒𝚕𝚕</td><td>List(𝚝𝚊𝚌𝚘, 2)</td><td>𝚝𝚊𝚌𝚘</td><td>2</td></tr><tr><td>john</td><td>List(tomato, 5)</td><td>tomato</td><td>5</td></tr><tr><td>john</td><td>List(𝚋𝚊𝚗𝚊𝚗𝚊, 2)</td><td>𝚋𝚊𝚗𝚊𝚗𝚊</td><td>2</td></tr></tbody></table></div>"
      ]
     },
     "metadata": {
      "application/vnd.databricks.v1+output": {
       "addedWidgets": {},
       "aggData": [],
       "aggError": "",
       "aggOverflow": false,
       "aggSchema": [],
       "aggSeriesLimitReached": false,
       "aggType": "",
       "arguments": {},
       "columnCustomDisplayInfos": {},
       "data": [
        [
         "𝚋𝚒𝚕𝚕",
         [
          "𝚊𝚙𝚙𝚕𝚎",
          4
         ],
         "𝚊𝚙𝚙𝚕𝚎",
         4
        ],
        [
         "𝚋𝚒𝚕𝚕",
         [
          "𝚝𝚊𝚌𝚘",
          2
         ],
         "𝚝𝚊𝚌𝚘",
         2
        ],
        [
         "john",
         [
          "tomato",
          5
         ],
         "tomato",
         5
        ],
        [
         "john",
         [
          "𝚋𝚊𝚗𝚊𝚗𝚊",
          2
         ],
         "𝚋𝚊𝚗𝚊𝚗𝚊",
         2
        ]
       ],
       "datasetInfos": [],
       "dbfsResultPath": null,
       "isJsonSchema": true,
       "metadata": {},
       "overflow": false,
       "plotOptions": {
        "customPlotOptions": {},
        "displayType": "table",
        "pivotAggregation": null,
        "pivotColumns": null,
        "xColumns": null,
        "yColumns": null
       },
       "removedWidgets": [],
       "schema": [
        {
         "metadata": "{}",
         "name": "name",
         "type": "\"string\""
        },
        {
         "metadata": "{}",
         "name": "props",
         "type": "{\"type\":\"struct\",\"fields\":[{\"name\":\"item\",\"type\":\"string\",\"nullable\":true,\"metadata\":{}},{\"name\":\"weight\",\"type\":\"long\",\"nullable\":true,\"metadata\":{}}]}"
        },
        {
         "metadata": "{}",
         "name": "item",
         "type": "\"string\""
        },
        {
         "metadata": "{}",
         "name": "weight",
         "type": "\"long\""
        }
       ],
       "type": "table"
      }
     },
     "output_type": "display_data"
    }
   ],
   "source": [
    "df_split=df_exploded.withColumn(\"item\",col(\"props.item\"))\\\n",
    "                    .withColumn(\"weight\",col(\"props.weight\"))\n",
    "display(df_split)"
   ]
  },
  {
   "cell_type": "code",
   "execution_count": 0,
   "metadata": {
    "application/vnd.databricks.v1+cell": {
     "cellMetadata": {},
     "inputWidgets": {},
     "nuid": "173cf29a-022f-452d-b62a-ed21e2178684",
     "showTitle": false,
     "title": ""
    }
   },
   "outputs": [],
   "source": []
  },
  {
   "cell_type": "code",
   "execution_count": 0,
   "metadata": {
    "application/vnd.databricks.v1+cell": {
     "cellMetadata": {
      "byteLimit": 2048000,
      "rowLimit": 10000
     },
     "inputWidgets": {},
     "nuid": "1af554ce-4bf5-467f-bb90-99d0c93ca219",
     "showTitle": false,
     "title": ""
    }
   },
   "outputs": [
    {
     "output_type": "stream",
     "name": "stdout",
     "output_type": "stream",
     "text": [
      "+--------+----------------------------------+\n|name    |props                             |\n+--------+----------------------------------+\n|𝚋𝚒𝚕𝚕|{\"item\":\"𝚊𝚙𝚙𝚕𝚎\",\"weight\":4}  |\n|𝚋𝚒𝚕𝚕|{\"item\":\"𝚝𝚊𝚌𝚘\",\"weight\":2}    |\n|john    |{\"item\":\"tomato\",\"weight\":5}      |\n|john    |{\"item\":\"𝚋𝚊𝚗𝚊𝚗𝚊\",\"weight\":2}|\n+--------+----------------------------------+\n\n"
     ]
    }
   ],
   "source": [
    "df_json=df_exploded.select(\"name\",to_json(col(\"props\")).alias(\"props\"))\n",
    "df_json.show(truncate=False)"
   ]
  },
  {
   "cell_type": "code",
   "execution_count": 0,
   "metadata": {
    "application/vnd.databricks.v1+cell": {
     "cellMetadata": {
      "byteLimit": 2048000,
      "rowLimit": 10000
     },
     "inputWidgets": {},
     "nuid": "730f65a5-e380-477f-846b-b1152ddfe763",
     "showTitle": false,
     "title": ""
    }
   },
   "outputs": [
    {
     "output_type": "stream",
     "name": "stdout",
     "output_type": "stream",
     "text": [
      "+--------+------------+------+\n|name    |item        |weight|\n+--------+------------+------+\n|𝚋𝚒𝚕𝚕|𝚊𝚙𝚙𝚕𝚎  |4     |\n|𝚋𝚒𝚕𝚕|𝚝𝚊𝚌𝚘    |2     |\n|john    |tomato      |5     |\n|john    |𝚋𝚊𝚗𝚊𝚗𝚊|2     |\n+--------+------------+------+\n\n"
     ]
    },
    {
     "output_type": "display_data",
     "data": {
      "text/html": [
       "<style scoped>\n",
       "  .table-result-container {\n",
       "    max-height: 300px;\n",
       "    overflow: auto;\n",
       "  }\n",
       "  table, th, td {\n",
       "    border: 1px solid black;\n",
       "    border-collapse: collapse;\n",
       "  }\n",
       "  th, td {\n",
       "    padding: 5px;\n",
       "  }\n",
       "  th {\n",
       "    text-align: left;\n",
       "  }\n",
       "</style><div class='table-result-container'><table class='table-result'><thead style='background-color: white'><tr><th>name</th><th>item</th><th>weight</th></tr></thead><tbody><tr><td>𝚋𝚒𝚕𝚕</td><td>𝚊𝚙𝚙𝚕𝚎</td><td>4</td></tr><tr><td>𝚋𝚒𝚕𝚕</td><td>𝚝𝚊𝚌𝚘</td><td>2</td></tr><tr><td>john</td><td>tomato</td><td>5</td></tr><tr><td>john</td><td>𝚋𝚊𝚗𝚊𝚗𝚊</td><td>2</td></tr></tbody></table></div>"
      ]
     },
     "metadata": {
      "application/vnd.databricks.v1+output": {
       "addedWidgets": {},
       "aggData": [],
       "aggError": "",
       "aggOverflow": false,
       "aggSchema": [],
       "aggSeriesLimitReached": false,
       "aggType": "",
       "arguments": {},
       "columnCustomDisplayInfos": {},
       "data": [
        [
         "𝚋𝚒𝚕𝚕",
         "𝚊𝚙𝚙𝚕𝚎",
         "4"
        ],
        [
         "𝚋𝚒𝚕𝚕",
         "𝚝𝚊𝚌𝚘",
         "2"
        ],
        [
         "john",
         "tomato",
         "5"
        ],
        [
         "john",
         "𝚋𝚊𝚗𝚊𝚗𝚊",
         "2"
        ]
       ],
       "datasetInfos": [],
       "dbfsResultPath": null,
       "isJsonSchema": true,
       "metadata": {},
       "overflow": false,
       "plotOptions": {
        "customPlotOptions": {},
        "displayType": "table",
        "pivotAggregation": null,
        "pivotColumns": null,
        "xColumns": null,
        "yColumns": null
       },
       "removedWidgets": [],
       "schema": [
        {
         "metadata": "{}",
         "name": "name",
         "type": "\"string\""
        },
        {
         "metadata": "{}",
         "name": "item",
         "type": "\"string\""
        },
        {
         "metadata": "{}",
         "name": "weight",
         "type": "\"string\""
        }
       ],
       "type": "table"
      }
     },
     "output_type": "display_data"
    }
   ],
   "source": [
    "df_tuple=df_json.select(\"name\",json_tuple(col(\"props\"),\"item\",\"weight\").alias(\"item\",\"weight\"))\n",
    "df_tuple.show(truncate=False)\n",
    "display(df_tuple)"
   ]
  },
  {
   "cell_type": "code",
   "execution_count": 0,
   "metadata": {
    "application/vnd.databricks.v1+cell": {
     "cellMetadata": {
      "byteLimit": 2048000,
      "rowLimit": 10000
     },
     "inputWidgets": {},
     "nuid": "8ac9e6b6-6752-4309-9bf6-0b290a3426b5",
     "showTitle": false,
     "title": ""
    }
   },
   "outputs": [
    {
     "output_type": "stream",
     "name": "stdout",
     "output_type": "stream",
     "text": [
      "+--------+------+----------+------------+--------+\n|name    |tomato|𝚊𝚙𝚙𝚕𝚎|𝚋𝚊𝚗𝚊𝚗𝚊|𝚝𝚊𝚌𝚘|\n+--------+------+----------+------------+--------+\n|john    |5     |null      |2           |null    |\n|𝚋𝚒𝚕𝚕|null  |4         |null        |2       |\n+--------+------+----------+------------+--------+\n\n"
     ]
    },
    {
     "output_type": "display_data",
     "data": {
      "text/html": [
       "<style scoped>\n",
       "  .table-result-container {\n",
       "    max-height: 300px;\n",
       "    overflow: auto;\n",
       "  }\n",
       "  table, th, td {\n",
       "    border: 1px solid black;\n",
       "    border-collapse: collapse;\n",
       "  }\n",
       "  th, td {\n",
       "    padding: 5px;\n",
       "  }\n",
       "  th {\n",
       "    text-align: left;\n",
       "  }\n",
       "</style><div class='table-result-container'><table class='table-result'><thead style='background-color: white'><tr><th>name</th><th>tomato</th><th>𝚊𝚙𝚙𝚕𝚎</th><th>𝚋𝚊𝚗𝚊𝚗𝚊</th><th>𝚝𝚊𝚌𝚘</th></tr></thead><tbody><tr><td>john</td><td>5</td><td>null</td><td>2</td><td>null</td></tr><tr><td>𝚋𝚒𝚕𝚕</td><td>null</td><td>4</td><td>null</td><td>2</td></tr></tbody></table></div>"
      ]
     },
     "metadata": {
      "application/vnd.databricks.v1+output": {
       "addedWidgets": {},
       "aggData": [],
       "aggError": "",
       "aggOverflow": false,
       "aggSchema": [],
       "aggSeriesLimitReached": false,
       "aggType": "",
       "arguments": {},
       "columnCustomDisplayInfos": {},
       "data": [
        [
         "john",
         "5",
         null,
         "2",
         null
        ],
        [
         "𝚋𝚒𝚕𝚕",
         null,
         "4",
         null,
         "2"
        ]
       ],
       "datasetInfos": [],
       "dbfsResultPath": null,
       "isJsonSchema": true,
       "metadata": {},
       "overflow": false,
       "plotOptions": {
        "customPlotOptions": {},
        "displayType": "table",
        "pivotAggregation": null,
        "pivotColumns": null,
        "xColumns": null,
        "yColumns": null
       },
       "removedWidgets": [],
       "schema": [
        {
         "metadata": "{}",
         "name": "name",
         "type": "\"string\""
        },
        {
         "metadata": "{}",
         "name": "tomato",
         "type": "\"string\""
        },
        {
         "metadata": "{}",
         "name": "𝚊𝚙𝚙𝚕𝚎",
         "type": "\"string\""
        },
        {
         "metadata": "{}",
         "name": "𝚋𝚊𝚗𝚊𝚗𝚊",
         "type": "\"string\""
        },
        {
         "metadata": "{}",
         "name": "𝚝𝚊𝚌𝚘",
         "type": "\"string\""
        }
       ],
       "type": "table"
      }
     },
     "output_type": "display_data"
    }
   ],
   "source": [
    "df_pivot=df_tuple.groupBy(\"name\").pivot(\"item\").agg(first(\"weight\").alias(\"weight\"))\n",
    "df_pivot.show(truncate=False)\n",
    "display(df_pivot)\n"
   ]
  },
  {
   "cell_type": "code",
   "execution_count": 0,
   "metadata": {
    "application/vnd.databricks.v1+cell": {
     "cellMetadata": {
      "byteLimit": 2048000,
      "rowLimit": 10000
     },
     "inputWidgets": {},
     "nuid": "df885a91-0e31-4db4-863d-74b941f10120",
     "showTitle": false,
     "title": ""
    }
   },
   "outputs": [
    {
     "output_type": "stream",
     "name": "stdout",
     "output_type": "stream",
     "text": [
      "+--------+------+----------+------------+--------+\n|name    |tomato|𝚊𝚙𝚙𝚕𝚎|𝚋𝚊𝚗𝚊𝚗𝚊|𝚝𝚊𝚌𝚘|\n+--------+------+----------+------------+--------+\n|𝚋𝚒𝚕𝚕|[]    |[4]       |[]          |[2]     |\n|john    |[5]   |[]        |[2]         |[]      |\n+--------+------+----------+------------+--------+\n\n"
     ]
    },
    {
     "output_type": "display_data",
     "data": {
      "text/html": [
       "<style scoped>\n",
       "  .table-result-container {\n",
       "    max-height: 300px;\n",
       "    overflow: auto;\n",
       "  }\n",
       "  table, th, td {\n",
       "    border: 1px solid black;\n",
       "    border-collapse: collapse;\n",
       "  }\n",
       "  th, td {\n",
       "    padding: 5px;\n",
       "  }\n",
       "  th {\n",
       "    text-align: left;\n",
       "  }\n",
       "</style><div class='table-result-container'><table class='table-result'><thead style='background-color: white'><tr><th>name</th><th>tomato</th><th>𝚊𝚙𝚙𝚕𝚎</th><th>𝚋𝚊𝚗𝚊𝚗𝚊</th><th>𝚝𝚊𝚌𝚘</th></tr></thead><tbody><tr><td>𝚋𝚒𝚕𝚕</td><td>List()</td><td>List(4)</td><td>List()</td><td>List(2)</td></tr><tr><td>john</td><td>List(5)</td><td>List()</td><td>List(2)</td><td>List()</td></tr></tbody></table></div>"
      ]
     },
     "metadata": {
      "application/vnd.databricks.v1+output": {
       "addedWidgets": {},
       "aggData": [],
       "aggError": "",
       "aggOverflow": false,
       "aggSchema": [],
       "aggSeriesLimitReached": false,
       "aggType": "",
       "arguments": {},
       "columnCustomDisplayInfos": {},
       "data": [
        [
         "𝚋𝚒𝚕𝚕",
         [],
         [
          "4"
         ],
         [],
         [
          "2"
         ]
        ],
        [
         "john",
         [
          "5"
         ],
         [],
         [
          "2"
         ],
         []
        ]
       ],
       "datasetInfos": [],
       "dbfsResultPath": null,
       "isJsonSchema": true,
       "metadata": {},
       "overflow": false,
       "plotOptions": {
        "customPlotOptions": {},
        "displayType": "table",
        "pivotAggregation": null,
        "pivotColumns": null,
        "xColumns": null,
        "yColumns": null
       },
       "removedWidgets": [],
       "schema": [
        {
         "metadata": "{}",
         "name": "name",
         "type": "\"string\""
        },
        {
         "metadata": "{}",
         "name": "tomato",
         "type": "{\"type\":\"array\",\"elementType\":\"string\",\"containsNull\":false}"
        },
        {
         "metadata": "{}",
         "name": "𝚊𝚙𝚙𝚕𝚎",
         "type": "{\"type\":\"array\",\"elementType\":\"string\",\"containsNull\":false}"
        },
        {
         "metadata": "{}",
         "name": "𝚋𝚊𝚗𝚊𝚗𝚊",
         "type": "{\"type\":\"array\",\"elementType\":\"string\",\"containsNull\":false}"
        },
        {
         "metadata": "{}",
         "name": "𝚝𝚊𝚌𝚘",
         "type": "{\"type\":\"array\",\"elementType\":\"string\",\"containsNull\":false}"
        }
       ],
       "type": "table"
      }
     },
     "output_type": "display_data"
    }
   ],
   "source": [
    "df_pivot=df_tuple.groupBy(\"name\").pivot(\"item\").agg(collect_list(\"weight\").alias(\"weight\"))\n",
    "df_pivot.show(truncate=False)\n",
    "display(df_pivot)"
   ]
  }
 ],
 "metadata": {
  "application/vnd.databricks.v1+notebook": {
   "dashboards": [],
   "environmentMetadata": null,
   "language": "python",
   "notebookMetadata": {
    "pythonIndentUnit": 4
   },
   "notebookName": "collect_list,struct,json_tuple,to_json",
   "widgets": {}
  }
 },
 "nbformat": 4,
 "nbformat_minor": 0
}
