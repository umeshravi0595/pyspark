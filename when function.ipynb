{
 "cells": [
  {
   "cell_type": "code",
   "execution_count": 0,
   "metadata": {
    "application/vnd.databricks.v1+cell": {
     "cellMetadata": {
      "byteLimit": 2048000,
      "rowLimit": 10000
     },
     "inputWidgets": {},
     "nuid": "105f944c-21e7-4670-ae7a-1b1d79d7414d",
     "showTitle": false,
     "title": ""
    }
   },
   "outputs": [
    {
     "output_type": "display_data",
     "data": {
      "text/html": [
       "<style scoped>\n",
       "  .table-result-container {\n",
       "    max-height: 300px;\n",
       "    overflow: auto;\n",
       "  }\n",
       "  table, th, td {\n",
       "    border: 1px solid black;\n",
       "    border-collapse: collapse;\n",
       "  }\n",
       "  th, td {\n",
       "    padding: 5px;\n",
       "  }\n",
       "  th {\n",
       "    text-align: left;\n",
       "  }\n",
       "</style><div class='table-result-container'><table class='table-result'><thead style='background-color: white'><tr><th>deptname</th><th>gender</th></tr></thead><tbody><tr><td>Finance</td><td>Female</td></tr><tr><td>Sales</td><td>Male</td></tr><tr><td>HR</td><td>Female</td></tr><tr><td>Finance</td><td>Male</td></tr><tr><td>Engineering</td><td>Female</td></tr><tr><td>Finance</td><td>Female</td></tr><tr><td>Marketing</td><td>Male</td></tr><tr><td>Finance</td><td>Male</td></tr><tr><td>Marketing</td><td>Female</td></tr><tr><td>Engineering</td><td>Female</td></tr><tr><td>Finance</td><td>Female</td></tr><tr><td>Finance</td><td>Male</td></tr><tr><td>Marketing</td><td>Male</td></tr><tr><td>Finance</td><td>Male</td></tr><tr><td>Finance</td><td>Male</td></tr><tr><td>HR</td><td>Male</td></tr><tr><td>HR</td><td>Female</td></tr><tr><td>Sales</td><td>Male</td></tr><tr><td>Engineering</td><td>Female</td></tr><tr><td>Marketing</td><td>Female</td></tr></tbody></table></div>"
      ]
     },
     "metadata": {
      "application/vnd.databricks.v1+output": {
       "addedWidgets": {},
       "aggData": [],
       "aggError": "",
       "aggOverflow": false,
       "aggSchema": [],
       "aggSeriesLimitReached": false,
       "aggType": "",
       "arguments": {},
       "columnCustomDisplayInfos": {},
       "data": [
        [
         "Finance",
         "Female"
        ],
        [
         "Sales",
         "Male"
        ],
        [
         "HR",
         "Female"
        ],
        [
         "Finance",
         "Male"
        ],
        [
         "Engineering",
         "Female"
        ],
        [
         "Finance",
         "Female"
        ],
        [
         "Marketing",
         "Male"
        ],
        [
         "Finance",
         "Male"
        ],
        [
         "Marketing",
         "Female"
        ],
        [
         "Engineering",
         "Female"
        ],
        [
         "Finance",
         "Female"
        ],
        [
         "Finance",
         "Male"
        ],
        [
         "Marketing",
         "Male"
        ],
        [
         "Finance",
         "Male"
        ],
        [
         "Finance",
         "Male"
        ],
        [
         "HR",
         "Male"
        ],
        [
         "HR",
         "Female"
        ],
        [
         "Sales",
         "Male"
        ],
        [
         "Engineering",
         "Female"
        ],
        [
         "Marketing",
         "Female"
        ]
       ],
       "datasetInfos": [],
       "dbfsResultPath": null,
       "isJsonSchema": true,
       "metadata": {},
       "overflow": false,
       "plotOptions": {
        "customPlotOptions": {},
        "displayType": "table",
        "pivotAggregation": null,
        "pivotColumns": null,
        "xColumns": null,
        "yColumns": null
       },
       "removedWidgets": [],
       "schema": [
        {
         "metadata": "{}",
         "name": "deptname",
         "type": "\"string\""
        },
        {
         "metadata": "{}",
         "name": "gender",
         "type": "\"string\""
        }
       ],
       "type": "table"
      }
     },
     "output_type": "display_data"
    }
   ],
   "source": [
    "from pyspark.sql import SparkSession\n",
    "from pyspark.sql import Row\n",
    "import random\n",
    "\n",
    "# Create a SparkSession\n",
    "spark = SparkSession.builder \\\n",
    "    .appName(\"example\") \\\n",
    "    .getOrCreate()\n",
    "\n",
    "# Sample data for departments and genders\n",
    "departments = [\"Sales\", \"Marketing\", \"Engineering\", \"Finance\", \"HR\"]\n",
    "genders = [\"Male\", \"Female\"]\n",
    "\n",
    "# Generate sample data\n",
    "data = []\n",
    "for _ in range(20):\n",
    "    deptname = random.choice(departments)\n",
    "    gender = random.choice(genders)\n",
    "    data.append((deptname, gender))\n",
    "\n",
    "# Create an RDD of Rows\n",
    "rdd = spark.sparkContext.parallelize(data)\n",
    "rows = rdd.map(lambda x: Row(deptname=x[0], gender=x[1]))\n",
    "\n",
    "# Create DataFrame\n",
    "df = spark.createDataFrame(rows)\n",
    "\n",
    "# Show DataFrame\n",
    "display(df)\n"
   ]
  },
  {
   "cell_type": "code",
   "execution_count": 0,
   "metadata": {
    "application/vnd.databricks.v1+cell": {
     "cellMetadata": {
      "byteLimit": 2048000,
      "rowLimit": 10000
     },
     "inputWidgets": {},
     "nuid": "85eaa1a7-dd6f-4ed9-9f6e-8c4e45b0b006",
     "showTitle": false,
     "title": ""
    }
   },
   "outputs": [
    {
     "output_type": "display_data",
     "data": {
      "text/html": [
       "<style scoped>\n",
       "  .table-result-container {\n",
       "    max-height: 300px;\n",
       "    overflow: auto;\n",
       "  }\n",
       "  table, th, td {\n",
       "    border: 1px solid black;\n",
       "    border-collapse: collapse;\n",
       "  }\n",
       "  th, td {\n",
       "    padding: 5px;\n",
       "  }\n",
       "  th {\n",
       "    text-align: left;\n",
       "  }\n",
       "</style><div class='table-result-container'><table class='table-result'><thead style='background-color: white'><tr><th>deptname</th><th>count_female</th><th>count_male</th><th>count_total</th></tr></thead><tbody><tr><td>Sales</td><td>0</td><td>2</td><td>2</td></tr><tr><td>Finance</td><td>3</td><td>5</td><td>8</td></tr><tr><td>HR</td><td>2</td><td>1</td><td>3</td></tr><tr><td>Engineering</td><td>3</td><td>0</td><td>3</td></tr><tr><td>Marketing</td><td>2</td><td>2</td><td>4</td></tr></tbody></table></div>"
      ]
     },
     "metadata": {
      "application/vnd.databricks.v1+output": {
       "addedWidgets": {},
       "aggData": [],
       "aggError": "",
       "aggOverflow": false,
       "aggSchema": [],
       "aggSeriesLimitReached": false,
       "aggType": "",
       "arguments": {},
       "columnCustomDisplayInfos": {},
       "data": [
        [
         "Sales",
         0,
         2,
         2
        ],
        [
         "Finance",
         3,
         5,
         8
        ],
        [
         "HR",
         2,
         1,
         3
        ],
        [
         "Engineering",
         3,
         0,
         3
        ],
        [
         "Marketing",
         2,
         2,
         4
        ]
       ],
       "datasetInfos": [],
       "dbfsResultPath": null,
       "isJsonSchema": true,
       "metadata": {},
       "overflow": false,
       "plotOptions": {
        "customPlotOptions": {},
        "displayType": "table",
        "pivotAggregation": null,
        "pivotColumns": null,
        "xColumns": null,
        "yColumns": null
       },
       "removedWidgets": [],
       "schema": [
        {
         "metadata": "{}",
         "name": "deptname",
         "type": "\"string\""
        },
        {
         "metadata": "{}",
         "name": "count_female",
         "type": "\"long\""
        },
        {
         "metadata": "{}",
         "name": "count_male",
         "type": "\"long\""
        },
        {
         "metadata": "{}",
         "name": "count_total",
         "type": "\"long\""
        }
       ],
       "type": "table"
      }
     },
     "output_type": "display_data"
    }
   ],
   "source": [
    "from pyspark.sql.functions import *\n",
    "\n",
    "df_agg=df.select('deptname',when(col('gender')=='Female','f').alias('female'),when(col('gender')=='Male','M').alias('male')).groupBy(col('deptname'))\\\n",
    ".agg(count(col('female')).alias('count_female'),count(col('male')).alias('count_male')).withColumn('count_total',col('count_female')+col('count_male'))\n",
    "display(df_agg)"
   ]
  },
  {
   "cell_type": "code",
   "execution_count": 0,
   "metadata": {
    "application/vnd.databricks.v1+cell": {
     "cellMetadata": {
      "byteLimit": 2048000,
      "rowLimit": 10000
     },
     "inputWidgets": {},
     "nuid": "305802bf-ca76-461b-be30-f884bd80e4e0",
     "showTitle": false,
     "title": ""
    }
   },
   "outputs": [
    {
     "output_type": "display_data",
     "data": {
      "text/html": [
       "<style scoped>\n",
       "  .table-result-container {\n",
       "    max-height: 300px;\n",
       "    overflow: auto;\n",
       "  }\n",
       "  table, th, td {\n",
       "    border: 1px solid black;\n",
       "    border-collapse: collapse;\n",
       "  }\n",
       "  th, td {\n",
       "    padding: 5px;\n",
       "  }\n",
       "  th {\n",
       "    text-align: left;\n",
       "  }\n",
       "</style><div class='table-result-container'><table class='table-result'><thead style='background-color: white'><tr><th>deptname</th><th>counts_array</th></tr></thead><tbody><tr><td>Sales</td><td>List(0, 2, 2)</td></tr><tr><td>Finance</td><td>List(3, 5, 8)</td></tr><tr><td>HR</td><td>List(2, 1, 3)</td></tr><tr><td>Engineering</td><td>List(3, 0, 3)</td></tr><tr><td>Marketing</td><td>List(2, 2, 4)</td></tr></tbody></table></div>"
      ]
     },
     "metadata": {
      "application/vnd.databricks.v1+output": {
       "addedWidgets": {},
       "aggData": [],
       "aggError": "",
       "aggOverflow": false,
       "aggSchema": [],
       "aggSeriesLimitReached": false,
       "aggType": "",
       "arguments": {},
       "columnCustomDisplayInfos": {},
       "data": [
        [
         "Sales",
         [
          0,
          2,
          2
         ]
        ],
        [
         "Finance",
         [
          3,
          5,
          8
         ]
        ],
        [
         "HR",
         [
          2,
          1,
          3
         ]
        ],
        [
         "Engineering",
         [
          3,
          0,
          3
         ]
        ],
        [
         "Marketing",
         [
          2,
          2,
          4
         ]
        ]
       ],
       "datasetInfos": [],
       "dbfsResultPath": null,
       "isJsonSchema": true,
       "metadata": {},
       "overflow": false,
       "plotOptions": {
        "customPlotOptions": {},
        "displayType": "table",
        "pivotAggregation": null,
        "pivotColumns": null,
        "xColumns": null,
        "yColumns": null
       },
       "removedWidgets": [],
       "schema": [
        {
         "metadata": "{}",
         "name": "deptname",
         "type": "\"string\""
        },
        {
         "metadata": "{}",
         "name": "counts_array",
         "type": "{\"type\":\"array\",\"elementType\":\"long\",\"containsNull\":false}"
        }
       ],
       "type": "table"
      }
     },
     "output_type": "display_data"
    }
   ],
   "source": [
    "df_array = df_agg.select(\n",
    "    \"deptname\",\n",
    "    array(\n",
    "        col(\"count_female\").alias(\"female\"),\n",
    "        col(\"count_male\").alias(\"male\"),\n",
    "        col(\"count_total\").alias(\"total\")\n",
    "    ).alias(\"counts_array\")\n",
    ")\n",
    "display(df_array)"
   ]
  },
  {
   "cell_type": "code",
   "execution_count": 0,
   "metadata": {
    "application/vnd.databricks.v1+cell": {
     "cellMetadata": {
      "byteLimit": 2048000,
      "rowLimit": 10000
     },
     "inputWidgets": {},
     "nuid": "95788cad-f1f8-4599-8f42-22c7d3f3339b",
     "showTitle": false,
     "title": ""
    }
   },
   "outputs": [
    {
     "output_type": "display_data",
     "data": {
      "text/html": [
       "<style scoped>\n",
       "  .table-result-container {\n",
       "    max-height: 300px;\n",
       "    overflow: auto;\n",
       "  }\n",
       "  table, th, td {\n",
       "    border: 1px solid black;\n",
       "    border-collapse: collapse;\n",
       "  }\n",
       "  th, td {\n",
       "    padding: 5px;\n",
       "  }\n",
       "  th {\n",
       "    text-align: left;\n",
       "  }\n",
       "</style><div class='table-result-container'><table class='table-result'><thead style='background-color: white'><tr><th>deptname</th><th>empcount</th></tr></thead><tbody><tr><td>Sales</td><td>0</td></tr><tr><td>Sales</td><td>2</td></tr><tr><td>Sales</td><td>2</td></tr><tr><td>Finance</td><td>3</td></tr><tr><td>Finance</td><td>5</td></tr><tr><td>Finance</td><td>8</td></tr><tr><td>HR</td><td>2</td></tr><tr><td>HR</td><td>1</td></tr><tr><td>HR</td><td>3</td></tr><tr><td>Engineering</td><td>3</td></tr><tr><td>Engineering</td><td>0</td></tr><tr><td>Engineering</td><td>3</td></tr><tr><td>Marketing</td><td>2</td></tr><tr><td>Marketing</td><td>2</td></tr><tr><td>Marketing</td><td>4</td></tr></tbody></table></div>"
      ]
     },
     "metadata": {
      "application/vnd.databricks.v1+output": {
       "addedWidgets": {},
       "aggData": [],
       "aggError": "",
       "aggOverflow": false,
       "aggSchema": [],
       "aggSeriesLimitReached": false,
       "aggType": "",
       "arguments": {},
       "columnCustomDisplayInfos": {},
       "data": [
        [
         "Sales",
         0
        ],
        [
         "Sales",
         2
        ],
        [
         "Sales",
         2
        ],
        [
         "Finance",
         3
        ],
        [
         "Finance",
         5
        ],
        [
         "Finance",
         8
        ],
        [
         "HR",
         2
        ],
        [
         "HR",
         1
        ],
        [
         "HR",
         3
        ],
        [
         "Engineering",
         3
        ],
        [
         "Engineering",
         0
        ],
        [
         "Engineering",
         3
        ],
        [
         "Marketing",
         2
        ],
        [
         "Marketing",
         2
        ],
        [
         "Marketing",
         4
        ]
       ],
       "datasetInfos": [],
       "dbfsResultPath": null,
       "isJsonSchema": true,
       "metadata": {},
       "overflow": false,
       "plotOptions": {
        "customPlotOptions": {},
        "displayType": "table",
        "pivotAggregation": null,
        "pivotColumns": null,
        "xColumns": null,
        "yColumns": null
       },
       "removedWidgets": [],
       "schema": [
        {
         "metadata": "{}",
         "name": "deptname",
         "type": "\"string\""
        },
        {
         "metadata": "{}",
         "name": "empcount",
         "type": "\"long\""
        }
       ],
       "type": "table"
      }
     },
     "output_type": "display_data"
    }
   ],
   "source": [
    "df_explode=df_array.select(\"deptname\",explode(\"counts_array\").alias(\"empcount\"))\n",
    "display(df_explode)\n"
   ]
  },
  {
   "cell_type": "code",
   "execution_count": 0,
   "metadata": {
    "application/vnd.databricks.v1+cell": {
     "cellMetadata": {
      "byteLimit": 2048000,
      "rowLimit": 10000
     },
     "inputWidgets": {},
     "nuid": "ddb11336-e3b1-4d43-aed9-a5dd034397d2",
     "showTitle": false,
     "title": ""
    }
   },
   "outputs": [],
   "source": [
    "from pyspark.sql.window import Window"
   ]
  },
  {
   "cell_type": "code",
   "execution_count": 0,
   "metadata": {
    "application/vnd.databricks.v1+cell": {
     "cellMetadata": {
      "byteLimit": 2048000,
      "rowLimit": 10000
     },
     "inputWidgets": {},
     "nuid": "71a63ae7-2091-4007-a2e5-ede651779bfa",
     "showTitle": false,
     "title": ""
    }
   },
   "outputs": [
    {
     "output_type": "display_data",
     "data": {
      "text/html": [
       "<style scoped>\n",
       "  .table-result-container {\n",
       "    max-height: 300px;\n",
       "    overflow: auto;\n",
       "  }\n",
       "  table, th, td {\n",
       "    border: 1px solid black;\n",
       "    border-collapse: collapse;\n",
       "  }\n",
       "  th, td {\n",
       "    padding: 5px;\n",
       "  }\n",
       "  th {\n",
       "    text-align: left;\n",
       "  }\n",
       "</style><div class='table-result-container'><table class='table-result'><thead style='background-color: white'><tr><th>deptname</th><th>empcount</th><th>rownumber</th></tr></thead><tbody><tr><td>Engineering</td><td>3</td><td>1</td></tr><tr><td>Engineering</td><td>0</td><td>2</td></tr><tr><td>Engineering</td><td>3</td><td>3</td></tr><tr><td>Finance</td><td>3</td><td>1</td></tr><tr><td>Finance</td><td>5</td><td>2</td></tr><tr><td>Finance</td><td>8</td><td>3</td></tr><tr><td>HR</td><td>2</td><td>1</td></tr><tr><td>HR</td><td>1</td><td>2</td></tr><tr><td>HR</td><td>3</td><td>3</td></tr><tr><td>Marketing</td><td>2</td><td>1</td></tr><tr><td>Marketing</td><td>2</td><td>2</td></tr><tr><td>Marketing</td><td>4</td><td>3</td></tr><tr><td>Sales</td><td>0</td><td>1</td></tr><tr><td>Sales</td><td>2</td><td>2</td></tr><tr><td>Sales</td><td>2</td><td>3</td></tr></tbody></table></div>"
      ]
     },
     "metadata": {
      "application/vnd.databricks.v1+output": {
       "addedWidgets": {},
       "aggData": [],
       "aggError": "",
       "aggOverflow": false,
       "aggSchema": [],
       "aggSeriesLimitReached": false,
       "aggType": "",
       "arguments": {},
       "columnCustomDisplayInfos": {},
       "data": [
        [
         "Engineering",
         3,
         1
        ],
        [
         "Engineering",
         0,
         2
        ],
        [
         "Engineering",
         3,
         3
        ],
        [
         "Finance",
         3,
         1
        ],
        [
         "Finance",
         5,
         2
        ],
        [
         "Finance",
         8,
         3
        ],
        [
         "HR",
         2,
         1
        ],
        [
         "HR",
         1,
         2
        ],
        [
         "HR",
         3,
         3
        ],
        [
         "Marketing",
         2,
         1
        ],
        [
         "Marketing",
         2,
         2
        ],
        [
         "Marketing",
         4,
         3
        ],
        [
         "Sales",
         0,
         1
        ],
        [
         "Sales",
         2,
         2
        ],
        [
         "Sales",
         2,
         3
        ]
       ],
       "datasetInfos": [],
       "dbfsResultPath": null,
       "isJsonSchema": true,
       "metadata": {},
       "overflow": false,
       "plotOptions": {
        "customPlotOptions": {},
        "displayType": "table",
        "pivotAggregation": null,
        "pivotColumns": null,
        "xColumns": null,
        "yColumns": null
       },
       "removedWidgets": [],
       "schema": [
        {
         "metadata": "{}",
         "name": "deptname",
         "type": "\"string\""
        },
        {
         "metadata": "{}",
         "name": "empcount",
         "type": "\"long\""
        },
        {
         "metadata": "{}",
         "name": "rownumber",
         "type": "\"integer\""
        }
       ],
       "type": "table"
      }
     },
     "output_type": "display_data"
    }
   ],
   "source": [
    "df_window=df_explode.select(col(\"deptname\"),col(\"empcount\"),row_number().over (Window.partitionBy(col(\"deptname\")).orderBy(col(\"deptname\"))).alias(\"rownumber\"))\n",
    "\n",
    "display(df_window)"
   ]
  },
  {
   "cell_type": "code",
   "execution_count": 0,
   "metadata": {
    "application/vnd.databricks.v1+cell": {
     "cellMetadata": {
      "byteLimit": 2048000,
      "rowLimit": 10000
     },
     "inputWidgets": {},
     "nuid": "bd05e5a0-5261-433b-97c9-9475e9e45cfc",
     "showTitle": false,
     "title": ""
    }
   },
   "outputs": [
    {
     "output_type": "display_data",
     "data": {
      "text/html": [
       "<style scoped>\n",
       "  .table-result-container {\n",
       "    max-height: 300px;\n",
       "    overflow: auto;\n",
       "  }\n",
       "  table, th, td {\n",
       "    border: 1px solid black;\n",
       "    border-collapse: collapse;\n",
       "  }\n",
       "  th, td {\n",
       "    padding: 5px;\n",
       "  }\n",
       "  th {\n",
       "    text-align: left;\n",
       "  }\n",
       "</style><div class='table-result-container'><table class='table-result'><thead style='background-color: white'><tr><th>deptname</th><th>empcount</th><th>female</th><th>male</th><th>Total_emp</th></tr></thead><tbody><tr><td>Engineering</td><td>3</td><td>f</td><td>null</td><td>null</td></tr><tr><td>Engineering</td><td>0</td><td>null</td><td>m</td><td>null</td></tr><tr><td>Engineering</td><td>3</td><td>null</td><td>null</td><td>e</td></tr><tr><td>Finance</td><td>3</td><td>f</td><td>null</td><td>null</td></tr><tr><td>Finance</td><td>5</td><td>null</td><td>m</td><td>null</td></tr><tr><td>Finance</td><td>8</td><td>null</td><td>null</td><td>e</td></tr><tr><td>HR</td><td>2</td><td>f</td><td>null</td><td>null</td></tr><tr><td>HR</td><td>1</td><td>null</td><td>m</td><td>null</td></tr><tr><td>HR</td><td>3</td><td>null</td><td>null</td><td>e</td></tr><tr><td>Marketing</td><td>2</td><td>f</td><td>null</td><td>null</td></tr><tr><td>Marketing</td><td>2</td><td>null</td><td>m</td><td>null</td></tr><tr><td>Marketing</td><td>4</td><td>null</td><td>null</td><td>e</td></tr><tr><td>Sales</td><td>0</td><td>f</td><td>null</td><td>null</td></tr><tr><td>Sales</td><td>2</td><td>null</td><td>m</td><td>null</td></tr><tr><td>Sales</td><td>2</td><td>null</td><td>null</td><td>e</td></tr></tbody></table></div>"
      ]
     },
     "metadata": {
      "application/vnd.databricks.v1+output": {
       "addedWidgets": {},
       "aggData": [],
       "aggError": "",
       "aggOverflow": false,
       "aggSchema": [],
       "aggSeriesLimitReached": false,
       "aggType": "",
       "arguments": {},
       "columnCustomDisplayInfos": {},
       "data": [
        [
         "Engineering",
         3,
         "f",
         null,
         null
        ],
        [
         "Engineering",
         0,
         null,
         "m",
         null
        ],
        [
         "Engineering",
         3,
         null,
         null,
         "e"
        ],
        [
         "Finance",
         3,
         "f",
         null,
         null
        ],
        [
         "Finance",
         5,
         null,
         "m",
         null
        ],
        [
         "Finance",
         8,
         null,
         null,
         "e"
        ],
        [
         "HR",
         2,
         "f",
         null,
         null
        ],
        [
         "HR",
         1,
         null,
         "m",
         null
        ],
        [
         "HR",
         3,
         null,
         null,
         "e"
        ],
        [
         "Marketing",
         2,
         "f",
         null,
         null
        ],
        [
         "Marketing",
         2,
         null,
         "m",
         null
        ],
        [
         "Marketing",
         4,
         null,
         null,
         "e"
        ],
        [
         "Sales",
         0,
         "f",
         null,
         null
        ],
        [
         "Sales",
         2,
         null,
         "m",
         null
        ],
        [
         "Sales",
         2,
         null,
         null,
         "e"
        ]
       ],
       "datasetInfos": [],
       "dbfsResultPath": null,
       "isJsonSchema": true,
       "metadata": {},
       "overflow": false,
       "plotOptions": {
        "customPlotOptions": {},
        "displayType": "table",
        "pivotAggregation": null,
        "pivotColumns": null,
        "xColumns": null,
        "yColumns": null
       },
       "removedWidgets": [],
       "schema": [
        {
         "metadata": "{}",
         "name": "deptname",
         "type": "\"string\""
        },
        {
         "metadata": "{}",
         "name": "empcount",
         "type": "\"long\""
        },
        {
         "metadata": "{}",
         "name": "female",
         "type": "\"string\""
        },
        {
         "metadata": "{}",
         "name": "male",
         "type": "\"string\""
        },
        {
         "metadata": "{}",
         "name": "Total_emp",
         "type": "\"string\""
        }
       ],
       "type": "table"
      }
     },
     "output_type": "display_data"
    }
   ],
   "source": [
    "df_totalemp=df_window.select('deptname','empcount',when (col('rownumber')==1,'f').alias(\"female\"),when (col('rownumber')==2,'m').alias(\"male\"),when (col('rownumber')==3,'e').alias(\"Total_emp\"))\n",
    "display(df_totalemp)"
   ]
  }
 ],
 "metadata": {
  "application/vnd.databricks.v1+notebook": {
   "dashboards": [],
   "environmentMetadata": null,
   "language": "python",
   "notebookMetadata": {
    "pythonIndentUnit": 4
   },
   "notebookName": "when function",
   "widgets": {}
  }
 },
 "nbformat": 4,
 "nbformat_minor": 0
}
