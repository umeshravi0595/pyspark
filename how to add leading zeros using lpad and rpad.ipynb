{
 "cells": [
  {
   "cell_type": "code",
   "execution_count": 0,
   "metadata": {
    "application/vnd.databricks.v1+cell": {
     "cellMetadata": {
      "byteLimit": 2048000,
      "rowLimit": 10000
     },
     "inputWidgets": {},
     "nuid": "21810429-4e76-430b-8a2a-64b36e0d4ec4",
     "showTitle": false,
     "title": ""
    }
   },
   "outputs": [
    {
     "output_type": "stream",
     "name": "stdout",
     "output_type": "stream",
     "text": [
      "+-----+-----+\n| name|score|\n+-----+-----+\n| Babu|   20|\n| Raja|    8|\n| Mani|   75|\n|Kalam|  100|\n| Zoin|    7|\n|  Kal|   53|\n+-----+-----+\n\n"
     ]
    }
   ],
   "source": [
    "#Create input Spark Dataframe\n",
    "list_data=[[\"Babu\",20],[\"Raja\",8],[\"Mani\",75],[\"Kalam\",100],[\"Zoin\",7],[\"Kal\",53]]\n",
    "df1=spark.createDataFrame(list_data,[\"name\",\"score\"])\n",
    "df1.show()"
   ]
  },
  {
   "cell_type": "code",
   "execution_count": 0,
   "metadata": {
    "application/vnd.databricks.v1+cell": {
     "cellMetadata": {
      "byteLimit": 2048000,
      "rowLimit": 10000
     },
     "inputWidgets": {},
     "nuid": "0d7d81cd-2896-47cc-ba24-e2b4068fbd11",
     "showTitle": false,
     "title": ""
    }
   },
   "outputs": [
    {
     "output_type": "stream",
     "name": "stdout",
     "output_type": "stream",
     "text": [
      "+-----+-----+-----+\n| name|score|zeros|\n+-----+-----+-----+\n| Babu|   20|  200|\n| Raja|    8|  800|\n| Mani|   75|  750|\n|Kalam|  100|  100|\n| Zoin|    7|  700|\n|  Kal|   53|  530|\n+-----+-----+-----+\n\n"
     ]
    }
   ],
   "source": [
    "from pyspark.sql.functions import *\n",
    "df_zeros=df1.withColumn(\"zeros\",rpad(col(\"score\"),3,\"0\"))\n",
    "df_zeros.show()"
   ]
  }
 ],
 "metadata": {
  "application/vnd.databricks.v1+notebook": {
   "dashboards": [],
   "environmentMetadata": null,
   "language": "python",
   "notebookMetadata": {
    "pythonIndentUnit": 4
   },
   "notebookName": "how to add leading zeros using lpad and rpad",
   "widgets": {}
  }
 },
 "nbformat": 4,
 "nbformat_minor": 0
}
